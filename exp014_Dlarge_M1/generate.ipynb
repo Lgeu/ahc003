{
 "cells": [
  {
   "cell_type": "code",
   "execution_count": 1,
   "metadata": {},
   "outputs": [],
   "source": [
    "import re\n",
    "import sys\n",
    "from time import sleep\n",
    "from pprint import pprint\n",
    "from functools import partial\n",
    "\n",
    "import numpy as np\n",
    "import optuna\n",
    "try:\n",
    "    import pandas as pd\n",
    "except:\n",
    "    pass\n",
    "\n",
    "FILENAME = \"generate.cpp\""
   ]
  },
  {
   "cell_type": "code",
   "execution_count": 2,
   "metadata": {},
   "outputs": [],
   "source": [
    "!cp ../exp011_Dsmall_M2/generate.cpp ./"
   ]
  },
  {
   "cell_type": "code",
   "execution_count": 3,
   "metadata": {
    "scrolled": true
   },
   "outputs": [
    {
     "name": "stdout",
     "output_type": "stream",
     "text": [
      "\u001b[01m\u001b[Kgenerate.cpp:457:\u001b[m\u001b[K \u001b[01;35m\u001b[Kwarning: \u001b[m\u001b[Kignoring #pragma warning  [\u001b[01;35m\u001b[K-Wunknown-pragmas\u001b[m\u001b[K]\n",
      "  457 | #pragma warning( disable : 4146 )\n",
      "      | \n",
      "\u001b[01m\u001b[Kgenerate.cpp:\u001b[m\u001b[K In member function ‘\u001b[01m\u001b[Kvoid UltimateEstimator::Step()\u001b[m\u001b[K’:\n",
      "\u001b[01m\u001b[Kgenerate.cpp:1148:39:\u001b[m\u001b[K \u001b[01;35m\u001b[Kwarning: \u001b[m\u001b[Kcomparison of integer expressions of different signedness: ‘\u001b[01m\u001b[Ksigned char\u001b[m\u001b[K’ and ‘\u001b[01m\u001b[Kstd::array<double, 60>::size_type\u001b[m\u001b[K’ {aka ‘\u001b[01m\u001b[Klong unsigned int\u001b[m\u001b[K’} [\u001b[01;35m\u001b[K-Wsign-compare\u001b[m\u001b[K]\n",
      " 1148 |   for (auto col = (signed char)0; \u001b[01;35m\u001b[Kcol < data_x.size()\u001b[m\u001b[K; col++) {\n",
      "      |                                   \u001b[01;35m\u001b[K~~~~^~~~~~~~~~~~~~~\u001b[m\u001b[K\n",
      "\u001b[01m\u001b[Kgenerate.cpp:1106:8:\u001b[m\u001b[K \u001b[01;35m\u001b[Kwarning: \u001b[m\u001b[Kunused variable ‘\u001b[01m\u001b[Kestimated_distance\u001b[m\u001b[K’ [\u001b[01;35m\u001b[K-Wunused-variable\u001b[m\u001b[K]\n",
      " 1106 |   auto \u001b[01;35m\u001b[Kestimated_distance\u001b[m\u001b[K = 0.0;\n",
      "      |        \u001b[01;35m\u001b[K^~~~~~~~~~~~~~~~~~\u001b[m\u001b[K\n",
      "\u001b[01m\u001b[Kgenerate.cpp:\u001b[m\u001b[K In member function ‘\u001b[01m\u001b[Kvoid Explorer::Step()\u001b[m\u001b[K’:\n",
      "\u001b[01m\u001b[Kgenerate.cpp:1464:30:\u001b[m\u001b[K \u001b[01;35m\u001b[Kwarning: \u001b[m\u001b[Knarrowing conversion of ‘\u001b[01m\u001b[K(((int)v.Explorer::Node::y) + 1)\u001b[m\u001b[K’ from ‘\u001b[01m\u001b[Kint\u001b[m\u001b[K’ to ‘\u001b[01m\u001b[Ksigned char\u001b[m\u001b[K’ [\u001b[01;35m\u001b[K-Wnarrowing\u001b[m\u001b[K]\n",
      " 1464 |     const auto u = Node{ \u001b[01;35m\u001b[Kv.y + (i8)1\u001b[m\u001b[K, v.x, false };\n",
      "      |                          \u001b[01;35m\u001b[K~~~~^~~~~~~\u001b[m\u001b[K\n",
      "\u001b[01m\u001b[Kgenerate.cpp:1477:35:\u001b[m\u001b[K \u001b[01;35m\u001b[Kwarning: \u001b[m\u001b[Knarrowing conversion of ‘\u001b[01m\u001b[K(((int)v.Explorer::Node::x) + 1)\u001b[m\u001b[K’ from ‘\u001b[01m\u001b[Kint\u001b[m\u001b[K’ to ‘\u001b[01m\u001b[Ksigned char\u001b[m\u001b[K’ [\u001b[01;35m\u001b[K-Wnarrowing\u001b[m\u001b[K]\n",
      " 1477 |     const auto u = Node{ v.y, \u001b[01;35m\u001b[Kv.x + (i8)1\u001b[m\u001b[K, true };\n",
      "      |                               \u001b[01;35m\u001b[K~~~~^~~~~~~\u001b[m\u001b[K\n",
      "\u001b[01m\u001b[Kgenerate.cpp:1490:30:\u001b[m\u001b[K \u001b[01;35m\u001b[Kwarning: \u001b[m\u001b[Knarrowing conversion of ‘\u001b[01m\u001b[K(((int)v.Explorer::Node::y) - 1)\u001b[m\u001b[K’ from ‘\u001b[01m\u001b[Kint\u001b[m\u001b[K’ to ‘\u001b[01m\u001b[Ksigned char\u001b[m\u001b[K’ [\u001b[01;35m\u001b[K-Wnarrowing\u001b[m\u001b[K]\n",
      " 1490 |     const auto u = Node{ \u001b[01;35m\u001b[Kv.y - (i8)1\u001b[m\u001b[K, v.x, false };\n",
      "      |                          \u001b[01;35m\u001b[K~~~~^~~~~~~\u001b[m\u001b[K\n",
      "\u001b[01m\u001b[Kgenerate.cpp:1503:35:\u001b[m\u001b[K \u001b[01;35m\u001b[Kwarning: \u001b[m\u001b[Knarrowing conversion of ‘\u001b[01m\u001b[K(((int)v.Explorer::Node::x) - 1)\u001b[m\u001b[K’ from ‘\u001b[01m\u001b[Kint\u001b[m\u001b[K’ to ‘\u001b[01m\u001b[Ksigned char\u001b[m\u001b[K’ [\u001b[01;35m\u001b[K-Wnarrowing\u001b[m\u001b[K]\n",
      " 1503 |     const auto u = Node{ v.y, \u001b[01;35m\u001b[Kv.x - (i8)1\u001b[m\u001b[K, true };\n",
      "      |                               \u001b[01;35m\u001b[K~~~~^~~~~~~\u001b[m\u001b[K\n",
      "\u001b[01m\u001b[Kgenerate.cpp:\u001b[m\u001b[K In function ‘\u001b[01m\u001b[Kvoid Experiment::PrintNewData(int, int)\u001b[m\u001b[K’:\n",
      "\u001b[01m\u001b[Kgenerate.cpp:69:25:\u001b[m\u001b[K \u001b[01;35m\u001b[Kwarning: \u001b[m\u001b[Kunnecessary parentheses in declaration of ‘\u001b[01m\u001b[Kq\u001b[m\u001b[K’ [\u001b[01;35m\u001b[K-Wparentheses\u001b[m\u001b[K]\n",
      "   69 | #define rep(i,n) for(ll \u001b[01;35m\u001b[K(\u001b[m\u001b[Ki)=0; (i)<(n); (i)++)\n",
      "      |                         \u001b[01;35m\u001b[K^\u001b[m\u001b[K\n",
      "\u001b[01m\u001b[Kgenerate.cpp:1860:3:\u001b[m\u001b[K \u001b[01;36m\u001b[Knote: \u001b[m\u001b[Kin expansion of macro ‘\u001b[01m\u001b[Krep\u001b[m\u001b[K’\n",
      " 1860 |   \u001b[01;36m\u001b[Krep\u001b[m\u001b[K(q, 1000) {\n",
      "      |   \u001b[01;36m\u001b[K^~~\u001b[m\u001b[K\n",
      "\u001b[01m\u001b[Kgenerate.cpp:\u001b[m\u001b[K In function ‘\u001b[01m\u001b[Kvoid Test::lasso_test()\u001b[m\u001b[K’:\n",
      "\u001b[01m\u001b[Kgenerate.cpp:1905:22:\u001b[m\u001b[K \u001b[01;35m\u001b[Kwarning: \u001b[m\u001b[Kcomparison of integer expressions of different signedness: ‘\u001b[01m\u001b[Kint\u001b[m\u001b[K’ and ‘\u001b[01m\u001b[Kstd::array<std::array<double, 5>, 6>::size_type\u001b[m\u001b[K’ {aka ‘\u001b[01m\u001b[Klong unsigned int\u001b[m\u001b[K’} [\u001b[01;35m\u001b[K-Wsign-compare\u001b[m\u001b[K]\n",
      " 1905 |   for (auto i = 0; \u001b[01;35m\u001b[Ki < X.size()\u001b[m\u001b[K; i++) {\n",
      "      |                    \u001b[01;35m\u001b[K~~^~~~~~~~~~\u001b[m\u001b[K\n",
      "\u001b[01m\u001b[Kgenerate.cpp:\u001b[m\u001b[K In function ‘\u001b[01m\u001b[Kint main(int, char**)\u001b[m\u001b[K’:\n",
      "\u001b[01m\u001b[Kgenerate.cpp:69:25:\u001b[m\u001b[K \u001b[01;35m\u001b[Kwarning: \u001b[m\u001b[Kunnecessary parentheses in declaration of ‘\u001b[01m\u001b[Ki\u001b[m\u001b[K’ [\u001b[01;35m\u001b[K-Wparentheses\u001b[m\u001b[K]\n",
      "   69 | #define rep(i,n) for(ll \u001b[01;35m\u001b[K(\u001b[m\u001b[Ki)=0; (i)<(n); (i)++)\n",
      "      |                         \u001b[01;35m\u001b[K^\u001b[m\u001b[K\n",
      "\u001b[01m\u001b[Kgenerate.cpp:1925:3:\u001b[m\u001b[K \u001b[01;36m\u001b[Knote: \u001b[m\u001b[Kin expansion of macro ‘\u001b[01m\u001b[Krep\u001b[m\u001b[K’\n",
      " 1925 |   \u001b[01;36m\u001b[Krep\u001b[m\u001b[K(i, 50)rng.next();\n",
      "      |   \u001b[01;36m\u001b[K^~~\u001b[m\u001b[K\n"
     ]
    }
   ],
   "source": [
    "!g++ {FILENAME} -std=gnu++17 -Wall -Wextra -O2 -DONLINE_JUDGE -o {FILENAME}.out"
   ]
  },
  {
   "cell_type": "code",
   "execution_count": 4,
   "metadata": {},
   "outputs": [],
   "source": [
    "!mkdir in\n",
    "np.random.seed(42)\n",
    "for i in range(200):\n",
    "    seed = np.random.randint(10**9)\n",
    "    D = np.random.randint(1000, 2001)\n",
    "    i = f\"{i:03d}\"\n",
    "    !./{FILENAME}.out {seed} {D} 1 > ./in/{i}.txt"
   ]
  },
  {
   "cell_type": "code",
   "execution_count": null,
   "metadata": {},
   "outputs": [],
   "source": []
  }
 ],
 "metadata": {
  "kernelspec": {
   "display_name": "Python 3",
   "language": "python",
   "name": "python3"
  },
  "language_info": {
   "codemirror_mode": {
    "name": "ipython",
    "version": 3
   },
   "file_extension": ".py",
   "mimetype": "text/x-python",
   "name": "python",
   "nbconvert_exporter": "python",
   "pygments_lexer": "ipython3",
   "version": "3.8.5"
  }
 },
 "nbformat": 4,
 "nbformat_minor": 4
}
