{
 "cells": [
  {
   "cell_type": "code",
   "execution_count": 1,
   "metadata": {},
   "outputs": [],
   "source": [
    "import re\n",
    "import sys\n",
    "from time import sleep\n",
    "from pprint import pprint\n",
    "from functools import partial\n",
    "\n",
    "import numpy as np\n",
    "import optuna\n",
    "try:\n",
    "    import pandas as pd\n",
    "except:\n",
    "    pass\n",
    "\n",
    "\n",
    "FILENAME = \"main.cpp\""
   ]
  },
  {
   "cell_type": "code",
   "execution_count": 2,
   "metadata": {},
   "outputs": [],
   "source": [
    "#!cp ../main.cpp ./{FILENAME}"
   ]
  },
  {
   "cell_type": "code",
   "execution_count": 2,
   "metadata": {
    "scrolled": true
   },
   "outputs": [
    {
     "name": "stdout",
     "output_type": "stream",
     "text": [
      "\u001b[01m\u001b[Kmain.cpp:465:\u001b[m\u001b[K \u001b[01;35m\u001b[Kwarning: \u001b[m\u001b[Kignoring #pragma warning  [\u001b[01;35m\u001b[K-Wunknown-pragmas\u001b[m\u001b[K]\n",
      "  465 | #pragma warning( disable : 4146 )\n",
      "      | \n",
      "\u001b[01m\u001b[Kmain.cpp:\u001b[m\u001b[K In member function ‘\u001b[01m\u001b[Kvoid UltimateEstimator::Step()\u001b[m\u001b[K’:\n",
      "\u001b[01m\u001b[Kmain.cpp:1161:39:\u001b[m\u001b[K \u001b[01;35m\u001b[Kwarning: \u001b[m\u001b[Kcomparison of integer expressions of different signedness: ‘\u001b[01m\u001b[Ksigned char\u001b[m\u001b[K’ and ‘\u001b[01m\u001b[Kstd::array<double, 60>::size_type\u001b[m\u001b[K’ {aka ‘\u001b[01m\u001b[Klong unsigned int\u001b[m\u001b[K’} [\u001b[01;35m\u001b[K-Wsign-compare\u001b[m\u001b[K]\n",
      " 1161 |   for (auto col = (signed char)0; \u001b[01;35m\u001b[Kcol < data_x.size()\u001b[m\u001b[K; col++) {\n",
      "      |                                   \u001b[01;35m\u001b[K~~~~^~~~~~~~~~~~~~~\u001b[m\u001b[K\n",
      "\u001b[01m\u001b[Kmain.cpp:1119:8:\u001b[m\u001b[K \u001b[01;35m\u001b[Kwarning: \u001b[m\u001b[Kunused variable ‘\u001b[01m\u001b[Kestimated_distance\u001b[m\u001b[K’ [\u001b[01;35m\u001b[K-Wunused-variable\u001b[m\u001b[K]\n",
      " 1119 |   auto \u001b[01;35m\u001b[Kestimated_distance\u001b[m\u001b[K = 0.0;\n",
      "      |        \u001b[01;35m\u001b[K^~~~~~~~~~~~~~~~~~\u001b[m\u001b[K\n",
      "\u001b[01m\u001b[Kmain.cpp:\u001b[m\u001b[K In member function ‘\u001b[01m\u001b[Kvoid Explorer::Step()\u001b[m\u001b[K’:\n",
      "\u001b[01m\u001b[Kmain.cpp:1502:30:\u001b[m\u001b[K \u001b[01;35m\u001b[Kwarning: \u001b[m\u001b[Knarrowing conversion of ‘\u001b[01m\u001b[K(((int)v.Explorer::Node::y) + 1)\u001b[m\u001b[K’ from ‘\u001b[01m\u001b[Kint\u001b[m\u001b[K’ to ‘\u001b[01m\u001b[Ksigned char\u001b[m\u001b[K’ [\u001b[01;35m\u001b[K-Wnarrowing\u001b[m\u001b[K]\n",
      " 1502 |     const auto u = Node{ \u001b[01;35m\u001b[Kv.y + (i8)1\u001b[m\u001b[K, v.x, false };\n",
      "      |                          \u001b[01;35m\u001b[K~~~~^~~~~~~\u001b[m\u001b[K\n",
      "\u001b[01m\u001b[Kmain.cpp:1515:35:\u001b[m\u001b[K \u001b[01;35m\u001b[Kwarning: \u001b[m\u001b[Knarrowing conversion of ‘\u001b[01m\u001b[K(((int)v.Explorer::Node::x) + 1)\u001b[m\u001b[K’ from ‘\u001b[01m\u001b[Kint\u001b[m\u001b[K’ to ‘\u001b[01m\u001b[Ksigned char\u001b[m\u001b[K’ [\u001b[01;35m\u001b[K-Wnarrowing\u001b[m\u001b[K]\n",
      " 1515 |     const auto u = Node{ v.y, \u001b[01;35m\u001b[Kv.x + (i8)1\u001b[m\u001b[K, true };\n",
      "      |                               \u001b[01;35m\u001b[K~~~~^~~~~~~\u001b[m\u001b[K\n",
      "\u001b[01m\u001b[Kmain.cpp:1528:30:\u001b[m\u001b[K \u001b[01;35m\u001b[Kwarning: \u001b[m\u001b[Knarrowing conversion of ‘\u001b[01m\u001b[K(((int)v.Explorer::Node::y) - 1)\u001b[m\u001b[K’ from ‘\u001b[01m\u001b[Kint\u001b[m\u001b[K’ to ‘\u001b[01m\u001b[Ksigned char\u001b[m\u001b[K’ [\u001b[01;35m\u001b[K-Wnarrowing\u001b[m\u001b[K]\n",
      " 1528 |     const auto u = Node{ \u001b[01;35m\u001b[Kv.y - (i8)1\u001b[m\u001b[K, v.x, false };\n",
      "      |                          \u001b[01;35m\u001b[K~~~~^~~~~~~\u001b[m\u001b[K\n",
      "\u001b[01m\u001b[Kmain.cpp:1541:35:\u001b[m\u001b[K \u001b[01;35m\u001b[Kwarning: \u001b[m\u001b[Knarrowing conversion of ‘\u001b[01m\u001b[K(((int)v.Explorer::Node::x) - 1)\u001b[m\u001b[K’ from ‘\u001b[01m\u001b[Kint\u001b[m\u001b[K’ to ‘\u001b[01m\u001b[Ksigned char\u001b[m\u001b[K’ [\u001b[01;35m\u001b[K-Wnarrowing\u001b[m\u001b[K]\n",
      " 1541 |     const auto u = Node{ v.y, \u001b[01;35m\u001b[Kv.x - (i8)1\u001b[m\u001b[K, true };\n",
      "      |                               \u001b[01;35m\u001b[K~~~~^~~~~~~\u001b[m\u001b[K\n",
      "\u001b[01m\u001b[Kmain.cpp:\u001b[m\u001b[K In function ‘\u001b[01m\u001b[Kvoid Experiment::PrintNewData(int, int)\u001b[m\u001b[K’:\n",
      "\u001b[01m\u001b[Kmain.cpp:77:25:\u001b[m\u001b[K \u001b[01;35m\u001b[Kwarning: \u001b[m\u001b[Kunnecessary parentheses in declaration of ‘\u001b[01m\u001b[Kq\u001b[m\u001b[K’ [\u001b[01;35m\u001b[K-Wparentheses\u001b[m\u001b[K]\n",
      "   77 | #define rep(i,n) for(ll \u001b[01;35m\u001b[K(\u001b[m\u001b[Ki)=0; (i)<(n); (i)++)\n",
      "      |                         \u001b[01;35m\u001b[K^\u001b[m\u001b[K\n",
      "\u001b[01m\u001b[Kmain.cpp:1896:3:\u001b[m\u001b[K \u001b[01;36m\u001b[Knote: \u001b[m\u001b[Kin expansion of macro ‘\u001b[01m\u001b[Krep\u001b[m\u001b[K’\n",
      " 1896 |   \u001b[01;36m\u001b[Krep\u001b[m\u001b[K(q, 1000) {\n",
      "      |   \u001b[01;36m\u001b[K^~~\u001b[m\u001b[K\n",
      "\u001b[01m\u001b[Kmain.cpp:\u001b[m\u001b[K In function ‘\u001b[01m\u001b[Kvoid Test::lasso_test()\u001b[m\u001b[K’:\n",
      "\u001b[01m\u001b[Kmain.cpp:1941:22:\u001b[m\u001b[K \u001b[01;35m\u001b[Kwarning: \u001b[m\u001b[Kcomparison of integer expressions of different signedness: ‘\u001b[01m\u001b[Kint\u001b[m\u001b[K’ and ‘\u001b[01m\u001b[Kstd::array<std::array<double, 5>, 6>::size_type\u001b[m\u001b[K’ {aka ‘\u001b[01m\u001b[Klong unsigned int\u001b[m\u001b[K’} [\u001b[01;35m\u001b[K-Wsign-compare\u001b[m\u001b[K]\n",
      " 1941 |   for (auto i = 0; \u001b[01;35m\u001b[Ki < X.size()\u001b[m\u001b[K; i++) {\n",
      "      |                    \u001b[01;35m\u001b[K~~^~~~~~~~~~\u001b[m\u001b[K\n",
      "\u001b[01m\u001b[Kmain.cpp:\u001b[m\u001b[K In function ‘\u001b[01m\u001b[Kint main(int, char**)\u001b[m\u001b[K’:\n",
      "\u001b[01m\u001b[Kmain.cpp:1952:14:\u001b[m\u001b[K \u001b[01;35m\u001b[Kwarning: \u001b[m\u001b[Kunused parameter ‘\u001b[01m\u001b[Kargc\u001b[m\u001b[K’ [\u001b[01;35m\u001b[K-Wunused-parameter\u001b[m\u001b[K]\n",
      " 1952 | int main(\u001b[01;35m\u001b[Kint argc\u001b[m\u001b[K, char* argv[]) {\n",
      "      |          \u001b[01;35m\u001b[K~~~~^~~~\u001b[m\u001b[K\n",
      "\u001b[01m\u001b[Kmain.cpp:1952:26:\u001b[m\u001b[K \u001b[01;35m\u001b[Kwarning: \u001b[m\u001b[Kunused parameter ‘\u001b[01m\u001b[Kargv\u001b[m\u001b[K’ [\u001b[01;35m\u001b[K-Wunused-parameter\u001b[m\u001b[K]\n",
      " 1952 | int main(int argc, \u001b[01;35m\u001b[Kchar* argv[]\u001b[m\u001b[K) {\n",
      "      |                    \u001b[01;35m\u001b[K~~~~~~^~~~~~\u001b[m\u001b[K\n"
     ]
    }
   ],
   "source": [
    "!g++ {FILENAME} -std=gnu++17 -Wall -Wextra -O2 -DONLINE_JUDGE -o {FILENAME}.out"
   ]
  },
  {
   "cell_type": "code",
   "execution_count": 2,
   "metadata": {},
   "outputs": [],
   "source": [
    "SEED = 1000\n",
    "N_TESTCASES = 500"
   ]
  },
  {
   "cell_type": "code",
   "execution_count": 5,
   "metadata": {
    "scrolled": true
   },
   "outputs": [
    {
     "name": "stdout",
     "output_type": "stream",
     "text": [
      "\u001b[0m\u001b[0m\u001b[1m\u001b[32m    Finished\u001b[0m release [optimized] target(s) in 0.08s\n",
      "\u001b[0m\u001b[0m\u001b[1m\u001b[32m     Running\u001b[0m `/home/nagis/ahc003/tools/target/release/gen seeds.txt`\n",
      "0000.txt  0063.txt  0126.txt  0189.txt\t0252.txt  0315.txt  0378.txt  0441.txt\n",
      "0001.txt  0064.txt  0127.txt  0190.txt\t0253.txt  0316.txt  0379.txt  0442.txt\n",
      "0002.txt  0065.txt  0128.txt  0191.txt\t0254.txt  0317.txt  0380.txt  0443.txt\n",
      "0003.txt  0066.txt  0129.txt  0192.txt\t0255.txt  0318.txt  0381.txt  0444.txt\n",
      "0004.txt  0067.txt  0130.txt  0193.txt\t0256.txt  0319.txt  0382.txt  0445.txt\n",
      "0005.txt  0068.txt  0131.txt  0194.txt\t0257.txt  0320.txt  0383.txt  0446.txt\n",
      "0006.txt  0069.txt  0132.txt  0195.txt\t0258.txt  0321.txt  0384.txt  0447.txt\n",
      "0007.txt  0070.txt  0133.txt  0196.txt\t0259.txt  0322.txt  0385.txt  0448.txt\n",
      "0008.txt  0071.txt  0134.txt  0197.txt\t0260.txt  0323.txt  0386.txt  0449.txt\n",
      "0009.txt  0072.txt  0135.txt  0198.txt\t0261.txt  0324.txt  0387.txt  0450.txt\n",
      "0010.txt  0073.txt  0136.txt  0199.txt\t0262.txt  0325.txt  0388.txt  0451.txt\n",
      "0011.txt  0074.txt  0137.txt  0200.txt\t0263.txt  0326.txt  0389.txt  0452.txt\n",
      "0012.txt  0075.txt  0138.txt  0201.txt\t0264.txt  0327.txt  0390.txt  0453.txt\n",
      "0013.txt  0076.txt  0139.txt  0202.txt\t0265.txt  0328.txt  0391.txt  0454.txt\n",
      "0014.txt  0077.txt  0140.txt  0203.txt\t0266.txt  0329.txt  0392.txt  0455.txt\n",
      "0015.txt  0078.txt  0141.txt  0204.txt\t0267.txt  0330.txt  0393.txt  0456.txt\n",
      "0016.txt  0079.txt  0142.txt  0205.txt\t0268.txt  0331.txt  0394.txt  0457.txt\n",
      "0017.txt  0080.txt  0143.txt  0206.txt\t0269.txt  0332.txt  0395.txt  0458.txt\n",
      "0018.txt  0081.txt  0144.txt  0207.txt\t0270.txt  0333.txt  0396.txt  0459.txt\n",
      "0019.txt  0082.txt  0145.txt  0208.txt\t0271.txt  0334.txt  0397.txt  0460.txt\n",
      "0020.txt  0083.txt  0146.txt  0209.txt\t0272.txt  0335.txt  0398.txt  0461.txt\n",
      "0021.txt  0084.txt  0147.txt  0210.txt\t0273.txt  0336.txt  0399.txt  0462.txt\n",
      "0022.txt  0085.txt  0148.txt  0211.txt\t0274.txt  0337.txt  0400.txt  0463.txt\n",
      "0023.txt  0086.txt  0149.txt  0212.txt\t0275.txt  0338.txt  0401.txt  0464.txt\n",
      "0024.txt  0087.txt  0150.txt  0213.txt\t0276.txt  0339.txt  0402.txt  0465.txt\n",
      "0025.txt  0088.txt  0151.txt  0214.txt\t0277.txt  0340.txt  0403.txt  0466.txt\n",
      "0026.txt  0089.txt  0152.txt  0215.txt\t0278.txt  0341.txt  0404.txt  0467.txt\n",
      "0027.txt  0090.txt  0153.txt  0216.txt\t0279.txt  0342.txt  0405.txt  0468.txt\n",
      "0028.txt  0091.txt  0154.txt  0217.txt\t0280.txt  0343.txt  0406.txt  0469.txt\n",
      "0029.txt  0092.txt  0155.txt  0218.txt\t0281.txt  0344.txt  0407.txt  0470.txt\n",
      "0030.txt  0093.txt  0156.txt  0219.txt\t0282.txt  0345.txt  0408.txt  0471.txt\n",
      "0031.txt  0094.txt  0157.txt  0220.txt\t0283.txt  0346.txt  0409.txt  0472.txt\n",
      "0032.txt  0095.txt  0158.txt  0221.txt\t0284.txt  0347.txt  0410.txt  0473.txt\n",
      "0033.txt  0096.txt  0159.txt  0222.txt\t0285.txt  0348.txt  0411.txt  0474.txt\n",
      "0034.txt  0097.txt  0160.txt  0223.txt\t0286.txt  0349.txt  0412.txt  0475.txt\n",
      "0035.txt  0098.txt  0161.txt  0224.txt\t0287.txt  0350.txt  0413.txt  0476.txt\n",
      "0036.txt  0099.txt  0162.txt  0225.txt\t0288.txt  0351.txt  0414.txt  0477.txt\n",
      "0037.txt  0100.txt  0163.txt  0226.txt\t0289.txt  0352.txt  0415.txt  0478.txt\n",
      "0038.txt  0101.txt  0164.txt  0227.txt\t0290.txt  0353.txt  0416.txt  0479.txt\n",
      "0039.txt  0102.txt  0165.txt  0228.txt\t0291.txt  0354.txt  0417.txt  0480.txt\n",
      "0040.txt  0103.txt  0166.txt  0229.txt\t0292.txt  0355.txt  0418.txt  0481.txt\n",
      "0041.txt  0104.txt  0167.txt  0230.txt\t0293.txt  0356.txt  0419.txt  0482.txt\n",
      "0042.txt  0105.txt  0168.txt  0231.txt\t0294.txt  0357.txt  0420.txt  0483.txt\n",
      "0043.txt  0106.txt  0169.txt  0232.txt\t0295.txt  0358.txt  0421.txt  0484.txt\n",
      "0044.txt  0107.txt  0170.txt  0233.txt\t0296.txt  0359.txt  0422.txt  0485.txt\n",
      "0045.txt  0108.txt  0171.txt  0234.txt\t0297.txt  0360.txt  0423.txt  0486.txt\n",
      "0046.txt  0109.txt  0172.txt  0235.txt\t0298.txt  0361.txt  0424.txt  0487.txt\n",
      "0047.txt  0110.txt  0173.txt  0236.txt\t0299.txt  0362.txt  0425.txt  0488.txt\n",
      "0048.txt  0111.txt  0174.txt  0237.txt\t0300.txt  0363.txt  0426.txt  0489.txt\n",
      "0049.txt  0112.txt  0175.txt  0238.txt\t0301.txt  0364.txt  0427.txt  0490.txt\n",
      "0050.txt  0113.txt  0176.txt  0239.txt\t0302.txt  0365.txt  0428.txt  0491.txt\n",
      "0051.txt  0114.txt  0177.txt  0240.txt\t0303.txt  0366.txt  0429.txt  0492.txt\n",
      "0052.txt  0115.txt  0178.txt  0241.txt\t0304.txt  0367.txt  0430.txt  0493.txt\n",
      "0053.txt  0116.txt  0179.txt  0242.txt\t0305.txt  0368.txt  0431.txt  0494.txt\n",
      "0054.txt  0117.txt  0180.txt  0243.txt\t0306.txt  0369.txt  0432.txt  0495.txt\n",
      "0055.txt  0118.txt  0181.txt  0244.txt\t0307.txt  0370.txt  0433.txt  0496.txt\n",
      "0056.txt  0119.txt  0182.txt  0245.txt\t0308.txt  0371.txt  0434.txt  0497.txt\n",
      "0057.txt  0120.txt  0183.txt  0246.txt\t0309.txt  0372.txt  0435.txt  0498.txt\n",
      "0058.txt  0121.txt  0184.txt  0247.txt\t0310.txt  0373.txt  0436.txt  0499.txt\n",
      "0059.txt  0122.txt  0185.txt  0248.txt\t0311.txt  0374.txt  0437.txt\n",
      "0060.txt  0123.txt  0186.txt  0249.txt\t0312.txt  0375.txt  0438.txt\n",
      "0061.txt  0124.txt  0187.txt  0250.txt\t0313.txt  0376.txt  0439.txt\n",
      "0062.txt  0125.txt  0188.txt  0251.txt\t0314.txt  0377.txt  0440.txt\n"
     ]
    }
   ],
   "source": [
    "!seq {SEED} {SEED+N_TESTCASES-1} > seeds.txt && cargo run --release --manifest-path ../tools/Cargo.toml --bin gen seeds.txt\n",
    "!ls in"
   ]
  },
  {
   "cell_type": "code",
   "execution_count": 3,
   "metadata": {
    "scrolled": true
   },
   "outputs": [
    {
     "name": "stdout",
     "output_type": "stream",
     "text": [
      "0000 Score = 970525093\n",
      "0001 Score = 985692479\n",
      "0002 Score = 983704833\n",
      "0003 Score = 960408519\n",
      "0004 Score = 985051417\n",
      "0005 Score = 985637998\n",
      "0006 Score = 957567026\n",
      "0007 Score = 984382124\n",
      "0008 Score = 953586839\n",
      "0009 Score = 974062522\n",
      "0010 Score = 965422775\n",
      "0011 Score = 954835069\n",
      "0012 Score = 982598762\n",
      "0013 Score = 967173753\n",
      "0014 Score = 985324907\n",
      "0015 Score = 961282204\n",
      "0016 Score = 979224087\n",
      "0017 Score = 981479635\n",
      "0018 Score = 964184905\n",
      "0019 Score = 985645980\n",
      "0020 Score = 966833577\n",
      "0021 Score = 986406731\n",
      "0022 Score = 951114503\n",
      "0023 Score = 966183805\n",
      "0024 Score = 983716170\n",
      "0025 Score = 956617795\n",
      "0026 Score = 985483514\n",
      "0027 Score = 953307838\n",
      "0028 Score = 982256754\n",
      "0029 Score = 965871571\n",
      "0030 Score = 976983044\n",
      "0031 Score = 914052785\n",
      "0032 Score = 973609531\n",
      "0033 Score = 967137479\n",
      "0034 Score = 978179290\n",
      "0035 Score = 984329131\n",
      "0036 Score = 959502743\n",
      "0037 Score = 965728842\n",
      "0038 Score = 977597976\n",
      "0039 Score = 977724651\n",
      "0040 Score = 964324445\n",
      "0041 Score = 946162634\n",
      "0042 Score = 969496726\n",
      "0043 Score = 970265867\n",
      "0044 Score = 986213166\n",
      "0045 Score = 986070139\n",
      "0046 Score = 958883919\n",
      "0047 Score = 968355677\n",
      "0048 Score = 971765947\n",
      "0049 Score = 952664193\n",
      "0050 Score = 980220881\n",
      "0051 Score = 975726744\n",
      "0052 Score = 982926379\n",
      "0053 Score = 986297790\n",
      "0054 Score = 979547727\n",
      "0055 Score = 965862170\n",
      "0056 Score = 979213034\n",
      "0057 Score = 980125090\n",
      "0058 Score = 961461458\n",
      "0059 Score = 961213008\n",
      "0060 Score = 966052390\n",
      "0061 Score = 967677241\n",
      "0062 Score = 981491746\n",
      "0063 Score = 986568409\n",
      "0064 Score = 974154470\n",
      "0065 Score = 962284395\n",
      "0066 Score = 982204249\n",
      "0067 Score = 954034096\n",
      "0068 Score = 985855211\n",
      "0069 Score = 979608084\n",
      "0070 Score = 981680193\n",
      "0071 Score = 968624508\n",
      "0072 Score = 982478187\n",
      "0073 Score = 983075216\n",
      "0074 Score = 983986003\n",
      "0075 Score = 974868471\n",
      "0076 Score = 981215823\n",
      "0077 Score = 977676668\n",
      "0078 Score = 981933486\n",
      "0079 Score = 980939305\n",
      "0080 Score = 985010542\n",
      "0081 Score = 970967496\n",
      "0082 Score = 971111132\n",
      "0083 Score = 985368368\n",
      "0084 Score = 966538835\n",
      "0085 Score = 967049011\n",
      "0086 Score = 970018190\n",
      "0087 Score = 967324821\n",
      "0088 Score = 982556213\n",
      "0089 Score = 984581012\n",
      "0090 Score = 982549792\n",
      "0091 Score = 953346713\n",
      "0092 Score = 961247451\n",
      "0093 Score = 968553714\n",
      "0094 Score = 974586327\n",
      "0095 Score = 976110983\n",
      "0096 Score = 954637992\n",
      "0097 Score = 981368258\n",
      "0098 Score = 978677454\n",
      "0099 Score = 960922079\n",
      "0100 Score = 983459326\n",
      "0101 Score = 968941615\n",
      "0102 Score = 971311452\n",
      "0103 Score = 971399421\n",
      "0104 Score = 982435127\n",
      "0105 Score = 969075535\n",
      "0106 Score = 987284569\n",
      "0107 Score = 973001952\n",
      "0108 Score = 959326948\n",
      "0109 Score = 955536370\n",
      "0110 Score = 968419695\n",
      "0111 Score = 977395388\n",
      "0112 Score = 983307947\n",
      "0113 Score = 986192076\n",
      "0114 Score = 978706357\n",
      "0115 Score = 954077184\n",
      "0116 Score = 986651349\n",
      "0117 Score = 968929133\n",
      "0118 Score = 964665928\n",
      "0119 Score = 988693314\n",
      "0120 Score = 967668944\n",
      "0121 Score = 967867487\n",
      "0122 Score = 985275912\n",
      "0123 Score = 972390352\n",
      "0124 Score = 984871725\n",
      "0125 Score = 983419659\n",
      "0126 Score = 983119721\n",
      "0127 Score = 960985067\n",
      "0128 Score = 970513302\n",
      "0129 Score = 967101309\n",
      "0130 Score = 973311299\n",
      "0131 Score = 985213950\n",
      "0132 Score = 961050869\n",
      "0133 Score = 983088432\n",
      "0134 Score = 976911511\n",
      "0135 Score = 967124336\n",
      "0136 Score = 956795252\n",
      "0137 Score = 984692758\n",
      "0138 Score = 987094736\n",
      "0139 Score = 980188077\n",
      "0140 Score = 979994421\n",
      "0141 Score = 976034924\n",
      "0142 Score = 971659869\n",
      "0143 Score = 960924918\n",
      "0144 Score = 962132321\n",
      "0145 Score = 980299554\n",
      "0146 Score = 959611312\n",
      "0147 Score = 974442246\n",
      "0148 Score = 971914098\n",
      "0149 Score = 988957858\n",
      "0150 Score = 983087378\n",
      "0151 Score = 980893679\n",
      "0152 Score = 961517080\n",
      "0153 Score = 966277768\n",
      "0154 Score = 957592879\n",
      "0155 Score = 981580428\n",
      "0156 Score = 970865638\n",
      "0157 Score = 956205506\n",
      "0158 Score = 965291165\n",
      "0159 Score = 970919787\n",
      "0160 Score = 975244578\n",
      "0161 Score = 958497347\n",
      "0162 Score = 967787070\n",
      "0163 Score = 940313556\n",
      "0164 Score = 985508900\n",
      "0165 Score = 963034360\n",
      "0166 Score = 954176112\n",
      "0167 Score = 983510805\n",
      "0168 Score = 974745143\n",
      "0169 Score = 944332607\n",
      "0170 Score = 963014861\n",
      "0171 Score = 977651771\n",
      "0172 Score = 973941118\n",
      "0173 Score = 985855106\n",
      "0174 Score = 961616116\n",
      "0175 Score = 968518996\n",
      "0176 Score = 976877444\n",
      "0177 Score = 962901359\n",
      "0178 Score = 974123986\n",
      "0179 Score = 974073780\n",
      "0180 Score = 967033782\n",
      "0181 Score = 975324847\n",
      "0182 Score = 980623400\n",
      "0183 Score = 972392187\n",
      "0184 Score = 986198453\n",
      "0185 Score = 974197252\n",
      "0186 Score = 974022998\n",
      "0187 Score = 972924105\n",
      "0188 Score = 969401047\n",
      "0189 Score = 953100634\n",
      "0190 Score = 987461616\n",
      "0191 Score = 965436667\n",
      "0192 Score = 962104614\n",
      "0193 Score = 975247588\n",
      "0194 Score = 977436138\n",
      "0195 Score = 931611244\n",
      "0196 Score = 961322643\n",
      "0197 Score = 975813436\n",
      "0198 Score = 970916835\n",
      "0199 Score = 971775663\n",
      "0200 Score = 987295817\n",
      "0201 Score = 962495966\n",
      "0202 Score = 961933639\n",
      "0203 Score = 962138308\n",
      "0204 Score = 974029753\n",
      "0205 Score = 980894360\n",
      "0206 Score = 969026669\n",
      "0207 Score = 976506721\n",
      "0208 Score = 978677347\n",
      "0209 Score = 965823145\n",
      "0210 Score = 971005541\n",
      "0211 Score = 961956607\n",
      "0212 Score = 963064538\n",
      "0213 Score = 983942779\n",
      "0214 Score = 976185184\n",
      "0215 Score = 958775065\n",
      "0216 Score = 982242708\n",
      "0217 Score = 960517947\n",
      "0218 Score = 985501851\n",
      "0219 Score = 964547013\n",
      "0220 Score = 964194836\n",
      "0221 Score = 982435831\n",
      "0222 Score = 950668069\n",
      "0223 Score = 982031860\n",
      "0224 Score = 981591948\n",
      "0225 Score = 984131513\n",
      "0226 Score = 986602082\n",
      "0227 Score = 955423837\n",
      "0228 Score = 960794919\n",
      "0229 Score = 980385835\n",
      "0230 Score = 963656941\n",
      "0231 Score = 975868806\n",
      "0232 Score = 956063568\n",
      "0233 Score = 988976262\n",
      "0234 Score = 984845970\n",
      "0235 Score = 967366147\n",
      "0236 Score = 980128204\n",
      "0237 Score = 983070020\n",
      "0238 Score = 959015963\n",
      "0239 Score = 977190942\n",
      "0240 Score = 950110682\n",
      "0241 Score = 956626190\n",
      "0242 Score = 972837055\n",
      "0243 Score = 963071828\n",
      "0244 Score = 968797616\n",
      "0245 Score = 986372968\n",
      "0246 Score = 971268925\n",
      "0247 Score = 971530111\n",
      "0248 Score = 984932255\n",
      "0249 Score = 960023774\n",
      "0250 Score = 979270061\n",
      "0251 Score = 965285081\n",
      "0252 Score = 957834999\n",
      "0253 Score = 965747897\n",
      "0254 Score = 959846243\n",
      "0255 Score = 976984845\n",
      "0256 Score = 965722029\n",
      "0257 Score = 986394381\n",
      "0258 Score = 953118820\n",
      "0259 Score = 971331863\n",
      "0260 Score = 964530881\n",
      "0261 Score = 964576900\n",
      "0262 Score = 976464677\n",
      "0263 Score = 970954280\n",
      "0264 Score = 954822408\n",
      "0265 Score = 965041341\n",
      "0266 Score = 969800677\n",
      "0267 Score = 954280243\n",
      "0268 Score = 975218713\n",
      "0269 Score = 976637291\n",
      "0270 Score = 985185619\n",
      "0271 Score = 985631666\n",
      "0272 Score = 964912960\n",
      "0273 Score = 966120040\n",
      "0274 Score = 986931084\n",
      "0275 Score = 953270024\n",
      "0276 Score = 943149071\n",
      "0277 Score = 972602481\n",
      "0278 Score = 981549318\n",
      "0279 Score = 985632035\n",
      "0280 Score = 961478220\n",
      "0281 Score = 971058063\n",
      "0282 Score = 961580787\n",
      "0283 Score = 972334581\n",
      "0284 Score = 964031360\n",
      "0285 Score = 966362087\n",
      "0286 Score = 977199979\n",
      "0287 Score = 978142783\n",
      "0288 Score = 984786857\n",
      "0289 Score = 985472217\n",
      "0290 Score = 961723918\n",
      "0291 Score = 986367832\n",
      "0292 Score = 963968825\n",
      "0293 Score = 976741521\n",
      "0294 Score = 984258429\n",
      "0295 Score = 974219886\n",
      "0296 Score = 964836719\n",
      "0297 Score = 959474953\n",
      "0298 Score = 961008710\n",
      "0299 Score = 974649395\n",
      "0300 Score = 976665099\n",
      "0301 Score = 949667877\n",
      "0302 Score = 939229429\n",
      "0303 Score = 984859054\n",
      "0304 Score = 978613963\n",
      "0305 Score = 967968551\n",
      "0306 Score = 970333589\n",
      "0307 Score = 985533638\n",
      "0308 Score = 984920842\n",
      "0309 Score = 987591433\n",
      "0310 Score = 983081191\n",
      "0311 Score = 983397741\n",
      "0312 Score = 972746045\n",
      "0313 Score = 976354280\n",
      "0314 Score = 984368977\n",
      "0315 Score = 975571824\n",
      "0316 Score = 982010669\n",
      "0317 Score = 985627967\n",
      "0318 Score = 955821659\n",
      "0319 Score = 980969163\n",
      "0320 Score = 955666029\n",
      "0321 Score = 969443195\n",
      "0322 Score = 985635419\n",
      "0323 Score = 972207833\n",
      "0324 Score = 971439113\n",
      "0325 Score = 956559691\n",
      "0326 Score = 966255944\n",
      "0327 Score = 943302500\n",
      "0328 Score = 961097117\n",
      "0329 Score = 984031933\n",
      "0330 Score = 974423027\n",
      "0331 Score = 986010207\n",
      "0332 Score = 975398423\n",
      "0333 Score = 987280255\n",
      "0334 Score = 971320186\n",
      "0335 Score = 958783050\n",
      "0336 Score = 959537753\n",
      "0337 Score = 986295339\n",
      "0338 Score = 985265812\n",
      "0339 Score = 968079445\n",
      "0340 Score = 965451066\n",
      "0341 Score = 972994377\n",
      "0342 Score = 977626690\n",
      "0343 Score = 970254087\n",
      "0344 Score = 984728899\n",
      "0345 Score = 974977331\n",
      "0346 Score = 986153880\n",
      "0347 Score = 977020509\n",
      "0348 Score = 960894530\n",
      "0349 Score = 966232344\n",
      "0350 Score = 972918722\n",
      "0351 Score = 985305317\n",
      "0352 Score = 969615177\n",
      "0353 Score = 960276827\n",
      "0354 Score = 964416731\n",
      "0355 Score = 972344098\n",
      "0356 Score = 971891607\n"
     ]
    },
    {
     "name": "stdout",
     "output_type": "stream",
     "text": [
      "0357 Score = 967991519\n",
      "0358 Score = 952760709\n",
      "0359 Score = 973301761\n",
      "0360 Score = 972177313\n",
      "0361 Score = 967118804\n",
      "0362 Score = 986837825\n",
      "0363 Score = 983146444\n",
      "0364 Score = 984579252\n",
      "0365 Score = 968309562\n",
      "0366 Score = 985741069\n",
      "0367 Score = 970114473\n",
      "0368 Score = 979900995\n",
      "0369 Score = 984660074\n",
      "0370 Score = 965109637\n",
      "0371 Score = 987296106\n",
      "0372 Score = 985206207\n",
      "0373 Score = 973217644\n",
      "0374 Score = 982131190\n",
      "0375 Score = 987155870\n",
      "0376 Score = 965057259\n",
      "0377 Score = 963326828\n",
      "0378 Score = 980758302\n",
      "0379 Score = 979042400\n",
      "0380 Score = 968905797\n",
      "0381 Score = 974154225\n",
      "0382 Score = 956928408\n",
      "0383 Score = 966430419\n",
      "0384 Score = 986192799\n",
      "0385 Score = 961819600\n",
      "0386 Score = 948919869\n",
      "0387 Score = 959435179\n",
      "0388 Score = 966013996\n",
      "0389 Score = 971679920\n",
      "0390 Score = 971629122\n",
      "0391 Score = 960249028\n",
      "0392 Score = 971322517\n",
      "0393 Score = 981461276\n",
      "0394 Score = 964007998\n",
      "0395 Score = 981429888\n",
      "0396 Score = 960714463\n",
      "0397 Score = 963807191\n",
      "0398 Score = 971382806\n",
      "0399 Score = 983407119\n",
      "0400 Score = 954317164\n",
      "0401 Score = 962056656\n",
      "0402 Score = 977866490\n",
      "0403 Score = 981811519\n",
      "0404 Score = 976544256\n",
      "0405 Score = 983485057\n",
      "0406 Score = 966505032\n",
      "0407 Score = 950177574\n",
      "0408 Score = 973527456\n",
      "0409 Score = 978095072\n",
      "0410 Score = 962900219\n",
      "0411 Score = 968238750\n",
      "0412 Score = 979481545\n",
      "0413 Score = 956820910\n",
      "0414 Score = 969027847\n",
      "0415 Score = 978882342\n",
      "0416 Score = 963889042\n",
      "0417 Score = 969287917\n",
      "0418 Score = 944425555\n",
      "0419 Score = 986366540\n",
      "0420 Score = 988666560\n",
      "0421 Score = 986304960\n",
      "0422 Score = 982168211\n",
      "0423 Score = 978082163\n",
      "0424 Score = 972251728\n",
      "0425 Score = 968793868\n",
      "0426 Score = 982369407\n",
      "0427 Score = 947333070\n",
      "0428 Score = 950700337\n",
      "0429 Score = 978043515\n",
      "0430 Score = 976854008\n",
      "0431 Score = 970273963\n",
      "0432 Score = 937293646\n",
      "0433 Score = 970700325\n",
      "0434 Score = 964908239\n",
      "0435 Score = 981625901\n",
      "0436 Score = 980877732\n",
      "0437 Score = 933356470\n",
      "0438 Score = 949436944\n",
      "0439 Score = 965210373\n",
      "0440 Score = 957432186\n",
      "0441 Score = 959991285\n",
      "0442 Score = 988027749\n",
      "0443 Score = 986697848\n",
      "0444 Score = 986322521\n",
      "0445 Score = 949896914\n",
      "0446 Score = 981614291\n",
      "0447 Score = 972659349\n",
      "0448 Score = 974281686\n",
      "0449 Score = 972619946\n",
      "0450 Score = 973052854\n",
      "0451 Score = 959666713\n",
      "0452 Score = 969093543\n",
      "0453 Score = 966361223\n",
      "0454 Score = 962131219\n",
      "0455 Score = 972732522\n",
      "0456 Score = 958663319\n",
      "0457 Score = 956316562\n",
      "0458 Score = 982419736\n",
      "0459 Score = 968972451\n",
      "0460 Score = 956870840\n",
      "0461 Score = 986612043\n",
      "0462 Score = 972306160\n",
      "0463 Score = 975885195\n",
      "0464 Score = 988682904\n",
      "0465 Score = 973965267\n",
      "0466 Score = 980357555\n",
      "0467 Score = 954921362\n",
      "0468 Score = 964448818\n",
      "0469 Score = 966692626\n",
      "0470 Score = 984037244\n",
      "0471 Score = 946747717\n",
      "0472 Score = 950335703\n",
      "0473 Score = 984982346\n",
      "0474 Score = 962186028\n",
      "0475 Score = 959332875\n",
      "0476 Score = 972264469\n",
      "0477 Score = 968855676\n",
      "0478 Score = 978684168\n",
      "0479 Score = 981563187\n",
      "0480 Score = 965373482\n",
      "0481 Score = 967812317\n",
      "0482 Score = 971088295\n",
      "0483 Score = 958006940\n",
      "0484 Score = 976994418\n",
      "0485 Score = 949150051\n",
      "0486 Score = 968955843\n",
      "0487 Score = 965440408\n",
      "0488 Score = 964399505\n",
      "0489 Score = 984611349\n",
      "0490 Score = 954872646\n",
      "0491 Score = 965342719\n",
      "0492 Score = 984405414\n",
      "0493 Score = 964185122\n",
      "0494 Score = 979694554\n",
      "0495 Score = 958994351\n",
      "0496 Score = 984375428\n",
      "0497 Score = 982311541\n",
      "0498 Score = 972394215\n",
      "0499 Score = 963680852\n",
      "CPU times: user 1.22 s, sys: 2.14 s, total: 3.36 s\n",
      "Wall time: 13min 5s\n"
     ]
    },
    {
     "data": {
      "text/plain": [
       "(971.420167514, 11.455625801585526)"
      ]
     },
     "execution_count": 3,
     "metadata": {},
     "output_type": "execute_result"
    }
   ],
   "source": [
    "%%time\n",
    "# もとのスコアの確認\n",
    "scores = []\n",
    "for i in range(N_TESTCASES):\n",
    "    i = f\"{i:04d}\"\n",
    "    score = !cargo run --release --manifest-path ../tools/Cargo.toml --bin tester in/{i}.txt $(pwd)/{FILENAME}.out 2>&1 | grep Score\n",
    "    print(i, *score)\n",
    "    score = int(score[0].split()[-1])\n",
    "    scores.append(score)\n",
    "np.mean(scores) / 1e6, np.std(scores) / 1e6"
   ]
  },
  {
   "cell_type": "code",
   "execution_count": 6,
   "metadata": {},
   "outputs": [
    {
     "data": {
      "text/plain": [
       "1.56"
      ]
     },
     "execution_count": 6,
     "metadata": {},
     "output_type": "execute_result"
    }
   ],
   "source": [
    "13*60/500"
   ]
  },
  {
   "cell_type": "code",
   "execution_count": 4,
   "metadata": {},
   "outputs": [
    {
     "data": {
      "image/png": "[encoded data removed]",
      "text/plain": [
       "<Figure size 432x288 with 1 Axes>"
      ]
     },
     "metadata": {
      "needs_background": "light"
     },
     "output_type": "display_data"
    }
   ],
   "source": [
    "import matplotlib.pyplot as plt\n",
    "plt.hist(scores, bins=50)\n",
    "plt.show()"
   ]
  },
  {
   "cell_type": "code",
   "execution_count": 3,
   "metadata": {},
   "outputs": [
    {
     "name": "stdout",
     "output_type": "stream",
     "text": [
      "5 variables were found.\n"
     ]
    },
    {
     "data": {
      "text/html": [
       "<div>\n",
       "<style scoped>\n",
       "    .dataframe tbody tr th:only-of-type {\n",
       "        vertical-align: middle;\n",
       "    }\n",
       "\n",
       "    .dataframe tbody tr th {\n",
       "        vertical-align: top;\n",
       "    }\n",
       "\n",
       "    .dataframe thead th {\n",
       "        text-align: right;\n",
       "    }\n",
       "</style>\n",
       "<table border=\"1\" class=\"dataframe\">\n",
       "  <thead>\n",
       "    <tr style=\"text-align: right;\">\n",
       "      <th></th>\n",
       "      <th>name</th>\n",
       "      <th>method</th>\n",
       "      <th>min</th>\n",
       "      <th>max</th>\n",
       "      <th>log</th>\n",
       "      <th>left</th>\n",
       "      <th>right</th>\n",
       "    </tr>\n",
       "  </thead>\n",
       "  <tbody>\n",
       "    <tr>\n",
       "      <th>0</th>\n",
       "      <td>UCB1_COEF_AT_100</td>\n",
       "      <td>suggest_float</td>\n",
       "      <td>1.00000</td>\n",
       "      <td>10000.0</td>\n",
       "      <td>True</td>\n",
       "      <td>constexpr double UCB1_COEF_AT_100 =</td>\n",
       "      <td>;   // OPTIMIZE [1e0, 1e4] LOG</td>\n",
       "    </tr>\n",
       "    <tr>\n",
       "      <th>1</th>\n",
       "      <td>UCB1_EPS</td>\n",
       "      <td>suggest_float</td>\n",
       "      <td>0.00100</td>\n",
       "      <td>10.0</td>\n",
       "      <td>True</td>\n",
       "      <td>constexpr double UCB1_EPS =</td>\n",
       "      <td>;          // OPTIMIZE [1e-3, 1e1] LOG</td>\n",
       "    </tr>\n",
       "    <tr>\n",
       "      <th>2</th>\n",
       "      <td>UCB1_DECAY_RATE_TMP</td>\n",
       "      <td>suggest_float</td>\n",
       "      <td>0.00001</td>\n",
       "      <td>0.1</td>\n",
       "      <td>True</td>\n",
       "      <td>constexpr double UCB1_DECAY_RATE_TMP =</td>\n",
       "      <td>;           // OPTIMIZE [1e-5, 0.1] LOG</td>\n",
       "    </tr>\n",
       "    <tr>\n",
       "      <th>3</th>\n",
       "      <td>TURNING_COST_AT_100</td>\n",
       "      <td>suggest_float</td>\n",
       "      <td>1000.00000</td>\n",
       "      <td>100000.0</td>\n",
       "      <td>False</td>\n",
       "      <td>constexpr double TURNING_COST_AT_100 =</td>\n",
       "      <td>;           // OPTIMIZE [1000.0, 1e5]</td>\n",
       "    </tr>\n",
       "    <tr>\n",
       "      <th>4</th>\n",
       "      <td>TURNING_COST_COEF_TMP</td>\n",
       "      <td>suggest_float</td>\n",
       "      <td>0.00100</td>\n",
       "      <td>0.1</td>\n",
       "      <td>True</td>\n",
       "      <td>constexpr double TURNING_COST_COEF_TMP =</td>\n",
       "      <td>;           // OPTIMIZE [0.001, 0.1] LOG</td>\n",
       "    </tr>\n",
       "  </tbody>\n",
       "</table>\n",
       "</div>"
      ],
      "text/plain": [
       "                    name         method         min       max    log  \\\n",
       "0       UCB1_COEF_AT_100  suggest_float     1.00000   10000.0   True   \n",
       "1               UCB1_EPS  suggest_float     0.00100      10.0   True   \n",
       "2    UCB1_DECAY_RATE_TMP  suggest_float     0.00001       0.1   True   \n",
       "3    TURNING_COST_AT_100  suggest_float  1000.00000  100000.0  False   \n",
       "4  TURNING_COST_COEF_TMP  suggest_float     0.00100       0.1   True   \n",
       "\n",
       "                                        left  \\\n",
       "0       constexpr double UCB1_COEF_AT_100 =    \n",
       "1               constexpr double UCB1_EPS =    \n",
       "2    constexpr double UCB1_DECAY_RATE_TMP =    \n",
       "3    constexpr double TURNING_COST_AT_100 =    \n",
       "4  constexpr double TURNING_COST_COEF_TMP =    \n",
       "\n",
       "                                      right  \n",
       "0            ;   // OPTIMIZE [1e0, 1e4] LOG  \n",
       "1    ;          // OPTIMIZE [1e-3, 1e1] LOG  \n",
       "2   ;           // OPTIMIZE [1e-5, 0.1] LOG  \n",
       "3     ;           // OPTIMIZE [1000.0, 1e5]  \n",
       "4  ;           // OPTIMIZE [0.001, 0.1] LOG  "
      ]
     },
     "metadata": {},
     "output_type": "display_data"
    }
   ],
   "source": [
    "# ここでエラー出力は何かおかしいかもしれない\n",
    "\n",
    "\n",
    "# パラメータ抽出\n",
    "with open(FILENAME) as f:\n",
    "    answer = f.read()\n",
    "\n",
    "\n",
    "variables_optimize = []\n",
    "\n",
    "for left, value, right, options in re.findall(r\"^([^/\\n]*=\\s*)(.+?)(\\s*;\\s*//(?:.*\\W)?OPTIMIZE(\\W.*))$\", answer, re.MULTILINE):\n",
    "    name = left.replace(\"=\", \"\").strip().split()[-1]\n",
    "    \n",
    "    searched = re.search(r\".*\\[(?P<min>.*),(?P<max>.*)\\].*\", options)\n",
    "    if searched:\n",
    "        min_value = max_value = None\n",
    "        try:\n",
    "            min_value = eval(searched.group(\"min\"))\n",
    "            max_value = eval(searched.group(\"max\"))\n",
    "            assert min_value <= max_value\n",
    "        except Exception as e:\n",
    "            print(f\"searched={searched}\", file=sys.stderr)\n",
    "            print(e, file=sys.stderr)\n",
    "            continue\n",
    "        log = \"LOG\" in options  # 雑、直したほうが良い\n",
    "        if type(min_value) != type(max_value):\n",
    "            print(f\"searched={searched}\", file=sys.stderr)\n",
    "            print(\"types not matched\", file=sys.stderr)\n",
    "            continue\n",
    "        if isinstance(min_value, int):\n",
    "            method = \"suggest_int\"\n",
    "        elif isinstance(min_value, float):\n",
    "            method = \"suggest_float\"\n",
    "        else:\n",
    "            print(f\"searched={searched}\", file=sys.stderr)\n",
    "            print(f\"unknown type ({type(min_value)})\", file=sys.stderr)\n",
    "            continue\n",
    "        variables_optimize.append({\n",
    "            \"name\": name,\n",
    "            \"method\": method,\n",
    "            \"min\": min_value,\n",
    "            \"max\": max_value,\n",
    "            \"log\": log,\n",
    "            \"left\": left,\n",
    "            \"right\": right,\n",
    "        })\n",
    "    elif searched := re.search(r\".*\\{(?P<choices>.*?)\\}.*\", options):\n",
    "        choices = list(map(lambda x: x.strip(), searched.group(\"choices\").split(\",\")))\n",
    "        variables_optimize.append({\n",
    "            \"name\": name,\n",
    "            \"method\": \"suggest_categorical\",\n",
    "            \"choices\": choices,\n",
    "            \"left\": left,\n",
    "            \"right\": right,\n",
    "        })\n",
    "    else:\n",
    "        print(f\"searched={searched}\", file=sys.stderr)\n",
    "        print(f\"pattern was matched but options are incorrect.\", file=sys.stderr)\n",
    "\n",
    "print(len(variables_optimize), \"variables were found.\")\n",
    "if globals().get(\"pd\"):\n",
    "    display(pd.DataFrame(variables_optimize))\n",
    "else:\n",
    "    pprint(variables_optimize)"
   ]
  },
  {
   "cell_type": "code",
   "execution_count": 4,
   "metadata": {},
   "outputs": [],
   "source": [
    "def escape(string):  # 正規表現の中でそのまま使いたい文字列をエスケープ\n",
    "    res = !echo '{string}' | sed -e 's/[]\\/$*.^[]/\\\\&/g'\n",
    "    return res[0]\n",
    "\n",
    "def escape_sed(string):  # sed の置換後の文字列用のエスケープ\n",
    "    res = !echo '{string}' | sed -e 's/[\\/&]/\\\\&/g'\n",
    "    return res[0]\n",
    "\n",
    "\n",
    "def objective_with_index(trial, n_internal_parallel):\n",
    "    index_parallel = trial.number % 12  # これ変数にする\n",
    "    print(f\"{index_parallel=}\")\n",
    "    \n",
    "    parameters_changed_filename = f\"{index_parallel}_{FILENAME}\"\n",
    "    directory_input = \"./in\"  # \"/\" をつけない  # 中のすべてのファイルに対して実行される\n",
    "    \n",
    "    !mkdir {index_parallel}_out\n",
    "    !mkdir {index_parallel}_score\n",
    "    !rm {index_parallel}_out/*\n",
    "    !rm {index_parallel}_score/*\n",
    "    \n",
    "    # ファイル作成\n",
    "    !cp {FILENAME} {parameters_changed_filename}\n",
    "    sed_options = [f\"-i {parameters_changed_filename}\"]\n",
    "    for variable in variables_optimize:\n",
    "        if variable[\"method\"] == \"suggest_categorical\":\n",
    "            val =  trial.suggest_categorical(variable[\"name\"], variable[\"choices\"])\n",
    "        else:\n",
    "            val = getattr(trial, variable[\"method\"])(variable[\"name\"], variable[\"min\"], variable[\"max\"], log=variable[\"log\"])\n",
    "        left = variable[\"left\"]\n",
    "        right = variable[\"right\"]\n",
    "        sed_options.append(f\"\"\"-e 's/^{escape(left)}.*{escape(right)}$/{escape_sed(left)}{val}{escape_sed(right)}/'\"\"\")\n",
    "    command_sed = f\"sed {' '.join(sed_options)}\"\n",
    "    print(command_sed)\n",
    "    !{command_sed}\n",
    "    \n",
    "    # コンパイル\n",
    "    command_compile = f\"g++ {parameters_changed_filename} -std=gnu++17 -O2 -DONLINE_JUDGE -o {parameters_changed_filename}.out 2> /dev/null\"\n",
    "    print(command_compile)\n",
    "    !{command_compile}\n",
    "    # 実行・採点コマンド (@ はファイル名)\n",
    "    command_exec = (\n",
    "        f\"cargo run --release --manifest-path ../tools/Cargo.toml --bin tester {directory_input}/@ $(pwd)/{parameters_changed_filename}.out 2>&1 | grep Score | sed -E s/[^0-9]+// > ./{index_parallel}_score/@;\"\n",
    "        #f\"./{parameters_changed_filename}.out < {directory_input}/@ > ./{index_parallel}_out/@;\"\n",
    "        #f\"cargo run --release --manifest-path ./tools/Cargo.toml --bin vis {directory_input}/@ ./{index_parallel}_out/@ 2> /dev/null > ./{index_parallel}_score/@;\"\n",
    "    )\n",
    "    # 並列実行 (sed はパスのディレクトリ部分を消してファイル名にしてる)\n",
    "    !find {directory_input}/* | sed 's!^.*/!!' | xargs -I@ -P {n_internal_parallel} sh -c '{command_exec}'\n",
    "    \n",
    "    # 集計\n",
    "    file_paths = !find ./{index_parallel}_score/*\n",
    "    sum_score = 0\n",
    "    for file_path in file_paths:  \n",
    "        with open(file_path) as f:\n",
    "            sum_score += int(f.read())\n",
    "    return sum_score"
   ]
  },
  {
   "cell_type": "code",
   "execution_count": 5,
   "metadata": {
    "scrolled": true
   },
   "outputs": [
    {
     "name": "stderr",
     "output_type": "stream",
     "text": [
      "\u001b[32m[I 2021-05-30 07:38:00,138]\u001b[0m Using an existing study with name 'study' instead of creating a new one.\u001b[0m\n",
      "/home/nagis/anaconda3/lib/python3.8/site-packages/optuna/study.py:393: FutureWarning: `n_jobs` argument has been deprecated in v2.7.0. This feature will be removed in v4.0.0. See https://github.com/optuna/optuna/releases/tag/v2.7.0.\n",
      "  warnings.warn(\n"
     ]
    },
    {
     "name": "stdout",
     "output_type": "stream",
     "text": [
      "index_parallel=9\n",
      "index_parallel=8\n",
      "index_parallel=10\n",
      "mkdir: cannot create directory ‘9_out’: File exists\n",
      "mkdir: cannot create directory ‘8_out’: File exists\n",
      "mkdir: cannot create directory ‘10_out’: File exists\n",
      "index_parallel=11\n",
      "mkdir: cannot create directory ‘11_out’: File exists\n",
      "mkdir: cannot create directory ‘9_score’: File exists\n",
      "mkdir: cannot create directory ‘10_score’: File exists\n",
      "mkdir: cannot create directory ‘8_score’: File exists\n",
      "mkdir: cannot create directory ‘11_score’: File exists\n",
      "rm: cannot remove '9_out/*': No such file or directory\n",
      "rm: cannot remove '10_out/*': No such file or directory\n",
      "rm: cannot remove '8_out/*': No such file or directory\n",
      "rm: cannot remove '11_out/*': No such file or directory\n",
      "sed -i 9_main.cpp -e 's/^constexpr double UCB1_COEF_AT_100 = .*;   \\/\\/ OPTIMIZE \\[1e0, 1e4\\] LOG$/constexpr double UCB1_COEF_AT_100 = 43.99740481272673;   \\/\\/ OPTIMIZE [1e0, 1e4] LOG/' -e 's/^constexpr double UCB1_EPS = .*;          \\/\\/ OPTIMIZE \\[1e-3, 1e1\\] LOG$/constexpr double UCB1_EPS = 0.006005082963701309;          \\/\\/ OPTIMIZE [1e-3, 1e1] LOG/' -e 's/^constexpr double UCB1_DECAY_RATE_TMP = .*;           \\/\\/ OPTIMIZE \\[1e-5, 0\\.1\\] LOG$/constexpr double UCB1_DECAY_RATE_TMP = 0.001056193138039902;           \\/\\/ OPTIMIZE [1e-5, 0.1] LOG/' -e 's/^constexpr double TURNING_COST_AT_100 = .*;           \\/\\/ OPTIMIZE \\[1000\\.0, 1e5\\]$/constexpr double TURNING_COST_AT_100 = 7034.486380869781;           \\/\\/ OPTIMIZE [1000.0, 1e5]/' -e 's/^constexpr double TURNING_COST_COEF_TMP = .*;           \\/\\/ OPTIMIZE \\[0\\.001, 0\\.1\\] LOG$/constexpr double TURNING_COST_COEF_TMP = 0.0015383107978410066;           \\/\\/ OPTIMIZE [0.001, 0.1] LOG/'\n",
      "sed -i 8_main.cpp -e 's/^constexpr double UCB1_COEF_AT_100 = .*;   \\/\\/ OPTIMIZE \\[1e0, 1e4\\] LOG$/constexpr double UCB1_COEF_AT_100 = 45.866264319583706;   \\/\\/ OPTIMIZE [1e0, 1e4] LOG/' -e 's/^constexpr double UCB1_EPS = .*;          \\/\\/ OPTIMIZE \\[1e-3, 1e1\\] LOG$/constexpr double UCB1_EPS = 0.0010586983724046985;          \\/\\/ OPTIMIZE [1e-3, 1e1] LOG/' -e 's/^constexpr double UCB1_DECAY_RATE_TMP = .*;           \\/\\/ OPTIMIZE \\[1e-5, 0\\.1\\] LOG$/constexpr double UCB1_DECAY_RATE_TMP = 0.001726952300355202;           \\/\\/ OPTIMIZE [1e-5, 0.1] LOG/' -e 's/^constexpr double TURNING_COST_AT_100 = .*;           \\/\\/ OPTIMIZE \\[1000\\.0, 1e5\\]$/constexpr double TURNING_COST_AT_100 = 6125.396780737513;           \\/\\/ OPTIMIZE [1000.0, 1e5]/' -e 's/^constexpr double TURNING_COST_COEF_TMP = .*;           \\/\\/ OPTIMIZE \\[0\\.001, 0\\.1\\] LOG$/constexpr double TURNING_COST_COEF_TMP = 0.0014196841937521524;           \\/\\/ OPTIMIZE [0.001, 0.1] LOG/'\n",
      "sed -i 11_main.cpp -e 's/^constexpr double UCB1_COEF_AT_100 = .*;   \\/\\/ OPTIMIZE \\[1e0, 1e4\\] LOG$/constexpr double UCB1_COEF_AT_100 = 27.942440968219255;   \\/\\/ OPTIMIZE [1e0, 1e4] LOG/' -e 's/^constexpr double UCB1_EPS = .*;          \\/\\/ OPTIMIZE \\[1e-3, 1e1\\] LOG$/constexpr double UCB1_EPS = 0.001004995799683928;          \\/\\/ OPTIMIZE [1e-3, 1e1] LOG/' -e 's/^constexpr double UCB1_DECAY_RATE_TMP = .*;           \\/\\/ OPTIMIZE \\[1e-5, 0\\.1\\] LOG$/constexpr double UCB1_DECAY_RATE_TMP = 0.001998412729347841;           \\/\\/ OPTIMIZE [1e-5, 0.1] LOG/' -e 's/^constexpr double TURNING_COST_AT_100 = .*;           \\/\\/ OPTIMIZE \\[1000\\.0, 1e5\\]$/constexpr double TURNING_COST_AT_100 = 5903.4595045932865;           \\/\\/ OPTIMIZE [1000.0, 1e5]/' -e 's/^constexpr double TURNING_COST_COEF_TMP = .*;           \\/\\/ OPTIMIZE \\[0\\.001, 0\\.1\\] LOG$/constexpr double TURNING_COST_COEF_TMP = 0.0012064155056540767;           \\/\\/ OPTIMIZE [0.001, 0.1] LOG/'\n",
      "sed -i 10_main.cpp -e 's/^constexpr double UCB1_COEF_AT_100 = .*;   \\/\\/ OPTIMIZE \\[1e0, 1e4\\] LOG$/constexpr double UCB1_COEF_AT_100 = 46.46276110397865;   \\/\\/ OPTIMIZE [1e0, 1e4] LOG/' -e 's/^constexpr double UCB1_EPS = .*;          \\/\\/ OPTIMIZE \\[1e-3, 1e1\\] LOG$/constexpr double UCB1_EPS = 0.0010585341889818346;          \\/\\/ OPTIMIZE [1e-3, 1e1] LOG/' -e 's/^constexpr double UCB1_DECAY_RATE_TMP = .*;           \\/\\/ OPTIMIZE \\[1e-5, 0\\.1\\] LOG$/constexpr double UCB1_DECAY_RATE_TMP = 0.0020177252035207364;           \\/\\/ OPTIMIZE [1e-5, 0.1] LOG/' -e 's/^constexpr double TURNING_COST_AT_100 = .*;           \\/\\/ OPTIMIZE \\[1000\\.0, 1e5\\]$/constexpr double TURNING_COST_AT_100 = 6332.7777894729825;           \\/\\/ OPTIMIZE [1000.0, 1e5]/' -e 's/^constexpr double TURNING_COST_COEF_TMP = .*;           \\/\\/ OPTIMIZE \\[0\\.001, 0\\.1\\] LOG$/constexpr double TURNING_COST_COEF_TMP = 0.0014907797062202305;           \\/\\/ OPTIMIZE [0.001, 0.1] LOG/'\n",
      "g++ 9_main.cpp -std=gnu++17 -O2 -DONLINE_JUDGE -o 9_main.cpp.out 2> /dev/null\n",
      "g++ 8_main.cpp -std=gnu++17 -O2 -DONLINE_JUDGE -o 8_main.cpp.out 2> /dev/null\n",
      "g++ 11_main.cpp -std=gnu++17 -O2 -DONLINE_JUDGE -o 11_main.cpp.out 2> /dev/null\n",
      "g++ 10_main.cpp -std=gnu++17 -O2 -DONLINE_JUDGE -o 10_main.cpp.out 2> /dev/null\n"
     ]
    },
    {
     "name": "stderr",
     "output_type": "stream",
     "text": [
      "\u001b[32m[I 2021-05-30 07:41:58,024]\u001b[0m Trial 83 finished with value: 480239116157.0 and parameters: {'UCB1_COEF_AT_100': 27.942440968219255, 'UCB1_EPS': 0.001004995799683928, 'UCB1_DECAY_RATE_TMP': 0.001998412729347841, 'TURNING_COST_AT_100': 5903.4595045932865, 'TURNING_COST_COEF_TMP': 0.0012064155056540767}. Best is trial 65 with value: 486361088993.0.\u001b[0m\n"
     ]
    },
    {
     "name": "stdout",
     "output_type": "stream",
     "text": [
      "callback ok\n",
      "index_parallel=0\n",
      "mkdir: cannot create directory ‘0_out’: File exists\n",
      "mkdir: cannot create directory ‘0_score’: File exists\n"
     ]
    },
    {
     "name": "stderr",
     "output_type": "stream",
     "text": [
      "\u001b[32m[I 2021-05-30 07:41:58,209]\u001b[0m Trial 81 finished with value: 479954720043.0 and parameters: {'UCB1_COEF_AT_100': 43.99740481272673, 'UCB1_EPS': 0.006005082963701309, 'UCB1_DECAY_RATE_TMP': 0.001056193138039902, 'TURNING_COST_AT_100': 7034.486380869781, 'TURNING_COST_COEF_TMP': 0.0015383107978410066}. Best is trial 65 with value: 486361088993.0.\u001b[0m\n"
     ]
    },
    {
     "name": "stdout",
     "output_type": "stream",
     "text": [
      "callback ok\n",
      "index_parallel=1\n",
      "mkdir: cannot create directory ‘1_out’: File exists\n",
      "rm: cannot remove '0_out/*': No such file or directory\n",
      "mkdir: cannot create directory ‘1_score’: File exists\n",
      "rm: cannot remove '1_out/*': No such file or directory\n"
     ]
    },
    {
     "name": "stderr",
     "output_type": "stream",
     "text": [
      "\u001b[32m[I 2021-05-30 07:41:58,655]\u001b[0m Trial 82 finished with value: 480814435534.0 and parameters: {'UCB1_COEF_AT_100': 46.46276110397865, 'UCB1_EPS': 0.0010585341889818346, 'UCB1_DECAY_RATE_TMP': 0.0020177252035207364, 'TURNING_COST_AT_100': 6332.7777894729825, 'TURNING_COST_COEF_TMP': 0.0014907797062202305}. Best is trial 65 with value: 486361088993.0.\u001b[0m\n"
     ]
    },
    {
     "name": "stdout",
     "output_type": "stream",
     "text": [
      "callback ok\n",
      "index_parallel=2\n",
      "mkdir: cannot create directory ‘2_out’: File exists\n"
     ]
    },
    {
     "name": "stderr",
     "output_type": "stream",
     "text": [
      "\u001b[32m[I 2021-05-30 07:41:58,740]\u001b[0m Trial 80 finished with value: 480697028765.0 and parameters: {'UCB1_COEF_AT_100': 45.866264319583706, 'UCB1_EPS': 0.0010586983724046985, 'UCB1_DECAY_RATE_TMP': 0.001726952300355202, 'TURNING_COST_AT_100': 6125.396780737513, 'TURNING_COST_COEF_TMP': 0.0014196841937521524}. Best is trial 65 with value: 486361088993.0.\u001b[0m\n"
     ]
    },
    {
     "name": "stdout",
     "output_type": "stream",
     "text": [
      "callback ok\n",
      "index_parallel=3\n",
      "mkdir: cannot create directory ‘3_out’: File exists\n",
      "mkdir: cannot create directory ‘2_score’: File exists\n",
      "mkdir: cannot create directory ‘3_score’: File exists\n",
      "rm: cannot remove '2_out/*': No such file or directory\n",
      "rm: cannot remove '3_out/*': No such file or directory\n",
      "sed -i 0_main.cpp -e 's/^constexpr double UCB1_COEF_AT_100 = .*;   \\/\\/ OPTIMIZE \\[1e0, 1e4\\] LOG$/constexpr double UCB1_COEF_AT_100 = 131.28121466551843;   \\/\\/ OPTIMIZE [1e0, 1e4] LOG/' -e 's/^constexpr double UCB1_EPS = .*;          \\/\\/ OPTIMIZE \\[1e-3, 1e1\\] LOG$/constexpr double UCB1_EPS = 0.0019352064506812981;          \\/\\/ OPTIMIZE [1e-3, 1e1] LOG/' -e 's/^constexpr double UCB1_DECAY_RATE_TMP = .*;           \\/\\/ OPTIMIZE \\[1e-5, 0\\.1\\] LOG$/constexpr double UCB1_DECAY_RATE_TMP = 0.005173544328691323;           \\/\\/ OPTIMIZE [1e-5, 0.1] LOG/' -e 's/^constexpr double TURNING_COST_AT_100 = .*;           \\/\\/ OPTIMIZE \\[1000\\.0, 1e5\\]$/constexpr double TURNING_COST_AT_100 = 10761.427459851902;           \\/\\/ OPTIMIZE [1000.0, 1e5]/' -e 's/^constexpr double TURNING_COST_COEF_TMP = .*;           \\/\\/ OPTIMIZE \\[0\\.001, 0\\.1\\] LOG$/constexpr double TURNING_COST_COEF_TMP = 0.008569200817312602;           \\/\\/ OPTIMIZE [0.001, 0.1] LOG/'\n",
      "g++ 0_main.cpp -std=gnu++17 -O2 -DONLINE_JUDGE -o 0_main.cpp.out 2> /dev/null\n",
      "sed -i 1_main.cpp -e 's/^constexpr double UCB1_COEF_AT_100 = .*;   \\/\\/ OPTIMIZE \\[1e0, 1e4\\] LOG$/constexpr double UCB1_COEF_AT_100 = 127.91148016392142;   \\/\\/ OPTIMIZE [1e0, 1e4] LOG/' -e 's/^constexpr double UCB1_EPS = .*;          \\/\\/ OPTIMIZE \\[1e-3, 1e1\\] LOG$/constexpr double UCB1_EPS = 0.0026981227324971136;          \\/\\/ OPTIMIZE [1e-3, 1e1] LOG/' -e 's/^constexpr double UCB1_DECAY_RATE_TMP = .*;           \\/\\/ OPTIMIZE \\[1e-5, 0\\.1\\] LOG$/constexpr double UCB1_DECAY_RATE_TMP = 1.0191771672551201e-05;           \\/\\/ OPTIMIZE [1e-5, 0.1] LOG/' -e 's/^constexpr double TURNING_COST_AT_100 = .*;           \\/\\/ OPTIMIZE \\[1000\\.0, 1e5\\]$/constexpr double TURNING_COST_AT_100 = 10324.635037144362;           \\/\\/ OPTIMIZE [1000.0, 1e5]/' -e 's/^constexpr double TURNING_COST_COEF_TMP = .*;           \\/\\/ OPTIMIZE \\[0\\.001, 0\\.1\\] LOG$/constexpr double TURNING_COST_COEF_TMP = 0.008110442881458915;           \\/\\/ OPTIMIZE [0.001, 0.1] LOG/'\n",
      "g++ 1_main.cpp -std=gnu++17 -O2 -DONLINE_JUDGE -o 1_main.cpp.out 2> /dev/null\n",
      "sed -i 2_main.cpp -e 's/^constexpr double UCB1_COEF_AT_100 = .*;   \\/\\/ OPTIMIZE \\[1e0, 1e4\\] LOG$/constexpr double UCB1_COEF_AT_100 = 134.63190676713972;   \\/\\/ OPTIMIZE [1e0, 1e4] LOG/' -e 's/^constexpr double UCB1_EPS = .*;          \\/\\/ OPTIMIZE \\[1e-3, 1e1\\] LOG$/constexpr double UCB1_EPS = 0.002639992456714807;          \\/\\/ OPTIMIZE [1e-3, 1e1] LOG/' -e 's/^constexpr double UCB1_DECAY_RATE_TMP = .*;           \\/\\/ OPTIMIZE \\[1e-5, 0\\.1\\] LOG$/constexpr double UCB1_DECAY_RATE_TMP = 0.007057774206238415;           \\/\\/ OPTIMIZE [1e-5, 0.1] LOG/' -e 's/^constexpr double TURNING_COST_AT_100 = .*;           \\/\\/ OPTIMIZE \\[1000\\.0, 1e5\\]$/constexpr double TURNING_COST_AT_100 = 10579.742429205682;           \\/\\/ OPTIMIZE [1000.0, 1e5]/' -e 's/^constexpr double TURNING_COST_COEF_TMP = .*;           \\/\\/ OPTIMIZE \\[0\\.001, 0\\.1\\] LOG$/constexpr double TURNING_COST_COEF_TMP = 0.006796235968915101;           \\/\\/ OPTIMIZE [0.001, 0.1] LOG/'\n",
      "sed -i 3_main.cpp -e 's/^constexpr double UCB1_COEF_AT_100 = .*;   \\/\\/ OPTIMIZE \\[1e0, 1e4\\] LOG$/constexpr double UCB1_COEF_AT_100 = 120.96111030294674;   \\/\\/ OPTIMIZE [1e0, 1e4] LOG/' -e 's/^constexpr double UCB1_EPS = .*;          \\/\\/ OPTIMIZE \\[1e-3, 1e1\\] LOG$/constexpr double UCB1_EPS = 0.002071378224124841;          \\/\\/ OPTIMIZE [1e-3, 1e1] LOG/' -e 's/^constexpr double UCB1_DECAY_RATE_TMP = .*;           \\/\\/ OPTIMIZE \\[1e-5, 0\\.1\\] LOG$/constexpr double UCB1_DECAY_RATE_TMP = 1.1046457266769766e-05;           \\/\\/ OPTIMIZE [1e-5, 0.1] LOG/' -e 's/^constexpr double TURNING_COST_AT_100 = .*;           \\/\\/ OPTIMIZE \\[1000\\.0, 1e5\\]$/constexpr double TURNING_COST_AT_100 = 10939.946343672169;           \\/\\/ OPTIMIZE [1000.0, 1e5]/' -e 's/^constexpr double TURNING_COST_COEF_TMP = .*;           \\/\\/ OPTIMIZE \\[0\\.001, 0\\.1\\] LOG$/constexpr double TURNING_COST_COEF_TMP = 0.0034085843234721524;           \\/\\/ OPTIMIZE [0.001, 0.1] LOG/'\n",
      "g++ 2_main.cpp -std=gnu++17 -O2 -DONLINE_JUDGE -o 2_main.cpp.out 2> /dev/null\n",
      "g++ 3_main.cpp -std=gnu++17 -O2 -DONLINE_JUDGE -o 3_main.cpp.out 2> /dev/null\n"
     ]
    },
    {
     "name": "stderr",
     "output_type": "stream",
     "text": [
      "\u001b[32m[I 2021-05-30 07:45:51,375]\u001b[0m Trial 87 finished with value: 481296242958.0 and parameters: {'UCB1_COEF_AT_100': 120.96111030294674, 'UCB1_EPS': 0.002071378224124841, 'UCB1_DECAY_RATE_TMP': 1.1046457266769766e-05, 'TURNING_COST_AT_100': 10939.946343672169, 'TURNING_COST_COEF_TMP': 0.0034085843234721524}. Best is trial 65 with value: 486361088993.0.\u001b[0m\n"
     ]
    },
    {
     "name": "stdout",
     "output_type": "stream",
     "text": [
      "callback ok\n",
      "index_parallel=4\n",
      "mkdir: cannot create directory ‘4_out’: File exists\n",
      "mkdir: cannot create directory ‘4_score’: File exists\n",
      "rm: cannot remove '4_out/*': No such file or directory\n"
     ]
    },
    {
     "name": "stderr",
     "output_type": "stream",
     "text": [
      "\u001b[32m[I 2021-05-30 07:45:52,048]\u001b[0m Trial 86 finished with value: 485052804854.0 and parameters: {'UCB1_COEF_AT_100': 134.63190676713972, 'UCB1_EPS': 0.002639992456714807, 'UCB1_DECAY_RATE_TMP': 0.007057774206238415, 'TURNING_COST_AT_100': 10579.742429205682, 'TURNING_COST_COEF_TMP': 0.006796235968915101}. Best is trial 65 with value: 486361088993.0.\u001b[0m\n"
     ]
    },
    {
     "name": "stdout",
     "output_type": "stream",
     "text": [
      "callback ok\n",
      "index_parallel=5\n",
      "mkdir: cannot create directory ‘5_out’: File exists\n",
      "mkdir: cannot create directory ‘5_score’: File exists\n",
      "rm: cannot remove '5_out/*': No such file or directory\n"
     ]
    },
    {
     "name": "stderr",
     "output_type": "stream",
     "text": [
      "\u001b[32m[I 2021-05-30 07:45:52,357]\u001b[0m Trial 84 finished with value: 485312941693.0 and parameters: {'UCB1_COEF_AT_100': 131.28121466551843, 'UCB1_EPS': 0.0019352064506812981, 'UCB1_DECAY_RATE_TMP': 0.005173544328691323, 'TURNING_COST_AT_100': 10761.427459851902, 'TURNING_COST_COEF_TMP': 0.008569200817312602}. Best is trial 65 with value: 486361088993.0.\u001b[0m\n"
     ]
    },
    {
     "name": "stdout",
     "output_type": "stream",
     "text": [
      "callback ok\n",
      "index_parallel=6\n",
      "mkdir: cannot create directory ‘6_out’: File exists\n"
     ]
    },
    {
     "name": "stderr",
     "output_type": "stream",
     "text": [
      "\u001b[32m[I 2021-05-30 07:45:52,491]\u001b[0m Trial 85 finished with value: 484579593347.0 and parameters: {'UCB1_COEF_AT_100': 127.91148016392142, 'UCB1_EPS': 0.0026981227324971136, 'UCB1_DECAY_RATE_TMP': 1.0191771672551201e-05, 'TURNING_COST_AT_100': 10324.635037144362, 'TURNING_COST_COEF_TMP': 0.008110442881458915}. Best is trial 65 with value: 486361088993.0.\u001b[0m\n"
     ]
    },
    {
     "name": "stdout",
     "output_type": "stream",
     "text": [
      "sed -i 4_main.cpp -e 's/^constexpr double UCB1_COEF_AT_100 = .*;   \\/\\/ OPTIMIZE \\[1e0, 1e4\\] LOG$/constexpr double UCB1_COEF_AT_100 = 66.32173663234116;   \\/\\/ OPTIMIZE [1e0, 1e4] LOG/' -e 's/^constexpr double UCB1_EPS = .*;          \\/\\/ OPTIMIZE \\[1e-3, 1e1\\] LOG$/constexpr double UCB1_EPS = 0.0236563171728094;          \\/\\/ OPTIMIZE [1e-3, 1e1] LOG/' -e 's/^constexpr double UCB1_DECAY_RATE_TMP = .*;           \\/\\/ OPTIMIZE \\[1e-5, 0\\.1\\] LOG$/constexpr double UCB1_DECAY_RATE_TMP = 0.00013123425532892856;           \\/\\/ OPTIMIZE [1e-5, 0.1] LOG/' -e 's/^constexpr double TURNING_COST_AT_100 = .*;           \\/\\/ OPTIMIZE \\[1000\\.0, 1e5\\]$/constexpr double TURNING_COST_AT_100 = 3489.390337113332;           \\/\\/ OPTIMIZE [1000.0, 1e5]/' -e 's/^constexpr double TURNING_COST_COEF_TMP = .*;           \\/\\/ OPTIMIZE \\[0\\.001, 0\\.1\\] LOG$/constexpr double TURNING_COST_COEF_TMP = 0.0047800467428926515;           \\/\\/ OPTIMIZE [0.001, 0.1] LOG/'\n",
      "callback ok\n",
      "index_parallel=7\n",
      "mkdir: cannot create directory ‘7_out’: File exists\n",
      "mkdir: cannot create directory ‘6_score’: File exists\n",
      "g++ 4_main.cpp -std=gnu++17 -O2 -DONLINE_JUDGE -o 4_main.cpp.out 2> /dev/null\n",
      "mkdir: cannot create directory ‘7_score’: File exists\n",
      "rm: cannot remove '6_out/*': No such file or directory\n",
      "rm: cannot remove '7_out/*': No such file or directory\n",
      "sed -i 5_main.cpp -e 's/^constexpr double UCB1_COEF_AT_100 = .*;   \\/\\/ OPTIMIZE \\[1e0, 1e4\\] LOG$/constexpr double UCB1_COEF_AT_100 = 80.3896534164896;   \\/\\/ OPTIMIZE [1e0, 1e4] LOG/' -e 's/^constexpr double UCB1_EPS = .*;          \\/\\/ OPTIMIZE \\[1e-3, 1e1\\] LOG$/constexpr double UCB1_EPS = 0.0055933576804754245;          \\/\\/ OPTIMIZE [1e-3, 1e1] LOG/' -e 's/^constexpr double UCB1_DECAY_RATE_TMP = .*;           \\/\\/ OPTIMIZE \\[1e-5, 0\\.1\\] LOG$/constexpr double UCB1_DECAY_RATE_TMP = 0.00012836411036467024;           \\/\\/ OPTIMIZE [1e-5, 0.1] LOG/' -e 's/^constexpr double TURNING_COST_AT_100 = .*;           \\/\\/ OPTIMIZE \\[1000\\.0, 1e5\\]$/constexpr double TURNING_COST_AT_100 = 4240.714606724043;           \\/\\/ OPTIMIZE [1000.0, 1e5]/' -e 's/^constexpr double TURNING_COST_COEF_TMP = .*;           \\/\\/ OPTIMIZE \\[0\\.001, 0\\.1\\] LOG$/constexpr double TURNING_COST_COEF_TMP = 0.0025230623781612805;           \\/\\/ OPTIMIZE [0.001, 0.1] LOG/'\n",
      "g++ 5_main.cpp -std=gnu++17 -O2 -DONLINE_JUDGE -o 5_main.cpp.out 2> /dev/null\n",
      "sed -i 6_main.cpp -e 's/^constexpr double UCB1_COEF_AT_100 = .*;   \\/\\/ OPTIMIZE \\[1e0, 1e4\\] LOG$/constexpr double UCB1_COEF_AT_100 = 71.56704200008487;   \\/\\/ OPTIMIZE [1e0, 1e4] LOG/' -e 's/^constexpr double UCB1_EPS = .*;          \\/\\/ OPTIMIZE \\[1e-3, 1e1\\] LOG$/constexpr double UCB1_EPS = 0.0223403356865639;          \\/\\/ OPTIMIZE [1e-3, 1e1] LOG/' -e 's/^constexpr double UCB1_DECAY_RATE_TMP = .*;           \\/\\/ OPTIMIZE \\[1e-5, 0\\.1\\] LOG$/constexpr double UCB1_DECAY_RATE_TMP = 0.0001429076107083018;           \\/\\/ OPTIMIZE [1e-5, 0.1] LOG/' -e 's/^constexpr double TURNING_COST_AT_100 = .*;           \\/\\/ OPTIMIZE \\[1000\\.0, 1e5\\]$/constexpr double TURNING_COST_AT_100 = 1830.1888926900597;           \\/\\/ OPTIMIZE [1000.0, 1e5]/' -e 's/^constexpr double TURNING_COST_COEF_TMP = .*;           \\/\\/ OPTIMIZE \\[0\\.001, 0\\.1\\] LOG$/constexpr double TURNING_COST_COEF_TMP = 0.004619749537466404;           \\/\\/ OPTIMIZE [0.001, 0.1] LOG/'\n",
      "sed -i 7_main.cpp -e 's/^constexpr double UCB1_COEF_AT_100 = .*;   \\/\\/ OPTIMIZE \\[1e0, 1e4\\] LOG$/constexpr double UCB1_COEF_AT_100 = 77.81481506690139;   \\/\\/ OPTIMIZE [1e0, 1e4] LOG/' -e 's/^constexpr double UCB1_EPS = .*;          \\/\\/ OPTIMIZE \\[1e-3, 1e1\\] LOG$/constexpr double UCB1_EPS = 0.005797183254131053;          \\/\\/ OPTIMIZE [1e-3, 1e1] LOG/' -e 's/^constexpr double UCB1_DECAY_RATE_TMP = .*;           \\/\\/ OPTIMIZE \\[1e-5, 0\\.1\\] LOG$/constexpr double UCB1_DECAY_RATE_TMP = 0.000853823972529897;           \\/\\/ OPTIMIZE [1e-5, 0.1] LOG/' -e 's/^constexpr double TURNING_COST_AT_100 = .*;           \\/\\/ OPTIMIZE \\[1000\\.0, 1e5\\]$/constexpr double TURNING_COST_AT_100 = 1480.9791984528138;           \\/\\/ OPTIMIZE [1000.0, 1e5]/' -e 's/^constexpr double TURNING_COST_COEF_TMP = .*;           \\/\\/ OPTIMIZE \\[0\\.001, 0\\.1\\] LOG$/constexpr double TURNING_COST_COEF_TMP = 0.002534721641233063;           \\/\\/ OPTIMIZE [0.001, 0.1] LOG/'\n",
      "g++ 6_main.cpp -std=gnu++17 -O2 -DONLINE_JUDGE -o 6_main.cpp.out 2> /dev/null\n",
      "g++ 7_main.cpp -std=gnu++17 -O2 -DONLINE_JUDGE -o 7_main.cpp.out 2> /dev/null\n"
     ]
    },
    {
     "name": "stderr",
     "output_type": "stream",
     "text": [
      "\u001b[32m[I 2021-05-30 07:49:43,962]\u001b[0m Trial 88 finished with value: 485722895255.0 and parameters: {'UCB1_COEF_AT_100': 66.32173663234116, 'UCB1_EPS': 0.0236563171728094, 'UCB1_DECAY_RATE_TMP': 0.00013123425532892856, 'TURNING_COST_AT_100': 3489.390337113332, 'TURNING_COST_COEF_TMP': 0.0047800467428926515}. Best is trial 65 with value: 486361088993.0.\u001b[0m\n",
      "\u001b[32m[I 2021-05-30 07:49:43,977]\u001b[0m Trial 89 finished with value: 484941833157.0 and parameters: {'UCB1_COEF_AT_100': 80.3896534164896, 'UCB1_EPS': 0.0055933576804754245, 'UCB1_DECAY_RATE_TMP': 0.00012836411036467024, 'TURNING_COST_AT_100': 4240.714606724043, 'TURNING_COST_COEF_TMP': 0.0025230623781612805}. Best is trial 65 with value: 486361088993.0.\u001b[0m\n"
     ]
    },
    {
     "name": "stdout",
     "output_type": "stream",
     "text": [
      "callback ok\n",
      "index_parallel=8\n",
      "callback ok\n",
      "mkdir: cannot create directory ‘8_out’: File exists\n",
      "index_parallel=9\n",
      "mkdir: cannot create directory ‘9_out’: File exists\n",
      "mkdir: cannot create directory ‘8_score’: File exists\n",
      "mkdir: cannot create directory ‘9_score’: File exists\n",
      "rm: cannot remove '8_out/*': No such file or directory\n",
      "rm: cannot remove '9_out/*': No such file or directory\n",
      "sed -i 8_main.cpp -e 's/^constexpr double UCB1_COEF_AT_100 = .*;   \\/\\/ OPTIMIZE \\[1e0, 1e4\\] LOG$/constexpr double UCB1_COEF_AT_100 = 29.713749351006665;   \\/\\/ OPTIMIZE [1e0, 1e4] LOG/' -e 's/^constexpr double UCB1_EPS = .*;          \\/\\/ OPTIMIZE \\[1e-3, 1e1\\] LOG$/constexpr double UCB1_EPS = 0.006024262329087368;          \\/\\/ OPTIMIZE [1e-3, 1e1] LOG/' -e 's/^constexpr double UCB1_DECAY_RATE_TMP = .*;           \\/\\/ OPTIMIZE \\[1e-5, 0\\.1\\] LOG$/constexpr double UCB1_DECAY_RATE_TMP = 0.00038305971497964455;           \\/\\/ OPTIMIZE [1e-5, 0.1] LOG/' -e 's/^constexpr double TURNING_COST_AT_100 = .*;           \\/\\/ OPTIMIZE \\[1000\\.0, 1e5\\]$/constexpr double TURNING_COST_AT_100 = 44630.86689736669;           \\/\\/ OPTIMIZE [1000.0, 1e5]/' -e 's/^constexpr double TURNING_COST_COEF_TMP = .*;           \\/\\/ OPTIMIZE \\[0\\.001, 0\\.1\\] LOG$/constexpr double TURNING_COST_COEF_TMP = 0.006287647000424843;           \\/\\/ OPTIMIZE [0.001, 0.1] LOG/'\n",
      "sed -i 9_main.cpp -e 's/^constexpr double UCB1_COEF_AT_100 = .*;   \\/\\/ OPTIMIZE \\[1e0, 1e4\\] LOG$/constexpr double UCB1_COEF_AT_100 = 16.310723832148025;   \\/\\/ OPTIMIZE [1e0, 1e4] LOG/' -e 's/^constexpr double UCB1_EPS = .*;          \\/\\/ OPTIMIZE \\[1e-3, 1e1\\] LOG$/constexpr double UCB1_EPS = 0.07936383312270046;          \\/\\/ OPTIMIZE [1e-3, 1e1] LOG/' -e 's/^constexpr double UCB1_DECAY_RATE_TMP = .*;           \\/\\/ OPTIMIZE \\[1e-5, 0\\.1\\] LOG$/constexpr double UCB1_DECAY_RATE_TMP = 0.0008784637750799892;           \\/\\/ OPTIMIZE [1e-5, 0.1] LOG/' -e 's/^constexpr double TURNING_COST_AT_100 = .*;           \\/\\/ OPTIMIZE \\[1000\\.0, 1e5\\]$/constexpr double TURNING_COST_AT_100 = 1415.002798003225;           \\/\\/ OPTIMIZE [1000.0, 1e5]/' -e 's/^constexpr double TURNING_COST_COEF_TMP = .*;           \\/\\/ OPTIMIZE \\[0\\.001, 0\\.1\\] LOG$/constexpr double TURNING_COST_COEF_TMP = 0.0031996239404837273;           \\/\\/ OPTIMIZE [0.001, 0.1] LOG/'\n",
      "g++ 8_main.cpp -std=gnu++17 -O2 -DONLINE_JUDGE -o 8_main.cpp.out 2> /dev/null\n",
      "g++ 9_main.cpp -std=gnu++17 -O2 -DONLINE_JUDGE -o 9_main.cpp.out 2> /dev/null\n"
     ]
    },
    {
     "name": "stderr",
     "output_type": "stream",
     "text": [
      "\u001b[32m[I 2021-05-30 07:49:45,482]\u001b[0m Trial 90 finished with value: 485897275912.0 and parameters: {'UCB1_COEF_AT_100': 71.56704200008487, 'UCB1_EPS': 0.0223403356865639, 'UCB1_DECAY_RATE_TMP': 0.0001429076107083018, 'TURNING_COST_AT_100': 1830.1888926900597, 'TURNING_COST_COEF_TMP': 0.004619749537466404}. Best is trial 65 with value: 486361088993.0.\u001b[0m\n"
     ]
    },
    {
     "name": "stdout",
     "output_type": "stream",
     "text": [
      "callback ok\n",
      "index_parallel=10\n",
      "mkdir: cannot create directory ‘10_out’: File exists\n",
      "mkdir: cannot create directory ‘10_score’: File exists\n",
      "rm: cannot remove '10_out/*': No such file or directory\n",
      "sed -i 10_main.cpp -e 's/^constexpr double UCB1_COEF_AT_100 = .*;   \\/\\/ OPTIMIZE \\[1e0, 1e4\\] LOG$/constexpr double UCB1_COEF_AT_100 = 16.01715013026561;   \\/\\/ OPTIMIZE [1e0, 1e4] LOG/' -e 's/^constexpr double UCB1_EPS = .*;          \\/\\/ OPTIMIZE \\[1e-3, 1e1\\] LOG$/constexpr double UCB1_EPS = 0.036925817602736985;          \\/\\/ OPTIMIZE [1e-3, 1e1] LOG/' -e 's/^constexpr double UCB1_DECAY_RATE_TMP = .*;           \\/\\/ OPTIMIZE \\[1e-5, 0\\.1\\] LOG$/constexpr double UCB1_DECAY_RATE_TMP = 0.00037937897749836837;           \\/\\/ OPTIMIZE [1e-5, 0.1] LOG/' -e 's/^constexpr double TURNING_COST_AT_100 = .*;           \\/\\/ OPTIMIZE \\[1000\\.0, 1e5\\]$/constexpr double TURNING_COST_AT_100 = 1198.598263284434;           \\/\\/ OPTIMIZE [1000.0, 1e5]/' -e 's/^constexpr double TURNING_COST_COEF_TMP = .*;           \\/\\/ OPTIMIZE \\[0\\.001, 0\\.1\\] LOG$/constexpr double TURNING_COST_COEF_TMP = 0.006610695260671097;           \\/\\/ OPTIMIZE [0.001, 0.1] LOG/'\n",
      "g++ 10_main.cpp -std=gnu++17 -O2 -DONLINE_JUDGE -o 10_main.cpp.out 2> /dev/null\n"
     ]
    },
    {
     "name": "stderr",
     "output_type": "stream",
     "text": [
      "\u001b[32m[I 2021-05-30 07:49:46,705]\u001b[0m Trial 91 finished with value: 486404013439.0 and parameters: {'UCB1_COEF_AT_100': 77.81481506690139, 'UCB1_EPS': 0.005797183254131053, 'UCB1_DECAY_RATE_TMP': 0.000853823972529897, 'TURNING_COST_AT_100': 1480.9791984528138, 'TURNING_COST_COEF_TMP': 0.002534721641233063}. Best is trial 91 with value: 486404013439.0.\u001b[0m\n"
     ]
    },
    {
     "name": "stdout",
     "output_type": "stream",
     "text": [
      "Updated! 486404013439.0\n",
      "callback ok\n",
      "index_parallel=11\n",
      "mkdir: cannot create directory ‘11_out’: File exists\n",
      "mkdir: cannot create directory ‘11_score’: File exists\n",
      "rm: cannot remove '11_out/*': No such file or directory\n",
      "sed -i 11_main.cpp -e 's/^constexpr double UCB1_COEF_AT_100 = .*;   \\/\\/ OPTIMIZE \\[1e0, 1e4\\] LOG$/constexpr double UCB1_COEF_AT_100 = 91.68549422011513;   \\/\\/ OPTIMIZE [1e0, 1e4] LOG/' -e 's/^constexpr double UCB1_EPS = .*;          \\/\\/ OPTIMIZE \\[1e-3, 1e1\\] LOG$/constexpr double UCB1_EPS = 0.005890127976752991;          \\/\\/ OPTIMIZE [1e-3, 1e1] LOG/' -e 's/^constexpr double UCB1_DECAY_RATE_TMP = .*;           \\/\\/ OPTIMIZE \\[1e-5, 0\\.1\\] LOG$/constexpr double UCB1_DECAY_RATE_TMP = 0.000782890718720332;           \\/\\/ OPTIMIZE [1e-5, 0.1] LOG/' -e 's/^constexpr double TURNING_COST_AT_100 = .*;           \\/\\/ OPTIMIZE \\[1000\\.0, 1e5\\]$/constexpr double TURNING_COST_AT_100 = 7962.843710499546;           \\/\\/ OPTIMIZE [1000.0, 1e5]/' -e 's/^constexpr double TURNING_COST_COEF_TMP = .*;           \\/\\/ OPTIMIZE \\[0\\.001, 0\\.1\\] LOG$/constexpr double TURNING_COST_COEF_TMP = 0.00618461789846054;           \\/\\/ OPTIMIZE [0.001, 0.1] LOG/'\n",
      "g++ 11_main.cpp -std=gnu++17 -O2 -DONLINE_JUDGE -o 11_main.cpp.out 2> /dev/null\n"
     ]
    },
    {
     "name": "stderr",
     "output_type": "stream",
     "text": [
      "\u001b[32m[I 2021-05-30 07:53:31,345]\u001b[0m Trial 92 finished with value: 477414265278.0 and parameters: {'UCB1_COEF_AT_100': 29.713749351006665, 'UCB1_EPS': 0.006024262329087368, 'UCB1_DECAY_RATE_TMP': 0.00038305971497964455, 'TURNING_COST_AT_100': 44630.86689736669, 'TURNING_COST_COEF_TMP': 0.006287647000424843}. Best is trial 91 with value: 486404013439.0.\u001b[0m\n"
     ]
    },
    {
     "name": "stdout",
     "output_type": "stream",
     "text": [
      "callback ok\n",
      "index_parallel=0\n",
      "mkdir: cannot create directory ‘0_out’: File exists\n",
      "mkdir: cannot create directory ‘0_score’: File exists\n",
      "rm: cannot remove '0_out/*': No such file or directory\n",
      "sed -i 0_main.cpp -e 's/^constexpr double UCB1_COEF_AT_100 = .*;   \\/\\/ OPTIMIZE \\[1e0, 1e4\\] LOG$/constexpr double UCB1_COEF_AT_100 = 16.283978657221446;   \\/\\/ OPTIMIZE [1e0, 1e4] LOG/' -e 's/^constexpr double UCB1_EPS = .*;          \\/\\/ OPTIMIZE \\[1e-3, 1e1\\] LOG$/constexpr double UCB1_EPS = 0.00135983597111357;          \\/\\/ OPTIMIZE [1e-3, 1e1] LOG/' -e 's/^constexpr double UCB1_DECAY_RATE_TMP = .*;           \\/\\/ OPTIMIZE \\[1e-5, 0\\.1\\] LOG$/constexpr double UCB1_DECAY_RATE_TMP = 0.0005897912947864712;           \\/\\/ OPTIMIZE [1e-5, 0.1] LOG/' -e 's/^constexpr double TURNING_COST_AT_100 = .*;           \\/\\/ OPTIMIZE \\[1000\\.0, 1e5\\]$/constexpr double TURNING_COST_AT_100 = 1037.2459696708959;           \\/\\/ OPTIMIZE [1000.0, 1e5]/' -e 's/^constexpr double TURNING_COST_COEF_TMP = .*;           \\/\\/ OPTIMIZE \\[0\\.001, 0\\.1\\] LOG$/constexpr double TURNING_COST_COEF_TMP = 0.0018506036121171481;           \\/\\/ OPTIMIZE [0.001, 0.1] LOG/'\n",
      "g++ 0_main.cpp -std=gnu++17 -O2 -DONLINE_JUDGE -o 0_main.cpp.out 2> /dev/null\n"
     ]
    },
    {
     "name": "stderr",
     "output_type": "stream",
     "text": [
      "\u001b[32m[I 2021-05-30 07:53:36,446]\u001b[0m Trial 93 finished with value: 485109607341.0 and parameters: {'UCB1_COEF_AT_100': 16.310723832148025, 'UCB1_EPS': 0.07936383312270046, 'UCB1_DECAY_RATE_TMP': 0.0008784637750799892, 'TURNING_COST_AT_100': 1415.002798003225, 'TURNING_COST_COEF_TMP': 0.0031996239404837273}. Best is trial 91 with value: 486404013439.0.\u001b[0m\n"
     ]
    },
    {
     "name": "stdout",
     "output_type": "stream",
     "text": [
      "callback ok\n",
      "index_parallel=1\n",
      "mkdir: cannot create directory ‘1_out’: File exists\n",
      "mkdir: cannot create directory ‘1_score’: File exists\n",
      "rm: cannot remove '1_out/*': No such file or directory\n",
      "sed -i 1_main.cpp -e 's/^constexpr double UCB1_COEF_AT_100 = .*;   \\/\\/ OPTIMIZE \\[1e0, 1e4\\] LOG$/constexpr double UCB1_COEF_AT_100 = 95.42043706100058;   \\/\\/ OPTIMIZE [1e0, 1e4] LOG/' -e 's/^constexpr double UCB1_EPS = .*;          \\/\\/ OPTIMIZE \\[1e-3, 1e1\\] LOG$/constexpr double UCB1_EPS = 0.011056243511792609;          \\/\\/ OPTIMIZE [1e-3, 1e1] LOG/' -e 's/^constexpr double UCB1_DECAY_RATE_TMP = .*;           \\/\\/ OPTIMIZE \\[1e-5, 0\\.1\\] LOG$/constexpr double UCB1_DECAY_RATE_TMP = 0.0005720452611538126;           \\/\\/ OPTIMIZE [1e-5, 0.1] LOG/' -e 's/^constexpr double TURNING_COST_AT_100 = .*;           \\/\\/ OPTIMIZE \\[1000\\.0, 1e5\\]$/constexpr double TURNING_COST_AT_100 = 7677.770596650567;           \\/\\/ OPTIMIZE [1000.0, 1e5]/' -e 's/^constexpr double TURNING_COST_COEF_TMP = .*;           \\/\\/ OPTIMIZE \\[0\\.001, 0\\.1\\] LOG$/constexpr double TURNING_COST_COEF_TMP = 0.0017625680721676878;           \\/\\/ OPTIMIZE [0.001, 0.1] LOG/'\n",
      "g++ 1_main.cpp -std=gnu++17 -O2 -DONLINE_JUDGE -o 1_main.cpp.out 2> /dev/null\n"
     ]
    },
    {
     "name": "stderr",
     "output_type": "stream",
     "text": [
      "\u001b[32m[I 2021-05-30 07:53:38,818]\u001b[0m Trial 94 finished with value: 484942600286.0 and parameters: {'UCB1_COEF_AT_100': 16.01715013026561, 'UCB1_EPS': 0.036925817602736985, 'UCB1_DECAY_RATE_TMP': 0.00037937897749836837, 'TURNING_COST_AT_100': 1198.598263284434, 'TURNING_COST_COEF_TMP': 0.006610695260671097}. Best is trial 91 with value: 486404013439.0.\u001b[0m\n"
     ]
    },
    {
     "name": "stdout",
     "output_type": "stream",
     "text": [
      "callback ok\n",
      "index_parallel=2\n",
      "mkdir: cannot create directory ‘2_out’: File exists\n",
      "mkdir: cannot create directory ‘2_score’: File exists\n",
      "rm: cannot remove '2_out/*': No such file or directory\n",
      "sed -i 2_main.cpp -e 's/^constexpr double UCB1_COEF_AT_100 = .*;   \\/\\/ OPTIMIZE \\[1e0, 1e4\\] LOG$/constexpr double UCB1_COEF_AT_100 = 100.10988883951893;   \\/\\/ OPTIMIZE [1e0, 1e4] LOG/' -e 's/^constexpr double UCB1_EPS = .*;          \\/\\/ OPTIMIZE \\[1e-3, 1e1\\] LOG$/constexpr double UCB1_EPS = 0.0013438583545330109;          \\/\\/ OPTIMIZE [1e-3, 1e1] LOG/' -e 's/^constexpr double UCB1_DECAY_RATE_TMP = .*;           \\/\\/ OPTIMIZE \\[1e-5, 0\\.1\\] LOG$/constexpr double UCB1_DECAY_RATE_TMP = 0.0012972002780814189;           \\/\\/ OPTIMIZE [1e-5, 0.1] LOG/' -e 's/^constexpr double TURNING_COST_AT_100 = .*;           \\/\\/ OPTIMIZE \\[1000\\.0, 1e5\\]$/constexpr double TURNING_COST_AT_100 = 8363.41078559225;           \\/\\/ OPTIMIZE [1000.0, 1e5]/' -e 's/^constexpr double TURNING_COST_COEF_TMP = .*;           \\/\\/ OPTIMIZE \\[0\\.001, 0\\.1\\] LOG$/constexpr double TURNING_COST_COEF_TMP = 0.0018760212184957812;           \\/\\/ OPTIMIZE [0.001, 0.1] LOG/'\n",
      "g++ 2_main.cpp -std=gnu++17 -O2 -DONLINE_JUDGE -o 2_main.cpp.out 2> /dev/null\n"
     ]
    },
    {
     "name": "stderr",
     "output_type": "stream",
     "text": [
      "\u001b[32m[I 2021-05-30 07:53:40,030]\u001b[0m Trial 95 finished with value: 485671455294.0 and parameters: {'UCB1_COEF_AT_100': 91.68549422011513, 'UCB1_EPS': 0.005890127976752991, 'UCB1_DECAY_RATE_TMP': 0.000782890718720332, 'TURNING_COST_AT_100': 7962.843710499546, 'TURNING_COST_COEF_TMP': 0.00618461789846054}. Best is trial 91 with value: 486404013439.0.\u001b[0m\n"
     ]
    },
    {
     "name": "stdout",
     "output_type": "stream",
     "text": [
      "callback ok\n",
      "index_parallel=3\n",
      "mkdir: cannot create directory ‘3_out’: File exists\n",
      "mkdir: cannot create directory ‘3_score’: File exists\n",
      "rm: cannot remove '3_out/*': No such file or directory\n",
      "sed -i 3_main.cpp -e 's/^constexpr double UCB1_COEF_AT_100 = .*;   \\/\\/ OPTIMIZE \\[1e0, 1e4\\] LOG$/constexpr double UCB1_COEF_AT_100 = 36.14321015615943;   \\/\\/ OPTIMIZE [1e0, 1e4] LOG/' -e 's/^constexpr double UCB1_EPS = .*;          \\/\\/ OPTIMIZE \\[1e-3, 1e1\\] LOG$/constexpr double UCB1_EPS = 0.010357686694975578;          \\/\\/ OPTIMIZE [1e-3, 1e1] LOG/' -e 's/^constexpr double UCB1_DECAY_RATE_TMP = .*;           \\/\\/ OPTIMIZE \\[1e-5, 0\\.1\\] LOG$/constexpr double UCB1_DECAY_RATE_TMP = 0.0005413674631172182;           \\/\\/ OPTIMIZE [1e-5, 0.1] LOG/' -e 's/^constexpr double TURNING_COST_AT_100 = .*;           \\/\\/ OPTIMIZE \\[1000\\.0, 1e5\\]$/constexpr double TURNING_COST_AT_100 = 4724.376373185993;           \\/\\/ OPTIMIZE [1000.0, 1e5]/' -e 's/^constexpr double TURNING_COST_COEF_TMP = .*;           \\/\\/ OPTIMIZE \\[0\\.001, 0\\.1\\] LOG$/constexpr double TURNING_COST_COEF_TMP = 0.001817925683849867;           \\/\\/ OPTIMIZE [0.001, 0.1] LOG/'\n",
      "g++ 3_main.cpp -std=gnu++17 -O2 -DONLINE_JUDGE -o 3_main.cpp.out 2> /dev/null\n"
     ]
    },
    {
     "name": "stderr",
     "output_type": "stream",
     "text": [
      "\u001b[32m[I 2021-05-30 07:57:24,163]\u001b[0m Trial 96 finished with value: 485804142044.0 and parameters: {'UCB1_COEF_AT_100': 16.283978657221446, 'UCB1_EPS': 0.00135983597111357, 'UCB1_DECAY_RATE_TMP': 0.0005897912947864712, 'TURNING_COST_AT_100': 1037.2459696708959, 'TURNING_COST_COEF_TMP': 0.0018506036121171481}. Best is trial 91 with value: 486404013439.0.\u001b[0m\n"
     ]
    },
    {
     "name": "stdout",
     "output_type": "stream",
     "text": [
      "callback ok\n",
      "index_parallel=4\n",
      "mkdir: cannot create directory ‘4_out’: File exists\n",
      "mkdir: cannot create directory ‘4_score’: File exists\n",
      "rm: cannot remove '4_out/*': No such file or directory\n",
      "sed -i 4_main.cpp -e 's/^constexpr double UCB1_COEF_AT_100 = .*;   \\/\\/ OPTIMIZE \\[1e0, 1e4\\] LOG$/constexpr double UCB1_COEF_AT_100 = 53.92241582241217;   \\/\\/ OPTIMIZE [1e0, 1e4] LOG/' -e 's/^constexpr double UCB1_EPS = .*;          \\/\\/ OPTIMIZE \\[1e-3, 1e1\\] LOG$/constexpr double UCB1_EPS = 0.010734321717336395;          \\/\\/ OPTIMIZE [1e-3, 1e1] LOG/' -e 's/^constexpr double UCB1_DECAY_RATE_TMP = .*;           \\/\\/ OPTIMIZE \\[1e-5, 0\\.1\\] LOG$/constexpr double UCB1_DECAY_RATE_TMP = 0.001213025258279821;           \\/\\/ OPTIMIZE [1e-5, 0.1] LOG/' -e 's/^constexpr double TURNING_COST_AT_100 = .*;           \\/\\/ OPTIMIZE \\[1000\\.0, 1e5\\]$/constexpr double TURNING_COST_AT_100 = 4514.701664277517;           \\/\\/ OPTIMIZE [1000.0, 1e5]/' -e 's/^constexpr double TURNING_COST_COEF_TMP = .*;           \\/\\/ OPTIMIZE \\[0\\.001, 0\\.1\\] LOG$/constexpr double TURNING_COST_COEF_TMP = 0.008753382928583993;           \\/\\/ OPTIMIZE [0.001, 0.1] LOG/'\n",
      "g++ 4_main.cpp -std=gnu++17 -O2 -DONLINE_JUDGE -o 4_main.cpp.out 2> /dev/null\n"
     ]
    },
    {
     "name": "stderr",
     "output_type": "stream",
     "text": [
      "\u001b[32m[I 2021-05-30 07:57:25,737]\u001b[0m Trial 97 finished with value: 480169139016.0 and parameters: {'UCB1_COEF_AT_100': 95.42043706100058, 'UCB1_EPS': 0.011056243511792609, 'UCB1_DECAY_RATE_TMP': 0.0005720452611538126, 'TURNING_COST_AT_100': 7677.770596650567, 'TURNING_COST_COEF_TMP': 0.0017625680721676878}. Best is trial 91 with value: 486404013439.0.\u001b[0m\n"
     ]
    },
    {
     "name": "stdout",
     "output_type": "stream",
     "text": [
      "callback ok\n",
      "index_parallel=5\n",
      "mkdir: cannot create directory ‘5_out’: File exists\n",
      "mkdir: cannot create directory ‘5_score’: File exists\n",
      "rm: cannot remove '5_out/*': No such file or directory\n",
      "sed -i 5_main.cpp -e 's/^constexpr double UCB1_COEF_AT_100 = .*;   \\/\\/ OPTIMIZE \\[1e0, 1e4\\] LOG$/constexpr double UCB1_COEF_AT_100 = 51.59335339083552;   \\/\\/ OPTIMIZE [1e0, 1e4] LOG/' -e 's/^constexpr double UCB1_EPS = .*;          \\/\\/ OPTIMIZE \\[1e-3, 1e1\\] LOG$/constexpr double UCB1_EPS = 0.010396638607488648;          \\/\\/ OPTIMIZE [1e-3, 1e1] LOG/' -e 's/^constexpr double UCB1_DECAY_RATE_TMP = .*;           \\/\\/ OPTIMIZE \\[1e-5, 0\\.1\\] LOG$/constexpr double UCB1_DECAY_RATE_TMP = 0.0010264548449503504;           \\/\\/ OPTIMIZE [1e-5, 0.1] LOG/' -e 's/^constexpr double TURNING_COST_AT_100 = .*;           \\/\\/ OPTIMIZE \\[1000\\.0, 1e5\\]$/constexpr double TURNING_COST_AT_100 = 4356.62852414348;           \\/\\/ OPTIMIZE [1000.0, 1e5]/' -e 's/^constexpr double TURNING_COST_COEF_TMP = .*;           \\/\\/ OPTIMIZE \\[0\\.001, 0\\.1\\] LOG$/constexpr double TURNING_COST_COEF_TMP = 0.0027508923806992313;           \\/\\/ OPTIMIZE [0.001, 0.1] LOG/'\n",
      "g++ 5_main.cpp -std=gnu++17 -O2 -DONLINE_JUDGE -o 5_main.cpp.out 2> /dev/null\n"
     ]
    },
    {
     "name": "stderr",
     "output_type": "stream",
     "text": [
      "\u001b[32m[I 2021-05-30 07:57:28,983]\u001b[0m Trial 99 finished with value: 483234178691.0 and parameters: {'UCB1_COEF_AT_100': 36.14321015615943, 'UCB1_EPS': 0.010357686694975578, 'UCB1_DECAY_RATE_TMP': 0.0005413674631172182, 'TURNING_COST_AT_100': 4724.376373185993, 'TURNING_COST_COEF_TMP': 0.001817925683849867}. Best is trial 91 with value: 486404013439.0.\u001b[0m\n"
     ]
    },
    {
     "name": "stdout",
     "output_type": "stream",
     "text": [
      "callback ok\n",
      "index_parallel=6\n",
      "mkdir: cannot create directory ‘6_out’: File exists\n",
      "mkdir: cannot create directory ‘6_score’: File exists\n",
      "rm: cannot remove '6_out/*': No such file or directory\n"
     ]
    },
    {
     "name": "stderr",
     "output_type": "stream",
     "text": [
      "\u001b[32m[I 2021-05-30 07:57:29,691]\u001b[0m Trial 98 finished with value: 479334986426.0 and parameters: {'UCB1_COEF_AT_100': 100.10988883951893, 'UCB1_EPS': 0.0013438583545330109, 'UCB1_DECAY_RATE_TMP': 0.0012972002780814189, 'TURNING_COST_AT_100': 8363.41078559225, 'TURNING_COST_COEF_TMP': 0.0018760212184957812}. Best is trial 91 with value: 486404013439.0.\u001b[0m\n"
     ]
    },
    {
     "name": "stdout",
     "output_type": "stream",
     "text": [
      "callback ok\n",
      "index_parallel=7\n",
      "mkdir: cannot create directory ‘7_out’: File exists\n",
      "mkdir: cannot create directory ‘7_score’: File exists\n",
      "rm: cannot remove '7_out/*': No such file or directory\n",
      "sed -i 6_main.cpp -e 's/^constexpr double UCB1_COEF_AT_100 = .*;   \\/\\/ OPTIMIZE \\[1e0, 1e4\\] LOG$/constexpr double UCB1_COEF_AT_100 = 55.57163504488237;   \\/\\/ OPTIMIZE [1e0, 1e4] LOG/' -e 's/^constexpr double UCB1_EPS = .*;          \\/\\/ OPTIMIZE \\[1e-3, 1e1\\] LOG$/constexpr double UCB1_EPS = 0.0032440944474890683;          \\/\\/ OPTIMIZE [1e-3, 1e1] LOG/' -e 's/^constexpr double UCB1_DECAY_RATE_TMP = .*;           \\/\\/ OPTIMIZE \\[1e-5, 0\\.1\\] LOG$/constexpr double UCB1_DECAY_RATE_TMP = 3.560117503704859e-05;           \\/\\/ OPTIMIZE [1e-5, 0.1] LOG/' -e 's/^constexpr double TURNING_COST_AT_100 = .*;           \\/\\/ OPTIMIZE \\[1000\\.0, 1e5\\]$/constexpr double TURNING_COST_AT_100 = 4516.491938423825;           \\/\\/ OPTIMIZE [1000.0, 1e5]/' -e 's/^constexpr double TURNING_COST_COEF_TMP = .*;           \\/\\/ OPTIMIZE \\[0\\.001, 0\\.1\\] LOG$/constexpr double TURNING_COST_COEF_TMP = 0.0026426899069439116;           \\/\\/ OPTIMIZE [0.001, 0.1] LOG/'\n",
      "g++ 6_main.cpp -std=gnu++17 -O2 -DONLINE_JUDGE -o 6_main.cpp.out 2> /dev/null\n",
      "sed -i 7_main.cpp -e 's/^constexpr double UCB1_COEF_AT_100 = .*;   \\/\\/ OPTIMIZE \\[1e0, 1e4\\] LOG$/constexpr double UCB1_COEF_AT_100 = 54.86019330129631;   \\/\\/ OPTIMIZE [1e0, 1e4] LOG/' -e 's/^constexpr double UCB1_EPS = .*;          \\/\\/ OPTIMIZE \\[1e-3, 1e1\\] LOG$/constexpr double UCB1_EPS = 0.0029139441865467484;          \\/\\/ OPTIMIZE [1e-3, 1e1] LOG/' -e 's/^constexpr double UCB1_DECAY_RATE_TMP = .*;           \\/\\/ OPTIMIZE \\[1e-5, 0\\.1\\] LOG$/constexpr double UCB1_DECAY_RATE_TMP = 0.00024714738421169173;           \\/\\/ OPTIMIZE [1e-5, 0.1] LOG/' -e 's/^constexpr double TURNING_COST_AT_100 = .*;           \\/\\/ OPTIMIZE \\[1000\\.0, 1e5\\]$/constexpr double TURNING_COST_AT_100 = 4189.314980404501;           \\/\\/ OPTIMIZE [1000.0, 1e5]/' -e 's/^constexpr double TURNING_COST_COEF_TMP = .*;           \\/\\/ OPTIMIZE \\[0\\.001, 0\\.1\\] LOG$/constexpr double TURNING_COST_COEF_TMP = 0.0024043731693549493;           \\/\\/ OPTIMIZE [0.001, 0.1] LOG/'\n",
      "g++ 7_main.cpp -std=gnu++17 -O2 -DONLINE_JUDGE -o 7_main.cpp.out 2> /dev/null\n"
     ]
    },
    {
     "name": "stderr",
     "output_type": "stream",
     "text": [
      "\u001b[32m[I 2021-05-30 08:01:15,748]\u001b[0m Trial 101 finished with value: 484939374514.0 and parameters: {'UCB1_COEF_AT_100': 51.59335339083552, 'UCB1_EPS': 0.010396638607488648, 'UCB1_DECAY_RATE_TMP': 0.0010264548449503504, 'TURNING_COST_AT_100': 4356.62852414348, 'TURNING_COST_COEF_TMP': 0.0027508923806992313}. Best is trial 91 with value: 486404013439.0.\u001b[0m\n"
     ]
    },
    {
     "name": "stdout",
     "output_type": "stream",
     "text": [
      "callback ok\n",
      "index_parallel=8\n",
      "mkdir: cannot create directory ‘8_out’: File exists\n"
     ]
    },
    {
     "name": "stderr",
     "output_type": "stream",
     "text": [
      "\u001b[32m[I 2021-05-30 08:01:15,831]\u001b[0m Trial 100 finished with value: 485966093408.0 and parameters: {'UCB1_COEF_AT_100': 53.92241582241217, 'UCB1_EPS': 0.010734321717336395, 'UCB1_DECAY_RATE_TMP': 0.001213025258279821, 'TURNING_COST_AT_100': 4514.701664277517, 'TURNING_COST_COEF_TMP': 0.008753382928583993}. Best is trial 91 with value: 486404013439.0.\u001b[0m\n"
     ]
    },
    {
     "name": "stdout",
     "output_type": "stream",
     "text": [
      "callback ok\n",
      "index_parallel=9\n",
      "mkdir: cannot create directory ‘9_out’: File exists\n",
      "mkdir: cannot create directory ‘8_score’: File exists\n",
      "mkdir: cannot create directory ‘9_score’: File exists\n",
      "rm: cannot remove '8_out/*': No such file or directory\n",
      "rm: cannot remove '9_out/*': No such file or directory\n",
      "sed -i 8_main.cpp -e 's/^constexpr double UCB1_COEF_AT_100 = .*;   \\/\\/ OPTIMIZE \\[1e0, 1e4\\] LOG$/constexpr double UCB1_COEF_AT_100 = 57.48869729965096;   \\/\\/ OPTIMIZE [1e0, 1e4] LOG/' -e 's/^constexpr double UCB1_EPS = .*;          \\/\\/ OPTIMIZE \\[1e-3, 1e1\\] LOG$/constexpr double UCB1_EPS = 0.0032308073831366496;          \\/\\/ OPTIMIZE [1e-3, 1e1] LOG/' -e 's/^constexpr double UCB1_DECAY_RATE_TMP = .*;           \\/\\/ OPTIMIZE \\[1e-5, 0\\.1\\] LOG$/constexpr double UCB1_DECAY_RATE_TMP = 0.002774309238816105;           \\/\\/ OPTIMIZE [1e-5, 0.1] LOG/' -e 's/^constexpr double TURNING_COST_AT_100 = .*;           \\/\\/ OPTIMIZE \\[1000\\.0, 1e5\\]$/constexpr double TURNING_COST_AT_100 = 4621.817883972799;           \\/\\/ OPTIMIZE [1000.0, 1e5]/' -e 's/^constexpr double TURNING_COST_COEF_TMP = .*;           \\/\\/ OPTIMIZE \\[0\\.001, 0\\.1\\] LOG$/constexpr double TURNING_COST_COEF_TMP = 0.010752315251464842;           \\/\\/ OPTIMIZE [0.001, 0.1] LOG/'\n",
      "sed -i 9_main.cpp -e 's/^constexpr double UCB1_COEF_AT_100 = .*;   \\/\\/ OPTIMIZE \\[1e0, 1e4\\] LOG$/constexpr double UCB1_COEF_AT_100 = 288.15258860319113;   \\/\\/ OPTIMIZE [1e0, 1e4] LOG/' -e 's/^constexpr double UCB1_EPS = .*;          \\/\\/ OPTIMIZE \\[1e-3, 1e1\\] LOG$/constexpr double UCB1_EPS = 0.0030589925933913954;          \\/\\/ OPTIMIZE [1e-3, 1e1] LOG/' -e 's/^constexpr double UCB1_DECAY_RATE_TMP = .*;           \\/\\/ OPTIMIZE \\[1e-5, 0\\.1\\] LOG$/constexpr double UCB1_DECAY_RATE_TMP = 0.0026445596287642758;           \\/\\/ OPTIMIZE [1e-5, 0.1] LOG/' -e 's/^constexpr double TURNING_COST_AT_100 = .*;           \\/\\/ OPTIMIZE \\[1000\\.0, 1e5\\]$/constexpr double TURNING_COST_AT_100 = 87857.00088327263;           \\/\\/ OPTIMIZE [1000.0, 1e5]/' -e 's/^constexpr double TURNING_COST_COEF_TMP = .*;           \\/\\/ OPTIMIZE \\[0\\.001, 0\\.1\\] LOG$/constexpr double TURNING_COST_COEF_TMP = 0.010732964664659204;           \\/\\/ OPTIMIZE [0.001, 0.1] LOG/'\n",
      "g++ 8_main.cpp -std=gnu++17 -O2 -DONLINE_JUDGE -o 8_main.cpp.out 2> /dev/null\n",
      "g++ 9_main.cpp -std=gnu++17 -O2 -DONLINE_JUDGE -o 9_main.cpp.out 2> /dev/null\n"
     ]
    },
    {
     "name": "stderr",
     "output_type": "stream",
     "text": [
      "\u001b[32m[I 2021-05-30 08:01:20,080]\u001b[0m Trial 102 finished with value: 484797371740.0 and parameters: {'UCB1_COEF_AT_100': 55.57163504488237, 'UCB1_EPS': 0.0032440944474890683, 'UCB1_DECAY_RATE_TMP': 3.560117503704859e-05, 'TURNING_COST_AT_100': 4516.491938423825, 'TURNING_COST_COEF_TMP': 0.0026426899069439116}. Best is trial 91 with value: 486404013439.0.\u001b[0m\n"
     ]
    },
    {
     "name": "stdout",
     "output_type": "stream",
     "text": [
      "callback ok\n",
      "index_parallel=10\n",
      "mkdir: cannot create directory ‘10_out’: File exists\n",
      "mkdir: cannot create directory ‘10_score’: File exists\n",
      "rm: cannot remove '10_out/*': No such file or directory\n"
     ]
    },
    {
     "name": "stderr",
     "output_type": "stream",
     "text": [
      "\u001b[32m[I 2021-05-30 08:01:20,762]\u001b[0m Trial 103 finished with value: 484735009628.0 and parameters: {'UCB1_COEF_AT_100': 54.86019330129631, 'UCB1_EPS': 0.0029139441865467484, 'UCB1_DECAY_RATE_TMP': 0.00024714738421169173, 'TURNING_COST_AT_100': 4189.314980404501, 'TURNING_COST_COEF_TMP': 0.0024043731693549493}. Best is trial 91 with value: 486404013439.0.\u001b[0m\n"
     ]
    },
    {
     "name": "stdout",
     "output_type": "stream",
     "text": [
      "callback ok\n",
      "index_parallel=11\n",
      "mkdir: cannot create directory ‘11_out’: File exists\n",
      "mkdir: cannot create directory ‘11_score’: File exists\n",
      "sed -i 10_main.cpp -e 's/^constexpr double UCB1_COEF_AT_100 = .*;   \\/\\/ OPTIMIZE \\[1e0, 1e4\\] LOG$/constexpr double UCB1_COEF_AT_100 = 269.23603107787864;   \\/\\/ OPTIMIZE [1e0, 1e4] LOG/' -e 's/^constexpr double UCB1_EPS = .*;          \\/\\/ OPTIMIZE \\[1e-3, 1e1\\] LOG$/constexpr double UCB1_EPS = 0.0053352655164167415;          \\/\\/ OPTIMIZE [1e-3, 1e1] LOG/' -e 's/^constexpr double UCB1_DECAY_RATE_TMP = .*;           \\/\\/ OPTIMIZE \\[1e-5, 0\\.1\\] LOG$/constexpr double UCB1_DECAY_RATE_TMP = 0.0027490812696625453;           \\/\\/ OPTIMIZE [1e-5, 0.1] LOG/' -e 's/^constexpr double TURNING_COST_AT_100 = .*;           \\/\\/ OPTIMIZE \\[1000\\.0, 1e5\\]$/constexpr double TURNING_COST_AT_100 = 88434.25532359496;           \\/\\/ OPTIMIZE [1000.0, 1e5]/' -e 's/^constexpr double TURNING_COST_COEF_TMP = .*;           \\/\\/ OPTIMIZE \\[0\\.001, 0\\.1\\] LOG$/constexpr double TURNING_COST_COEF_TMP = 0.010694664576901219;           \\/\\/ OPTIMIZE [0.001, 0.1] LOG/'\n",
      "rm: cannot remove '11_out/*': No such file or directory\n",
      "g++ 10_main.cpp -std=gnu++17 -O2 -DONLINE_JUDGE -o 10_main.cpp.out 2> /dev/null\n",
      "sed -i 11_main.cpp -e 's/^constexpr double UCB1_COEF_AT_100 = .*;   \\/\\/ OPTIMIZE \\[1e0, 1e4\\] LOG$/constexpr double UCB1_COEF_AT_100 = 35.690499301035224;   \\/\\/ OPTIMIZE [1e0, 1e4] LOG/' -e 's/^constexpr double UCB1_EPS = .*;          \\/\\/ OPTIMIZE \\[1e-3, 1e1\\] LOG$/constexpr double UCB1_EPS = 0.001744676235690474;          \\/\\/ OPTIMIZE [1e-3, 1e1] LOG/' -e 's/^constexpr double UCB1_DECAY_RATE_TMP = .*;           \\/\\/ OPTIMIZE \\[1e-5, 0\\.1\\] LOG$/constexpr double UCB1_DECAY_RATE_TMP = 0.0011852321491437794;           \\/\\/ OPTIMIZE [1e-5, 0.1] LOG/' -e 's/^constexpr double TURNING_COST_AT_100 = .*;           \\/\\/ OPTIMIZE \\[1000\\.0, 1e5\\]$/constexpr double TURNING_COST_AT_100 = 98620.64890249574;           \\/\\/ OPTIMIZE [1000.0, 1e5]/' -e 's/^constexpr double TURNING_COST_COEF_TMP = .*;           \\/\\/ OPTIMIZE \\[0\\.001, 0\\.1\\] LOG$/constexpr double TURNING_COST_COEF_TMP = 0.010933547910673911;           \\/\\/ OPTIMIZE [0.001, 0.1] LOG/'\n",
      "g++ 11_main.cpp -std=gnu++17 -O2 -DONLINE_JUDGE -o 11_main.cpp.out 2> /dev/null\n"
     ]
    },
    {
     "name": "stderr",
     "output_type": "stream",
     "text": [
      "\u001b[32m[I 2021-05-30 08:05:05,112]\u001b[0m Trial 105 finished with value: 477795572059.0 and parameters: {'UCB1_COEF_AT_100': 288.15258860319113, 'UCB1_EPS': 0.0030589925933913954, 'UCB1_DECAY_RATE_TMP': 0.0026445596287642758, 'TURNING_COST_AT_100': 87857.00088327263, 'TURNING_COST_COEF_TMP': 0.010732964664659204}. Best is trial 91 with value: 486404013439.0.\u001b[0m\n"
     ]
    },
    {
     "name": "stdout",
     "output_type": "stream",
     "text": [
      "callback ok\n",
      "index_parallel=0\n",
      "mkdir: cannot create directory ‘0_out’: File exists\n",
      "mkdir: cannot create directory ‘0_score’: File exists\n",
      "rm: cannot remove '0_out/*': No such file or directory\n",
      "sed -i 0_main.cpp -e 's/^constexpr double UCB1_COEF_AT_100 = .*;   \\/\\/ OPTIMIZE \\[1e0, 1e4\\] LOG$/constexpr double UCB1_COEF_AT_100 = 69.98788376623389;   \\/\\/ OPTIMIZE [1e0, 1e4] LOG/' -e 's/^constexpr double UCB1_EPS = .*;          \\/\\/ OPTIMIZE \\[1e-3, 1e1\\] LOG$/constexpr double UCB1_EPS = 0.004964815114872287;          \\/\\/ OPTIMIZE [1e-3, 1e1] LOG/' -e 's/^constexpr double UCB1_DECAY_RATE_TMP = .*;           \\/\\/ OPTIMIZE \\[1e-5, 0\\.1\\] LOG$/constexpr double UCB1_DECAY_RATE_TMP = 0.00046492766326718647;           \\/\\/ OPTIMIZE [1e-5, 0.1] LOG/' -e 's/^constexpr double TURNING_COST_AT_100 = .*;           \\/\\/ OPTIMIZE \\[1000\\.0, 1e5\\]$/constexpr double TURNING_COST_AT_100 = 2501.1620544061807;           \\/\\/ OPTIMIZE [1000.0, 1e5]/' -e 's/^constexpr double TURNING_COST_COEF_TMP = .*;           \\/\\/ OPTIMIZE \\[0\\.001, 0\\.1\\] LOG$/constexpr double TURNING_COST_COEF_TMP = 0.008613086388109764;           \\/\\/ OPTIMIZE [0.001, 0.1] LOG/'\n",
      "g++ 0_main.cpp -std=gnu++17 -O2 -DONLINE_JUDGE -o 0_main.cpp.out 2> /dev/null\n"
     ]
    },
    {
     "name": "stderr",
     "output_type": "stream",
     "text": [
      "\u001b[32m[I 2021-05-30 08:05:08,907]\u001b[0m Trial 107 finished with value: 478062104973.0 and parameters: {'UCB1_COEF_AT_100': 35.690499301035224, 'UCB1_EPS': 0.001744676235690474, 'UCB1_DECAY_RATE_TMP': 0.0011852321491437794, 'TURNING_COST_AT_100': 98620.64890249574, 'TURNING_COST_COEF_TMP': 0.010933547910673911}. Best is trial 91 with value: 486404013439.0.\u001b[0m\n"
     ]
    },
    {
     "name": "stdout",
     "output_type": "stream",
     "text": [
      "callback ok\n",
      "index_parallel=1\n",
      "mkdir: cannot create directory ‘1_out’: File exists\n"
     ]
    },
    {
     "name": "stderr",
     "output_type": "stream",
     "text": [
      "\u001b[32m[I 2021-05-30 08:05:08,982]\u001b[0m Trial 104 finished with value: 486197412105.0 and parameters: {'UCB1_COEF_AT_100': 57.48869729965096, 'UCB1_EPS': 0.0032308073831366496, 'UCB1_DECAY_RATE_TMP': 0.002774309238816105, 'TURNING_COST_AT_100': 4621.817883972799, 'TURNING_COST_COEF_TMP': 0.010752315251464842}. Best is trial 91 with value: 486404013439.0.\u001b[0m\n"
     ]
    },
    {
     "name": "stdout",
     "output_type": "stream",
     "text": [
      "callback ok\n",
      "index_parallel=2\n",
      "mkdir: cannot create directory ‘2_out’: File exists\n",
      "mkdir: cannot create directory ‘1_score’: File exists\n",
      "mkdir: cannot create directory ‘2_score’: File exists\n",
      "rm: cannot remove '1_out/*': No such file or directory\n"
     ]
    },
    {
     "name": "stderr",
     "output_type": "stream",
     "text": [
      "\u001b[32m[I 2021-05-30 08:05:09,212]\u001b[0m Trial 106 finished with value: 477953574174.0 and parameters: {'UCB1_COEF_AT_100': 269.23603107787864, 'UCB1_EPS': 0.0053352655164167415, 'UCB1_DECAY_RATE_TMP': 0.0027490812696625453, 'TURNING_COST_AT_100': 88434.25532359496, 'TURNING_COST_COEF_TMP': 0.010694664576901219}. Best is trial 91 with value: 486404013439.0.\u001b[0m\n"
     ]
    },
    {
     "name": "stdout",
     "output_type": "stream",
     "text": [
      "callback ok\n",
      "index_parallel=3\n",
      "mkdir: cannot create directory ‘3_out’: File exists\n",
      "rm: cannot remove '2_out/*': No such file or directory\n",
      "mkdir: cannot create directory ‘3_score’: File exists\n",
      "rm: cannot remove '3_out/*': No such file or directory\n",
      "sed -i 1_main.cpp -e 's/^constexpr double UCB1_COEF_AT_100 = .*;   \\/\\/ OPTIMIZE \\[1e0, 1e4\\] LOG$/constexpr double UCB1_COEF_AT_100 = 24.214338899887554;   \\/\\/ OPTIMIZE [1e0, 1e4] LOG/' -e 's/^constexpr double UCB1_EPS = .*;          \\/\\/ OPTIMIZE \\[1e-3, 1e1\\] LOG$/constexpr double UCB1_EPS = 0.0067658036584283664;          \\/\\/ OPTIMIZE [1e-3, 1e1] LOG/' -e 's/^constexpr double UCB1_DECAY_RATE_TMP = .*;           \\/\\/ OPTIMIZE \\[1e-5, 0\\.1\\] LOG$/constexpr double UCB1_DECAY_RATE_TMP = 0.0034823108676733535;           \\/\\/ OPTIMIZE [1e-5, 0.1] LOG/' -e 's/^constexpr double TURNING_COST_AT_100 = .*;           \\/\\/ OPTIMIZE \\[1000\\.0, 1e5\\]$/constexpr double TURNING_COST_AT_100 = 8761.791185556456;           \\/\\/ OPTIMIZE [1000.0, 1e5]/' -e 's/^constexpr double TURNING_COST_COEF_TMP = .*;           \\/\\/ OPTIMIZE \\[0\\.001, 0\\.1\\] LOG$/constexpr double TURNING_COST_COEF_TMP = 0.00844953517765506;           \\/\\/ OPTIMIZE [0.001, 0.1] LOG/'\n",
      "g++ 1_main.cpp -std=gnu++17 -O2 -DONLINE_JUDGE -o 1_main.cpp.out 2> /dev/null\n",
      "sed -i 2_main.cpp -e 's/^constexpr double UCB1_COEF_AT_100 = .*;   \\/\\/ OPTIMIZE \\[1e0, 1e4\\] LOG$/constexpr double UCB1_COEF_AT_100 = 24.52079942216068;   \\/\\/ OPTIMIZE [1e0, 1e4] LOG/' -e 's/^constexpr double UCB1_EPS = .*;          \\/\\/ OPTIMIZE \\[1e-3, 1e1\\] LOG$/constexpr double UCB1_EPS = 0.002398206501213162;          \\/\\/ OPTIMIZE [1e-3, 1e1] LOG/' -e 's/^constexpr double UCB1_DECAY_RATE_TMP = .*;           \\/\\/ OPTIMIZE \\[1e-5, 0\\.1\\] LOG$/constexpr double UCB1_DECAY_RATE_TMP = 0.0015418757874166417;           \\/\\/ OPTIMIZE [1e-5, 0.1] LOG/' -e 's/^constexpr double TURNING_COST_AT_100 = .*;           \\/\\/ OPTIMIZE \\[1000\\.0, 1e5\\]$/constexpr double TURNING_COST_AT_100 = 9151.886783270485;           \\/\\/ OPTIMIZE [1000.0, 1e5]/' -e 's/^constexpr double TURNING_COST_COEF_TMP = .*;           \\/\\/ OPTIMIZE \\[0\\.001, 0\\.1\\] LOG$/constexpr double TURNING_COST_COEF_TMP = 0.008453410486352937;           \\/\\/ OPTIMIZE [0.001, 0.1] LOG/'\n",
      "g++ 2_main.cpp -std=gnu++17 -O2 -DONLINE_JUDGE -o 2_main.cpp.out 2> /dev/null\n",
      "sed -i 3_main.cpp -e 's/^constexpr double UCB1_COEF_AT_100 = .*;   \\/\\/ OPTIMIZE \\[1e0, 1e4\\] LOG$/constexpr double UCB1_COEF_AT_100 = 25.87528863539908;   \\/\\/ OPTIMIZE [1e0, 1e4] LOG/' -e 's/^constexpr double UCB1_EPS = .*;          \\/\\/ OPTIMIZE \\[1e-3, 1e1\\] LOG$/constexpr double UCB1_EPS = 0.0023220271202570204;          \\/\\/ OPTIMIZE [1e-3, 1e1] LOG/' -e 's/^constexpr double UCB1_DECAY_RATE_TMP = .*;           \\/\\/ OPTIMIZE \\[1e-5, 0\\.1\\] LOG$/constexpr double UCB1_DECAY_RATE_TMP = 0.001533299575109789;           \\/\\/ OPTIMIZE [1e-5, 0.1] LOG/' -e 's/^constexpr double TURNING_COST_AT_100 = .*;           \\/\\/ OPTIMIZE \\[1000\\.0, 1e5\\]$/constexpr double TURNING_COST_AT_100 = 8043.4302409852535;           \\/\\/ OPTIMIZE [1000.0, 1e5]/' -e 's/^constexpr double TURNING_COST_COEF_TMP = .*;           \\/\\/ OPTIMIZE \\[0\\.001, 0\\.1\\] LOG$/constexpr double TURNING_COST_COEF_TMP = 0.009016676397879375;           \\/\\/ OPTIMIZE [0.001, 0.1] LOG/'\n",
      "g++ 3_main.cpp -std=gnu++17 -O2 -DONLINE_JUDGE -o 3_main.cpp.out 2> /dev/null\n"
     ]
    },
    {
     "name": "stderr",
     "output_type": "stream",
     "text": [
      "\u001b[32m[I 2021-05-30 08:09:01,066]\u001b[0m Trial 108 finished with value: 486421642088.0 and parameters: {'UCB1_COEF_AT_100': 69.98788376623389, 'UCB1_EPS': 0.004964815114872287, 'UCB1_DECAY_RATE_TMP': 0.00046492766326718647, 'TURNING_COST_AT_100': 2501.1620544061807, 'TURNING_COST_COEF_TMP': 0.008613086388109764}. Best is trial 108 with value: 486421642088.0.\u001b[0m\n"
     ]
    },
    {
     "name": "stdout",
     "output_type": "stream",
     "text": [
      "Updated! 486421642088.0\n",
      "callback ok\n",
      "index_parallel=4\n",
      "mkdir: cannot create directory ‘4_out’: File exists\n",
      "mkdir: cannot create directory ‘4_score’: File exists\n",
      "rm: cannot remove '4_out/*': No such file or directory\n"
     ]
    },
    {
     "name": "stderr",
     "output_type": "stream",
     "text": [
      "\u001b[32m[I 2021-05-30 08:09:01,584]\u001b[0m Trial 110 finished with value: 485635776897.0 and parameters: {'UCB1_COEF_AT_100': 24.52079942216068, 'UCB1_EPS': 0.002398206501213162, 'UCB1_DECAY_RATE_TMP': 0.0015418757874166417, 'TURNING_COST_AT_100': 9151.886783270485, 'TURNING_COST_COEF_TMP': 0.008453410486352937}. Best is trial 108 with value: 486421642088.0.\u001b[0m\n"
     ]
    },
    {
     "name": "stdout",
     "output_type": "stream",
     "text": [
      "callback ok\n",
      "index_parallel=5\n",
      "mkdir: cannot create directory ‘5_out’: File exists\n"
     ]
    },
    {
     "name": "stderr",
     "output_type": "stream",
     "text": [
      "\u001b[32m[I 2021-05-30 08:09:01,717]\u001b[0m Trial 109 finished with value: 485445603454.0 and parameters: {'UCB1_COEF_AT_100': 24.214338899887554, 'UCB1_EPS': 0.0067658036584283664, 'UCB1_DECAY_RATE_TMP': 0.0034823108676733535, 'TURNING_COST_AT_100': 8761.791185556456, 'TURNING_COST_COEF_TMP': 0.00844953517765506}. Best is trial 108 with value: 486421642088.0.\u001b[0m\n",
      "\u001b[32m[I 2021-05-30 08:09:01,731]\u001b[0m Trial 111 finished with value: 485844380397.0 and parameters: {'UCB1_COEF_AT_100': 25.87528863539908, 'UCB1_EPS': 0.0023220271202570204, 'UCB1_DECAY_RATE_TMP': 0.001533299575109789, 'TURNING_COST_AT_100': 8043.4302409852535, 'TURNING_COST_COEF_TMP': 0.009016676397879375}. Best is trial 108 with value: 486421642088.0.\u001b[0m\n"
     ]
    },
    {
     "name": "stdout",
     "output_type": "stream",
     "text": [
      "callback ok\n",
      "callback ok\n",
      "index_parallel=6\n",
      "index_parallel=7\n",
      "mkdir: cannot create directory ‘6_out’: File exists\n",
      "mkdir: cannot create directory ‘7_out’: File exists\n",
      "mkdir: cannot create directory ‘5_score’: File exists\n",
      "mkdir: cannot create directory ‘6_score’: File exists\n",
      "mkdir: cannot create directory ‘7_score’: File exists\n",
      "rm: cannot remove '5_out/*': No such file or directory\n",
      "rm: cannot remove '6_out/*': No such file or directory\n",
      "rm: cannot remove '7_out/*': No such file or directory\n",
      "sed -i 4_main.cpp -e 's/^constexpr double UCB1_COEF_AT_100 = .*;   \\/\\/ OPTIMIZE \\[1e0, 1e4\\] LOG$/constexpr double UCB1_COEF_AT_100 = 66.51455523531918;   \\/\\/ OPTIMIZE [1e0, 1e4] LOG/' -e 's/^constexpr double UCB1_EPS = .*;          \\/\\/ OPTIMIZE \\[1e-3, 1e1\\] LOG$/constexpr double UCB1_EPS = 0.0035804025144061803;          \\/\\/ OPTIMIZE [1e-3, 1e1] LOG/' -e 's/^constexpr double UCB1_DECAY_RATE_TMP = .*;           \\/\\/ OPTIMIZE \\[1e-5, 0\\.1\\] LOG$/constexpr double UCB1_DECAY_RATE_TMP = 0.0008875413699842447;           \\/\\/ OPTIMIZE [1e-5, 0.1] LOG/' -e 's/^constexpr double TURNING_COST_AT_100 = .*;           \\/\\/ OPTIMIZE \\[1000\\.0, 1e5\\]$/constexpr double TURNING_COST_AT_100 = 1070.810767660597;           \\/\\/ OPTIMIZE [1000.0, 1e5]/' -e 's/^constexpr double TURNING_COST_COEF_TMP = .*;           \\/\\/ OPTIMIZE \\[0\\.001, 0\\.1\\] LOG$/constexpr double TURNING_COST_COEF_TMP = 0.016086297396357047;           \\/\\/ OPTIMIZE [0.001, 0.1] LOG/'\n",
      "g++ 4_main.cpp -std=gnu++17 -O2 -DONLINE_JUDGE -o 4_main.cpp.out 2> /dev/null\n",
      "sed -i 5_main.cpp -e 's/^constexpr double UCB1_COEF_AT_100 = .*;   \\/\\/ OPTIMIZE \\[1e0, 1e4\\] LOG$/constexpr double UCB1_COEF_AT_100 = 65.52100555161338;   \\/\\/ OPTIMIZE [1e0, 1e4] LOG/' -e 's/^constexpr double UCB1_EPS = .*;          \\/\\/ OPTIMIZE \\[1e-3, 1e1\\] LOG$/constexpr double UCB1_EPS = 0.004629157964948037;          \\/\\/ OPTIMIZE [1e-3, 1e1] LOG/' -e 's/^constexpr double UCB1_DECAY_RATE_TMP = .*;           \\/\\/ OPTIMIZE \\[1e-5, 0\\.1\\] LOG$/constexpr double UCB1_DECAY_RATE_TMP = 0.0009039393136812813;           \\/\\/ OPTIMIZE [1e-5, 0.1] LOG/' -e 's/^constexpr double TURNING_COST_AT_100 = .*;           \\/\\/ OPTIMIZE \\[1000\\.0, 1e5\\]$/constexpr double TURNING_COST_AT_100 = 12123.326873899729;           \\/\\/ OPTIMIZE [1000.0, 1e5]/' -e 's/^constexpr double TURNING_COST_COEF_TMP = .*;           \\/\\/ OPTIMIZE \\[0\\.001, 0\\.1\\] LOG$/constexpr double TURNING_COST_COEF_TMP = 0.015770176551900637;           \\/\\/ OPTIMIZE [0.001, 0.1] LOG/'\n",
      "g++ 5_main.cpp -std=gnu++17 -O2 -DONLINE_JUDGE -o 5_main.cpp.out 2> /dev/null\n",
      "sed -i 6_main.cpp -e 's/^constexpr double UCB1_COEF_AT_100 = .*;   \\/\\/ OPTIMIZE \\[1e0, 1e4\\] LOG$/constexpr double UCB1_COEF_AT_100 = 64.44801209173156;   \\/\\/ OPTIMIZE [1e0, 1e4] LOG/' -e 's/^constexpr double UCB1_EPS = .*;          \\/\\/ OPTIMIZE \\[1e-3, 1e1\\] LOG$/constexpr double UCB1_EPS = 0.004804105419429932;          \\/\\/ OPTIMIZE [1e-3, 1e1] LOG/' -e 's/^constexpr double UCB1_DECAY_RATE_TMP = .*;           \\/\\/ OPTIMIZE \\[1e-5, 0\\.1\\] LOG$/constexpr double UCB1_DECAY_RATE_TMP = 0.0006918047535753992;           \\/\\/ OPTIMIZE [1e-5, 0.1] LOG/' -e 's/^constexpr double TURNING_COST_AT_100 = .*;           \\/\\/ OPTIMIZE \\[1000\\.0, 1e5\\]$/constexpr double TURNING_COST_AT_100 = 2991.8036194343313;           \\/\\/ OPTIMIZE [1000.0, 1e5]/' -e 's/^constexpr double TURNING_COST_COEF_TMP = .*;           \\/\\/ OPTIMIZE \\[0\\.001, 0\\.1\\] LOG$/constexpr double TURNING_COST_COEF_TMP = 0.07615407749340995;           \\/\\/ OPTIMIZE [0.001, 0.1] LOG/'\n",
      "sed -i 7_main.cpp -e 's/^constexpr double UCB1_COEF_AT_100 = .*;   \\/\\/ OPTIMIZE \\[1e0, 1e4\\] LOG$/constexpr double UCB1_COEF_AT_100 = 62.28882373458843;   \\/\\/ OPTIMIZE [1e0, 1e4] LOG/' -e 's/^constexpr double UCB1_EPS = .*;          \\/\\/ OPTIMIZE \\[1e-3, 1e1\\] LOG$/constexpr double UCB1_EPS = 0.0035941937230990944;          \\/\\/ OPTIMIZE [1e-3, 1e1] LOG/' -e 's/^constexpr double UCB1_DECAY_RATE_TMP = .*;           \\/\\/ OPTIMIZE \\[1e-5, 0\\.1\\] LOG$/constexpr double UCB1_DECAY_RATE_TMP = 0.000925855913713348;           \\/\\/ OPTIMIZE [1e-5, 0.1] LOG/' -e 's/^constexpr double TURNING_COST_AT_100 = .*;           \\/\\/ OPTIMIZE \\[1000\\.0, 1e5\\]$/constexpr double TURNING_COST_AT_100 = 1059.432020658789;           \\/\\/ OPTIMIZE [1000.0, 1e5]/' -e 's/^constexpr double TURNING_COST_COEF_TMP = .*;           \\/\\/ OPTIMIZE \\[0\\.001, 0\\.1\\] LOG$/constexpr double TURNING_COST_COEF_TMP = 0.07262448476321416;           \\/\\/ OPTIMIZE [0.001, 0.1] LOG/'\n",
      "g++ 6_main.cpp -std=gnu++17 -O2 -DONLINE_JUDGE -o 6_main.cpp.out 2> /dev/null\n",
      "g++ 7_main.cpp -std=gnu++17 -O2 -DONLINE_JUDGE -o 7_main.cpp.out 2> /dev/null\n"
     ]
    },
    {
     "name": "stderr",
     "output_type": "stream",
     "text": [
      "\u001b[32m[I 2021-05-30 08:12:57,066]\u001b[0m Trial 113 finished with value: 485903557020.0 and parameters: {'UCB1_COEF_AT_100': 65.52100555161338, 'UCB1_EPS': 0.004629157964948037, 'UCB1_DECAY_RATE_TMP': 0.0009039393136812813, 'TURNING_COST_AT_100': 12123.326873899729, 'TURNING_COST_COEF_TMP': 0.015770176551900637}. Best is trial 108 with value: 486421642088.0.\u001b[0m\n"
     ]
    },
    {
     "name": "stdout",
     "output_type": "stream",
     "text": [
      "callback ok\n",
      "index_parallel=8\n",
      "mkdir: cannot create directory ‘8_out’: File exists\n",
      "mkdir: cannot create directory ‘8_score’: File exists\n",
      "rm: cannot remove '8_out/*': No such file or directory\n",
      "sed -i 8_main.cpp -e 's/^constexpr double UCB1_COEF_AT_100 = .*;   \\/\\/ OPTIMIZE \\[1e0, 1e4\\] LOG$/constexpr double UCB1_COEF_AT_100 = 80.41213141164695;   \\/\\/ OPTIMIZE [1e0, 1e4] LOG/' -e 's/^constexpr double UCB1_EPS = .*;          \\/\\/ OPTIMIZE \\[1e-3, 1e1\\] LOG$/constexpr double UCB1_EPS = 0.0033527352784278918;          \\/\\/ OPTIMIZE [1e-3, 1e1] LOG/' -e 's/^constexpr double UCB1_DECAY_RATE_TMP = .*;           \\/\\/ OPTIMIZE \\[1e-5, 0\\.1\\] LOG$/constexpr double UCB1_DECAY_RATE_TMP = 0.0004309041192002822;           \\/\\/ OPTIMIZE [1e-5, 0.1] LOG/' -e 's/^constexpr double TURNING_COST_AT_100 = .*;           \\/\\/ OPTIMIZE \\[1000\\.0, 1e5\\]$/constexpr double TURNING_COST_AT_100 = 2737.7322811435683;           \\/\\/ OPTIMIZE [1000.0, 1e5]/' -e 's/^constexpr double TURNING_COST_COEF_TMP = .*;           \\/\\/ OPTIMIZE \\[0\\.001, 0\\.1\\] LOG$/constexpr double TURNING_COST_COEF_TMP = 0.012771356582655727;           \\/\\/ OPTIMIZE [0.001, 0.1] LOG/'\n",
      "g++ 8_main.cpp -std=gnu++17 -O2 -DONLINE_JUDGE -o 8_main.cpp.out 2> /dev/null\n"
     ]
    },
    {
     "name": "stderr",
     "output_type": "stream",
     "text": [
      "\u001b[32m[I 2021-05-30 08:12:59,379]\u001b[0m Trial 114 finished with value: 486018242035.0 and parameters: {'UCB1_COEF_AT_100': 64.44801209173156, 'UCB1_EPS': 0.004804105419429932, 'UCB1_DECAY_RATE_TMP': 0.0006918047535753992, 'TURNING_COST_AT_100': 2991.8036194343313, 'TURNING_COST_COEF_TMP': 0.07615407749340995}. Best is trial 108 with value: 486421642088.0.\u001b[0m\n"
     ]
    },
    {
     "name": "stdout",
     "output_type": "stream",
     "text": [
      "callback ok\n",
      "index_parallel=9\n",
      "mkdir: cannot create directory ‘9_out’: File exists\n"
     ]
    },
    {
     "name": "stderr",
     "output_type": "stream",
     "text": [
      "\u001b[32m[I 2021-05-30 08:12:59,461]\u001b[0m Trial 112 finished with value: 486430870511.0 and parameters: {'UCB1_COEF_AT_100': 66.51455523531918, 'UCB1_EPS': 0.0035804025144061803, 'UCB1_DECAY_RATE_TMP': 0.0008875413699842447, 'TURNING_COST_AT_100': 1070.810767660597, 'TURNING_COST_COEF_TMP': 0.016086297396357047}. Best is trial 112 with value: 486430870511.0.\u001b[0m\n"
     ]
    },
    {
     "name": "stdout",
     "output_type": "stream",
     "text": [
      "Updated! 486430870511.0\n",
      "mkdir: cannot create directory ‘9_score’: File exists\n",
      "callback ok\n",
      "index_parallel=10\n",
      "mkdir: cannot create directory ‘10_out’: File exists\n"
     ]
    },
    {
     "name": "stderr",
     "output_type": "stream",
     "text": [
      "\u001b[32m[I 2021-05-30 08:12:59,630]\u001b[0m Trial 115 finished with value: 486345193531.0 and parameters: {'UCB1_COEF_AT_100': 62.28882373458843, 'UCB1_EPS': 0.0035941937230990944, 'UCB1_DECAY_RATE_TMP': 0.000925855913713348, 'TURNING_COST_AT_100': 1059.432020658789, 'TURNING_COST_COEF_TMP': 0.07262448476321416}. Best is trial 112 with value: 486430870511.0.\u001b[0m\n"
     ]
    },
    {
     "name": "stdout",
     "output_type": "stream",
     "text": [
      "callback ok\n",
      "index_parallel=11\n",
      "mkdir: cannot create directory ‘11_out’: File exists\n",
      "rm: cannot remove '9_out/*': No such file or directory\n",
      "mkdir: cannot create directory ‘10_score’: File exists\n",
      "mkdir: cannot create directory ‘11_score’: File exists\n",
      "rm: cannot remove '10_out/*': No such file or directory\n",
      "rm: cannot remove '11_out/*': No such file or directory\n",
      "sed -i 9_main.cpp -e 's/^constexpr double UCB1_COEF_AT_100 = .*;   \\/\\/ OPTIMIZE \\[1e0, 1e4\\] LOG$/constexpr double UCB1_COEF_AT_100 = 41.86404798140421;   \\/\\/ OPTIMIZE [1e0, 1e4] LOG/' -e 's/^constexpr double UCB1_EPS = .*;          \\/\\/ OPTIMIZE \\[1e-3, 1e1\\] LOG$/constexpr double UCB1_EPS = 0.003451644083402508;          \\/\\/ OPTIMIZE [1e-3, 1e1] LOG/' -e 's/^constexpr double UCB1_DECAY_RATE_TMP = .*;           \\/\\/ OPTIMIZE \\[1e-5, 0\\.1\\] LOG$/constexpr double UCB1_DECAY_RATE_TMP = 0.0004539599553280897;           \\/\\/ OPTIMIZE [1e-5, 0.1] LOG/' -e 's/^constexpr double TURNING_COST_AT_100 = .*;           \\/\\/ OPTIMIZE \\[1000\\.0, 1e5\\]$/constexpr double TURNING_COST_AT_100 = 2599.7202858576566;           \\/\\/ OPTIMIZE [1000.0, 1e5]/' -e 's/^constexpr double TURNING_COST_COEF_TMP = .*;           \\/\\/ OPTIMIZE \\[0\\.001, 0\\.1\\] LOG$/constexpr double TURNING_COST_COEF_TMP = 0.03836286694773001;           \\/\\/ OPTIMIZE [0.001, 0.1] LOG/'\n",
      "g++ 9_main.cpp -std=gnu++17 -O2 -DONLINE_JUDGE -o 9_main.cpp.out 2> /dev/null\n",
      "sed -i 10_main.cpp -e 's/^constexpr double UCB1_COEF_AT_100 = .*;   \\/\\/ OPTIMIZE \\[1e0, 1e4\\] LOG$/constexpr double UCB1_COEF_AT_100 = 41.30000666476024;   \\/\\/ OPTIMIZE [1e0, 1e4] LOG/' -e 's/^constexpr double UCB1_EPS = .*;          \\/\\/ OPTIMIZE \\[1e-3, 1e1\\] LOG$/constexpr double UCB1_EPS = 0.003444004267783242;          \\/\\/ OPTIMIZE [1e-3, 1e1] LOG/' -e 's/^constexpr double UCB1_DECAY_RATE_TMP = .*;           \\/\\/ OPTIMIZE \\[1e-5, 0\\.1\\] LOG$/constexpr double UCB1_DECAY_RATE_TMP = 0.0003242858174713685;           \\/\\/ OPTIMIZE [1e-5, 0.1] LOG/' -e 's/^constexpr double TURNING_COST_AT_100 = .*;           \\/\\/ OPTIMIZE \\[1000\\.0, 1e5\\]$/constexpr double TURNING_COST_AT_100 = 1330.7641147928246;           \\/\\/ OPTIMIZE [1000.0, 1e5]/' -e 's/^constexpr double TURNING_COST_COEF_TMP = .*;           \\/\\/ OPTIMIZE \\[0\\.001, 0\\.1\\] LOG$/constexpr double TURNING_COST_COEF_TMP = 0.019068572792494885;           \\/\\/ OPTIMIZE [0.001, 0.1] LOG/'\n",
      "sed -i 11_main.cpp -e 's/^constexpr double UCB1_COEF_AT_100 = .*;   \\/\\/ OPTIMIZE \\[1e0, 1e4\\] LOG$/constexpr double UCB1_COEF_AT_100 = 40.63894277655827;   \\/\\/ OPTIMIZE [1e0, 1e4] LOG/' -e 's/^constexpr double UCB1_EPS = .*;          \\/\\/ OPTIMIZE \\[1e-3, 1e1\\] LOG$/constexpr double UCB1_EPS = 0.003698680632902447;          \\/\\/ OPTIMIZE [1e-3, 1e1] LOG/' -e 's/^constexpr double UCB1_DECAY_RATE_TMP = .*;           \\/\\/ OPTIMIZE \\[1e-5, 0\\.1\\] LOG$/constexpr double UCB1_DECAY_RATE_TMP = 0.00047626749268891896;           \\/\\/ OPTIMIZE [1e-5, 0.1] LOG/' -e 's/^constexpr double TURNING_COST_AT_100 = .*;           \\/\\/ OPTIMIZE \\[1000\\.0, 1e5\\]$/constexpr double TURNING_COST_AT_100 = 1475.309477090352;           \\/\\/ OPTIMIZE [1000.0, 1e5]/' -e 's/^constexpr double TURNING_COST_COEF_TMP = .*;           \\/\\/ OPTIMIZE \\[0\\.001, 0\\.1\\] LOG$/constexpr double TURNING_COST_COEF_TMP = 0.03248875774726896;           \\/\\/ OPTIMIZE [0.001, 0.1] LOG/'\n",
      "g++ 10_main.cpp -std=gnu++17 -O2 -DONLINE_JUDGE -o 10_main.cpp.out 2> /dev/null\n",
      "g++ 11_main.cpp -std=gnu++17 -O2 -DONLINE_JUDGE -o 11_main.cpp.out 2> /dev/null\n"
     ]
    },
    {
     "name": "stderr",
     "output_type": "stream",
     "text": [
      "\u001b[32m[I 2021-05-30 08:16:54,649]\u001b[0m Trial 116 finished with value: 486437733234.0 and parameters: {'UCB1_COEF_AT_100': 80.41213141164695, 'UCB1_EPS': 0.0033527352784278918, 'UCB1_DECAY_RATE_TMP': 0.0004309041192002822, 'TURNING_COST_AT_100': 2737.7322811435683, 'TURNING_COST_COEF_TMP': 0.012771356582655727}. Best is trial 116 with value: 486437733234.0.\u001b[0m\n"
     ]
    },
    {
     "name": "stdout",
     "output_type": "stream",
     "text": [
      "Updated! 486437733234.0\n",
      "callback ok\n",
      "index_parallel=0\n",
      "mkdir: cannot create directory ‘0_out’: File exists\n",
      "mkdir: cannot create directory ‘0_score’: File exists\n",
      "rm: cannot remove '0_out/*': No such file or directory\n",
      "sed -i 0_main.cpp -e 's/^constexpr double UCB1_COEF_AT_100 = .*;   \\/\\/ OPTIMIZE \\[1e0, 1e4\\] LOG$/constexpr double UCB1_COEF_AT_100 = 81.80453271273102;   \\/\\/ OPTIMIZE [1e0, 1e4] LOG/' -e 's/^constexpr double UCB1_EPS = .*;          \\/\\/ OPTIMIZE \\[1e-3, 1e1\\] LOG$/constexpr double UCB1_EPS = 0.0033344497385861703;          \\/\\/ OPTIMIZE [1e-3, 1e1] LOG/' -e 's/^constexpr double UCB1_DECAY_RATE_TMP = .*;           \\/\\/ OPTIMIZE \\[1e-5, 0\\.1\\] LOG$/constexpr double UCB1_DECAY_RATE_TMP = 0.0004514714046681557;           \\/\\/ OPTIMIZE [1e-5, 0.1] LOG/' -e 's/^constexpr double TURNING_COST_AT_100 = .*;           \\/\\/ OPTIMIZE \\[1000\\.0, 1e5\\]$/constexpr double TURNING_COST_AT_100 = 5981.592715568541;           \\/\\/ OPTIMIZE [1000.0, 1e5]/' -e 's/^constexpr double TURNING_COST_COEF_TMP = .*;           \\/\\/ OPTIMIZE \\[0\\.001, 0\\.1\\] LOG$/constexpr double TURNING_COST_COEF_TMP = 0.012946305803738305;           \\/\\/ OPTIMIZE [0.001, 0.1] LOG/'\n",
      "g++ 0_main.cpp -std=gnu++17 -O2 -DONLINE_JUDGE -o 0_main.cpp.out 2> /dev/null\n"
     ]
    },
    {
     "name": "stderr",
     "output_type": "stream",
     "text": [
      "\u001b[32m[I 2021-05-30 08:16:56,940]\u001b[0m Trial 117 finished with value: 486184806048.0 and parameters: {'UCB1_COEF_AT_100': 41.86404798140421, 'UCB1_EPS': 0.003451644083402508, 'UCB1_DECAY_RATE_TMP': 0.0004539599553280897, 'TURNING_COST_AT_100': 2599.7202858576566, 'TURNING_COST_COEF_TMP': 0.03836286694773001}. Best is trial 116 with value: 486437733234.0.\u001b[0m\n"
     ]
    },
    {
     "name": "stdout",
     "output_type": "stream",
     "text": [
      "callback ok\n",
      "index_parallel=1\n",
      "mkdir: cannot create directory ‘1_out’: File exists\n"
     ]
    },
    {
     "name": "stderr",
     "output_type": "stream",
     "text": [
      "\u001b[32m[I 2021-05-30 08:16:57,062]\u001b[0m Trial 118 finished with value: 485940105570.0 and parameters: {'UCB1_COEF_AT_100': 41.30000666476024, 'UCB1_EPS': 0.003444004267783242, 'UCB1_DECAY_RATE_TMP': 0.0003242858174713685, 'TURNING_COST_AT_100': 1330.7641147928246, 'TURNING_COST_COEF_TMP': 0.019068572792494885}. Best is trial 116 with value: 486437733234.0.\u001b[0m\n",
      "\u001b[32m[I 2021-05-30 08:16:57,066]\u001b[0m Trial 119 finished with value: 486007804387.0 and parameters: {'UCB1_COEF_AT_100': 40.63894277655827, 'UCB1_EPS': 0.003698680632902447, 'UCB1_DECAY_RATE_TMP': 0.00047626749268891896, 'TURNING_COST_AT_100': 1475.309477090352, 'TURNING_COST_COEF_TMP': 0.03248875774726896}. Best is trial 116 with value: 486437733234.0.\u001b[0m\n"
     ]
    },
    {
     "name": "stdout",
     "output_type": "stream",
     "text": [
      "callback ok\n",
      "callback ok\n",
      "mkdir: cannot create directory ‘1_score’: File exists\n",
      "index_parallel=2\n",
      "mkdir: cannot create directory ‘2_out’: File exists\n",
      "index_parallel=3\n",
      "mkdir: cannot create directory ‘3_out’: File exists\n",
      "rm: cannot remove '1_out/*': No such file or directory\n",
      "mkdir: cannot create directory ‘2_score’: File exists\n",
      "mkdir: cannot create directory ‘3_score’: File exists\n",
      "rm: cannot remove '2_out/*': No such file or directory\n",
      "rm: cannot remove '3_out/*': No such file or directory\n",
      "sed -i 1_main.cpp -e 's/^constexpr double UCB1_COEF_AT_100 = .*;   \\/\\/ OPTIMIZE \\[1e0, 1e4\\] LOG$/constexpr double UCB1_COEF_AT_100 = 77.71898006229664;   \\/\\/ OPTIMIZE [1e0, 1e4] LOG/' -e 's/^constexpr double UCB1_EPS = .*;          \\/\\/ OPTIMIZE \\[1e-3, 1e1\\] LOG$/constexpr double UCB1_EPS = 0.0018801851954242169;          \\/\\/ OPTIMIZE [1e-3, 1e1] LOG/' -e 's/^constexpr double UCB1_DECAY_RATE_TMP = .*;           \\/\\/ OPTIMIZE \\[1e-5, 0\\.1\\] LOG$/constexpr double UCB1_DECAY_RATE_TMP = 0.00019628553947776534;           \\/\\/ OPTIMIZE [1e-5, 0.1] LOG/' -e 's/^constexpr double TURNING_COST_AT_100 = .*;           \\/\\/ OPTIMIZE \\[1000\\.0, 1e5\\]$/constexpr double TURNING_COST_AT_100 = 5671.981472366718;           \\/\\/ OPTIMIZE [1000.0, 1e5]/' -e 's/^constexpr double TURNING_COST_COEF_TMP = .*;           \\/\\/ OPTIMIZE \\[0\\.001, 0\\.1\\] LOG$/constexpr double TURNING_COST_COEF_TMP = 0.04616882036443748;           \\/\\/ OPTIMIZE [0.001, 0.1] LOG/'\n",
      "g++ 1_main.cpp -std=gnu++17 -O2 -DONLINE_JUDGE -o 1_main.cpp.out 2> /dev/null\n",
      "sed -i 2_main.cpp -e 's/^constexpr double UCB1_COEF_AT_100 = .*;   \\/\\/ OPTIMIZE \\[1e0, 1e4\\] LOG$/constexpr double UCB1_COEF_AT_100 = 86.49279039615521;   \\/\\/ OPTIMIZE [1e0, 1e4] LOG/' -e 's/^constexpr double UCB1_EPS = .*;          \\/\\/ OPTIMIZE \\[1e-3, 1e1\\] LOG$/constexpr double UCB1_EPS = 0.0019916405073880828;          \\/\\/ OPTIMIZE [1e-3, 1e1] LOG/' -e 's/^constexpr double UCB1_DECAY_RATE_TMP = .*;           \\/\\/ OPTIMIZE \\[1e-5, 0\\.1\\] LOG$/constexpr double UCB1_DECAY_RATE_TMP = 0.00043593906361797844;           \\/\\/ OPTIMIZE [1e-5, 0.1] LOG/' -e 's/^constexpr double TURNING_COST_AT_100 = .*;           \\/\\/ OPTIMIZE \\[1000\\.0, 1e5\\]$/constexpr double TURNING_COST_AT_100 = 5919.3081529094825;           \\/\\/ OPTIMIZE [1000.0, 1e5]/' -e 's/^constexpr double TURNING_COST_COEF_TMP = .*;           \\/\\/ OPTIMIZE \\[0\\.001, 0\\.1\\] LOG$/constexpr double TURNING_COST_COEF_TMP = 0.05991803641925516;           \\/\\/ OPTIMIZE [0.001, 0.1] LOG/'\n",
      "sed -i 3_main.cpp -e 's/^constexpr double UCB1_COEF_AT_100 = .*;   \\/\\/ OPTIMIZE \\[1e0, 1e4\\] LOG$/constexpr double UCB1_COEF_AT_100 = 95.20315637675168;   \\/\\/ OPTIMIZE [1e0, 1e4] LOG/' -e 's/^constexpr double UCB1_EPS = .*;          \\/\\/ OPTIMIZE \\[1e-3, 1e1\\] LOG$/constexpr double UCB1_EPS = 0.001581166142230602;          \\/\\/ OPTIMIZE [1e-3, 1e1] LOG/' -e 's/^constexpr double UCB1_DECAY_RATE_TMP = .*;           \\/\\/ OPTIMIZE \\[1e-5, 0\\.1\\] LOG$/constexpr double UCB1_DECAY_RATE_TMP = 0.0004316246395322454;           \\/\\/ OPTIMIZE [1e-5, 0.1] LOG/' -e 's/^constexpr double TURNING_COST_AT_100 = .*;           \\/\\/ OPTIMIZE \\[1000\\.0, 1e5\\]$/constexpr double TURNING_COST_AT_100 = 5758.257057711892;           \\/\\/ OPTIMIZE [1000.0, 1e5]/' -e 's/^constexpr double TURNING_COST_COEF_TMP = .*;           \\/\\/ OPTIMIZE \\[0\\.001, 0\\.1\\] LOG$/constexpr double TURNING_COST_COEF_TMP = 0.07133524560834871;           \\/\\/ OPTIMIZE [0.001, 0.1] LOG/'\n",
      "g++ 2_main.cpp -std=gnu++17 -O2 -DONLINE_JUDGE -o 2_main.cpp.out 2> /dev/null\n",
      "g++ 3_main.cpp -std=gnu++17 -O2 -DONLINE_JUDGE -o 3_main.cpp.out 2> /dev/null\n"
     ]
    },
    {
     "name": "stderr",
     "output_type": "stream",
     "text": [
      "\u001b[32m[I 2021-05-30 08:20:50,612]\u001b[0m Trial 120 finished with value: 486190731965.0 and parameters: {'UCB1_COEF_AT_100': 81.80453271273102, 'UCB1_EPS': 0.0033344497385861703, 'UCB1_DECAY_RATE_TMP': 0.0004514714046681557, 'TURNING_COST_AT_100': 5981.592715568541, 'TURNING_COST_COEF_TMP': 0.012946305803738305}. Best is trial 116 with value: 486437733234.0.\u001b[0m\n"
     ]
    },
    {
     "name": "stdout",
     "output_type": "stream",
     "text": [
      "callback ok\n",
      "index_parallel=4\n",
      "mkdir: cannot create directory ‘4_out’: File exists\n",
      "mkdir: cannot create directory ‘4_score’: File exists\n",
      "rm: cannot remove '4_out/*': No such file or directory\n",
      "sed -i 4_main.cpp -e 's/^constexpr double UCB1_COEF_AT_100 = .*;   \\/\\/ OPTIMIZE \\[1e0, 1e4\\] LOG$/constexpr double UCB1_COEF_AT_100 = 81.6470896889944;   \\/\\/ OPTIMIZE [1e0, 1e4] LOG/' -e 's/^constexpr double UCB1_EPS = .*;          \\/\\/ OPTIMIZE \\[1e-3, 1e1\\] LOG$/constexpr double UCB1_EPS = 0.001882930229524008;          \\/\\/ OPTIMIZE [1e-3, 1e1] LOG/' -e 's/^constexpr double UCB1_DECAY_RATE_TMP = .*;           \\/\\/ OPTIMIZE \\[1e-5, 0\\.1\\] LOG$/constexpr double UCB1_DECAY_RATE_TMP = 0.00028855789467072156;           \\/\\/ OPTIMIZE [1e-5, 0.1] LOG/' -e 's/^constexpr double TURNING_COST_AT_100 = .*;           \\/\\/ OPTIMIZE \\[1000\\.0, 1e5\\]$/constexpr double TURNING_COST_AT_100 = 6098.908202380042;           \\/\\/ OPTIMIZE [1000.0, 1e5]/' -e 's/^constexpr double TURNING_COST_COEF_TMP = .*;           \\/\\/ OPTIMIZE \\[0\\.001, 0\\.1\\] LOG$/constexpr double TURNING_COST_COEF_TMP = 0.011892976328186975;           \\/\\/ OPTIMIZE [0.001, 0.1] LOG/'\n",
      "g++ 4_main.cpp -std=gnu++17 -O2 -DONLINE_JUDGE -o 4_main.cpp.out 2> /dev/null\n"
     ]
    },
    {
     "name": "stderr",
     "output_type": "stream",
     "text": [
      "\u001b[32m[I 2021-05-30 08:20:55,498]\u001b[0m Trial 121 finished with value: 485849110772.0 and parameters: {'UCB1_COEF_AT_100': 77.71898006229664, 'UCB1_EPS': 0.0018801851954242169, 'UCB1_DECAY_RATE_TMP': 0.00019628553947776534, 'TURNING_COST_AT_100': 5671.981472366718, 'TURNING_COST_COEF_TMP': 0.04616882036443748}. Best is trial 116 with value: 486437733234.0.\u001b[0m\n"
     ]
    },
    {
     "name": "stdout",
     "output_type": "stream",
     "text": [
      "callback ok\n",
      "index_parallel=5\n",
      "mkdir: cannot create directory ‘5_out’: File exists\n",
      "mkdir: cannot create directory ‘5_score’: File exists\n",
      "rm: cannot remove '5_out/*': No such file or directory\n"
     ]
    },
    {
     "name": "stderr",
     "output_type": "stream",
     "text": [
      "\u001b[32m[I 2021-05-30 08:20:55,964]\u001b[0m Trial 122 finished with value: 485656313551.0 and parameters: {'UCB1_COEF_AT_100': 86.49279039615521, 'UCB1_EPS': 0.0019916405073880828, 'UCB1_DECAY_RATE_TMP': 0.00043593906361797844, 'TURNING_COST_AT_100': 5919.3081529094825, 'TURNING_COST_COEF_TMP': 0.05991803641925516}. Best is trial 116 with value: 486437733234.0.\u001b[0m\n"
     ]
    },
    {
     "name": "stdout",
     "output_type": "stream",
     "text": [
      "callback ok\n",
      "index_parallel=6\n",
      "mkdir: cannot create directory ‘6_out’: File exists\n",
      "mkdir: cannot create directory ‘6_score’: File exists\n",
      "rm: cannot remove '6_out/*': No such file or directory\n"
     ]
    },
    {
     "name": "stderr",
     "output_type": "stream",
     "text": [
      "\u001b[32m[I 2021-05-30 08:20:56,322]\u001b[0m Trial 123 finished with value: 485349808363.0 and parameters: {'UCB1_COEF_AT_100': 95.20315637675168, 'UCB1_EPS': 0.001581166142230602, 'UCB1_DECAY_RATE_TMP': 0.0004316246395322454, 'TURNING_COST_AT_100': 5758.257057711892, 'TURNING_COST_COEF_TMP': 0.07133524560834871}. Best is trial 116 with value: 486437733234.0.\u001b[0m\n"
     ]
    },
    {
     "name": "stdout",
     "output_type": "stream",
     "text": [
      "callback ok\n",
      "index_parallel=7\n",
      "mkdir: cannot create directory ‘7_out’: File exists\n",
      "sed -i 5_main.cpp -e 's/^constexpr double UCB1_COEF_AT_100 = .*;   \\/\\/ OPTIMIZE \\[1e0, 1e4\\] LOG$/constexpr double UCB1_COEF_AT_100 = 99.50788909757641;   \\/\\/ OPTIMIZE [1e0, 1e4] LOG/' -e 's/^constexpr double UCB1_EPS = .*;          \\/\\/ OPTIMIZE \\[1e-3, 1e1\\] LOG$/constexpr double UCB1_EPS = 0.0025125462638511324;          \\/\\/ OPTIMIZE [1e-3, 1e1] LOG/' -e 's/^constexpr double UCB1_DECAY_RATE_TMP = .*;           \\/\\/ OPTIMIZE \\[1e-5, 0\\.1\\] LOG$/constexpr double UCB1_DECAY_RATE_TMP = 0.00029760703260048896;           \\/\\/ OPTIMIZE [1e-5, 0.1] LOG/' -e 's/^constexpr double TURNING_COST_AT_100 = .*;           \\/\\/ OPTIMIZE \\[1000\\.0, 1e5\\]$/constexpr double TURNING_COST_AT_100 = 1011.4403193065987;           \\/\\/ OPTIMIZE [1000.0, 1e5]/' -e 's/^constexpr double TURNING_COST_COEF_TMP = .*;           \\/\\/ OPTIMIZE \\[0\\.001, 0\\.1\\] LOG$/constexpr double TURNING_COST_COEF_TMP = 0.012394669722361782;           \\/\\/ OPTIMIZE [0.001, 0.1] LOG/'\n",
      "mkdir: cannot create directory ‘7_score’: File exists\n",
      "g++ 5_main.cpp -std=gnu++17 -O2 -DONLINE_JUDGE -o 5_main.cpp.out 2> /dev/null\n",
      "rm: cannot remove '7_out/*': No such file or directory\n",
      "sed -i 6_main.cpp -e 's/^constexpr double UCB1_COEF_AT_100 = .*;   \\/\\/ OPTIMIZE \\[1e0, 1e4\\] LOG$/constexpr double UCB1_COEF_AT_100 = 145.0345084149557;   \\/\\/ OPTIMIZE [1e0, 1e4] LOG/' -e 's/^constexpr double UCB1_EPS = .*;          \\/\\/ OPTIMIZE \\[1e-3, 1e1\\] LOG$/constexpr double UCB1_EPS = 0.002636630590709174;          \\/\\/ OPTIMIZE [1e-3, 1e1] LOG/' -e 's/^constexpr double UCB1_DECAY_RATE_TMP = .*;           \\/\\/ OPTIMIZE \\[1e-5, 0\\.1\\] LOG$/constexpr double UCB1_DECAY_RATE_TMP = 0.00031783007242130513;           \\/\\/ OPTIMIZE [1e-5, 0.1] LOG/' -e 's/^constexpr double TURNING_COST_AT_100 = .*;           \\/\\/ OPTIMIZE \\[1000\\.0, 1e5\\]$/constexpr double TURNING_COST_AT_100 = 3025.54195419291;           \\/\\/ OPTIMIZE [1000.0, 1e5]/' -e 's/^constexpr double TURNING_COST_COEF_TMP = .*;           \\/\\/ OPTIMIZE \\[0\\.001, 0\\.1\\] LOG$/constexpr double TURNING_COST_COEF_TMP = 0.012533639254014631;           \\/\\/ OPTIMIZE [0.001, 0.1] LOG/'\n",
      "g++ 6_main.cpp -std=gnu++17 -O2 -DONLINE_JUDGE -o 6_main.cpp.out 2> /dev/null\n",
      "sed -i 7_main.cpp -e 's/^constexpr double UCB1_COEF_AT_100 = .*;   \\/\\/ OPTIMIZE \\[1e0, 1e4\\] LOG$/constexpr double UCB1_COEF_AT_100 = 147.58351298935926;   \\/\\/ OPTIMIZE [1e0, 1e4] LOG/' -e 's/^constexpr double UCB1_EPS = .*;          \\/\\/ OPTIMIZE \\[1e-3, 1e1\\] LOG$/constexpr double UCB1_EPS = 0.002763240458760023;          \\/\\/ OPTIMIZE [1e-3, 1e1] LOG/' -e 's/^constexpr double UCB1_DECAY_RATE_TMP = .*;           \\/\\/ OPTIMIZE \\[1e-5, 0\\.1\\] LOG$/constexpr double UCB1_DECAY_RATE_TMP = 0.00029243734824271363;           \\/\\/ OPTIMIZE [1e-5, 0.1] LOG/' -e 's/^constexpr double TURNING_COST_AT_100 = .*;           \\/\\/ OPTIMIZE \\[1000\\.0, 1e5\\]$/constexpr double TURNING_COST_AT_100 = 3129.732631072113;           \\/\\/ OPTIMIZE [1000.0, 1e5]/' -e 's/^constexpr double TURNING_COST_COEF_TMP = .*;           \\/\\/ OPTIMIZE \\[0\\.001, 0\\.1\\] LOG$/constexpr double TURNING_COST_COEF_TMP = 0.013014745540907462;           \\/\\/ OPTIMIZE [0.001, 0.1] LOG/'\n",
      "g++ 7_main.cpp -std=gnu++17 -O2 -DONLINE_JUDGE -o 7_main.cpp.out 2> /dev/null\n"
     ]
    },
    {
     "name": "stderr",
     "output_type": "stream",
     "text": [
      "\u001b[32m[I 2021-05-30 08:24:47,119]\u001b[0m Trial 124 finished with value: 485951997689.0 and parameters: {'UCB1_COEF_AT_100': 81.6470896889944, 'UCB1_EPS': 0.001882930229524008, 'UCB1_DECAY_RATE_TMP': 0.00028855789467072156, 'TURNING_COST_AT_100': 6098.908202380042, 'TURNING_COST_COEF_TMP': 0.011892976328186975}. Best is trial 116 with value: 486437733234.0.\u001b[0m\n"
     ]
    },
    {
     "name": "stdout",
     "output_type": "stream",
     "text": [
      "callback ok\n",
      "index_parallel=8\n",
      "mkdir: cannot create directory ‘8_out’: File exists\n",
      "mkdir: cannot create directory ‘8_score’: File exists\n",
      "rm: cannot remove '8_out/*': No such file or directory\n",
      "sed -i 8_main.cpp -e 's/^constexpr double UCB1_COEF_AT_100 = .*;   \\/\\/ OPTIMIZE \\[1e0, 1e4\\] LOG$/constexpr double UCB1_COEF_AT_100 = 47.31540760141479;   \\/\\/ OPTIMIZE [1e0, 1e4] LOG/' -e 's/^constexpr double UCB1_EPS = .*;          \\/\\/ OPTIMIZE \\[1e-3, 1e1\\] LOG$/constexpr double UCB1_EPS = 0.0026808094706258466;          \\/\\/ OPTIMIZE [1e-3, 1e1] LOG/' -e 's/^constexpr double UCB1_DECAY_RATE_TMP = .*;           \\/\\/ OPTIMIZE \\[1e-5, 0\\.1\\] LOG$/constexpr double UCB1_DECAY_RATE_TMP = 0.0007095779705795057;           \\/\\/ OPTIMIZE [1e-5, 0.1] LOG/' -e 's/^constexpr double TURNING_COST_AT_100 = .*;           \\/\\/ OPTIMIZE \\[1000\\.0, 1e5\\]$/constexpr double TURNING_COST_AT_100 = 2919.9848430281354;           \\/\\/ OPTIMIZE [1000.0, 1e5]/' -e 's/^constexpr double TURNING_COST_COEF_TMP = .*;           \\/\\/ OPTIMIZE \\[0\\.001, 0\\.1\\] LOG$/constexpr double TURNING_COST_COEF_TMP = 0.013920435356987441;           \\/\\/ OPTIMIZE [0.001, 0.1] LOG/'\n",
      "g++ 8_main.cpp -std=gnu++17 -O2 -DONLINE_JUDGE -o 8_main.cpp.out 2> /dev/null\n"
     ]
    },
    {
     "name": "stderr",
     "output_type": "stream",
     "text": [
      "\u001b[32m[I 2021-05-30 08:24:57,336]\u001b[0m Trial 126 finished with value: 485473028693.0 and parameters: {'UCB1_COEF_AT_100': 145.0345084149557, 'UCB1_EPS': 0.002636630590709174, 'UCB1_DECAY_RATE_TMP': 0.00031783007242130513, 'TURNING_COST_AT_100': 3025.54195419291, 'TURNING_COST_COEF_TMP': 0.012533639254014631}. Best is trial 116 with value: 486437733234.0.\u001b[0m\n"
     ]
    },
    {
     "name": "stdout",
     "output_type": "stream",
     "text": [
      "callback ok\n",
      "index_parallel=9\n",
      "mkdir: cannot create directory ‘9_out’: File exists\n",
      "mkdir: cannot create directory ‘9_score’: File exists\n"
     ]
    },
    {
     "name": "stderr",
     "output_type": "stream",
     "text": [
      "\u001b[32m[I 2021-05-30 08:24:57,586]\u001b[0m Trial 125 finished with value: 486068159104.0 and parameters: {'UCB1_COEF_AT_100': 99.50788909757641, 'UCB1_EPS': 0.0025125462638511324, 'UCB1_DECAY_RATE_TMP': 0.00029760703260048896, 'TURNING_COST_AT_100': 1011.4403193065987, 'TURNING_COST_COEF_TMP': 0.012394669722361782}. Best is trial 116 with value: 486437733234.0.\u001b[0m\n"
     ]
    },
    {
     "name": "stdout",
     "output_type": "stream",
     "text": [
      "callback ok\n",
      "rm: cannot remove '9_out/*': No such file or directory\n",
      "index_parallel=10\n",
      "mkdir: cannot create directory ‘10_out’: File exists\n",
      "mkdir: cannot create directory ‘10_score’: File exists\n",
      "rm: cannot remove '10_out/*': No such file or directory\n",
      "sed -i 9_main.cpp -e 's/^constexpr double UCB1_COEF_AT_100 = .*;   \\/\\/ OPTIMIZE \\[1e0, 1e4\\] LOG$/constexpr double UCB1_COEF_AT_100 = 54.08461143536019;   \\/\\/ OPTIMIZE [1e0, 1e4] LOG/' -e 's/^constexpr double UCB1_EPS = .*;          \\/\\/ OPTIMIZE \\[1e-3, 1e1\\] LOG$/constexpr double UCB1_EPS = 0.003801498402093366;          \\/\\/ OPTIMIZE [1e-3, 1e1] LOG/' -e 's/^constexpr double UCB1_DECAY_RATE_TMP = .*;           \\/\\/ OPTIMIZE \\[1e-5, 0\\.1\\] LOG$/constexpr double UCB1_DECAY_RATE_TMP = 0.0007531451052661292;           \\/\\/ OPTIMIZE [1e-5, 0.1] LOG/' -e 's/^constexpr double TURNING_COST_AT_100 = .*;           \\/\\/ OPTIMIZE \\[1000\\.0, 1e5\\]$/constexpr double TURNING_COST_AT_100 = 3455.302589856377;           \\/\\/ OPTIMIZE [1000.0, 1e5]/' -e 's/^constexpr double TURNING_COST_COEF_TMP = .*;           \\/\\/ OPTIMIZE \\[0\\.001, 0\\.1\\] LOG$/constexpr double TURNING_COST_COEF_TMP = 0.03468893642889005;           \\/\\/ OPTIMIZE [0.001, 0.1] LOG/'\n",
      "g++ 9_main.cpp -std=gnu++17 -O2 -DONLINE_JUDGE -o 9_main.cpp.out 2> /dev/null\n",
      "sed -i 10_main.cpp -e 's/^constexpr double UCB1_COEF_AT_100 = .*;   \\/\\/ OPTIMIZE \\[1e0, 1e4\\] LOG$/constexpr double UCB1_COEF_AT_100 = 44.863291460721506;   \\/\\/ OPTIMIZE [1e0, 1e4] LOG/' -e 's/^constexpr double UCB1_EPS = .*;          \\/\\/ OPTIMIZE \\[1e-3, 1e1\\] LOG$/constexpr double UCB1_EPS = 0.003765651968017884;          \\/\\/ OPTIMIZE [1e-3, 1e1] LOG/' -e 's/^constexpr double UCB1_DECAY_RATE_TMP = .*;           \\/\\/ OPTIMIZE \\[1e-5, 0\\.1\\] LOG$/constexpr double UCB1_DECAY_RATE_TMP = 0.0007921628532160218;           \\/\\/ OPTIMIZE [1e-5, 0.1] LOG/' -e 's/^constexpr double TURNING_COST_AT_100 = .*;           \\/\\/ OPTIMIZE \\[1000\\.0, 1e5\\]$/constexpr double TURNING_COST_AT_100 = 3346.674187175511;           \\/\\/ OPTIMIZE [1000.0, 1e5]/' -e 's/^constexpr double TURNING_COST_COEF_TMP = .*;           \\/\\/ OPTIMIZE \\[0\\.001, 0\\.1\\] LOG$/constexpr double TURNING_COST_COEF_TMP = 0.03742778788661012;           \\/\\/ OPTIMIZE [0.001, 0.1] LOG/'\n"
     ]
    },
    {
     "name": "stderr",
     "output_type": "stream",
     "text": [
      "\u001b[32m[I 2021-05-30 08:24:58,707]\u001b[0m Trial 127 finished with value: 485375483277.0 and parameters: {'UCB1_COEF_AT_100': 147.58351298935926, 'UCB1_EPS': 0.002763240458760023, 'UCB1_DECAY_RATE_TMP': 0.00029243734824271363, 'TURNING_COST_AT_100': 3129.732631072113, 'TURNING_COST_COEF_TMP': 0.013014745540907462}. Best is trial 116 with value: 486437733234.0.\u001b[0m\n"
     ]
    },
    {
     "name": "stdout",
     "output_type": "stream",
     "text": [
      "callback ok\n",
      "index_parallel=11\n",
      "mkdir: cannot create directory ‘11_out’: File exists\n",
      "g++ 10_main.cpp -std=gnu++17 -O2 -DONLINE_JUDGE -o 10_main.cpp.out 2> /dev/null\n",
      "mkdir: cannot create directory ‘11_score’: File exists\n",
      "rm: cannot remove '11_out/*': No such file or directory\n",
      "sed -i 11_main.cpp -e 's/^constexpr double UCB1_COEF_AT_100 = .*;   \\/\\/ OPTIMIZE \\[1e0, 1e4\\] LOG$/constexpr double UCB1_COEF_AT_100 = 48.33973496244301;   \\/\\/ OPTIMIZE [1e0, 1e4] LOG/' -e 's/^constexpr double UCB1_EPS = .*;          \\/\\/ OPTIMIZE \\[1e-3, 1e1\\] LOG$/constexpr double UCB1_EPS = 0.0038383971344553747;          \\/\\/ OPTIMIZE [1e-3, 1e1] LOG/' -e 's/^constexpr double UCB1_DECAY_RATE_TMP = .*;           \\/\\/ OPTIMIZE \\[1e-5, 0\\.1\\] LOG$/constexpr double UCB1_DECAY_RATE_TMP = 0.0008558300494482243;           \\/\\/ OPTIMIZE [1e-5, 0.1] LOG/' -e 's/^constexpr double TURNING_COST_AT_100 = .*;           \\/\\/ OPTIMIZE \\[1000\\.0, 1e5\\]$/constexpr double TURNING_COST_AT_100 = 3325.6745217618027;           \\/\\/ OPTIMIZE [1000.0, 1e5]/' -e 's/^constexpr double TURNING_COST_COEF_TMP = .*;           \\/\\/ OPTIMIZE \\[0\\.001, 0\\.1\\] LOG$/constexpr double TURNING_COST_COEF_TMP = 0.007783352912485052;           \\/\\/ OPTIMIZE [0.001, 0.1] LOG/'\n",
      "g++ 11_main.cpp -std=gnu++17 -O2 -DONLINE_JUDGE -o 11_main.cpp.out 2> /dev/null\n"
     ]
    },
    {
     "name": "stderr",
     "output_type": "stream",
     "text": [
      "\u001b[32m[I 2021-05-30 08:28:43,093]\u001b[0m Trial 128 finished with value: 486372532150.0 and parameters: {'UCB1_COEF_AT_100': 47.31540760141479, 'UCB1_EPS': 0.0026808094706258466, 'UCB1_DECAY_RATE_TMP': 0.0007095779705795057, 'TURNING_COST_AT_100': 2919.9848430281354, 'TURNING_COST_COEF_TMP': 0.013920435356987441}. Best is trial 116 with value: 486437733234.0.\u001b[0m\n"
     ]
    },
    {
     "name": "stdout",
     "output_type": "stream",
     "text": [
      "callback ok\n",
      "index_parallel=0\n",
      "mkdir: cannot create directory ‘0_out’: File exists\n",
      "mkdir: cannot create directory ‘0_score’: File exists\n",
      "rm: cannot remove '0_out/*': No such file or directory\n",
      "sed -i 0_main.cpp -e 's/^constexpr double UCB1_COEF_AT_100 = .*;   \\/\\/ OPTIMIZE \\[1e0, 1e4\\] LOG$/constexpr double UCB1_COEF_AT_100 = 61.4425756082634;   \\/\\/ OPTIMIZE [1e0, 1e4] LOG/' -e 's/^constexpr double UCB1_EPS = .*;          \\/\\/ OPTIMIZE \\[1e-3, 1e1\\] LOG$/constexpr double UCB1_EPS = 0.001248955368951145;          \\/\\/ OPTIMIZE [1e-3, 1e1] LOG/' -e 's/^constexpr double UCB1_DECAY_RATE_TMP = .*;           \\/\\/ OPTIMIZE \\[1e-5, 0\\.1\\] LOG$/constexpr double UCB1_DECAY_RATE_TMP = 0.0007036222544213264;           \\/\\/ OPTIMIZE [1e-5, 0.1] LOG/' -e 's/^constexpr double TURNING_COST_AT_100 = .*;           \\/\\/ OPTIMIZE \\[1000\\.0, 1e5\\]$/constexpr double TURNING_COST_AT_100 = 7357.670923505391;           \\/\\/ OPTIMIZE [1000.0, 1e5]/' -e 's/^constexpr double TURNING_COST_COEF_TMP = .*;           \\/\\/ OPTIMIZE \\[0\\.001, 0\\.1\\] LOG$/constexpr double TURNING_COST_COEF_TMP = 0.02209261847129484;           \\/\\/ OPTIMIZE [0.001, 0.1] LOG/'\n",
      "g++ 0_main.cpp -std=gnu++17 -O2 -DONLINE_JUDGE -o 0_main.cpp.out 2> /dev/null\n"
     ]
    },
    {
     "name": "stderr",
     "output_type": "stream",
     "text": [
      "\u001b[32m[I 2021-05-30 08:28:54,131]\u001b[0m Trial 130 finished with value: 486279978517.0 and parameters: {'UCB1_COEF_AT_100': 44.863291460721506, 'UCB1_EPS': 0.003765651968017884, 'UCB1_DECAY_RATE_TMP': 0.0007921628532160218, 'TURNING_COST_AT_100': 3346.674187175511, 'TURNING_COST_COEF_TMP': 0.03742778788661012}. Best is trial 116 with value: 486437733234.0.\u001b[0m\n",
      "\u001b[32m[I 2021-05-30 08:28:54,154]\u001b[0m Trial 131 finished with value: 486248070992.0 and parameters: {'UCB1_COEF_AT_100': 48.33973496244301, 'UCB1_EPS': 0.0038383971344553747, 'UCB1_DECAY_RATE_TMP': 0.0008558300494482243, 'TURNING_COST_AT_100': 3325.6745217618027, 'TURNING_COST_COEF_TMP': 0.007783352912485052}. Best is trial 116 with value: 486437733234.0.\u001b[0m\n"
     ]
    },
    {
     "name": "stdout",
     "output_type": "stream",
     "text": [
      "callback ok\n",
      "index_parallel=1\n",
      "mkdir: cannot create directory ‘1_out’: File exists\n",
      "callback ok\n",
      "index_parallel=2\n",
      "mkdir: cannot create directory ‘2_out’: File exists\n"
     ]
    },
    {
     "name": "stderr",
     "output_type": "stream",
     "text": [
      "\u001b[32m[I 2021-05-30 08:28:54,306]\u001b[0m Trial 129 finished with value: 486217502351.0 and parameters: {'UCB1_COEF_AT_100': 54.08461143536019, 'UCB1_EPS': 0.003801498402093366, 'UCB1_DECAY_RATE_TMP': 0.0007531451052661292, 'TURNING_COST_AT_100': 3455.302589856377, 'TURNING_COST_COEF_TMP': 0.03468893642889005}. Best is trial 116 with value: 486437733234.0.\u001b[0m\n"
     ]
    },
    {
     "name": "stdout",
     "output_type": "stream",
     "text": [
      "callback ok\n",
      "mkdir: cannot create directory ‘1_score’: File exists\n",
      "index_parallel=3\n",
      "mkdir: cannot create directory ‘3_out’: File exists\n",
      "mkdir: cannot create directory ‘2_score’: File exists\n",
      "rm: cannot remove '1_out/*': No such file or directory\n",
      "mkdir: cannot create directory ‘3_score’: File exists\n",
      "rm: cannot remove '2_out/*': No such file or directory\n",
      "rm: cannot remove '3_out/*': No such file or directory\n",
      "sed -i 1_main.cpp -e 's/^constexpr double UCB1_COEF_AT_100 = .*;   \\/\\/ OPTIMIZE \\[1e0, 1e4\\] LOG$/constexpr double UCB1_COEF_AT_100 = 31.07484363567943;   \\/\\/ OPTIMIZE [1e0, 1e4] LOG/' -e 's/^constexpr double UCB1_EPS = .*;          \\/\\/ OPTIMIZE \\[1e-3, 1e1\\] LOG$/constexpr double UCB1_EPS = 0.004790202233890803;          \\/\\/ OPTIMIZE [1e-3, 1e1] LOG/' -e 's/^constexpr double UCB1_DECAY_RATE_TMP = .*;           \\/\\/ OPTIMIZE \\[1e-5, 0\\.1\\] LOG$/constexpr double UCB1_DECAY_RATE_TMP = 0.0006734905191436142;           \\/\\/ OPTIMIZE [1e-5, 0.1] LOG/' -e 's/^constexpr double TURNING_COST_AT_100 = .*;           \\/\\/ OPTIMIZE \\[1000\\.0, 1e5\\]$/constexpr double TURNING_COST_AT_100 = 1200.8065181875952;           \\/\\/ OPTIMIZE [1000.0, 1e5]/' -e 's/^constexpr double TURNING_COST_COEF_TMP = .*;           \\/\\/ OPTIMIZE \\[0\\.001, 0\\.1\\] LOG$/constexpr double TURNING_COST_COEF_TMP = 0.026242134381617373;           \\/\\/ OPTIMIZE [0.001, 0.1] LOG/'\n",
      "g++ 1_main.cpp -std=gnu++17 -O2 -DONLINE_JUDGE -o 1_main.cpp.out 2> /dev/null\n",
      "sed -i 2_main.cpp -e 's/^constexpr double UCB1_COEF_AT_100 = .*;   \\/\\/ OPTIMIZE \\[1e0, 1e4\\] LOG$/constexpr double UCB1_COEF_AT_100 = 47.66400581159145;   \\/\\/ OPTIMIZE [1e0, 1e4] LOG/' -e 's/^constexpr double UCB1_EPS = .*;          \\/\\/ OPTIMIZE \\[1e-3, 1e1\\] LOG$/constexpr double UCB1_EPS = 0.004561366334908427;          \\/\\/ OPTIMIZE [1e-3, 1e1] LOG/' -e 's/^constexpr double UCB1_DECAY_RATE_TMP = .*;           \\/\\/ OPTIMIZE \\[1e-5, 0\\.1\\] LOG$/constexpr double UCB1_DECAY_RATE_TMP = 0.000915889558576533;           \\/\\/ OPTIMIZE [1e-5, 0.1] LOG/' -e 's/^constexpr double TURNING_COST_AT_100 = .*;           \\/\\/ OPTIMIZE \\[1000\\.0, 1e5\\]$/constexpr double TURNING_COST_AT_100 = 8305.004732998183;           \\/\\/ OPTIMIZE [1000.0, 1e5]/' -e 's/^constexpr double TURNING_COST_COEF_TMP = .*;           \\/\\/ OPTIMIZE \\[0\\.001, 0\\.1\\] LOG$/constexpr double TURNING_COST_COEF_TMP = 0.02067534352727228;           \\/\\/ OPTIMIZE [0.001, 0.1] LOG/'\n",
      "sed -i 3_main.cpp -e 's/^constexpr double UCB1_COEF_AT_100 = .*;   \\/\\/ OPTIMIZE \\[1e0, 1e4\\] LOG$/constexpr double UCB1_COEF_AT_100 = 30.14049412405642;   \\/\\/ OPTIMIZE [1e0, 1e4] LOG/' -e 's/^constexpr double UCB1_EPS = .*;          \\/\\/ OPTIMIZE \\[1e-3, 1e1\\] LOG$/constexpr double UCB1_EPS = 0.004830593909392494;          \\/\\/ OPTIMIZE [1e-3, 1e1] LOG/' -e 's/^constexpr double UCB1_DECAY_RATE_TMP = .*;           \\/\\/ OPTIMIZE \\[1e-5, 0\\.1\\] LOG$/constexpr double UCB1_DECAY_RATE_TMP = 0.0009473129459789791;           \\/\\/ OPTIMIZE [1e-5, 0.1] LOG/' -e 's/^constexpr double TURNING_COST_AT_100 = .*;           \\/\\/ OPTIMIZE \\[1000\\.0, 1e5\\]$/constexpr double TURNING_COST_AT_100 = 7750.831374922514;           \\/\\/ OPTIMIZE [1000.0, 1e5]/' -e 's/^constexpr double TURNING_COST_COEF_TMP = .*;           \\/\\/ OPTIMIZE \\[0\\.001, 0\\.1\\] LOG$/constexpr double TURNING_COST_COEF_TMP = 0.00579300629050355;           \\/\\/ OPTIMIZE [0.001, 0.1] LOG/'\n",
      "g++ 2_main.cpp -std=gnu++17 -O2 -DONLINE_JUDGE -o 2_main.cpp.out 2> /dev/null\n",
      "g++ 3_main.cpp -std=gnu++17 -O2 -DONLINE_JUDGE -o 3_main.cpp.out 2> /dev/null\n"
     ]
    },
    {
     "name": "stderr",
     "output_type": "stream",
     "text": [
      "\u001b[32m[I 2021-05-30 08:32:40,598]\u001b[0m Trial 132 finished with value: 486146248084.0 and parameters: {'UCB1_COEF_AT_100': 61.4425756082634, 'UCB1_EPS': 0.001248955368951145, 'UCB1_DECAY_RATE_TMP': 0.0007036222544213264, 'TURNING_COST_AT_100': 7357.670923505391, 'TURNING_COST_COEF_TMP': 0.02209261847129484}. Best is trial 116 with value: 486437733234.0.\u001b[0m\n"
     ]
    },
    {
     "name": "stdout",
     "output_type": "stream",
     "text": [
      "callback ok\n",
      "index_parallel=4\n",
      "mkdir: cannot create directory ‘4_out’: File exists\n",
      "mkdir: cannot create directory ‘4_score’: File exists\n",
      "rm: cannot remove '4_out/*': No such file or directory\n",
      "sed -i 4_main.cpp -e 's/^constexpr double UCB1_COEF_AT_100 = .*;   \\/\\/ OPTIMIZE \\[1e0, 1e4\\] LOG$/constexpr double UCB1_COEF_AT_100 = 30.869132753748993;   \\/\\/ OPTIMIZE [1e0, 1e4] LOG/' -e 's/^constexpr double UCB1_EPS = .*;          \\/\\/ OPTIMIZE \\[1e-3, 1e1\\] LOG$/constexpr double UCB1_EPS = 0.004516965358306106;          \\/\\/ OPTIMIZE [1e-3, 1e1] LOG/' -e 's/^constexpr double UCB1_DECAY_RATE_TMP = .*;           \\/\\/ OPTIMIZE \\[1e-5, 0\\.1\\] LOG$/constexpr double UCB1_DECAY_RATE_TMP = 1.6820514743094884e-05;           \\/\\/ OPTIMIZE [1e-5, 0.1] LOG/' -e 's/^constexpr double TURNING_COST_AT_100 = .*;           \\/\\/ OPTIMIZE \\[1000\\.0, 1e5\\]$/constexpr double TURNING_COST_AT_100 = 1113.9699818999322;           \\/\\/ OPTIMIZE [1000.0, 1e5]/' -e 's/^constexpr double TURNING_COST_COEF_TMP = .*;           \\/\\/ OPTIMIZE \\[0\\.001, 0\\.1\\] LOG$/constexpr double TURNING_COST_COEF_TMP = 0.026394902620590407;           \\/\\/ OPTIMIZE [0.001, 0.1] LOG/'\n",
      "g++ 4_main.cpp -std=gnu++17 -O2 -DONLINE_JUDGE -o 4_main.cpp.out 2> /dev/null\n"
     ]
    },
    {
     "name": "stderr",
     "output_type": "stream",
     "text": [
      "\u001b[32m[I 2021-05-30 08:32:46,329]\u001b[0m Trial 135 finished with value: 485326736499.0 and parameters: {'UCB1_COEF_AT_100': 30.14049412405642, 'UCB1_EPS': 0.004830593909392494, 'UCB1_DECAY_RATE_TMP': 0.0009473129459789791, 'TURNING_COST_AT_100': 7750.831374922514, 'TURNING_COST_COEF_TMP': 0.00579300629050355}. Best is trial 116 with value: 486437733234.0.\u001b[0m\n"
     ]
    },
    {
     "name": "stdout",
     "output_type": "stream",
     "text": [
      "callback ok\n",
      "index_parallel=5\n",
      "mkdir: cannot create directory ‘5_out’: File exists\n",
      "mkdir: cannot create directory ‘5_score’: File exists\n",
      "rm: cannot remove '5_out/*': No such file or directory\n",
      "sed -i 5_main.cpp -e 's/^constexpr double UCB1_COEF_AT_100 = .*;   \\/\\/ OPTIMIZE \\[1e0, 1e4\\] LOG$/constexpr double UCB1_COEF_AT_100 = 43.72178954718772;   \\/\\/ OPTIMIZE [1e0, 1e4] LOG/' -e 's/^constexpr double UCB1_EPS = .*;          \\/\\/ OPTIMIZE \\[1e-3, 1e1\\] LOG$/constexpr double UCB1_EPS = 0.006628637203731319;          \\/\\/ OPTIMIZE [1e-3, 1e1] LOG/' -e 's/^constexpr double UCB1_DECAY_RATE_TMP = .*;           \\/\\/ OPTIMIZE \\[1e-5, 0\\.1\\] LOG$/constexpr double UCB1_DECAY_RATE_TMP = 0.0006589301410535461;           \\/\\/ OPTIMIZE [1e-5, 0.1] LOG/' -e 's/^constexpr double TURNING_COST_AT_100 = .*;           \\/\\/ OPTIMIZE \\[1000\\.0, 1e5\\]$/constexpr double TURNING_COST_AT_100 = 1894.9869297960481;           \\/\\/ OPTIMIZE [1000.0, 1e5]/' -e 's/^constexpr double TURNING_COST_COEF_TMP = .*;           \\/\\/ OPTIMIZE \\[0\\.001, 0\\.1\\] LOG$/constexpr double TURNING_COST_COEF_TMP = 0.01489552535036015;           \\/\\/ OPTIMIZE [0.001, 0.1] LOG/'\n",
      "g++ 5_main.cpp -std=gnu++17 -O2 -DONLINE_JUDGE -o 5_main.cpp.out 2> /dev/null\n"
     ]
    },
    {
     "name": "stderr",
     "output_type": "stream",
     "text": [
      "\u001b[32m[I 2021-05-30 08:32:49,715]\u001b[0m Trial 134 finished with value: 486033578854.0 and parameters: {'UCB1_COEF_AT_100': 47.66400581159145, 'UCB1_EPS': 0.004561366334908427, 'UCB1_DECAY_RATE_TMP': 0.000915889558576533, 'TURNING_COST_AT_100': 8305.004732998183, 'TURNING_COST_COEF_TMP': 0.02067534352727228}. Best is trial 116 with value: 486437733234.0.\u001b[0m\n"
     ]
    },
    {
     "name": "stdout",
     "output_type": "stream",
     "text": [
      "callback ok\n",
      "index_parallel=6\n",
      "mkdir: cannot create directory ‘6_out’: File exists\n",
      "mkdir: cannot create directory ‘6_score’: File exists\n",
      "rm: cannot remove '6_out/*': No such file or directory\n"
     ]
    },
    {
     "name": "stderr",
     "output_type": "stream",
     "text": [
      "\u001b[32m[I 2021-05-30 08:32:50,334]\u001b[0m Trial 133 finished with value: 485801191140.0 and parameters: {'UCB1_COEF_AT_100': 31.07484363567943, 'UCB1_EPS': 0.004790202233890803, 'UCB1_DECAY_RATE_TMP': 0.0006734905191436142, 'TURNING_COST_AT_100': 1200.8065181875952, 'TURNING_COST_COEF_TMP': 0.026242134381617373}. Best is trial 116 with value: 486437733234.0.\u001b[0m\n"
     ]
    },
    {
     "name": "stdout",
     "output_type": "stream",
     "text": [
      "callback ok\n",
      "index_parallel=7\n",
      "mkdir: cannot create directory ‘7_out’: File exists\n",
      "mkdir: cannot create directory ‘7_score’: File exists\n",
      "rm: cannot remove '7_out/*': No such file or directory\n",
      "sed -i 6_main.cpp -e 's/^constexpr double UCB1_COEF_AT_100 = .*;   \\/\\/ OPTIMIZE \\[1e0, 1e4\\] LOG$/constexpr double UCB1_COEF_AT_100 = 48.60471386270005;   \\/\\/ OPTIMIZE [1e0, 1e4] LOG/' -e 's/^constexpr double UCB1_EPS = .*;          \\/\\/ OPTIMIZE \\[1e-3, 1e1\\] LOG$/constexpr double UCB1_EPS = 0.006746145318849341;          \\/\\/ OPTIMIZE [1e-3, 1e1] LOG/' -e 's/^constexpr double UCB1_DECAY_RATE_TMP = .*;           \\/\\/ OPTIMIZE \\[1e-5, 0\\.1\\] LOG$/constexpr double UCB1_DECAY_RATE_TMP = 0.0007731181588458602;           \\/\\/ OPTIMIZE [1e-5, 0.1] LOG/' -e 's/^constexpr double TURNING_COST_AT_100 = .*;           \\/\\/ OPTIMIZE \\[1000\\.0, 1e5\\]$/constexpr double TURNING_COST_AT_100 = 3015.783096551643;           \\/\\/ OPTIMIZE [1000.0, 1e5]/' -e 's/^constexpr double TURNING_COST_COEF_TMP = .*;           \\/\\/ OPTIMIZE \\[0\\.001, 0\\.1\\] LOG$/constexpr double TURNING_COST_COEF_TMP = 0.017079286599664362;           \\/\\/ OPTIMIZE [0.001, 0.1] LOG/'\n",
      "g++ 6_main.cpp -std=gnu++17 -O2 -DONLINE_JUDGE -o 6_main.cpp.out 2> /dev/null\n",
      "sed -i 7_main.cpp -e 's/^constexpr double UCB1_COEF_AT_100 = .*;   \\/\\/ OPTIMIZE \\[1e0, 1e4\\] LOG$/constexpr double UCB1_COEF_AT_100 = 50.50643795894784;   \\/\\/ OPTIMIZE [1e0, 1e4] LOG/' -e 's/^constexpr double UCB1_EPS = .*;          \\/\\/ OPTIMIZE \\[1e-3, 1e1\\] LOG$/constexpr double UCB1_EPS = 0.006307119006352957;          \\/\\/ OPTIMIZE [1e-3, 1e1] LOG/' -e 's/^constexpr double UCB1_DECAY_RATE_TMP = .*;           \\/\\/ OPTIMIZE \\[1e-5, 0\\.1\\] LOG$/constexpr double UCB1_DECAY_RATE_TMP = 0.0007714165990053992;           \\/\\/ OPTIMIZE [1e-5, 0.1] LOG/' -e 's/^constexpr double TURNING_COST_AT_100 = .*;           \\/\\/ OPTIMIZE \\[1000\\.0, 1e5\\]$/constexpr double TURNING_COST_AT_100 = 2750.4270946909783;           \\/\\/ OPTIMIZE [1000.0, 1e5]/' -e 's/^constexpr double TURNING_COST_COEF_TMP = .*;           \\/\\/ OPTIMIZE \\[0\\.001, 0\\.1\\] LOG$/constexpr double TURNING_COST_COEF_TMP = 0.039971017819994986;           \\/\\/ OPTIMIZE [0.001, 0.1] LOG/'\n",
      "g++ 7_main.cpp -std=gnu++17 -O2 -DONLINE_JUDGE -o 7_main.cpp.out 2> /dev/null\n"
     ]
    },
    {
     "name": "stderr",
     "output_type": "stream",
     "text": [
      "\u001b[32m[I 2021-05-30 08:36:38,366]\u001b[0m Trial 136 finished with value: 485658707973.0 and parameters: {'UCB1_COEF_AT_100': 30.869132753748993, 'UCB1_EPS': 0.004516965358306106, 'UCB1_DECAY_RATE_TMP': 1.6820514743094884e-05, 'TURNING_COST_AT_100': 1113.9699818999322, 'TURNING_COST_COEF_TMP': 0.026394902620590407}. Best is trial 116 with value: 486437733234.0.\u001b[0m\n"
     ]
    },
    {
     "name": "stdout",
     "output_type": "stream",
     "text": [
      "callback ok\n",
      "index_parallel=8\n",
      "mkdir: cannot create directory ‘8_out’: File exists\n",
      "mkdir: cannot create directory ‘8_score’: File exists\n",
      "rm: cannot remove '8_out/*': No such file or directory\n",
      "sed -i 8_main.cpp -e 's/^constexpr double UCB1_COEF_AT_100 = .*;   \\/\\/ OPTIMIZE \\[1e0, 1e4\\] LOG$/constexpr double UCB1_COEF_AT_100 = 46.82770198312573;   \\/\\/ OPTIMIZE [1e0, 1e4] LOG/' -e 's/^constexpr double UCB1_EPS = .*;          \\/\\/ OPTIMIZE \\[1e-3, 1e1\\] LOG$/constexpr double UCB1_EPS = 0.006455972512725412;          \\/\\/ OPTIMIZE [1e-3, 1e1] LOG/' -e 's/^constexpr double UCB1_DECAY_RATE_TMP = .*;           \\/\\/ OPTIMIZE \\[1e-5, 0\\.1\\] LOG$/constexpr double UCB1_DECAY_RATE_TMP = 0.0007359060723804952;           \\/\\/ OPTIMIZE [1e-5, 0.1] LOG/' -e 's/^constexpr double TURNING_COST_AT_100 = .*;           \\/\\/ OPTIMIZE \\[1000\\.0, 1e5\\]$/constexpr double TURNING_COST_AT_100 = 3221.1067191110187;           \\/\\/ OPTIMIZE [1000.0, 1e5]/' -e 's/^constexpr double TURNING_COST_COEF_TMP = .*;           \\/\\/ OPTIMIZE \\[0\\.001, 0\\.1\\] LOG$/constexpr double TURNING_COST_COEF_TMP = 0.03552327590659168;           \\/\\/ OPTIMIZE [0.001, 0.1] LOG/'\n",
      "g++ 8_main.cpp -std=gnu++17 -O2 -DONLINE_JUDGE -o 8_main.cpp.out 2> /dev/null\n"
     ]
    },
    {
     "name": "stderr",
     "output_type": "stream",
     "text": [
      "\u001b[32m[I 2021-05-30 08:36:42,905]\u001b[0m Trial 137 finished with value: 485934587648.0 and parameters: {'UCB1_COEF_AT_100': 43.72178954718772, 'UCB1_EPS': 0.006628637203731319, 'UCB1_DECAY_RATE_TMP': 0.0006589301410535461, 'TURNING_COST_AT_100': 1894.9869297960481, 'TURNING_COST_COEF_TMP': 0.01489552535036015}. Best is trial 116 with value: 486437733234.0.\u001b[0m\n"
     ]
    },
    {
     "name": "stdout",
     "output_type": "stream",
     "text": [
      "callback ok\n",
      "index_parallel=9\n",
      "mkdir: cannot create directory ‘9_out’: File exists\n",
      "mkdir: cannot create directory ‘9_score’: File exists\n",
      "rm: cannot remove '9_out/*': No such file or directory\n",
      "sed -i 9_main.cpp -e 's/^constexpr double UCB1_COEF_AT_100 = .*;   \\/\\/ OPTIMIZE \\[1e0, 1e4\\] LOG$/constexpr double UCB1_COEF_AT_100 = 69.1100232901685;   \\/\\/ OPTIMIZE [1e0, 1e4] LOG/' -e 's/^constexpr double UCB1_EPS = .*;          \\/\\/ OPTIMIZE \\[1e-3, 1e1\\] LOG$/constexpr double UCB1_EPS = 0.00388667723887289;          \\/\\/ OPTIMIZE [1e-3, 1e1] LOG/' -e 's/^constexpr double UCB1_DECAY_RATE_TMP = .*;           \\/\\/ OPTIMIZE \\[1e-5, 0\\.1\\] LOG$/constexpr double UCB1_DECAY_RATE_TMP = 0.0008326453521153372;           \\/\\/ OPTIMIZE [1e-5, 0.1] LOG/' -e 's/^constexpr double TURNING_COST_AT_100 = .*;           \\/\\/ OPTIMIZE \\[1000\\.0, 1e5\\]$/constexpr double TURNING_COST_AT_100 = 3766.846878831731;           \\/\\/ OPTIMIZE [1000.0, 1e5]/' -e 's/^constexpr double TURNING_COST_COEF_TMP = .*;           \\/\\/ OPTIMIZE \\[0\\.001, 0\\.1\\] LOG$/constexpr double TURNING_COST_COEF_TMP = 0.036945590393449856;           \\/\\/ OPTIMIZE [0.001, 0.1] LOG/'\n",
      "g++ 9_main.cpp -std=gnu++17 -O2 -DONLINE_JUDGE -o 9_main.cpp.out 2> /dev/null\n"
     ]
    },
    {
     "name": "stderr",
     "output_type": "stream",
     "text": [
      "\u001b[32m[I 2021-05-30 08:36:46,586]\u001b[0m Trial 138 finished with value: 486163409347.0 and parameters: {'UCB1_COEF_AT_100': 48.60471386270005, 'UCB1_EPS': 0.006746145318849341, 'UCB1_DECAY_RATE_TMP': 0.0007731181588458602, 'TURNING_COST_AT_100': 3015.783096551643, 'TURNING_COST_COEF_TMP': 0.017079286599664362}. Best is trial 116 with value: 486437733234.0.\u001b[0m\n"
     ]
    },
    {
     "name": "stdout",
     "output_type": "stream",
     "text": [
      "callback ok\n",
      "index_parallel=10\n",
      "mkdir: cannot create directory ‘10_out’: File exists\n",
      "mkdir: cannot create directory ‘10_score’: File exists\n",
      "rm: cannot remove '10_out/*': No such file or directory\n"
     ]
    },
    {
     "name": "stderr",
     "output_type": "stream",
     "text": [
      "\u001b[32m[I 2021-05-30 08:36:47,358]\u001b[0m Trial 139 finished with value: 486038045879.0 and parameters: {'UCB1_COEF_AT_100': 50.50643795894784, 'UCB1_EPS': 0.006307119006352957, 'UCB1_DECAY_RATE_TMP': 0.0007714165990053992, 'TURNING_COST_AT_100': 2750.4270946909783, 'TURNING_COST_COEF_TMP': 0.039971017819994986}. Best is trial 116 with value: 486437733234.0.\u001b[0m\n"
     ]
    },
    {
     "name": "stdout",
     "output_type": "stream",
     "text": [
      "callback ok\n",
      "index_parallel=11\n",
      "mkdir: cannot create directory ‘11_out’: File exists\n",
      "mkdir: cannot create directory ‘11_score’: File exists\n",
      "sed -i 10_main.cpp -e 's/^constexpr double UCB1_COEF_AT_100 = .*;   \\/\\/ OPTIMIZE \\[1e0, 1e4\\] LOG$/constexpr double UCB1_COEF_AT_100 = 112.42545101077398;   \\/\\/ OPTIMIZE [1e0, 1e4] LOG/' -e 's/^constexpr double UCB1_EPS = .*;          \\/\\/ OPTIMIZE \\[1e-3, 1e1\\] LOG$/constexpr double UCB1_EPS = 0.003729822943150411;          \\/\\/ OPTIMIZE [1e-3, 1e1] LOG/' -e 's/^constexpr double UCB1_DECAY_RATE_TMP = .*;           \\/\\/ OPTIMIZE \\[1e-5, 0\\.1\\] LOG$/constexpr double UCB1_DECAY_RATE_TMP = 0.0011048730324710577;           \\/\\/ OPTIMIZE [1e-5, 0.1] LOG/' -e 's/^constexpr double TURNING_COST_AT_100 = .*;           \\/\\/ OPTIMIZE \\[1000\\.0, 1e5\\]$/constexpr double TURNING_COST_AT_100 = 10512.19114862767;           \\/\\/ OPTIMIZE [1000.0, 1e5]/' -e 's/^constexpr double TURNING_COST_COEF_TMP = .*;           \\/\\/ OPTIMIZE \\[0\\.001, 0\\.1\\] LOG$/constexpr double TURNING_COST_COEF_TMP = 0.007866859015852672;           \\/\\/ OPTIMIZE [0.001, 0.1] LOG/'\n",
      "rm: cannot remove '11_out/*': No such file or directory\n",
      "g++ 10_main.cpp -std=gnu++17 -O2 -DONLINE_JUDGE -o 10_main.cpp.out 2> /dev/null\n",
      "sed -i 11_main.cpp -e 's/^constexpr double UCB1_COEF_AT_100 = .*;   \\/\\/ OPTIMIZE \\[1e0, 1e4\\] LOG$/constexpr double UCB1_COEF_AT_100 = 70.47610857630498;   \\/\\/ OPTIMIZE [1e0, 1e4] LOG/' -e 's/^constexpr double UCB1_EPS = .*;          \\/\\/ OPTIMIZE \\[1e-3, 1e1\\] LOG$/constexpr double UCB1_EPS = 0.0020683012782086803;          \\/\\/ OPTIMIZE [1e-3, 1e1] LOG/' -e 's/^constexpr double UCB1_DECAY_RATE_TMP = .*;           \\/\\/ OPTIMIZE \\[1e-5, 0\\.1\\] LOG$/constexpr double UCB1_DECAY_RATE_TMP = 0.0010795537137656657;           \\/\\/ OPTIMIZE [1e-5, 0.1] LOG/' -e 's/^constexpr double TURNING_COST_AT_100 = .*;           \\/\\/ OPTIMIZE \\[1000\\.0, 1e5\\]$/constexpr double TURNING_COST_AT_100 = 10625.677964889837;           \\/\\/ OPTIMIZE [1000.0, 1e5]/' -e 's/^constexpr double TURNING_COST_COEF_TMP = .*;           \\/\\/ OPTIMIZE \\[0\\.001, 0\\.1\\] LOG$/constexpr double TURNING_COST_COEF_TMP = 0.007961333299419759;           \\/\\/ OPTIMIZE [0.001, 0.1] LOG/'\n",
      "g++ 11_main.cpp -std=gnu++17 -O2 -DONLINE_JUDGE -o 11_main.cpp.out 2> /dev/null\n"
     ]
    },
    {
     "name": "stderr",
     "output_type": "stream",
     "text": [
      "\u001b[32m[I 2021-05-30 08:40:35,724]\u001b[0m Trial 140 finished with value: 486006907839.0 and parameters: {'UCB1_COEF_AT_100': 46.82770198312573, 'UCB1_EPS': 0.006455972512725412, 'UCB1_DECAY_RATE_TMP': 0.0007359060723804952, 'TURNING_COST_AT_100': 3221.1067191110187, 'TURNING_COST_COEF_TMP': 0.03552327590659168}. Best is trial 116 with value: 486437733234.0.\u001b[0m\n"
     ]
    },
    {
     "name": "stdout",
     "output_type": "stream",
     "text": [
      "callback ok\n",
      "index_parallel=0\n",
      "mkdir: cannot create directory ‘0_out’: File exists\n",
      "mkdir: cannot create directory ‘0_score’: File exists\n",
      "rm: cannot remove '0_out/*': No such file or directory\n",
      "sed -i 0_main.cpp -e 's/^constexpr double UCB1_COEF_AT_100 = .*;   \\/\\/ OPTIMIZE \\[1e0, 1e4\\] LOG$/constexpr double UCB1_COEF_AT_100 = 69.41960287342093;   \\/\\/ OPTIMIZE [1e0, 1e4] LOG/' -e 's/^constexpr double UCB1_EPS = .*;          \\/\\/ OPTIMIZE \\[1e-3, 1e1\\] LOG$/constexpr double UCB1_EPS = 0.0021100373588348676;          \\/\\/ OPTIMIZE [1e-3, 1e1] LOG/' -e 's/^constexpr double UCB1_DECAY_RATE_TMP = .*;           \\/\\/ OPTIMIZE \\[1e-5, 0\\.1\\] LOG$/constexpr double UCB1_DECAY_RATE_TMP = 0.0009936530984054242;           \\/\\/ OPTIMIZE [1e-5, 0.1] LOG/' -e 's/^constexpr double TURNING_COST_AT_100 = .*;           \\/\\/ OPTIMIZE \\[1000\\.0, 1e5\\]$/constexpr double TURNING_COST_AT_100 = 11301.742175558333;           \\/\\/ OPTIMIZE [1000.0, 1e5]/' -e 's/^constexpr double TURNING_COST_COEF_TMP = .*;           \\/\\/ OPTIMIZE \\[0\\.001, 0\\.1\\] LOG$/constexpr double TURNING_COST_COEF_TMP = 0.007869401498220558;           \\/\\/ OPTIMIZE [0.001, 0.1] LOG/'\n",
      "g++ 0_main.cpp -std=gnu++17 -O2 -DONLINE_JUDGE -o 0_main.cpp.out 2> /dev/null\n"
     ]
    },
    {
     "name": "stderr",
     "output_type": "stream",
     "text": [
      "\u001b[32m[I 2021-05-30 08:40:40,667]\u001b[0m Trial 141 finished with value: 486391031223.0 and parameters: {'UCB1_COEF_AT_100': 69.1100232901685, 'UCB1_EPS': 0.00388667723887289, 'UCB1_DECAY_RATE_TMP': 0.0008326453521153372, 'TURNING_COST_AT_100': 3766.846878831731, 'TURNING_COST_COEF_TMP': 0.036945590393449856}. Best is trial 116 with value: 486437733234.0.\u001b[0m\n"
     ]
    },
    {
     "name": "stdout",
     "output_type": "stream",
     "text": [
      "callback ok\n",
      "index_parallel=1\n",
      "mkdir: cannot create directory ‘1_out’: File exists\n",
      "mkdir: cannot create directory ‘1_score’: File exists\n",
      "rm: cannot remove '1_out/*': No such file or directory\n",
      "sed -i 1_main.cpp -e 's/^constexpr double UCB1_COEF_AT_100 = .*;   \\/\\/ OPTIMIZE \\[1e0, 1e4\\] LOG$/constexpr double UCB1_COEF_AT_100 = 112.13567383794833;   \\/\\/ OPTIMIZE [1e0, 1e4] LOG/' -e 's/^constexpr double UCB1_EPS = .*;          \\/\\/ OPTIMIZE \\[1e-3, 1e1\\] LOG$/constexpr double UCB1_EPS = 0.0021129893348703402;          \\/\\/ OPTIMIZE [1e-3, 1e1] LOG/' -e 's/^constexpr double UCB1_DECAY_RATE_TMP = .*;           \\/\\/ OPTIMIZE \\[1e-5, 0\\.1\\] LOG$/constexpr double UCB1_DECAY_RATE_TMP = 0.0011007541075740254;           \\/\\/ OPTIMIZE [1e-5, 0.1] LOG/' -e 's/^constexpr double TURNING_COST_AT_100 = .*;           \\/\\/ OPTIMIZE \\[1000\\.0, 1e5\\]$/constexpr double TURNING_COST_AT_100 = 55508.67092038221;           \\/\\/ OPTIMIZE [1000.0, 1e5]/' -e 's/^constexpr double TURNING_COST_COEF_TMP = .*;           \\/\\/ OPTIMIZE \\[0\\.001, 0\\.1\\] LOG$/constexpr double TURNING_COST_COEF_TMP = 0.007461633039904321;           \\/\\/ OPTIMIZE [0.001, 0.1] LOG/'\n",
      "g++ 1_main.cpp -std=gnu++17 -O2 -DONLINE_JUDGE -o 1_main.cpp.out 2> /dev/null\n"
     ]
    },
    {
     "name": "stderr",
     "output_type": "stream",
     "text": [
      "\u001b[32m[I 2021-05-30 08:40:42,134]\u001b[0m Trial 142 finished with value: 485343070915.0 and parameters: {'UCB1_COEF_AT_100': 112.42545101077398, 'UCB1_EPS': 0.003729822943150411, 'UCB1_DECAY_RATE_TMP': 0.0011048730324710577, 'TURNING_COST_AT_100': 10512.19114862767, 'TURNING_COST_COEF_TMP': 0.007866859015852672}. Best is trial 116 with value: 486437733234.0.\u001b[0m\n"
     ]
    },
    {
     "name": "stdout",
     "output_type": "stream",
     "text": [
      "callback ok\n",
      "index_parallel=2\n",
      "mkdir: cannot create directory ‘2_out’: File exists\n",
      "mkdir: cannot create directory ‘2_score’: File exists\n",
      "rm: cannot remove '2_out/*': No such file or directory\n"
     ]
    },
    {
     "name": "stderr",
     "output_type": "stream",
     "text": [
      "\u001b[32m[I 2021-05-30 08:40:42,841]\u001b[0m Trial 143 finished with value: 485504669100.0 and parameters: {'UCB1_COEF_AT_100': 70.47610857630498, 'UCB1_EPS': 0.0020683012782086803, 'UCB1_DECAY_RATE_TMP': 0.0010795537137656657, 'TURNING_COST_AT_100': 10625.677964889837, 'TURNING_COST_COEF_TMP': 0.007961333299419759}. Best is trial 116 with value: 486437733234.0.\u001b[0m\n"
     ]
    },
    {
     "name": "stdout",
     "output_type": "stream",
     "text": [
      "callback ok\n",
      "index_parallel=3\n",
      "mkdir: cannot create directory ‘3_out’: File exists\n",
      "mkdir: cannot create directory ‘3_score’: File exists\n",
      "rm: cannot remove '3_out/*': No such file or directory\n",
      "sed -i 2_main.cpp -e 's/^constexpr double UCB1_COEF_AT_100 = .*;   \\/\\/ OPTIMIZE \\[1e0, 1e4\\] LOG$/constexpr double UCB1_COEF_AT_100 = 71.4533676065246;   \\/\\/ OPTIMIZE [1e0, 1e4] LOG/' -e 's/^constexpr double UCB1_EPS = .*;          \\/\\/ OPTIMIZE \\[1e-3, 1e1\\] LOG$/constexpr double UCB1_EPS = 0.0023619061029148598;          \\/\\/ OPTIMIZE [1e-3, 1e1] LOG/' -e 's/^constexpr double UCB1_DECAY_RATE_TMP = .*;           \\/\\/ OPTIMIZE \\[1e-5, 0\\.1\\] LOG$/constexpr double UCB1_DECAY_RATE_TMP = 0.0005379492233038327;           \\/\\/ OPTIMIZE [1e-5, 0.1] LOG/' -e 's/^constexpr double TURNING_COST_AT_100 = .*;           \\/\\/ OPTIMIZE \\[1000\\.0, 1e5\\]$/constexpr double TURNING_COST_AT_100 = 57877.44479747403;           \\/\\/ OPTIMIZE [1000.0, 1e5]/' -e 's/^constexpr double TURNING_COST_COEF_TMP = .*;           \\/\\/ OPTIMIZE \\[0\\.001, 0\\.1\\] LOG$/constexpr double TURNING_COST_COEF_TMP = 0.006988077428261324;           \\/\\/ OPTIMIZE [0.001, 0.1] LOG/'\n",
      "g++ 2_main.cpp -std=gnu++17 -O2 -DONLINE_JUDGE -o 2_main.cpp.out 2> /dev/null\n",
      "sed -i 3_main.cpp -e 's/^constexpr double UCB1_COEF_AT_100 = .*;   \\/\\/ OPTIMIZE \\[1e0, 1e4\\] LOG$/constexpr double UCB1_COEF_AT_100 = 61.34789250623201;   \\/\\/ OPTIMIZE [1e0, 1e4] LOG/' -e 's/^constexpr double UCB1_EPS = .*;          \\/\\/ OPTIMIZE \\[1e-3, 1e1\\] LOG$/constexpr double UCB1_EPS = 0.001506226586639268;          \\/\\/ OPTIMIZE [1e-3, 1e1] LOG/' -e 's/^constexpr double UCB1_DECAY_RATE_TMP = .*;           \\/\\/ OPTIMIZE \\[1e-5, 0\\.1\\] LOG$/constexpr double UCB1_DECAY_RATE_TMP = 0.0005775372397938615;           \\/\\/ OPTIMIZE [1e-5, 0.1] LOG/' -e 's/^constexpr double TURNING_COST_AT_100 = .*;           \\/\\/ OPTIMIZE \\[1000\\.0, 1e5\\]$/constexpr double TURNING_COST_AT_100 = 5293.59655579395;           \\/\\/ OPTIMIZE [1000.0, 1e5]/' -e 's/^constexpr double TURNING_COST_COEF_TMP = .*;           \\/\\/ OPTIMIZE \\[0\\.001, 0\\.1\\] LOG$/constexpr double TURNING_COST_COEF_TMP = 0.09128650894787536;           \\/\\/ OPTIMIZE [0.001, 0.1] LOG/'\n",
      "g++ 3_main.cpp -std=gnu++17 -O2 -DONLINE_JUDGE -o 3_main.cpp.out 2> /dev/null\n"
     ]
    },
    {
     "name": "stderr",
     "output_type": "stream",
     "text": [
      "\u001b[32m[I 2021-05-30 08:44:28,886]\u001b[0m Trial 144 finished with value: 485396492674.0 and parameters: {'UCB1_COEF_AT_100': 69.41960287342093, 'UCB1_EPS': 0.0021100373588348676, 'UCB1_DECAY_RATE_TMP': 0.0009936530984054242, 'TURNING_COST_AT_100': 11301.742175558333, 'TURNING_COST_COEF_TMP': 0.007869401498220558}. Best is trial 116 with value: 486437733234.0.\u001b[0m\n"
     ]
    },
    {
     "name": "stdout",
     "output_type": "stream",
     "text": [
      "callback ok\n",
      "index_parallel=4\n",
      "mkdir: cannot create directory ‘4_out’: File exists\n",
      "mkdir: cannot create directory ‘4_score’: File exists\n",
      "rm: cannot remove '4_out/*': No such file or directory\n"
     ]
    },
    {
     "name": "stderr",
     "output_type": "stream",
     "text": [
      "\u001b[32m[I 2021-05-30 08:44:29,492]\u001b[0m Trial 145 finished with value: 477171218775.0 and parameters: {'UCB1_COEF_AT_100': 112.13567383794833, 'UCB1_EPS': 0.0021129893348703402, 'UCB1_DECAY_RATE_TMP': 0.0011007541075740254, 'TURNING_COST_AT_100': 55508.67092038221, 'TURNING_COST_COEF_TMP': 0.007461633039904321}. Best is trial 116 with value: 486437733234.0.\u001b[0m\n"
     ]
    },
    {
     "name": "stdout",
     "output_type": "stream",
     "text": [
      "callback ok\n",
      "index_parallel=5\n",
      "mkdir: cannot create directory ‘5_out’: File exists\n",
      "mkdir: cannot create directory ‘5_score’: File exists\n",
      "rm: cannot remove '5_out/*': No such file or directory\n",
      "sed -i 4_main.cpp -e 's/^constexpr double UCB1_COEF_AT_100 = .*;   \\/\\/ OPTIMIZE \\[1e0, 1e4\\] LOG$/constexpr double UCB1_COEF_AT_100 = 59.78589060057867;   \\/\\/ OPTIMIZE [1e0, 1e4] LOG/' -e 's/^constexpr double UCB1_EPS = .*;          \\/\\/ OPTIMIZE \\[1e-3, 1e1\\] LOG$/constexpr double UCB1_EPS = 0.004018127871713971;          \\/\\/ OPTIMIZE [1e-3, 1e1] LOG/' -e 's/^constexpr double UCB1_DECAY_RATE_TMP = .*;           \\/\\/ OPTIMIZE \\[1e-5, 0\\.1\\] LOG$/constexpr double UCB1_DECAY_RATE_TMP = 0.0005513320226570045;           \\/\\/ OPTIMIZE [1e-5, 0.1] LOG/' -e 's/^constexpr double TURNING_COST_AT_100 = .*;           \\/\\/ OPTIMIZE \\[1000\\.0, 1e5\\]$/constexpr double TURNING_COST_AT_100 = 4892.399477879114;           \\/\\/ OPTIMIZE [1000.0, 1e5]/' -e 's/^constexpr double TURNING_COST_COEF_TMP = .*;           \\/\\/ OPTIMIZE \\[0\\.001, 0\\.1\\] LOG$/constexpr double TURNING_COST_COEF_TMP = 0.0864456173118387;           \\/\\/ OPTIMIZE [0.001, 0.1] LOG/'\n",
      "g++ 4_main.cpp -std=gnu++17 -O2 -DONLINE_JUDGE -o 4_main.cpp.out 2> /dev/null\n",
      "sed -i 5_main.cpp -e 's/^constexpr double UCB1_COEF_AT_100 = .*;   \\/\\/ OPTIMIZE \\[1e0, 1e4\\] LOG$/constexpr double UCB1_COEF_AT_100 = 37.18701143328672;   \\/\\/ OPTIMIZE [1e0, 1e4] LOG/' -e 's/^constexpr double UCB1_EPS = .*;          \\/\\/ OPTIMIZE \\[1e-3, 1e1\\] LOG$/constexpr double UCB1_EPS = 0.003964615037068863;          \\/\\/ OPTIMIZE [1e-3, 1e1] LOG/' -e 's/^constexpr double UCB1_DECAY_RATE_TMP = .*;           \\/\\/ OPTIMIZE \\[1e-5, 0\\.1\\] LOG$/constexpr double UCB1_DECAY_RATE_TMP = 0.00039322911403491946;           \\/\\/ OPTIMIZE [1e-5, 0.1] LOG/' -e 's/^constexpr double TURNING_COST_AT_100 = .*;           \\/\\/ OPTIMIZE \\[1000\\.0, 1e5\\]$/constexpr double TURNING_COST_AT_100 = 4850.238465543176;           \\/\\/ OPTIMIZE [1000.0, 1e5]/' -e 's/^constexpr double TURNING_COST_COEF_TMP = .*;           \\/\\/ OPTIMIZE \\[0\\.001, 0\\.1\\] LOG$/constexpr double TURNING_COST_COEF_TMP = 0.032379751537270476;           \\/\\/ OPTIMIZE [0.001, 0.1] LOG/'\n"
     ]
    },
    {
     "name": "stderr",
     "output_type": "stream",
     "text": [
      "\u001b[32m[I 2021-05-30 08:44:30,551]\u001b[0m Trial 146 finished with value: 476148816582.0 and parameters: {'UCB1_COEF_AT_100': 71.4533676065246, 'UCB1_EPS': 0.0023619061029148598, 'UCB1_DECAY_RATE_TMP': 0.0005379492233038327, 'TURNING_COST_AT_100': 57877.44479747403, 'TURNING_COST_COEF_TMP': 0.006988077428261324}. Best is trial 116 with value: 486437733234.0.\u001b[0m\n"
     ]
    },
    {
     "name": "stdout",
     "output_type": "stream",
     "text": [
      "callback ok\n",
      "index_parallel=6\n",
      "mkdir: cannot create directory ‘6_out’: File exists\n",
      "g++ 5_main.cpp -std=gnu++17 -O2 -DONLINE_JUDGE -o 5_main.cpp.out 2> /dev/null\n",
      "mkdir: cannot create directory ‘6_score’: File exists\n",
      "rm: cannot remove '6_out/*': No such file or directory\n",
      "sed -i 6_main.cpp -e 's/^constexpr double UCB1_COEF_AT_100 = .*;   \\/\\/ OPTIMIZE \\[1e0, 1e4\\] LOG$/constexpr double UCB1_COEF_AT_100 = 36.468563041906414;   \\/\\/ OPTIMIZE [1e0, 1e4] LOG/' -e 's/^constexpr double UCB1_EPS = .*;          \\/\\/ OPTIMIZE \\[1e-3, 1e1\\] LOG$/constexpr double UCB1_EPS = 0.0015573635628093805;          \\/\\/ OPTIMIZE [1e-3, 1e1] LOG/' -e 's/^constexpr double UCB1_DECAY_RATE_TMP = .*;           \\/\\/ OPTIMIZE \\[1e-5, 0\\.1\\] LOG$/constexpr double UCB1_DECAY_RATE_TMP = 0.0005813558337938998;           \\/\\/ OPTIMIZE [1e-5, 0.1] LOG/' -e 's/^constexpr double TURNING_COST_AT_100 = .*;           \\/\\/ OPTIMIZE \\[1000\\.0, 1e5\\]$/constexpr double TURNING_COST_AT_100 = 1105.4519373689554;           \\/\\/ OPTIMIZE [1000.0, 1e5]/' -e 's/^constexpr double TURNING_COST_COEF_TMP = .*;           \\/\\/ OPTIMIZE \\[0\\.001, 0\\.1\\] LOG$/constexpr double TURNING_COST_COEF_TMP = 0.009668185663655309;           \\/\\/ OPTIMIZE [0.001, 0.1] LOG/'\n",
      "g++ 6_main.cpp -std=gnu++17 -O2 -DONLINE_JUDGE -o 6_main.cpp.out 2> /dev/null\n"
     ]
    },
    {
     "name": "stderr",
     "output_type": "stream",
     "text": [
      "\u001b[32m[I 2021-05-30 08:44:38,604]\u001b[0m Trial 147 finished with value: 485657252713.0 and parameters: {'UCB1_COEF_AT_100': 61.34789250623201, 'UCB1_EPS': 0.001506226586639268, 'UCB1_DECAY_RATE_TMP': 0.0005775372397938615, 'TURNING_COST_AT_100': 5293.59655579395, 'TURNING_COST_COEF_TMP': 0.09128650894787536}. Best is trial 116 with value: 486437733234.0.\u001b[0m\n"
     ]
    },
    {
     "name": "stdout",
     "output_type": "stream",
     "text": [
      "callback ok\n",
      "index_parallel=7\n",
      "mkdir: cannot create directory ‘7_out’: File exists\n",
      "mkdir: cannot create directory ‘7_score’: File exists\n",
      "rm: cannot remove '7_out/*': No such file or directory\n",
      "sed -i 7_main.cpp -e 's/^constexpr double UCB1_COEF_AT_100 = .*;   \\/\\/ OPTIMIZE \\[1e0, 1e4\\] LOG$/constexpr double UCB1_COEF_AT_100 = 37.14574833568509;   \\/\\/ OPTIMIZE [1e0, 1e4] LOG/' -e 's/^constexpr double UCB1_EPS = .*;          \\/\\/ OPTIMIZE \\[1e-3, 1e1\\] LOG$/constexpr double UCB1_EPS = 0.003993059805762227;          \\/\\/ OPTIMIZE [1e-3, 1e1] LOG/' -e 's/^constexpr double UCB1_DECAY_RATE_TMP = .*;           \\/\\/ OPTIMIZE \\[1e-5, 0\\.1\\] LOG$/constexpr double UCB1_DECAY_RATE_TMP = 0.0008339972824110626;           \\/\\/ OPTIMIZE [1e-5, 0.1] LOG/' -e 's/^constexpr double TURNING_COST_AT_100 = .*;           \\/\\/ OPTIMIZE \\[1000\\.0, 1e5\\]$/constexpr double TURNING_COST_AT_100 = 1264.7495138950794;           \\/\\/ OPTIMIZE [1000.0, 1e5]/' -e 's/^constexpr double TURNING_COST_COEF_TMP = .*;           \\/\\/ OPTIMIZE \\[0\\.001, 0\\.1\\] LOG$/constexpr double TURNING_COST_COEF_TMP = 0.0601251053787528;           \\/\\/ OPTIMIZE [0.001, 0.1] LOG/'\n",
      "g++ 7_main.cpp -std=gnu++17 -O2 -DONLINE_JUDGE -o 7_main.cpp.out 2> /dev/null\n"
     ]
    },
    {
     "name": "stderr",
     "output_type": "stream",
     "text": [
      "\u001b[32m[I 2021-05-30 08:48:27,144]\u001b[0m Trial 148 finished with value: 485774586828.0 and parameters: {'UCB1_COEF_AT_100': 59.78589060057867, 'UCB1_EPS': 0.004018127871713971, 'UCB1_DECAY_RATE_TMP': 0.0005513320226570045, 'TURNING_COST_AT_100': 4892.399477879114, 'TURNING_COST_COEF_TMP': 0.0864456173118387}. Best is trial 116 with value: 486437733234.0.\u001b[0m\n"
     ]
    },
    {
     "name": "stdout",
     "output_type": "stream",
     "text": [
      "callback ok\n",
      "index_parallel=8\n",
      "mkdir: cannot create directory ‘8_out’: File exists\n",
      "mkdir: cannot create directory ‘8_score’: File exists\n"
     ]
    },
    {
     "name": "stderr",
     "output_type": "stream",
     "text": [
      "\u001b[32m[I 2021-05-30 08:48:27,372]\u001b[0m Trial 149 finished with value: 486063313361.0 and parameters: {'UCB1_COEF_AT_100': 37.18701143328672, 'UCB1_EPS': 0.003964615037068863, 'UCB1_DECAY_RATE_TMP': 0.00039322911403491946, 'TURNING_COST_AT_100': 4850.238465543176, 'TURNING_COST_COEF_TMP': 0.032379751537270476}. Best is trial 116 with value: 486437733234.0.\u001b[0m\n"
     ]
    },
    {
     "name": "stdout",
     "output_type": "stream",
     "text": [
      "callback ok\n",
      "rm: cannot remove '8_out/*': No such file or directory\n",
      "index_parallel=9\n",
      "mkdir: cannot create directory ‘9_out’: File exists\n",
      "mkdir: cannot create directory ‘9_score’: File exists\n",
      "rm: cannot remove '9_out/*': No such file or directory\n",
      "sed -i 8_main.cpp -e 's/^constexpr double UCB1_COEF_AT_100 = .*;   \\/\\/ OPTIMIZE \\[1e0, 1e4\\] LOG$/constexpr double UCB1_COEF_AT_100 = 83.20098195272602;   \\/\\/ OPTIMIZE [1e0, 1e4] LOG/' -e 's/^constexpr double UCB1_EPS = .*;          \\/\\/ OPTIMIZE \\[1e-3, 1e1\\] LOG$/constexpr double UCB1_EPS = 0.0029789159356516425;          \\/\\/ OPTIMIZE [1e-3, 1e1] LOG/' -e 's/^constexpr double UCB1_DECAY_RATE_TMP = .*;           \\/\\/ OPTIMIZE \\[1e-5, 0\\.1\\] LOG$/constexpr double UCB1_DECAY_RATE_TMP = 6.173041006290565e-05;           \\/\\/ OPTIMIZE [1e-5, 0.1] LOG/' -e 's/^constexpr double TURNING_COST_AT_100 = .*;           \\/\\/ OPTIMIZE \\[1000\\.0, 1e5\\]$/constexpr double TURNING_COST_AT_100 = 1280.620196834373;           \\/\\/ OPTIMIZE [1000.0, 1e5]/' -e 's/^constexpr double TURNING_COST_COEF_TMP = .*;           \\/\\/ OPTIMIZE \\[0\\.001, 0\\.1\\] LOG$/constexpr double TURNING_COST_COEF_TMP = 0.04645193693587989;           \\/\\/ OPTIMIZE [0.001, 0.1] LOG/'\n",
      "g++ 8_main.cpp -std=gnu++17 -O2 -DONLINE_JUDGE -o 8_main.cpp.out 2> /dev/null\n",
      "sed -i 9_main.cpp -e 's/^constexpr double UCB1_COEF_AT_100 = .*;   \\/\\/ OPTIMIZE \\[1e0, 1e4\\] LOG$/constexpr double UCB1_COEF_AT_100 = 80.12123441020519;   \\/\\/ OPTIMIZE [1e0, 1e4] LOG/' -e 's/^constexpr double UCB1_EPS = .*;          \\/\\/ OPTIMIZE \\[1e-3, 1e1\\] LOG$/constexpr double UCB1_EPS = 0.002939902295844433;          \\/\\/ OPTIMIZE [1e-3, 1e1] LOG/' -e 's/^constexpr double UCB1_DECAY_RATE_TMP = .*;           \\/\\/ OPTIMIZE \\[1e-5, 0\\.1\\] LOG$/constexpr double UCB1_DECAY_RATE_TMP = 0.001339360135628766;           \\/\\/ OPTIMIZE [1e-5, 0.1] LOG/' -e 's/^constexpr double TURNING_COST_AT_100 = .*;           \\/\\/ OPTIMIZE \\[1000\\.0, 1e5\\]$/constexpr double TURNING_COST_AT_100 = 1587.5270160882505;           \\/\\/ OPTIMIZE [1000.0, 1e5]/' -e 's/^constexpr double TURNING_COST_COEF_TMP = .*;           \\/\\/ OPTIMIZE \\[0\\.001, 0\\.1\\] LOG$/constexpr double TURNING_COST_COEF_TMP = 0.009911719985799641;           \\/\\/ OPTIMIZE [0.001, 0.1] LOG/'\n",
      "g++ 9_main.cpp -std=gnu++17 -O2 -DONLINE_JUDGE -o 9_main.cpp.out 2> /dev/null\n"
     ]
    },
    {
     "name": "stderr",
     "output_type": "stream",
     "text": [
      "\u001b[32m[I 2021-05-30 08:48:29,275]\u001b[0m Trial 150 finished with value: 486212739981.0 and parameters: {'UCB1_COEF_AT_100': 36.468563041906414, 'UCB1_EPS': 0.0015573635628093805, 'UCB1_DECAY_RATE_TMP': 0.0005813558337938998, 'TURNING_COST_AT_100': 1105.4519373689554, 'TURNING_COST_COEF_TMP': 0.009668185663655309}. Best is trial 116 with value: 486437733234.0.\u001b[0m\n"
     ]
    },
    {
     "name": "stdout",
     "output_type": "stream",
     "text": [
      "callback ok\n",
      "index_parallel=10\n",
      "mkdir: cannot create directory ‘10_out’: File exists\n",
      "mkdir: cannot create directory ‘10_score’: File exists\n",
      "rm: cannot remove '10_out/*': No such file or directory\n",
      "sed -i 10_main.cpp -e 's/^constexpr double UCB1_COEF_AT_100 = .*;   \\/\\/ OPTIMIZE \\[1e0, 1e4\\] LOG$/constexpr double UCB1_COEF_AT_100 = 83.96179745226911;   \\/\\/ OPTIMIZE [1e0, 1e4] LOG/' -e 's/^constexpr double UCB1_EPS = .*;          \\/\\/ OPTIMIZE \\[1e-3, 1e1\\] LOG$/constexpr double UCB1_EPS = 0.002697406094288174;          \\/\\/ OPTIMIZE [1e-3, 1e1] LOG/' -e 's/^constexpr double UCB1_DECAY_RATE_TMP = .*;           \\/\\/ OPTIMIZE \\[1e-5, 0\\.1\\] LOG$/constexpr double UCB1_DECAY_RATE_TMP = 0.0013430334633586702;           \\/\\/ OPTIMIZE [1e-5, 0.1] LOG/' -e 's/^constexpr double TURNING_COST_AT_100 = .*;           \\/\\/ OPTIMIZE \\[1000\\.0, 1e5\\]$/constexpr double TURNING_COST_AT_100 = 6942.400343365663;           \\/\\/ OPTIMIZE [1000.0, 1e5]/' -e 's/^constexpr double TURNING_COST_COEF_TMP = .*;           \\/\\/ OPTIMIZE \\[0\\.001, 0\\.1\\] LOG$/constexpr double TURNING_COST_COEF_TMP = 0.06283367249551258;           \\/\\/ OPTIMIZE [0.001, 0.1] LOG/'\n",
      "g++ 10_main.cpp -std=gnu++17 -O2 -DONLINE_JUDGE -o 10_main.cpp.out 2> /dev/null\n"
     ]
    },
    {
     "name": "stderr",
     "output_type": "stream",
     "text": [
      "\u001b[32m[I 2021-05-30 08:48:36,535]\u001b[0m Trial 151 finished with value: 485955466727.0 and parameters: {'UCB1_COEF_AT_100': 37.14574833568509, 'UCB1_EPS': 0.003993059805762227, 'UCB1_DECAY_RATE_TMP': 0.0008339972824110626, 'TURNING_COST_AT_100': 1264.7495138950794, 'TURNING_COST_COEF_TMP': 0.0601251053787528}. Best is trial 116 with value: 486437733234.0.\u001b[0m\n"
     ]
    },
    {
     "name": "stdout",
     "output_type": "stream",
     "text": [
      "callback ok\n",
      "index_parallel=11\n",
      "mkdir: cannot create directory ‘11_out’: File exists\n",
      "mkdir: cannot create directory ‘11_score’: File exists\n",
      "rm: cannot remove '11_out/*': No such file or directory\n",
      "sed -i 11_main.cpp -e 's/^constexpr double UCB1_COEF_AT_100 = .*;   \\/\\/ OPTIMIZE \\[1e0, 1e4\\] LOG$/constexpr double UCB1_COEF_AT_100 = 79.87326998266514;   \\/\\/ OPTIMIZE [1e0, 1e4] LOG/' -e 's/^constexpr double UCB1_EPS = .*;          \\/\\/ OPTIMIZE \\[1e-3, 1e1\\] LOG$/constexpr double UCB1_EPS = 0.0028729165474577914;          \\/\\/ OPTIMIZE [1e-3, 1e1] LOG/' -e 's/^constexpr double UCB1_DECAY_RATE_TMP = .*;           \\/\\/ OPTIMIZE \\[1e-5, 0\\.1\\] LOG$/constexpr double UCB1_DECAY_RATE_TMP = 0.0013776129273717842;           \\/\\/ OPTIMIZE [1e-5, 0.1] LOG/' -e 's/^constexpr double TURNING_COST_AT_100 = .*;           \\/\\/ OPTIMIZE \\[1000\\.0, 1e5\\]$/constexpr double TURNING_COST_AT_100 = 6760.432580577166;           \\/\\/ OPTIMIZE [1000.0, 1e5]/' -e 's/^constexpr double TURNING_COST_COEF_TMP = .*;           \\/\\/ OPTIMIZE \\[0\\.001, 0\\.1\\] LOG$/constexpr double TURNING_COST_COEF_TMP = 0.048657962169668494;           \\/\\/ OPTIMIZE [0.001, 0.1] LOG/'\n",
      "g++ 11_main.cpp -std=gnu++17 -O2 -DONLINE_JUDGE -o 11_main.cpp.out 2> /dev/null\n"
     ]
    },
    {
     "name": "stderr",
     "output_type": "stream",
     "text": [
      "\u001b[32m[I 2021-05-30 08:52:29,553]\u001b[0m Trial 153 finished with value: 486566906650.0 and parameters: {'UCB1_COEF_AT_100': 80.12123441020519, 'UCB1_EPS': 0.002939902295844433, 'UCB1_DECAY_RATE_TMP': 0.001339360135628766, 'TURNING_COST_AT_100': 1587.5270160882505, 'TURNING_COST_COEF_TMP': 0.009911719985799641}. Best is trial 153 with value: 486566906650.0.\u001b[0m\n"
     ]
    },
    {
     "name": "stdout",
     "output_type": "stream",
     "text": [
      "Updated! 486566906650.0\n",
      "callback ok\n",
      "index_parallel=0\n",
      "mkdir: cannot create directory ‘0_out’: File exists\n",
      "mkdir: cannot create directory ‘0_score’: File exists\n",
      "rm: cannot remove '0_out/*': No such file or directory\n"
     ]
    },
    {
     "name": "stderr",
     "output_type": "stream",
     "text": [
      "\u001b[32m[I 2021-05-30 08:52:30,167]\u001b[0m Trial 154 finished with value: 485845167746.0 and parameters: {'UCB1_COEF_AT_100': 83.96179745226911, 'UCB1_EPS': 0.002697406094288174, 'UCB1_DECAY_RATE_TMP': 0.0013430334633586702, 'TURNING_COST_AT_100': 6942.400343365663, 'TURNING_COST_COEF_TMP': 0.06283367249551258}. Best is trial 153 with value: 486566906650.0.\u001b[0m\n",
      "\u001b[32m[I 2021-05-30 08:52:30,186]\u001b[0m Trial 152 finished with value: 486193835221.0 and parameters: {'UCB1_COEF_AT_100': 83.20098195272602, 'UCB1_EPS': 0.0029789159356516425, 'UCB1_DECAY_RATE_TMP': 6.173041006290565e-05, 'TURNING_COST_AT_100': 1280.620196834373, 'TURNING_COST_COEF_TMP': 0.04645193693587989}. Best is trial 153 with value: 486566906650.0.\u001b[0m\n"
     ]
    },
    {
     "name": "stdout",
     "output_type": "stream",
     "text": [
      "callback ok\n",
      "callback ok\n",
      "index_parallel=1\n",
      "mkdir: cannot create directory ‘1_out’: File exists\n",
      "index_parallel=2\n",
      "mkdir: cannot create directory ‘2_out’: File exists\n",
      "mkdir: cannot create directory ‘1_score’: File exists\n",
      "mkdir: cannot create directory ‘2_score’: File exists\n",
      "rm: cannot remove '1_out/*': No such file or directory\n",
      "rm: cannot remove '2_out/*': No such file or directory\n",
      "sed -i 0_main.cpp -e 's/^constexpr double UCB1_COEF_AT_100 = .*;   \\/\\/ OPTIMIZE \\[1e0, 1e4\\] LOG$/constexpr double UCB1_COEF_AT_100 = 53.71156397825166;   \\/\\/ OPTIMIZE [1e0, 1e4] LOG/' -e 's/^constexpr double UCB1_EPS = .*;          \\/\\/ OPTIMIZE \\[1e-3, 1e1\\] LOG$/constexpr double UCB1_EPS = 0.005396799266767563;          \\/\\/ OPTIMIZE [1e-3, 1e1] LOG/' -e 's/^constexpr double UCB1_DECAY_RATE_TMP = .*;           \\/\\/ OPTIMIZE \\[1e-5, 0\\.1\\] LOG$/constexpr double UCB1_DECAY_RATE_TMP = 0.0008523408157050296;           \\/\\/ OPTIMIZE [1e-5, 0.1] LOG/' -e 's/^constexpr double TURNING_COST_AT_100 = .*;           \\/\\/ OPTIMIZE \\[1000\\.0, 1e5\\]$/constexpr double TURNING_COST_AT_100 = 3045.110614216273;           \\/\\/ OPTIMIZE [1000.0, 1e5]/' -e 's/^constexpr double TURNING_COST_COEF_TMP = .*;           \\/\\/ OPTIMIZE \\[0\\.001, 0\\.1\\] LOG$/constexpr double TURNING_COST_COEF_TMP = 0.013798213570154188;           \\/\\/ OPTIMIZE [0.001, 0.1] LOG/'\n",
      "g++ 0_main.cpp -std=gnu++17 -O2 -DONLINE_JUDGE -o 0_main.cpp.out 2> /dev/null\n",
      "sed -i 1_main.cpp -e 's/^constexpr double UCB1_COEF_AT_100 = .*;   \\/\\/ OPTIMIZE \\[1e0, 1e4\\] LOG$/constexpr double UCB1_COEF_AT_100 = 56.17933299876705;   \\/\\/ OPTIMIZE [1e0, 1e4] LOG/' -e 's/^constexpr double UCB1_EPS = .*;          \\/\\/ OPTIMIZE \\[1e-3, 1e1\\] LOG$/constexpr double UCB1_EPS = 0.005506736718428498;          \\/\\/ OPTIMIZE [1e-3, 1e1] LOG/' -e 's/^constexpr double UCB1_DECAY_RATE_TMP = .*;           \\/\\/ OPTIMIZE \\[1e-5, 0\\.1\\] LOG$/constexpr double UCB1_DECAY_RATE_TMP = 0.0016116050914859047;           \\/\\/ OPTIMIZE [1e-5, 0.1] LOG/' -e 's/^constexpr double TURNING_COST_AT_100 = .*;           \\/\\/ OPTIMIZE \\[1000\\.0, 1e5\\]$/constexpr double TURNING_COST_AT_100 = 67692.89157090093;           \\/\\/ OPTIMIZE [1000.0, 1e5]/' -e 's/^constexpr double TURNING_COST_COEF_TMP = .*;           \\/\\/ OPTIMIZE \\[0\\.001, 0\\.1\\] LOG$/constexpr double TURNING_COST_COEF_TMP = 0.009163018781631711;           \\/\\/ OPTIMIZE [0.001, 0.1] LOG/'\n",
      "sed -i 2_main.cpp -e 's/^constexpr double UCB1_COEF_AT_100 = .*;   \\/\\/ OPTIMIZE \\[1e0, 1e4\\] LOG$/constexpr double UCB1_COEF_AT_100 = 54.62319261761319;   \\/\\/ OPTIMIZE [1e0, 1e4] LOG/' -e 's/^constexpr double UCB1_EPS = .*;          \\/\\/ OPTIMIZE \\[1e-3, 1e1\\] LOG$/constexpr double UCB1_EPS = 0.0051647360815022456;          \\/\\/ OPTIMIZE [1e-3, 1e1] LOG/' -e 's/^constexpr double UCB1_DECAY_RATE_TMP = .*;           \\/\\/ OPTIMIZE \\[1e-5, 0\\.1\\] LOG$/constexpr double UCB1_DECAY_RATE_TMP = 0.001813942749492189;           \\/\\/ OPTIMIZE [1e-5, 0.1] LOG/' -e 's/^constexpr double TURNING_COST_AT_100 = .*;           \\/\\/ OPTIMIZE \\[1000\\.0, 1e5\\]$/constexpr double TURNING_COST_AT_100 = 3543.149374894101;           \\/\\/ OPTIMIZE [1000.0, 1e5]/' -e 's/^constexpr double TURNING_COST_COEF_TMP = .*;           \\/\\/ OPTIMIZE \\[0\\.001, 0\\.1\\] LOG$/constexpr double TURNING_COST_COEF_TMP = 0.010047148992312283;           \\/\\/ OPTIMIZE [0.001, 0.1] LOG/'\n",
      "g++ 1_main.cpp -std=gnu++17 -O2 -DONLINE_JUDGE -o 1_main.cpp.out 2> /dev/null\n",
      "g++ 2_main.cpp -std=gnu++17 -O2 -DONLINE_JUDGE -o 2_main.cpp.out 2> /dev/null\n"
     ]
    },
    {
     "name": "stderr",
     "output_type": "stream",
     "text": [
      "\u001b[32m[I 2021-05-30 08:52:35,285]\u001b[0m Trial 155 finished with value: 486030903536.0 and parameters: {'UCB1_COEF_AT_100': 79.87326998266514, 'UCB1_EPS': 0.0028729165474577914, 'UCB1_DECAY_RATE_TMP': 0.0013776129273717842, 'TURNING_COST_AT_100': 6760.432580577166, 'TURNING_COST_COEF_TMP': 0.048657962169668494}. Best is trial 153 with value: 486566906650.0.\u001b[0m\n"
     ]
    },
    {
     "name": "stdout",
     "output_type": "stream",
     "text": [
      "callback ok\n",
      "index_parallel=3\n",
      "mkdir: cannot create directory ‘3_out’: File exists\n",
      "mkdir: cannot create directory ‘3_score’: File exists\n",
      "rm: cannot remove '3_out/*': No such file or directory\n",
      "sed -i 3_main.cpp -e 's/^constexpr double UCB1_COEF_AT_100 = .*;   \\/\\/ OPTIMIZE \\[1e0, 1e4\\] LOG$/constexpr double UCB1_COEF_AT_100 = 52.51385736521839;   \\/\\/ OPTIMIZE [1e0, 1e4] LOG/' -e 's/^constexpr double UCB1_EPS = .*;          \\/\\/ OPTIMIZE \\[1e-3, 1e1\\] LOG$/constexpr double UCB1_EPS = 0.005237483317580153;          \\/\\/ OPTIMIZE [1e-3, 1e1] LOG/' -e 's/^constexpr double UCB1_DECAY_RATE_TMP = .*;           \\/\\/ OPTIMIZE \\[1e-5, 0\\.1\\] LOG$/constexpr double UCB1_DECAY_RATE_TMP = 0.0008863592577870794;           \\/\\/ OPTIMIZE [1e-5, 0.1] LOG/' -e 's/^constexpr double TURNING_COST_AT_100 = .*;           \\/\\/ OPTIMIZE \\[1000\\.0, 1e5\\]$/constexpr double TURNING_COST_AT_100 = 3348.822692027044;           \\/\\/ OPTIMIZE [1000.0, 1e5]/' -e 's/^constexpr double TURNING_COST_COEF_TMP = .*;           \\/\\/ OPTIMIZE \\[0\\.001, 0\\.1\\] LOG$/constexpr double TURNING_COST_COEF_TMP = 0.009099461651225299;           \\/\\/ OPTIMIZE [0.001, 0.1] LOG/'\n",
      "g++ 3_main.cpp -std=gnu++17 -O2 -DONLINE_JUDGE -o 3_main.cpp.out 2> /dev/null\n"
     ]
    },
    {
     "name": "stderr",
     "output_type": "stream",
     "text": [
      "\u001b[32m[I 2021-05-30 08:56:21,973]\u001b[0m Trial 157 finished with value: 478512427837.0 and parameters: {'UCB1_COEF_AT_100': 56.17933299876705, 'UCB1_EPS': 0.005506736718428498, 'UCB1_DECAY_RATE_TMP': 0.0016116050914859047, 'TURNING_COST_AT_100': 67692.89157090093, 'TURNING_COST_COEF_TMP': 0.009163018781631711}. Best is trial 153 with value: 486566906650.0.\u001b[0m\n"
     ]
    },
    {
     "name": "stdout",
     "output_type": "stream",
     "text": [
      "callback ok\n",
      "index_parallel=4\n",
      "mkdir: cannot create directory ‘4_out’: File exists\n",
      "mkdir: cannot create directory ‘4_score’: File exists\n",
      "rm: cannot remove '4_out/*': No such file or directory\n",
      "sed -i 4_main.cpp -e 's/^constexpr double UCB1_COEF_AT_100 = .*;   \\/\\/ OPTIMIZE \\[1e0, 1e4\\] LOG$/constexpr double UCB1_COEF_AT_100 = 104.3658660524507;   \\/\\/ OPTIMIZE [1e0, 1e4] LOG/' -e 's/^constexpr double UCB1_EPS = .*;          \\/\\/ OPTIMIZE \\[1e-3, 1e1\\] LOG$/constexpr double UCB1_EPS = 0.0033502240942551507;          \\/\\/ OPTIMIZE [1e-3, 1e1] LOG/' -e 's/^constexpr double UCB1_DECAY_RATE_TMP = .*;           \\/\\/ OPTIMIZE \\[1e-5, 0\\.1\\] LOG$/constexpr double UCB1_DECAY_RATE_TMP = 0.00024479730288049417;           \\/\\/ OPTIMIZE [1e-5, 0.1] LOG/' -e 's/^constexpr double TURNING_COST_AT_100 = .*;           \\/\\/ OPTIMIZE \\[1000\\.0, 1e5\\]$/constexpr double TURNING_COST_AT_100 = 3496.216232191959;           \\/\\/ OPTIMIZE [1000.0, 1e5]/' -e 's/^constexpr double TURNING_COST_COEF_TMP = .*;           \\/\\/ OPTIMIZE \\[0\\.001, 0\\.1\\] LOG$/constexpr double TURNING_COST_COEF_TMP = 0.009925806417068842;           \\/\\/ OPTIMIZE [0.001, 0.1] LOG/'\n",
      "g++ 4_main.cpp -std=gnu++17 -O2 -DONLINE_JUDGE -o 4_main.cpp.out 2> /dev/null\n"
     ]
    },
    {
     "name": "stderr",
     "output_type": "stream",
     "text": [
      "\u001b[32m[I 2021-05-30 08:56:27,952]\u001b[0m Trial 158 finished with value: 486123213687.0 and parameters: {'UCB1_COEF_AT_100': 54.62319261761319, 'UCB1_EPS': 0.0051647360815022456, 'UCB1_DECAY_RATE_TMP': 0.001813942749492189, 'TURNING_COST_AT_100': 3543.149374894101, 'TURNING_COST_COEF_TMP': 0.010047148992312283}. Best is trial 153 with value: 486566906650.0.\u001b[0m\n"
     ]
    },
    {
     "name": "stdout",
     "output_type": "stream",
     "text": [
      "callback ok\n",
      "index_parallel=5\n",
      "mkdir: cannot create directory ‘5_out’: File exists\n"
     ]
    },
    {
     "name": "stderr",
     "output_type": "stream",
     "text": [
      "\u001b[32m[I 2021-05-30 08:56:28,037]\u001b[0m Trial 156 finished with value: 486220998145.0 and parameters: {'UCB1_COEF_AT_100': 53.71156397825166, 'UCB1_EPS': 0.005396799266767563, 'UCB1_DECAY_RATE_TMP': 0.0008523408157050296, 'TURNING_COST_AT_100': 3045.110614216273, 'TURNING_COST_COEF_TMP': 0.013798213570154188}. Best is trial 153 with value: 486566906650.0.\u001b[0m\n"
     ]
    },
    {
     "name": "stdout",
     "output_type": "stream",
     "text": [
      "callback ok\n",
      "index_parallel=6\n",
      "mkdir: cannot create directory ‘6_out’: File exists\n",
      "mkdir: cannot create directory ‘5_score’: File exists\n",
      "mkdir: cannot create directory ‘6_score’: File exists\n",
      "rm: cannot remove '5_out/*': No such file or directory\n",
      "rm: cannot remove '6_out/*': No such file or directory\n",
      "sed -i 5_main.cpp -e 's/^constexpr double UCB1_COEF_AT_100 = .*;   \\/\\/ OPTIMIZE \\[1e0, 1e4\\] LOG$/constexpr double UCB1_COEF_AT_100 = 103.3272209811635;   \\/\\/ OPTIMIZE [1e0, 1e4] LOG/' -e 's/^constexpr double UCB1_EPS = .*;          \\/\\/ OPTIMIZE \\[1e-3, 1e1\\] LOG$/constexpr double UCB1_EPS = 0.003168201308501498;          \\/\\/ OPTIMIZE [1e-3, 1e1] LOG/' -e 's/^constexpr double UCB1_DECAY_RATE_TMP = .*;           \\/\\/ OPTIMIZE \\[1e-5, 0\\.1\\] LOG$/constexpr double UCB1_DECAY_RATE_TMP = 0.0022165440196080725;           \\/\\/ OPTIMIZE [1e-5, 0.1] LOG/' -e 's/^constexpr double TURNING_COST_AT_100 = .*;           \\/\\/ OPTIMIZE \\[1000\\.0, 1e5\\]$/constexpr double TURNING_COST_AT_100 = 1077.3667988861962;           \\/\\/ OPTIMIZE [1000.0, 1e5]/' -e 's/^constexpr double TURNING_COST_COEF_TMP = .*;           \\/\\/ OPTIMIZE \\[0\\.001, 0\\.1\\] LOG$/constexpr double TURNING_COST_COEF_TMP = 0.014347863271174693;           \\/\\/ OPTIMIZE [0.001, 0.1] LOG/'\n",
      "sed -i 6_main.cpp -e 's/^constexpr double UCB1_COEF_AT_100 = .*;   \\/\\/ OPTIMIZE \\[1e0, 1e4\\] LOG$/constexpr double UCB1_COEF_AT_100 = 116.26183201831209;   \\/\\/ OPTIMIZE [1e0, 1e4] LOG/' -e 's/^constexpr double UCB1_EPS = .*;          \\/\\/ OPTIMIZE \\[1e-3, 1e1\\] LOG$/constexpr double UCB1_EPS = 0.0031666217026379236;          \\/\\/ OPTIMIZE [1e-3, 1e1] LOG/' -e 's/^constexpr double UCB1_DECAY_RATE_TMP = .*;           \\/\\/ OPTIMIZE \\[1e-5, 0\\.1\\] LOG$/constexpr double UCB1_DECAY_RATE_TMP = 0.0009304876938463949;           \\/\\/ OPTIMIZE [1e-5, 0.1] LOG/' -e 's/^constexpr double TURNING_COST_AT_100 = .*;           \\/\\/ OPTIMIZE \\[1000\\.0, 1e5\\]$/constexpr double TURNING_COST_AT_100 = 3353.5475364114527;           \\/\\/ OPTIMIZE [1000.0, 1e5]/' -e 's/^constexpr double TURNING_COST_COEF_TMP = .*;           \\/\\/ OPTIMIZE \\[0\\.001, 0\\.1\\] LOG$/constexpr double TURNING_COST_COEF_TMP = 0.010974252531842112;           \\/\\/ OPTIMIZE [0.001, 0.1] LOG/'\n",
      "g++ 5_main.cpp -std=gnu++17 -O2 -DONLINE_JUDGE -o 5_main.cpp.out 2> /dev/null\n",
      "g++ 6_main.cpp -std=gnu++17 -O2 -DONLINE_JUDGE -o 6_main.cpp.out 2> /dev/null\n"
     ]
    },
    {
     "name": "stderr",
     "output_type": "stream",
     "text": [
      "\u001b[32m[I 2021-05-30 08:56:34,306]\u001b[0m Trial 159 finished with value: 486270304369.0 and parameters: {'UCB1_COEF_AT_100': 52.51385736521839, 'UCB1_EPS': 0.005237483317580153, 'UCB1_DECAY_RATE_TMP': 0.0008863592577870794, 'TURNING_COST_AT_100': 3348.822692027044, 'TURNING_COST_COEF_TMP': 0.009099461651225299}. Best is trial 153 with value: 486566906650.0.\u001b[0m\n"
     ]
    },
    {
     "name": "stdout",
     "output_type": "stream",
     "text": [
      "callback ok\n",
      "index_parallel=7\n",
      "mkdir: cannot create directory ‘7_out’: File exists\n",
      "mkdir: cannot create directory ‘7_score’: File exists\n",
      "rm: cannot remove '7_out/*': No such file or directory\n",
      "sed -i 7_main.cpp -e 's/^constexpr double UCB1_COEF_AT_100 = .*;   \\/\\/ OPTIMIZE \\[1e0, 1e4\\] LOG$/constexpr double UCB1_COEF_AT_100 = 102.91147600334496;   \\/\\/ OPTIMIZE [1e0, 1e4] LOG/' -e 's/^constexpr double UCB1_EPS = .*;          \\/\\/ OPTIMIZE \\[1e-3, 1e1\\] LOG$/constexpr double UCB1_EPS = 0.003396657098495837;          \\/\\/ OPTIMIZE [1e-3, 1e1] LOG/' -e 's/^constexpr double UCB1_DECAY_RATE_TMP = .*;           \\/\\/ OPTIMIZE \\[1e-5, 0\\.1\\] LOG$/constexpr double UCB1_DECAY_RATE_TMP = 0.00219460673187701;           \\/\\/ OPTIMIZE [1e-5, 0.1] LOG/' -e 's/^constexpr double TURNING_COST_AT_100 = .*;           \\/\\/ OPTIMIZE \\[1000\\.0, 1e5\\]$/constexpr double TURNING_COST_AT_100 = 1404.19048190529;           \\/\\/ OPTIMIZE [1000.0, 1e5]/' -e 's/^constexpr double TURNING_COST_COEF_TMP = .*;           \\/\\/ OPTIMIZE \\[0\\.001, 0\\.1\\] LOG$/constexpr double TURNING_COST_COEF_TMP = 0.01119593364405117;           \\/\\/ OPTIMIZE [0.001, 0.1] LOG/'\n",
      "g++ 7_main.cpp -std=gnu++17 -O2 -DONLINE_JUDGE -o 7_main.cpp.out 2> /dev/null\n"
     ]
    },
    {
     "name": "stderr",
     "output_type": "stream",
     "text": [
      "\u001b[32m[I 2021-05-30 09:00:25,455]\u001b[0m Trial 160 finished with value: 486180862598.0 and parameters: {'UCB1_COEF_AT_100': 104.3658660524507, 'UCB1_EPS': 0.0033502240942551507, 'UCB1_DECAY_RATE_TMP': 0.00024479730288049417, 'TURNING_COST_AT_100': 3496.216232191959, 'TURNING_COST_COEF_TMP': 0.009925806417068842}. Best is trial 153 with value: 486566906650.0.\u001b[0m\n"
     ]
    },
    {
     "name": "stdout",
     "output_type": "stream",
     "text": [
      "callback ok\n",
      "index_parallel=8\n",
      "mkdir: cannot create directory ‘8_out’: File exists\n",
      "mkdir: cannot create directory ‘8_score’: File exists\n",
      "rm: cannot remove '8_out/*': No such file or directory\n",
      "sed -i 8_main.cpp -e 's/^constexpr double UCB1_COEF_AT_100 = .*;   \\/\\/ OPTIMIZE \\[1e0, 1e4\\] LOG$/constexpr double UCB1_COEF_AT_100 = 68.52025395499523;   \\/\\/ OPTIMIZE [1e0, 1e4] LOG/' -e 's/^constexpr double UCB1_EPS = .*;          \\/\\/ OPTIMIZE \\[1e-3, 1e1\\] LOG$/constexpr double UCB1_EPS = 0.0029500798021634966;          \\/\\/ OPTIMIZE [1e-3, 1e1] LOG/' -e 's/^constexpr double UCB1_DECAY_RATE_TMP = .*;           \\/\\/ OPTIMIZE \\[1e-5, 0\\.1\\] LOG$/constexpr double UCB1_DECAY_RATE_TMP = 0.0004893980215615278;           \\/\\/ OPTIMIZE [1e-5, 0.1] LOG/' -e 's/^constexpr double TURNING_COST_AT_100 = .*;           \\/\\/ OPTIMIZE \\[1000\\.0, 1e5\\]$/constexpr double TURNING_COST_AT_100 = 1237.5951909283528;           \\/\\/ OPTIMIZE [1000.0, 1e5]/' -e 's/^constexpr double TURNING_COST_COEF_TMP = .*;           \\/\\/ OPTIMIZE \\[0\\.001, 0\\.1\\] LOG$/constexpr double TURNING_COST_COEF_TMP = 0.011491734248322666;           \\/\\/ OPTIMIZE [0.001, 0.1] LOG/'\n",
      "g++ 8_main.cpp -std=gnu++17 -O2 -DONLINE_JUDGE -o 8_main.cpp.out 2> /dev/null\n"
     ]
    },
    {
     "name": "stderr",
     "output_type": "stream",
     "text": [
      "\u001b[32m[I 2021-05-30 09:00:32,539]\u001b[0m Trial 162 finished with value: 486255774254.0 and parameters: {'UCB1_COEF_AT_100': 116.26183201831209, 'UCB1_EPS': 0.0031666217026379236, 'UCB1_DECAY_RATE_TMP': 0.0009304876938463949, 'TURNING_COST_AT_100': 3353.5475364114527, 'TURNING_COST_COEF_TMP': 0.010974252531842112}. Best is trial 153 with value: 486566906650.0.\u001b[0m\n"
     ]
    },
    {
     "name": "stdout",
     "output_type": "stream",
     "text": [
      "callback ok\n",
      "index_parallel=9\n",
      "mkdir: cannot create directory ‘9_out’: File exists\n",
      "mkdir: cannot create directory ‘9_score’: File exists\n",
      "rm: cannot remove '9_out/*': No such file or directory\n",
      "sed -i 9_main.cpp -e 's/^constexpr double UCB1_COEF_AT_100 = .*;   \\/\\/ OPTIMIZE \\[1e0, 1e4\\] LOG$/constexpr double UCB1_COEF_AT_100 = 195.27739017154497;   \\/\\/ OPTIMIZE [1e0, 1e4] LOG/' -e 's/^constexpr double UCB1_EPS = .*;          \\/\\/ OPTIMIZE \\[1e-3, 1e1\\] LOG$/constexpr double UCB1_EPS = 0.002496086756400734;          \\/\\/ OPTIMIZE [1e-3, 1e1] LOG/' -e 's/^constexpr double UCB1_DECAY_RATE_TMP = .*;           \\/\\/ OPTIMIZE \\[1e-5, 0\\.1\\] LOG$/constexpr double UCB1_DECAY_RATE_TMP = 0.002085425262184762;           \\/\\/ OPTIMIZE [1e-5, 0.1] LOG/' -e 's/^constexpr double TURNING_COST_AT_100 = .*;           \\/\\/ OPTIMIZE \\[1000\\.0, 1e5\\]$/constexpr double TURNING_COST_AT_100 = 9034.909572881228;           \\/\\/ OPTIMIZE [1000.0, 1e5]/' -e 's/^constexpr double TURNING_COST_COEF_TMP = .*;           \\/\\/ OPTIMIZE \\[0\\.001, 0\\.1\\] LOG$/constexpr double TURNING_COST_COEF_TMP = 0.011153854415093754;           \\/\\/ OPTIMIZE [0.001, 0.1] LOG/'\n",
      "g++ 9_main.cpp -std=gnu++17 -O2 -DONLINE_JUDGE -o 9_main.cpp.out 2> /dev/null\n"
     ]
    },
    {
     "name": "stderr",
     "output_type": "stream",
     "text": [
      "\u001b[32m[I 2021-05-30 09:00:35,649]\u001b[0m Trial 161 finished with value: 486267261042.0 and parameters: {'UCB1_COEF_AT_100': 103.3272209811635, 'UCB1_EPS': 0.003168201308501498, 'UCB1_DECAY_RATE_TMP': 0.0022165440196080725, 'TURNING_COST_AT_100': 1077.3667988861962, 'TURNING_COST_COEF_TMP': 0.014347863271174693}. Best is trial 153 with value: 486566906650.0.\u001b[0m\n"
     ]
    },
    {
     "name": "stdout",
     "output_type": "stream",
     "text": [
      "callback ok\n",
      "index_parallel=10\n",
      "mkdir: cannot create directory ‘10_out’: File exists\n",
      "mkdir: cannot create directory ‘10_score’: File exists\n",
      "rm: cannot remove '10_out/*': No such file or directory\n",
      "sed -i 10_main.cpp -e 's/^constexpr double UCB1_COEF_AT_100 = .*;   \\/\\/ OPTIMIZE \\[1e0, 1e4\\] LOG$/constexpr double UCB1_COEF_AT_100 = 117.76139424972676;   \\/\\/ OPTIMIZE [1e0, 1e4] LOG/' -e 's/^constexpr double UCB1_EPS = .*;          \\/\\/ OPTIMIZE \\[1e-3, 1e1\\] LOG$/constexpr double UCB1_EPS = 0.002532884534363608;          \\/\\/ OPTIMIZE [1e-3, 1e1] LOG/' -e 's/^constexpr double UCB1_DECAY_RATE_TMP = .*;           \\/\\/ OPTIMIZE \\[1e-5, 0\\.1\\] LOG$/constexpr double UCB1_DECAY_RATE_TMP = 0.0012910606164726907;           \\/\\/ OPTIMIZE [1e-5, 0.1] LOG/' -e 's/^constexpr double TURNING_COST_AT_100 = .*;           \\/\\/ OPTIMIZE \\[1000\\.0, 1e5\\]$/constexpr double TURNING_COST_AT_100 = 8940.047207684576;           \\/\\/ OPTIMIZE [1000.0, 1e5]/' -e 's/^constexpr double TURNING_COST_COEF_TMP = .*;           \\/\\/ OPTIMIZE \\[0\\.001, 0\\.1\\] LOG$/constexpr double TURNING_COST_COEF_TMP = 0.0179015834690592;           \\/\\/ OPTIMIZE [0.001, 0.1] LOG/'\n",
      "g++ 10_main.cpp -std=gnu++17 -O2 -DONLINE_JUDGE -o 10_main.cpp.out 2> /dev/null\n"
     ]
    },
    {
     "name": "stderr",
     "output_type": "stream",
     "text": [
      "\u001b[32m[I 2021-05-30 09:00:40,559]\u001b[0m Trial 163 finished with value: 486454685496.0 and parameters: {'UCB1_COEF_AT_100': 102.91147600334496, 'UCB1_EPS': 0.003396657098495837, 'UCB1_DECAY_RATE_TMP': 0.00219460673187701, 'TURNING_COST_AT_100': 1404.19048190529, 'TURNING_COST_COEF_TMP': 0.01119593364405117}. Best is trial 153 with value: 486566906650.0.\u001b[0m\n"
     ]
    },
    {
     "name": "stdout",
     "output_type": "stream",
     "text": [
      "callback ok\n",
      "index_parallel=11\n",
      "mkdir: cannot create directory ‘11_out’: File exists\n",
      "mkdir: cannot create directory ‘11_score’: File exists\n",
      "rm: cannot remove '11_out/*': No such file or directory\n",
      "sed -i 11_main.cpp -e 's/^constexpr double UCB1_COEF_AT_100 = .*;   \\/\\/ OPTIMIZE \\[1e0, 1e4\\] LOG$/constexpr double UCB1_COEF_AT_100 = 125.41106070446172;   \\/\\/ OPTIMIZE [1e0, 1e4] LOG/' -e 's/^constexpr double UCB1_EPS = .*;          \\/\\/ OPTIMIZE \\[1e-3, 1e1\\] LOG$/constexpr double UCB1_EPS = 0.0031030505287740896;          \\/\\/ OPTIMIZE [1e-3, 1e1] LOG/' -e 's/^constexpr double UCB1_DECAY_RATE_TMP = .*;           \\/\\/ OPTIMIZE \\[1e-5, 0\\.1\\] LOG$/constexpr double UCB1_DECAY_RATE_TMP = 0.002471396895112778;           \\/\\/ OPTIMIZE [1e-5, 0.1] LOG/' -e 's/^constexpr double TURNING_COST_AT_100 = .*;           \\/\\/ OPTIMIZE \\[1000\\.0, 1e5\\]$/constexpr double TURNING_COST_AT_100 = 9083.265551076987;           \\/\\/ OPTIMIZE [1000.0, 1e5]/' -e 's/^constexpr double TURNING_COST_COEF_TMP = .*;           \\/\\/ OPTIMIZE \\[0\\.001, 0\\.1\\] LOG$/constexpr double TURNING_COST_COEF_TMP = 0.0157309828729601;           \\/\\/ OPTIMIZE [0.001, 0.1] LOG/'\n",
      "g++ 11_main.cpp -std=gnu++17 -O2 -DONLINE_JUDGE -o 11_main.cpp.out 2> /dev/null\n"
     ]
    },
    {
     "name": "stderr",
     "output_type": "stream",
     "text": [
      "\u001b[32m[I 2021-05-30 09:04:30,539]\u001b[0m Trial 164 finished with value: 486327409184.0 and parameters: {'UCB1_COEF_AT_100': 68.52025395499523, 'UCB1_EPS': 0.0029500798021634966, 'UCB1_DECAY_RATE_TMP': 0.0004893980215615278, 'TURNING_COST_AT_100': 1237.5951909283528, 'TURNING_COST_COEF_TMP': 0.011491734248322666}. Best is trial 153 with value: 486566906650.0.\u001b[0m\n"
     ]
    },
    {
     "name": "stdout",
     "output_type": "stream",
     "text": [
      "callback ok\n",
      "index_parallel=0\n",
      "mkdir: cannot create directory ‘0_out’: File exists\n",
      "mkdir: cannot create directory ‘0_score’: File exists\n",
      "rm: cannot remove '0_out/*': No such file or directory\n",
      "sed -i 0_main.cpp -e 's/^constexpr double UCB1_COEF_AT_100 = .*;   \\/\\/ OPTIMIZE \\[1e0, 1e4\\] LOG$/constexpr double UCB1_COEF_AT_100 = 125.92406177802583;   \\/\\/ OPTIMIZE [1e0, 1e4] LOG/' -e 's/^constexpr double UCB1_EPS = .*;          \\/\\/ OPTIMIZE \\[1e-3, 1e1\\] LOG$/constexpr double UCB1_EPS = 0.002965139295404869;          \\/\\/ OPTIMIZE [1e-3, 1e1] LOG/' -e 's/^constexpr double UCB1_DECAY_RATE_TMP = .*;           \\/\\/ OPTIMIZE \\[1e-5, 0\\.1\\] LOG$/constexpr double UCB1_DECAY_RATE_TMP = 0.0021687580084156;           \\/\\/ OPTIMIZE [1e-5, 0.1] LOG/' -e 's/^constexpr double TURNING_COST_AT_100 = .*;           \\/\\/ OPTIMIZE \\[1000\\.0, 1e5\\]$/constexpr double TURNING_COST_AT_100 = 1173.5605154923605;           \\/\\/ OPTIMIZE [1000.0, 1e5]/' -e 's/^constexpr double TURNING_COST_COEF_TMP = .*;           \\/\\/ OPTIMIZE \\[0\\.001, 0\\.1\\] LOG$/constexpr double TURNING_COST_COEF_TMP = 0.014892180041560758;           \\/\\/ OPTIMIZE [0.001, 0.1] LOG/'\n",
      "g++ 0_main.cpp -std=gnu++17 -O2 -DONLINE_JUDGE -o 0_main.cpp.out 2> /dev/null\n"
     ]
    },
    {
     "name": "stderr",
     "output_type": "stream",
     "text": [
      "\u001b[32m[I 2021-05-30 09:04:37,139]\u001b[0m Trial 165 finished with value: 485317189971.0 and parameters: {'UCB1_COEF_AT_100': 195.27739017154497, 'UCB1_EPS': 0.002496086756400734, 'UCB1_DECAY_RATE_TMP': 0.002085425262184762, 'TURNING_COST_AT_100': 9034.909572881228, 'TURNING_COST_COEF_TMP': 0.011153854415093754}. Best is trial 153 with value: 486566906650.0.\u001b[0m\n"
     ]
    },
    {
     "name": "stdout",
     "output_type": "stream",
     "text": [
      "callback ok\n",
      "index_parallel=1\n",
      "mkdir: cannot create directory ‘1_out’: File exists\n",
      "mkdir: cannot create directory ‘1_score’: File exists\n",
      "rm: cannot remove '1_out/*': No such file or directory\n",
      "sed -i 1_main.cpp -e 's/^constexpr double UCB1_COEF_AT_100 = .*;   \\/\\/ OPTIMIZE \\[1e0, 1e4\\] LOG$/constexpr double UCB1_COEF_AT_100 = 127.03049896669953;   \\/\\/ OPTIMIZE [1e0, 1e4] LOG/' -e 's/^constexpr double UCB1_EPS = .*;          \\/\\/ OPTIMIZE \\[1e-3, 1e1\\] LOG$/constexpr double UCB1_EPS = 0.0032425976837208124;          \\/\\/ OPTIMIZE [1e-3, 1e1] LOG/' -e 's/^constexpr double UCB1_DECAY_RATE_TMP = .*;           \\/\\/ OPTIMIZE \\[1e-5, 0\\.1\\] LOG$/constexpr double UCB1_DECAY_RATE_TMP = 0.004271820163351804;           \\/\\/ OPTIMIZE [1e-5, 0.1] LOG/' -e 's/^constexpr double TURNING_COST_AT_100 = .*;           \\/\\/ OPTIMIZE \\[1000\\.0, 1e5\\]$/constexpr double TURNING_COST_AT_100 = 5630.662144797412;           \\/\\/ OPTIMIZE [1000.0, 1e5]/' -e 's/^constexpr double TURNING_COST_COEF_TMP = .*;           \\/\\/ OPTIMIZE \\[0\\.001, 0\\.1\\] LOG$/constexpr double TURNING_COST_COEF_TMP = 0.016027718892335348;           \\/\\/ OPTIMIZE [0.001, 0.1] LOG/'\n",
      "g++ 1_main.cpp -std=gnu++17 -O2 -DONLINE_JUDGE -o 1_main.cpp.out 2> /dev/null\n"
     ]
    },
    {
     "name": "stderr",
     "output_type": "stream",
     "text": [
      "\u001b[32m[I 2021-05-30 09:04:38,437]\u001b[0m Trial 166 finished with value: 485937781760.0 and parameters: {'UCB1_COEF_AT_100': 117.76139424972676, 'UCB1_EPS': 0.002532884534363608, 'UCB1_DECAY_RATE_TMP': 0.0012910606164726907, 'TURNING_COST_AT_100': 8940.047207684576, 'TURNING_COST_COEF_TMP': 0.0179015834690592}. Best is trial 153 with value: 486566906650.0.\u001b[0m\n"
     ]
    },
    {
     "name": "stdout",
     "output_type": "stream",
     "text": [
      "callback ok\n",
      "index_parallel=2\n",
      "mkdir: cannot create directory ‘2_out’: File exists\n",
      "mkdir: cannot create directory ‘2_score’: File exists\n",
      "rm: cannot remove '2_out/*': No such file or directory\n",
      "sed -i 2_main.cpp -e 's/^constexpr double UCB1_COEF_AT_100 = .*;   \\/\\/ OPTIMIZE \\[1e0, 1e4\\] LOG$/constexpr double UCB1_COEF_AT_100 = 100.38233295885682;   \\/\\/ OPTIMIZE [1e0, 1e4] LOG/' -e 's/^constexpr double UCB1_EPS = .*;          \\/\\/ OPTIMIZE \\[1e-3, 1e1\\] LOG$/constexpr double UCB1_EPS = 0.0030829477078447897;          \\/\\/ OPTIMIZE [1e-3, 1e1] LOG/' -e 's/^constexpr double UCB1_DECAY_RATE_TMP = .*;           \\/\\/ OPTIMIZE \\[1e-5, 0\\.1\\] LOG$/constexpr double UCB1_DECAY_RATE_TMP = 0.002255838382250852;           \\/\\/ OPTIMIZE [1e-5, 0.1] LOG/' -e 's/^constexpr double TURNING_COST_AT_100 = .*;           \\/\\/ OPTIMIZE \\[1000\\.0, 1e5\\]$/constexpr double TURNING_COST_AT_100 = 5278.268831505824;           \\/\\/ OPTIMIZE [1000.0, 1e5]/' -e 's/^constexpr double TURNING_COST_COEF_TMP = .*;           \\/\\/ OPTIMIZE \\[0\\.001, 0\\.1\\] LOG$/constexpr double TURNING_COST_COEF_TMP = 0.011555852249464458;           \\/\\/ OPTIMIZE [0.001, 0.1] LOG/'\n",
      "g++ 2_main.cpp -std=gnu++17 -O2 -DONLINE_JUDGE -o 2_main.cpp.out 2> /dev/null\n"
     ]
    },
    {
     "name": "stderr",
     "output_type": "stream",
     "text": [
      "\u001b[32m[I 2021-05-30 09:04:43,323]\u001b[0m Trial 167 finished with value: 486110826648.0 and parameters: {'UCB1_COEF_AT_100': 125.41106070446172, 'UCB1_EPS': 0.0031030505287740896, 'UCB1_DECAY_RATE_TMP': 0.002471396895112778, 'TURNING_COST_AT_100': 9083.265551076987, 'TURNING_COST_COEF_TMP': 0.0157309828729601}. Best is trial 153 with value: 486566906650.0.\u001b[0m\n"
     ]
    },
    {
     "name": "stdout",
     "output_type": "stream",
     "text": [
      "callback ok\n",
      "index_parallel=3\n",
      "mkdir: cannot create directory ‘3_out’: File exists\n",
      "mkdir: cannot create directory ‘3_score’: File exists\n",
      "rm: cannot remove '3_out/*': No such file or directory\n",
      "sed -i 3_main.cpp -e 's/^constexpr double UCB1_COEF_AT_100 = .*;   \\/\\/ OPTIMIZE \\[1e0, 1e4\\] LOG$/constexpr double UCB1_COEF_AT_100 = 97.6132303476849;   \\/\\/ OPTIMIZE [1e0, 1e4] LOG/' -e 's/^constexpr double UCB1_EPS = .*;          \\/\\/ OPTIMIZE \\[1e-3, 1e1\\] LOG$/constexpr double UCB1_EPS = 0.0033407779505782646;          \\/\\/ OPTIMIZE [1e-3, 1e1] LOG/' -e 's/^constexpr double UCB1_DECAY_RATE_TMP = .*;           \\/\\/ OPTIMIZE \\[1e-5, 0\\.1\\] LOG$/constexpr double UCB1_DECAY_RATE_TMP = 0.002095749030066316;           \\/\\/ OPTIMIZE [1e-5, 0.1] LOG/' -e 's/^constexpr double TURNING_COST_AT_100 = .*;           \\/\\/ OPTIMIZE \\[1000\\.0, 1e5\\]$/constexpr double TURNING_COST_AT_100 = 5308.732318757537;           \\/\\/ OPTIMIZE [1000.0, 1e5]/' -e 's/^constexpr double TURNING_COST_COEF_TMP = .*;           \\/\\/ OPTIMIZE \\[0\\.001, 0\\.1\\] LOG$/constexpr double TURNING_COST_COEF_TMP = 0.011638139627066696;           \\/\\/ OPTIMIZE [0.001, 0.1] LOG/'\n",
      "g++ 3_main.cpp -std=gnu++17 -O2 -DONLINE_JUDGE -o 3_main.cpp.out 2> /dev/null\n"
     ]
    },
    {
     "name": "stderr",
     "output_type": "stream",
     "text": [
      "\u001b[32m[I 2021-05-30 09:08:41,011]\u001b[0m Trial 168 finished with value: 486175149443.0 and parameters: {'UCB1_COEF_AT_100': 125.92406177802583, 'UCB1_EPS': 0.002965139295404869, 'UCB1_DECAY_RATE_TMP': 0.0021687580084156, 'TURNING_COST_AT_100': 1173.5605154923605, 'TURNING_COST_COEF_TMP': 0.014892180041560758}. Best is trial 153 with value: 486566906650.0.\u001b[0m\n"
     ]
    },
    {
     "name": "stdout",
     "output_type": "stream",
     "text": [
      "callback ok\n",
      "index_parallel=4\n",
      "mkdir: cannot create directory ‘4_out’: File exists\n",
      "mkdir: cannot create directory ‘4_score’: File exists\n",
      "rm: cannot remove '4_out/*': No such file or directory\n"
     ]
    },
    {
     "name": "stderr",
     "output_type": "stream",
     "text": [
      "\u001b[32m[I 2021-05-30 09:08:41,786]\u001b[0m Trial 169 finished with value: 486308930629.0 and parameters: {'UCB1_COEF_AT_100': 127.03049896669953, 'UCB1_EPS': 0.0032425976837208124, 'UCB1_DECAY_RATE_TMP': 0.004271820163351804, 'TURNING_COST_AT_100': 5630.662144797412, 'TURNING_COST_COEF_TMP': 0.016027718892335348}. Best is trial 153 with value: 486566906650.0.\u001b[0m\n"
     ]
    },
    {
     "name": "stdout",
     "output_type": "stream",
     "text": [
      "callback ok\n",
      "index_parallel=5\n",
      "mkdir: cannot create directory ‘5_out’: File exists\n",
      "mkdir: cannot create directory ‘5_score’: File exists\n",
      "sed -i 4_main.cpp -e 's/^constexpr double UCB1_COEF_AT_100 = .*;   \\/\\/ OPTIMIZE \\[1e0, 1e4\\] LOG$/constexpr double UCB1_COEF_AT_100 = 71.19704627879419;   \\/\\/ OPTIMIZE [1e0, 1e4] LOG/' -e 's/^constexpr double UCB1_EPS = .*;          \\/\\/ OPTIMIZE \\[1e-3, 1e1\\] LOG$/constexpr double UCB1_EPS = 0.004324216118183021;          \\/\\/ OPTIMIZE [1e-3, 1e1] LOG/' -e 's/^constexpr double UCB1_DECAY_RATE_TMP = .*;           \\/\\/ OPTIMIZE \\[1e-5, 0\\.1\\] LOG$/constexpr double UCB1_DECAY_RATE_TMP = 0.004609311176268688;           \\/\\/ OPTIMIZE [1e-5, 0.1] LOG/' -e 's/^constexpr double TURNING_COST_AT_100 = .*;           \\/\\/ OPTIMIZE \\[1000\\.0, 1e5\\]$/constexpr double TURNING_COST_AT_100 = 5510.05279988105;           \\/\\/ OPTIMIZE [1000.0, 1e5]/' -e 's/^constexpr double TURNING_COST_COEF_TMP = .*;           \\/\\/ OPTIMIZE \\[0\\.001, 0\\.1\\] LOG$/constexpr double TURNING_COST_COEF_TMP = 0.011785887141321675;           \\/\\/ OPTIMIZE [0.001, 0.1] LOG/'\n",
      "rm: cannot remove '5_out/*': No such file or directory\n",
      "g++ 4_main.cpp -std=gnu++17 -O2 -DONLINE_JUDGE -o 4_main.cpp.out 2> /dev/null\n"
     ]
    },
    {
     "name": "stderr",
     "output_type": "stream",
     "text": [
      "\u001b[32m[I 2021-05-30 09:08:42,725]\u001b[0m Trial 170 finished with value: 486413839079.0 and parameters: {'UCB1_COEF_AT_100': 100.38233295885682, 'UCB1_EPS': 0.0030829477078447897, 'UCB1_DECAY_RATE_TMP': 0.002255838382250852, 'TURNING_COST_AT_100': 5278.268831505824, 'TURNING_COST_COEF_TMP': 0.011555852249464458}. Best is trial 153 with value: 486566906650.0.\u001b[0m\n"
     ]
    },
    {
     "name": "stdout",
     "output_type": "stream",
     "text": [
      "callback ok\n",
      "index_parallel=6\n",
      "mkdir: cannot create directory ‘6_out’: File exists\n",
      "mkdir: cannot create directory ‘6_score’: File exists\n",
      "sed -i 5_main.cpp -e 's/^constexpr double UCB1_COEF_AT_100 = .*;   \\/\\/ OPTIMIZE \\[1e0, 1e4\\] LOG$/constexpr double UCB1_COEF_AT_100 = 102.09071656362596;   \\/\\/ OPTIMIZE [1e0, 1e4] LOG/' -e 's/^constexpr double UCB1_EPS = .*;          \\/\\/ OPTIMIZE \\[1e-3, 1e1\\] LOG$/constexpr double UCB1_EPS = 0.0043808865969047536;          \\/\\/ OPTIMIZE [1e-3, 1e1] LOG/' -e 's/^constexpr double UCB1_DECAY_RATE_TMP = .*;           \\/\\/ OPTIMIZE \\[1e-5, 0\\.1\\] LOG$/constexpr double UCB1_DECAY_RATE_TMP = 0.008584084524198066;           \\/\\/ OPTIMIZE [1e-5, 0.1] LOG/' -e 's/^constexpr double TURNING_COST_AT_100 = .*;           \\/\\/ OPTIMIZE \\[1000\\.0, 1e5\\]$/constexpr double TURNING_COST_AT_100 = 5722.147126321607;           \\/\\/ OPTIMIZE [1000.0, 1e5]/' -e 's/^constexpr double TURNING_COST_COEF_TMP = .*;           \\/\\/ OPTIMIZE \\[0\\.001, 0\\.1\\] LOG$/constexpr double TURNING_COST_COEF_TMP = 0.011746472033366427;           \\/\\/ OPTIMIZE [0.001, 0.1] LOG/'\n",
      "rm: cannot remove '6_out/*': No such file or directory\n",
      "g++ 5_main.cpp -std=gnu++17 -O2 -DONLINE_JUDGE -o 5_main.cpp.out 2> /dev/null\n",
      "sed -i 6_main.cpp -e 's/^constexpr double UCB1_COEF_AT_100 = .*;   \\/\\/ OPTIMIZE \\[1e0, 1e4\\] LOG$/constexpr double UCB1_COEF_AT_100 = 70.98716782756512;   \\/\\/ OPTIMIZE [1e0, 1e4] LOG/' -e 's/^constexpr double UCB1_EPS = .*;          \\/\\/ OPTIMIZE \\[1e-3, 1e1\\] LOG$/constexpr double UCB1_EPS = 0.004528781468892659;          \\/\\/ OPTIMIZE [1e-3, 1e1] LOG/' -e 's/^constexpr double UCB1_DECAY_RATE_TMP = .*;           \\/\\/ OPTIMIZE \\[1e-5, 0\\.1\\] LOG$/constexpr double UCB1_DECAY_RATE_TMP = 0.004026872742724057;           \\/\\/ OPTIMIZE [1e-5, 0.1] LOG/' -e 's/^constexpr double TURNING_COST_AT_100 = .*;           \\/\\/ OPTIMIZE \\[1000\\.0, 1e5\\]$/constexpr double TURNING_COST_AT_100 = 6021.890118275416;           \\/\\/ OPTIMIZE [1000.0, 1e5]/' -e 's/^constexpr double TURNING_COST_COEF_TMP = .*;           \\/\\/ OPTIMIZE \\[0\\.001, 0\\.1\\] LOG$/constexpr double TURNING_COST_COEF_TMP = 0.011815507116836875;           \\/\\/ OPTIMIZE [0.001, 0.1] LOG/'\n",
      "g++ 6_main.cpp -std=gnu++17 -O2 -DONLINE_JUDGE -o 6_main.cpp.out 2> /dev/null\n"
     ]
    },
    {
     "name": "stderr",
     "output_type": "stream",
     "text": [
      "\u001b[32m[I 2021-05-30 09:08:45,918]\u001b[0m Trial 171 finished with value: 486472214063.0 and parameters: {'UCB1_COEF_AT_100': 97.6132303476849, 'UCB1_EPS': 0.0033407779505782646, 'UCB1_DECAY_RATE_TMP': 0.002095749030066316, 'TURNING_COST_AT_100': 5308.732318757537, 'TURNING_COST_COEF_TMP': 0.011638139627066696}. Best is trial 153 with value: 486566906650.0.\u001b[0m\n"
     ]
    },
    {
     "name": "stdout",
     "output_type": "stream",
     "text": [
      "callback ok\n",
      "index_parallel=7\n",
      "mkdir: cannot create directory ‘7_out’: File exists\n",
      "mkdir: cannot create directory ‘7_score’: File exists\n",
      "rm: cannot remove '7_out/*': No such file or directory\n",
      "sed -i 7_main.cpp -e 's/^constexpr double UCB1_COEF_AT_100 = .*;   \\/\\/ OPTIMIZE \\[1e0, 1e4\\] LOG$/constexpr double UCB1_COEF_AT_100 = 93.09304557997159;   \\/\\/ OPTIMIZE [1e0, 1e4] LOG/' -e 's/^constexpr double UCB1_EPS = .*;          \\/\\/ OPTIMIZE \\[1e-3, 1e1\\] LOG$/constexpr double UCB1_EPS = 0.004173652577395776;          \\/\\/ OPTIMIZE [1e-3, 1e1] LOG/' -e 's/^constexpr double UCB1_DECAY_RATE_TMP = .*;           \\/\\/ OPTIMIZE \\[1e-5, 0\\.1\\] LOG$/constexpr double UCB1_DECAY_RATE_TMP = 0.004924430954272506;           \\/\\/ OPTIMIZE [1e-5, 0.1] LOG/' -e 's/^constexpr double TURNING_COST_AT_100 = .*;           \\/\\/ OPTIMIZE \\[1000\\.0, 1e5\\]$/constexpr double TURNING_COST_AT_100 = 6250.181462318404;           \\/\\/ OPTIMIZE [1000.0, 1e5]/' -e 's/^constexpr double TURNING_COST_COEF_TMP = .*;           \\/\\/ OPTIMIZE \\[0\\.001, 0\\.1\\] LOG$/constexpr double TURNING_COST_COEF_TMP = 0.012126942799832303;           \\/\\/ OPTIMIZE [0.001, 0.1] LOG/'\n",
      "g++ 7_main.cpp -std=gnu++17 -O2 -DONLINE_JUDGE -o 7_main.cpp.out 2> /dev/null\n"
     ]
    },
    {
     "name": "stderr",
     "output_type": "stream",
     "text": [
      "\u001b[32m[I 2021-05-30 09:12:41,645]\u001b[0m Trial 172 finished with value: 486358881728.0 and parameters: {'UCB1_COEF_AT_100': 71.19704627879419, 'UCB1_EPS': 0.004324216118183021, 'UCB1_DECAY_RATE_TMP': 0.004609311176268688, 'TURNING_COST_AT_100': 5510.05279988105, 'TURNING_COST_COEF_TMP': 0.011785887141321675}. Best is trial 153 with value: 486566906650.0.\u001b[0m\n"
     ]
    },
    {
     "name": "stdout",
     "output_type": "stream",
     "text": [
      "callback ok\n",
      "index_parallel=8\n",
      "mkdir: cannot create directory ‘8_out’: File exists\n",
      "mkdir: cannot create directory ‘8_score’: File exists\n",
      "rm: cannot remove '8_out/*': No such file or directory\n",
      "sed -i 8_main.cpp -e 's/^constexpr double UCB1_COEF_AT_100 = .*;   \\/\\/ OPTIMIZE \\[1e0, 1e4\\] LOG$/constexpr double UCB1_COEF_AT_100 = 174.62435865342076;   \\/\\/ OPTIMIZE [1e0, 1e4] LOG/' -e 's/^constexpr double UCB1_EPS = .*;          \\/\\/ OPTIMIZE \\[1e-3, 1e1\\] LOG$/constexpr double UCB1_EPS = 0.004444371557951276;          \\/\\/ OPTIMIZE [1e-3, 1e1] LOG/' -e 's/^constexpr double UCB1_DECAY_RATE_TMP = .*;           \\/\\/ OPTIMIZE \\[1e-5, 0\\.1\\] LOG$/constexpr double UCB1_DECAY_RATE_TMP = 0.01017185319999579;           \\/\\/ OPTIMIZE [1e-5, 0.1] LOG/' -e 's/^constexpr double TURNING_COST_AT_100 = .*;           \\/\\/ OPTIMIZE \\[1000\\.0, 1e5\\]$/constexpr double TURNING_COST_AT_100 = 6139.017127985371;           \\/\\/ OPTIMIZE [1000.0, 1e5]/' -e 's/^constexpr double TURNING_COST_COEF_TMP = .*;           \\/\\/ OPTIMIZE \\[0\\.001, 0\\.1\\] LOG$/constexpr double TURNING_COST_COEF_TMP = 0.013296054386353152;           \\/\\/ OPTIMIZE [0.001, 0.1] LOG/'\n",
      "g++ 8_main.cpp -std=gnu++17 -O2 -DONLINE_JUDGE -o 8_main.cpp.out 2> /dev/null\n"
     ]
    },
    {
     "name": "stderr",
     "output_type": "stream",
     "text": [
      "\u001b[32m[I 2021-05-30 09:12:42,881]\u001b[0m Trial 174 finished with value: 486173471472.0 and parameters: {'UCB1_COEF_AT_100': 70.98716782756512, 'UCB1_EPS': 0.004528781468892659, 'UCB1_DECAY_RATE_TMP': 0.004026872742724057, 'TURNING_COST_AT_100': 6021.890118275416, 'TURNING_COST_COEF_TMP': 0.011815507116836875}. Best is trial 153 with value: 486566906650.0.\u001b[0m\n"
     ]
    },
    {
     "name": "stdout",
     "output_type": "stream",
     "text": [
      "callback ok\n",
      "index_parallel=9\n",
      "mkdir: cannot create directory ‘9_out’: File exists\n",
      "mkdir: cannot create directory ‘9_score’: File exists\n",
      "rm: cannot remove '9_out/*': No such file or directory\n"
     ]
    },
    {
     "name": "stderr",
     "output_type": "stream",
     "text": [
      "\u001b[32m[I 2021-05-30 09:12:43,252]\u001b[0m Trial 173 finished with value: 486201799036.0 and parameters: {'UCB1_COEF_AT_100': 102.09071656362596, 'UCB1_EPS': 0.0043808865969047536, 'UCB1_DECAY_RATE_TMP': 0.008584084524198066, 'TURNING_COST_AT_100': 5722.147126321607, 'TURNING_COST_COEF_TMP': 0.011746472033366427}. Best is trial 153 with value: 486566906650.0.\u001b[0m\n"
     ]
    },
    {
     "name": "stdout",
     "output_type": "stream",
     "text": [
      "callback ok\n",
      "index_parallel=10\n",
      "mkdir: cannot create directory ‘10_out’: File exists\n",
      "mkdir: cannot create directory ‘10_score’: File exists\n",
      "rm: cannot remove '10_out/*': No such file or directory\n",
      "sed -i 9_main.cpp -e 's/^constexpr double UCB1_COEF_AT_100 = .*;   \\/\\/ OPTIMIZE \\[1e0, 1e4\\] LOG$/constexpr double UCB1_COEF_AT_100 = 175.6861552504514;   \\/\\/ OPTIMIZE [1e0, 1e4] LOG/' -e 's/^constexpr double UCB1_EPS = .*;          \\/\\/ OPTIMIZE \\[1e-3, 1e1\\] LOG$/constexpr double UCB1_EPS = 0.003852817767966592;          \\/\\/ OPTIMIZE [1e-3, 1e1] LOG/' -e 's/^constexpr double UCB1_DECAY_RATE_TMP = .*;           \\/\\/ OPTIMIZE \\[1e-5, 0\\.1\\] LOG$/constexpr double UCB1_DECAY_RATE_TMP = 0.0050691807083274665;           \\/\\/ OPTIMIZE [1e-5, 0.1] LOG/' -e 's/^constexpr double TURNING_COST_AT_100 = .*;           \\/\\/ OPTIMIZE \\[1000\\.0, 1e5\\]$/constexpr double TURNING_COST_AT_100 = 6678.008742994526;           \\/\\/ OPTIMIZE [1000.0, 1e5]/' -e 's/^constexpr double TURNING_COST_COEF_TMP = .*;           \\/\\/ OPTIMIZE \\[0\\.001, 0\\.1\\] LOG$/constexpr double TURNING_COST_COEF_TMP = 0.01349611603441345;           \\/\\/ OPTIMIZE [0.001, 0.1] LOG/'\n",
      "g++ 9_main.cpp -std=gnu++17 -O2 -DONLINE_JUDGE -o 9_main.cpp.out 2> /dev/null\n",
      "sed -i 10_main.cpp -e 's/^constexpr double UCB1_COEF_AT_100 = .*;   \\/\\/ OPTIMIZE \\[1e0, 1e4\\] LOG$/constexpr double UCB1_COEF_AT_100 = 148.2194140920346;   \\/\\/ OPTIMIZE [1e0, 1e4] LOG/' -e 's/^constexpr double UCB1_EPS = .*;          \\/\\/ OPTIMIZE \\[1e-3, 1e1\\] LOG$/constexpr double UCB1_EPS = 0.0035818371305734197;          \\/\\/ OPTIMIZE [1e-3, 1e1] LOG/' -e 's/^constexpr double UCB1_DECAY_RATE_TMP = .*;           \\/\\/ OPTIMIZE \\[1e-5, 0\\.1\\] LOG$/constexpr double UCB1_DECAY_RATE_TMP = 0.005714800033763846;           \\/\\/ OPTIMIZE [1e-5, 0.1] LOG/' -e 's/^constexpr double TURNING_COST_AT_100 = .*;           \\/\\/ OPTIMIZE \\[1000\\.0, 1e5\\]$/constexpr double TURNING_COST_AT_100 = 7068.111398467692;           \\/\\/ OPTIMIZE [1000.0, 1e5]/' -e 's/^constexpr double TURNING_COST_COEF_TMP = .*;           \\/\\/ OPTIMIZE \\[0\\.001, 0\\.1\\] LOG$/constexpr double TURNING_COST_COEF_TMP = 0.013181461728468215;           \\/\\/ OPTIMIZE [0.001, 0.1] LOG/'\n",
      "g++ 10_main.cpp -std=gnu++17 -O2 -DONLINE_JUDGE -o 10_main.cpp.out 2> /dev/null\n"
     ]
    },
    {
     "name": "stderr",
     "output_type": "stream",
     "text": [
      "\u001b[32m[I 2021-05-30 09:12:47,136]\u001b[0m Trial 175 finished with value: 486284327466.0 and parameters: {'UCB1_COEF_AT_100': 93.09304557997159, 'UCB1_EPS': 0.004173652577395776, 'UCB1_DECAY_RATE_TMP': 0.004924430954272506, 'TURNING_COST_AT_100': 6250.181462318404, 'TURNING_COST_COEF_TMP': 0.012126942799832303}. Best is trial 153 with value: 486566906650.0.\u001b[0m\n"
     ]
    },
    {
     "name": "stdout",
     "output_type": "stream",
     "text": [
      "callback ok\n",
      "index_parallel=11\n",
      "mkdir: cannot create directory ‘11_out’: File exists\n",
      "mkdir: cannot create directory ‘11_score’: File exists\n",
      "rm: cannot remove '11_out/*': No such file or directory\n",
      "sed -i 11_main.cpp -e 's/^constexpr double UCB1_COEF_AT_100 = .*;   \\/\\/ OPTIMIZE \\[1e0, 1e4\\] LOG$/constexpr double UCB1_COEF_AT_100 = 183.75505091924435;   \\/\\/ OPTIMIZE [1e0, 1e4] LOG/' -e 's/^constexpr double UCB1_EPS = .*;          \\/\\/ OPTIMIZE \\[1e-3, 1e1\\] LOG$/constexpr double UCB1_EPS = 0.003617356249418325;          \\/\\/ OPTIMIZE [1e-3, 1e1] LOG/' -e 's/^constexpr double UCB1_DECAY_RATE_TMP = .*;           \\/\\/ OPTIMIZE \\[1e-5, 0\\.1\\] LOG$/constexpr double UCB1_DECAY_RATE_TMP = 0.005142657501783645;           \\/\\/ OPTIMIZE [1e-5, 0.1] LOG/' -e 's/^constexpr double TURNING_COST_AT_100 = .*;           \\/\\/ OPTIMIZE \\[1000\\.0, 1e5\\]$/constexpr double TURNING_COST_AT_100 = 6925.517907305293;           \\/\\/ OPTIMIZE [1000.0, 1e5]/' -e 's/^constexpr double TURNING_COST_COEF_TMP = .*;           \\/\\/ OPTIMIZE \\[0\\.001, 0\\.1\\] LOG$/constexpr double TURNING_COST_COEF_TMP = 0.013464518025439003;           \\/\\/ OPTIMIZE [0.001, 0.1] LOG/'\n",
      "g++ 11_main.cpp -std=gnu++17 -O2 -DONLINE_JUDGE -o 11_main.cpp.out 2> /dev/null\n"
     ]
    },
    {
     "name": "stderr",
     "output_type": "stream",
     "text": [
      "\u001b[32m[I 2021-05-30 09:16:42,796]\u001b[0m Trial 176 finished with value: 486061614260.0 and parameters: {'UCB1_COEF_AT_100': 174.62435865342076, 'UCB1_EPS': 0.004444371557951276, 'UCB1_DECAY_RATE_TMP': 0.01017185319999579, 'TURNING_COST_AT_100': 6139.017127985371, 'TURNING_COST_COEF_TMP': 0.013296054386353152}. Best is trial 153 with value: 486566906650.0.\u001b[0m\n"
     ]
    },
    {
     "name": "stdout",
     "output_type": "stream",
     "text": [
      "callback ok\n",
      "index_parallel=0\n",
      "mkdir: cannot create directory ‘0_out’: File exists\n",
      "mkdir: cannot create directory ‘0_score’: File exists\n",
      "rm: cannot remove '0_out/*': No such file or directory\n"
     ]
    },
    {
     "name": "stderr",
     "output_type": "stream",
     "text": [
      "\u001b[32m[I 2021-05-30 09:16:43,564]\u001b[0m Trial 178 finished with value: 486206495741.0 and parameters: {'UCB1_COEF_AT_100': 148.2194140920346, 'UCB1_EPS': 0.0035818371305734197, 'UCB1_DECAY_RATE_TMP': 0.005714800033763846, 'TURNING_COST_AT_100': 7068.111398467692, 'TURNING_COST_COEF_TMP': 0.013181461728468215}. Best is trial 153 with value: 486566906650.0.\u001b[0m\n"
     ]
    },
    {
     "name": "stdout",
     "output_type": "stream",
     "text": [
      "callback ok\n",
      "index_parallel=1\n",
      "mkdir: cannot create directory ‘1_out’: File exists\n",
      "mkdir: cannot create directory ‘1_score’: File exists\n",
      "sed -i 0_main.cpp -e 's/^constexpr double UCB1_COEF_AT_100 = .*;   \\/\\/ OPTIMIZE \\[1e0, 1e4\\] LOG$/constexpr double UCB1_COEF_AT_100 = 89.31937729643029;   \\/\\/ OPTIMIZE [1e0, 1e4] LOG/' -e 's/^constexpr double UCB1_EPS = .*;          \\/\\/ OPTIMIZE \\[1e-3, 1e1\\] LOG$/constexpr double UCB1_EPS = 0.002314414840955587;          \\/\\/ OPTIMIZE [1e-3, 1e1] LOG/' -e 's/^constexpr double UCB1_DECAY_RATE_TMP = .*;           \\/\\/ OPTIMIZE \\[1e-5, 0\\.1\\] LOG$/constexpr double UCB1_DECAY_RATE_TMP = 0.004378802825100506;           \\/\\/ OPTIMIZE [1e-5, 0.1] LOG/' -e 's/^constexpr double TURNING_COST_AT_100 = .*;           \\/\\/ OPTIMIZE \\[1000\\.0, 1e5\\]$/constexpr double TURNING_COST_AT_100 = 1289.0392618294195;           \\/\\/ OPTIMIZE [1000.0, 1e5]/' -e 's/^constexpr double TURNING_COST_COEF_TMP = .*;           \\/\\/ OPTIMIZE \\[0\\.001, 0\\.1\\] LOG$/constexpr double TURNING_COST_COEF_TMP = 0.011345351288985416;           \\/\\/ OPTIMIZE [0.001, 0.1] LOG/'\n",
      "rm: cannot remove '1_out/*': No such file or directory\n",
      "g++ 0_main.cpp -std=gnu++17 -O2 -DONLINE_JUDGE -o 0_main.cpp.out 2> /dev/null\n"
     ]
    },
    {
     "name": "stderr",
     "output_type": "stream",
     "text": [
      "\u001b[32m[I 2021-05-30 09:16:44,084]\u001b[0m Trial 177 finished with value: 486093933105.0 and parameters: {'UCB1_COEF_AT_100': 175.6861552504514, 'UCB1_EPS': 0.003852817767966592, 'UCB1_DECAY_RATE_TMP': 0.0050691807083274665, 'TURNING_COST_AT_100': 6678.008742994526, 'TURNING_COST_COEF_TMP': 0.01349611603441345}. Best is trial 153 with value: 486566906650.0.\u001b[0m\n"
     ]
    },
    {
     "name": "stdout",
     "output_type": "stream",
     "text": [
      "callback ok\n",
      "index_parallel=2\n",
      "mkdir: cannot create directory ‘2_out’: File exists\n",
      "mkdir: cannot create directory ‘2_score’: File exists\n",
      "rm: cannot remove '2_out/*': No such file or directory\n",
      "sed -i 1_main.cpp -e 's/^constexpr double UCB1_COEF_AT_100 = .*;   \\/\\/ OPTIMIZE \\[1e0, 1e4\\] LOG$/constexpr double UCB1_COEF_AT_100 = 93.55051480762194;   \\/\\/ OPTIMIZE [1e0, 1e4] LOG/' -e 's/^constexpr double UCB1_EPS = .*;          \\/\\/ OPTIMIZE \\[1e-3, 1e1\\] LOG$/constexpr double UCB1_EPS = 0.002460023997569471;          \\/\\/ OPTIMIZE [1e-3, 1e1] LOG/' -e 's/^constexpr double UCB1_DECAY_RATE_TMP = .*;           \\/\\/ OPTIMIZE \\[1e-5, 0\\.1\\] LOG$/constexpr double UCB1_DECAY_RATE_TMP = 0.003324774485023493;           \\/\\/ OPTIMIZE [1e-5, 0.1] LOG/' -e 's/^constexpr double TURNING_COST_AT_100 = .*;           \\/\\/ OPTIMIZE \\[1000\\.0, 1e5\\]$/constexpr double TURNING_COST_AT_100 = 1182.9298502986508;           \\/\\/ OPTIMIZE [1000.0, 1e5]/' -e 's/^constexpr double TURNING_COST_COEF_TMP = .*;           \\/\\/ OPTIMIZE \\[0\\.001, 0\\.1\\] LOG$/constexpr double TURNING_COST_COEF_TMP = 0.011136382107900447;           \\/\\/ OPTIMIZE [0.001, 0.1] LOG/'\n",
      "g++ 1_main.cpp -std=gnu++17 -O2 -DONLINE_JUDGE -o 1_main.cpp.out 2> /dev/null\n",
      "sed -i 2_main.cpp -e 's/^constexpr double UCB1_COEF_AT_100 = .*;   \\/\\/ OPTIMIZE \\[1e0, 1e4\\] LOG$/constexpr double UCB1_COEF_AT_100 = 90.86478553040035;   \\/\\/ OPTIMIZE [1e0, 1e4] LOG/' -e 's/^constexpr double UCB1_EPS = .*;          \\/\\/ OPTIMIZE \\[1e-3, 1e1\\] LOG$/constexpr double UCB1_EPS = 0.002520019738471386;          \\/\\/ OPTIMIZE [1e-3, 1e1] LOG/' -e 's/^constexpr double UCB1_DECAY_RATE_TMP = .*;           \\/\\/ OPTIMIZE \\[1e-5, 0\\.1\\] LOG$/constexpr double UCB1_DECAY_RATE_TMP = 0.002953240103707265;           \\/\\/ OPTIMIZE [1e-5, 0.1] LOG/' -e 's/^constexpr double TURNING_COST_AT_100 = .*;           \\/\\/ OPTIMIZE \\[1000\\.0, 1e5\\]$/constexpr double TURNING_COST_AT_100 = 1045.1772078702334;           \\/\\/ OPTIMIZE [1000.0, 1e5]/' -e 's/^constexpr double TURNING_COST_COEF_TMP = .*;           \\/\\/ OPTIMIZE \\[0\\.001, 0\\.1\\] LOG$/constexpr double TURNING_COST_COEF_TMP = 0.010594212432666575;           \\/\\/ OPTIMIZE [0.001, 0.1] LOG/'\n",
      "g++ 2_main.cpp -std=gnu++17 -O2 -DONLINE_JUDGE -o 2_main.cpp.out 2> /dev/null\n"
     ]
    },
    {
     "name": "stderr",
     "output_type": "stream",
     "text": [
      "\u001b[32m[I 2021-05-30 09:16:48,057]\u001b[0m Trial 179 finished with value: 486062235234.0 and parameters: {'UCB1_COEF_AT_100': 183.75505091924435, 'UCB1_EPS': 0.003617356249418325, 'UCB1_DECAY_RATE_TMP': 0.005142657501783645, 'TURNING_COST_AT_100': 6925.517907305293, 'TURNING_COST_COEF_TMP': 0.013464518025439003}. Best is trial 153 with value: 486566906650.0.\u001b[0m\n"
     ]
    },
    {
     "name": "stdout",
     "output_type": "stream",
     "text": [
      "callback ok\n",
      "index_parallel=3\n",
      "mkdir: cannot create directory ‘3_out’: File exists\n",
      "mkdir: cannot create directory ‘3_score’: File exists\n",
      "rm: cannot remove '3_out/*': No such file or directory\n",
      "sed -i 3_main.cpp -e 's/^constexpr double UCB1_COEF_AT_100 = .*;   \\/\\/ OPTIMIZE \\[1e0, 1e4\\] LOG$/constexpr double UCB1_COEF_AT_100 = 92.89760245471524;   \\/\\/ OPTIMIZE [1e0, 1e4] LOG/' -e 's/^constexpr double UCB1_EPS = .*;          \\/\\/ OPTIMIZE \\[1e-3, 1e1\\] LOG$/constexpr double UCB1_EPS = 0.0022991665726356226;          \\/\\/ OPTIMIZE [1e-3, 1e1] LOG/' -e 's/^constexpr double UCB1_DECAY_RATE_TMP = .*;           \\/\\/ OPTIMIZE \\[1e-5, 0\\.1\\] LOG$/constexpr double UCB1_DECAY_RATE_TMP = 0.0030762113063990144;           \\/\\/ OPTIMIZE [1e-5, 0.1] LOG/' -e 's/^constexpr double TURNING_COST_AT_100 = .*;           \\/\\/ OPTIMIZE \\[1000\\.0, 1e5\\]$/constexpr double TURNING_COST_AT_100 = 1069.1397674800144;           \\/\\/ OPTIMIZE [1000.0, 1e5]/' -e 's/^constexpr double TURNING_COST_COEF_TMP = .*;           \\/\\/ OPTIMIZE \\[0\\.001, 0\\.1\\] LOG$/constexpr double TURNING_COST_COEF_TMP = 0.01592757078267962;           \\/\\/ OPTIMIZE [0.001, 0.1] LOG/'\n",
      "g++ 3_main.cpp -std=gnu++17 -O2 -DONLINE_JUDGE -o 3_main.cpp.out 2> /dev/null\n"
     ]
    },
    {
     "name": "stderr",
     "output_type": "stream",
     "text": [
      "\u001b[32m[I 2021-05-30 09:20:46,828]\u001b[0m Trial 180 finished with value: 486528745500.0 and parameters: {'UCB1_COEF_AT_100': 89.31937729643029, 'UCB1_EPS': 0.002314414840955587, 'UCB1_DECAY_RATE_TMP': 0.004378802825100506, 'TURNING_COST_AT_100': 1289.0392618294195, 'TURNING_COST_COEF_TMP': 0.011345351288985416}. Best is trial 153 with value: 486566906650.0.\u001b[0m\n"
     ]
    },
    {
     "name": "stdout",
     "output_type": "stream",
     "text": [
      "callback ok\n",
      "index_parallel=4\n",
      "mkdir: cannot create directory ‘4_out’: File exists\n",
      "mkdir: cannot create directory ‘4_score’: File exists\n",
      "rm: cannot remove '4_out/*': No such file or directory\n"
     ]
    },
    {
     "name": "stderr",
     "output_type": "stream",
     "text": [
      "\u001b[32m[I 2021-05-30 09:20:47,723]\u001b[0m Trial 181 finished with value: 486280018224.0 and parameters: {'UCB1_COEF_AT_100': 93.55051480762194, 'UCB1_EPS': 0.002460023997569471, 'UCB1_DECAY_RATE_TMP': 0.003324774485023493, 'TURNING_COST_AT_100': 1182.9298502986508, 'TURNING_COST_COEF_TMP': 0.011136382107900447}. Best is trial 153 with value: 486566906650.0.\u001b[0m\n"
     ]
    },
    {
     "name": "stdout",
     "output_type": "stream",
     "text": [
      "callback ok\n",
      "index_parallel=5\n",
      "mkdir: cannot create directory ‘5_out’: File exists\n",
      "sed -i 4_main.cpp -e 's/^constexpr double UCB1_COEF_AT_100 = .*;   \\/\\/ OPTIMIZE \\[1e0, 1e4\\] LOG$/constexpr double UCB1_COEF_AT_100 = 95.8831140803518;   \\/\\/ OPTIMIZE [1e0, 1e4] LOG/' -e 's/^constexpr double UCB1_EPS = .*;          \\/\\/ OPTIMIZE \\[1e-3, 1e1\\] LOG$/constexpr double UCB1_EPS = 0.0017854063629841057;          \\/\\/ OPTIMIZE [1e-3, 1e1] LOG/' -e 's/^constexpr double UCB1_DECAY_RATE_TMP = .*;           \\/\\/ OPTIMIZE \\[1e-5, 0\\.1\\] LOG$/constexpr double UCB1_DECAY_RATE_TMP = 0.0031730326493170555;           \\/\\/ OPTIMIZE [1e-5, 0.1] LOG/' -e 's/^constexpr double TURNING_COST_AT_100 = .*;           \\/\\/ OPTIMIZE \\[1000\\.0, 1e5\\]$/constexpr double TURNING_COST_AT_100 = 1079.1162694826023;           \\/\\/ OPTIMIZE [1000.0, 1e5]/' -e 's/^constexpr double TURNING_COST_COEF_TMP = .*;           \\/\\/ OPTIMIZE \\[0\\.001, 0\\.1\\] LOG$/constexpr double TURNING_COST_COEF_TMP = 0.0159388094584421;           \\/\\/ OPTIMIZE [0.001, 0.1] LOG/'\n",
      "mkdir: cannot create directory ‘5_score’: File exists\n",
      "g++ 4_main.cpp -std=gnu++17 -O2 -DONLINE_JUDGE -o 4_main.cpp.out 2> /dev/null\n",
      "rm: cannot remove '5_out/*': No such file or directory\n"
     ]
    },
    {
     "name": "stderr",
     "output_type": "stream",
     "text": [
      "\u001b[32m[I 2021-05-30 09:20:48,119]\u001b[0m Trial 182 finished with value: 486499861382.0 and parameters: {'UCB1_COEF_AT_100': 90.86478553040035, 'UCB1_EPS': 0.002520019738471386, 'UCB1_DECAY_RATE_TMP': 0.002953240103707265, 'TURNING_COST_AT_100': 1045.1772078702334, 'TURNING_COST_COEF_TMP': 0.010594212432666575}. Best is trial 153 with value: 486566906650.0.\u001b[0m\n"
     ]
    },
    {
     "name": "stdout",
     "output_type": "stream",
     "text": [
      "callback ok\n",
      "index_parallel=6\n",
      "mkdir: cannot create directory ‘6_out’: File exists\n",
      "mkdir: cannot create directory ‘6_score’: File exists\n",
      "rm: cannot remove '6_out/*': No such file or directory\n",
      "sed -i 5_main.cpp -e 's/^constexpr double UCB1_COEF_AT_100 = .*;   \\/\\/ OPTIMIZE \\[1e0, 1e4\\] LOG$/constexpr double UCB1_COEF_AT_100 = 78.00676185235629;   \\/\\/ OPTIMIZE [1e0, 1e4] LOG/' -e 's/^constexpr double UCB1_EPS = .*;          \\/\\/ OPTIMIZE \\[1e-3, 1e1\\] LOG$/constexpr double UCB1_EPS = 0.0018814203412636054;          \\/\\/ OPTIMIZE [1e-3, 1e1] LOG/' -e 's/^constexpr double UCB1_DECAY_RATE_TMP = .*;           \\/\\/ OPTIMIZE \\[1e-5, 0\\.1\\] LOG$/constexpr double UCB1_DECAY_RATE_TMP = 0.0029803672899881713;           \\/\\/ OPTIMIZE [1e-5, 0.1] LOG/' -e 's/^constexpr double TURNING_COST_AT_100 = .*;           \\/\\/ OPTIMIZE \\[1000\\.0, 1e5\\]$/constexpr double TURNING_COST_AT_100 = 4553.545729897404;           \\/\\/ OPTIMIZE [1000.0, 1e5]/' -e 's/^constexpr double TURNING_COST_COEF_TMP = .*;           \\/\\/ OPTIMIZE \\[0\\.001, 0\\.1\\] LOG$/constexpr double TURNING_COST_COEF_TMP = 0.016412295778696396;           \\/\\/ OPTIMIZE [0.001, 0.1] LOG/'\n",
      "g++ 5_main.cpp -std=gnu++17 -O2 -DONLINE_JUDGE -o 5_main.cpp.out 2> /dev/null\n",
      "sed -i 6_main.cpp -e 's/^constexpr double UCB1_COEF_AT_100 = .*;   \\/\\/ OPTIMIZE \\[1e0, 1e4\\] LOG$/constexpr double UCB1_COEF_AT_100 = 79.87809440026291;   \\/\\/ OPTIMIZE [1e0, 1e4] LOG/' -e 's/^constexpr double UCB1_EPS = .*;          \\/\\/ OPTIMIZE \\[1e-3, 1e1\\] LOG$/constexpr double UCB1_EPS = 0.0017636094338802047;          \\/\\/ OPTIMIZE [1e-3, 1e1] LOG/' -e 's/^constexpr double UCB1_DECAY_RATE_TMP = .*;           \\/\\/ OPTIMIZE \\[1e-5, 0\\.1\\] LOG$/constexpr double UCB1_DECAY_RATE_TMP = 0.003989243433171688;           \\/\\/ OPTIMIZE [1e-5, 0.1] LOG/' -e 's/^constexpr double TURNING_COST_AT_100 = .*;           \\/\\/ OPTIMIZE \\[1000\\.0, 1e5\\]$/constexpr double TURNING_COST_AT_100 = 1308.5605042776658;           \\/\\/ OPTIMIZE [1000.0, 1e5]/' -e 's/^constexpr double TURNING_COST_COEF_TMP = .*;           \\/\\/ OPTIMIZE \\[0\\.001, 0\\.1\\] LOG$/constexpr double TURNING_COST_COEF_TMP = 0.01616837862305119;           \\/\\/ OPTIMIZE [0.001, 0.1] LOG/'\n",
      "g++ 6_main.cpp -std=gnu++17 -O2 -DONLINE_JUDGE -o 6_main.cpp.out 2> /dev/null\n"
     ]
    },
    {
     "name": "stderr",
     "output_type": "stream",
     "text": [
      "\u001b[32m[I 2021-05-30 09:20:51,970]\u001b[0m Trial 183 finished with value: 486376942993.0 and parameters: {'UCB1_COEF_AT_100': 92.89760245471524, 'UCB1_EPS': 0.0022991665726356226, 'UCB1_DECAY_RATE_TMP': 0.0030762113063990144, 'TURNING_COST_AT_100': 1069.1397674800144, 'TURNING_COST_COEF_TMP': 0.01592757078267962}. Best is trial 153 with value: 486566906650.0.\u001b[0m\n"
     ]
    },
    {
     "name": "stdout",
     "output_type": "stream",
     "text": [
      "callback ok\n",
      "index_parallel=7\n",
      "mkdir: cannot create directory ‘7_out’: File exists\n",
      "mkdir: cannot create directory ‘7_score’: File exists\n",
      "rm: cannot remove '7_out/*': No such file or directory\n",
      "sed -i 7_main.cpp -e 's/^constexpr double UCB1_COEF_AT_100 = .*;   \\/\\/ OPTIMIZE \\[1e0, 1e4\\] LOG$/constexpr double UCB1_COEF_AT_100 = 74.99474027543214;   \\/\\/ OPTIMIZE [1e0, 1e4] LOG/' -e 's/^constexpr double UCB1_EPS = .*;          \\/\\/ OPTIMIZE \\[1e-3, 1e1\\] LOG$/constexpr double UCB1_EPS = 0.0018790857761906941;          \\/\\/ OPTIMIZE [1e-3, 1e1] LOG/' -e 's/^constexpr double UCB1_DECAY_RATE_TMP = .*;           \\/\\/ OPTIMIZE \\[1e-5, 0\\.1\\] LOG$/constexpr double UCB1_DECAY_RATE_TMP = 0.004320690582667813;           \\/\\/ OPTIMIZE [1e-5, 0.1] LOG/' -e 's/^constexpr double TURNING_COST_AT_100 = .*;           \\/\\/ OPTIMIZE \\[1000\\.0, 1e5\\]$/constexpr double TURNING_COST_AT_100 = 1404.4427617090132;           \\/\\/ OPTIMIZE [1000.0, 1e5]/' -e 's/^constexpr double TURNING_COST_COEF_TMP = .*;           \\/\\/ OPTIMIZE \\[0\\.001, 0\\.1\\] LOG$/constexpr double TURNING_COST_COEF_TMP = 0.010397000795016546;           \\/\\/ OPTIMIZE [0.001, 0.1] LOG/'\n",
      "g++ 7_main.cpp -std=gnu++17 -O2 -DONLINE_JUDGE -o 7_main.cpp.out 2> /dev/null\n"
     ]
    },
    {
     "name": "stderr",
     "output_type": "stream",
     "text": [
      "\u001b[32m[I 2021-05-30 09:24:50,235]\u001b[0m Trial 185 finished with value: 486441155161.0 and parameters: {'UCB1_COEF_AT_100': 78.00676185235629, 'UCB1_EPS': 0.0018814203412636054, 'UCB1_DECAY_RATE_TMP': 0.0029803672899881713, 'TURNING_COST_AT_100': 4553.545729897404, 'TURNING_COST_COEF_TMP': 0.016412295778696396}. Best is trial 153 with value: 486566906650.0.\u001b[0m\n"
     ]
    },
    {
     "name": "stdout",
     "output_type": "stream",
     "text": [
      "callback ok\n",
      "index_parallel=8\n",
      "mkdir: cannot create directory ‘8_out’: File exists\n",
      "mkdir: cannot create directory ‘8_score’: File exists\n",
      "rm: cannot remove '8_out/*': No such file or directory\n",
      "sed -i 8_main.cpp -e 's/^constexpr double UCB1_COEF_AT_100 = .*;   \\/\\/ OPTIMIZE \\[1e0, 1e4\\] LOG$/constexpr double UCB1_COEF_AT_100 = 73.49231510592051;   \\/\\/ OPTIMIZE [1e0, 1e4] LOG/' -e 's/^constexpr double UCB1_EPS = .*;          \\/\\/ OPTIMIZE \\[1e-3, 1e1\\] LOG$/constexpr double UCB1_EPS = 0.0017333457621759325;          \\/\\/ OPTIMIZE [1e-3, 1e1] LOG/' -e 's/^constexpr double UCB1_DECAY_RATE_TMP = .*;           \\/\\/ OPTIMIZE \\[1e-5, 0\\.1\\] LOG$/constexpr double UCB1_DECAY_RATE_TMP = 0.0029397444043708573;           \\/\\/ OPTIMIZE [1e-5, 0.1] LOG/' -e 's/^constexpr double TURNING_COST_AT_100 = .*;           \\/\\/ OPTIMIZE \\[1000\\.0, 1e5\\]$/constexpr double TURNING_COST_AT_100 = 1025.9081989604888;           \\/\\/ OPTIMIZE [1000.0, 1e5]/' -e 's/^constexpr double TURNING_COST_COEF_TMP = .*;           \\/\\/ OPTIMIZE \\[0\\.001, 0\\.1\\] LOG$/constexpr double TURNING_COST_COEF_TMP = 0.010405825105016166;           \\/\\/ OPTIMIZE [0.001, 0.1] LOG/'\n",
      "g++ 8_main.cpp -std=gnu++17 -O2 -DONLINE_JUDGE -o 8_main.cpp.out 2> /dev/null\n"
     ]
    },
    {
     "name": "stderr",
     "output_type": "stream",
     "text": [
      "\u001b[32m[I 2021-05-30 09:24:53,141]\u001b[0m Trial 186 finished with value: 486374807603.0 and parameters: {'UCB1_COEF_AT_100': 79.87809440026291, 'UCB1_EPS': 0.0017636094338802047, 'UCB1_DECAY_RATE_TMP': 0.003989243433171688, 'TURNING_COST_AT_100': 1308.5605042776658, 'TURNING_COST_COEF_TMP': 0.01616837862305119}. Best is trial 153 with value: 486566906650.0.\u001b[0m\n"
     ]
    },
    {
     "name": "stdout",
     "output_type": "stream",
     "text": [
      "callback ok\n",
      "index_parallel=9\n",
      "mkdir: cannot create directory ‘9_out’: File exists\n"
     ]
    },
    {
     "name": "stderr",
     "output_type": "stream",
     "text": [
      "\u001b[32m[I 2021-05-30 09:24:53,277]\u001b[0m Trial 184 finished with value: 486278893273.0 and parameters: {'UCB1_COEF_AT_100': 95.8831140803518, 'UCB1_EPS': 0.0017854063629841057, 'UCB1_DECAY_RATE_TMP': 0.0031730326493170555, 'TURNING_COST_AT_100': 1079.1162694826023, 'TURNING_COST_COEF_TMP': 0.0159388094584421}. Best is trial 153 with value: 486566906650.0.\u001b[0m\n"
     ]
    },
    {
     "name": "stdout",
     "output_type": "stream",
     "text": [
      "callback ok\n",
      "mkdir: cannot create directory ‘9_score’: File exists\n",
      "index_parallel=10\n",
      "mkdir: cannot create directory ‘10_out’: File exists\n",
      "rm: cannot remove '9_out/*': No such file or directory\n",
      "mkdir: cannot create directory ‘10_score’: File exists\n",
      "rm: cannot remove '10_out/*': No such file or directory\n",
      "sed -i 9_main.cpp -e 's/^constexpr double UCB1_COEF_AT_100 = .*;   \\/\\/ OPTIMIZE \\[1e0, 1e4\\] LOG$/constexpr double UCB1_COEF_AT_100 = 77.39117670649519;   \\/\\/ OPTIMIZE [1e0, 1e4] LOG/' -e 's/^constexpr double UCB1_EPS = .*;          \\/\\/ OPTIMIZE \\[1e-3, 1e1\\] LOG$/constexpr double UCB1_EPS = 0.0017219973948338174;          \\/\\/ OPTIMIZE [1e-3, 1e1] LOG/' -e 's/^constexpr double UCB1_DECAY_RATE_TMP = .*;           \\/\\/ OPTIMIZE \\[1e-5, 0\\.1\\] LOG$/constexpr double UCB1_DECAY_RATE_TMP = 0.003964848016379092;           \\/\\/ OPTIMIZE [1e-5, 0.1] LOG/' -e 's/^constexpr double TURNING_COST_AT_100 = .*;           \\/\\/ OPTIMIZE \\[1000\\.0, 1e5\\]$/constexpr double TURNING_COST_AT_100 = 4294.153467800279;           \\/\\/ OPTIMIZE [1000.0, 1e5]/' -e 's/^constexpr double TURNING_COST_COEF_TMP = .*;           \\/\\/ OPTIMIZE \\[0\\.001, 0\\.1\\] LOG$/constexpr double TURNING_COST_COEF_TMP = 0.01768764459558867;           \\/\\/ OPTIMIZE [0.001, 0.1] LOG/'\n",
      "g++ 9_main.cpp -std=gnu++17 -O2 -DONLINE_JUDGE -o 9_main.cpp.out 2> /dev/null\n",
      "sed -i 10_main.cpp -e 's/^constexpr double UCB1_COEF_AT_100 = .*;   \\/\\/ OPTIMIZE \\[1e0, 1e4\\] LOG$/constexpr double UCB1_COEF_AT_100 = 75.65782048715558;   \\/\\/ OPTIMIZE [1e0, 1e4] LOG/' -e 's/^constexpr double UCB1_EPS = .*;          \\/\\/ OPTIMIZE \\[1e-3, 1e1\\] LOG$/constexpr double UCB1_EPS = 0.0017353712131249724;          \\/\\/ OPTIMIZE [1e-3, 1e1] LOG/' -e 's/^constexpr double UCB1_DECAY_RATE_TMP = .*;           \\/\\/ OPTIMIZE \\[1e-5, 0\\.1\\] LOG$/constexpr double UCB1_DECAY_RATE_TMP = 0.003051492271734246;           \\/\\/ OPTIMIZE [1e-5, 0.1] LOG/' -e 's/^constexpr double TURNING_COST_AT_100 = .*;           \\/\\/ OPTIMIZE \\[1000\\.0, 1e5\\]$/constexpr double TURNING_COST_AT_100 = 1106.851579247522;           \\/\\/ OPTIMIZE [1000.0, 1e5]/' -e 's/^constexpr double TURNING_COST_COEF_TMP = .*;           \\/\\/ OPTIMIZE \\[0\\.001, 0\\.1\\] LOG$/constexpr double TURNING_COST_COEF_TMP = 0.020108369496950072;           \\/\\/ OPTIMIZE [0.001, 0.1] LOG/'\n",
      "g++ 10_main.cpp -std=gnu++17 -O2 -DONLINE_JUDGE -o 10_main.cpp.out 2> /dev/null\n"
     ]
    },
    {
     "name": "stderr",
     "output_type": "stream",
     "text": [
      "\u001b[32m[I 2021-05-30 09:24:56,996]\u001b[0m Trial 187 finished with value: 486468384926.0 and parameters: {'UCB1_COEF_AT_100': 74.99474027543214, 'UCB1_EPS': 0.0018790857761906941, 'UCB1_DECAY_RATE_TMP': 0.004320690582667813, 'TURNING_COST_AT_100': 1404.4427617090132, 'TURNING_COST_COEF_TMP': 0.010397000795016546}. Best is trial 153 with value: 486566906650.0.\u001b[0m\n"
     ]
    },
    {
     "name": "stdout",
     "output_type": "stream",
     "text": [
      "callback ok\n",
      "index_parallel=11\n",
      "mkdir: cannot create directory ‘11_out’: File exists\n",
      "mkdir: cannot create directory ‘11_score’: File exists\n",
      "rm: cannot remove '11_out/*': No such file or directory\n",
      "sed -i 11_main.cpp -e 's/^constexpr double UCB1_COEF_AT_100 = .*;   \\/\\/ OPTIMIZE \\[1e0, 1e4\\] LOG$/constexpr double UCB1_COEF_AT_100 = 84.57037663959699;   \\/\\/ OPTIMIZE [1e0, 1e4] LOG/' -e 's/^constexpr double UCB1_EPS = .*;          \\/\\/ OPTIMIZE \\[1e-3, 1e1\\] LOG$/constexpr double UCB1_EPS = 0.001736375775005071;          \\/\\/ OPTIMIZE [1e-3, 1e1] LOG/' -e 's/^constexpr double UCB1_DECAY_RATE_TMP = .*;           \\/\\/ OPTIMIZE \\[1e-5, 0\\.1\\] LOG$/constexpr double UCB1_DECAY_RATE_TMP = 0.0030822507107108005;           \\/\\/ OPTIMIZE [1e-5, 0.1] LOG/' -e 's/^constexpr double TURNING_COST_AT_100 = .*;           \\/\\/ OPTIMIZE \\[1000\\.0, 1e5\\]$/constexpr double TURNING_COST_AT_100 = 4500.588153708531;           \\/\\/ OPTIMIZE [1000.0, 1e5]/' -e 's/^constexpr double TURNING_COST_COEF_TMP = .*;           \\/\\/ OPTIMIZE \\[0\\.001, 0\\.1\\] LOG$/constexpr double TURNING_COST_COEF_TMP = 0.0193917277847999;           \\/\\/ OPTIMIZE [0.001, 0.1] LOG/'\n",
      "g++ 11_main.cpp -std=gnu++17 -O2 -DONLINE_JUDGE -o 11_main.cpp.out 2> /dev/null\n"
     ]
    },
    {
     "name": "stderr",
     "output_type": "stream",
     "text": [
      "\u001b[32m[I 2021-05-30 09:28:59,934]\u001b[0m Trial 188 finished with value: 486365296877.0 and parameters: {'UCB1_COEF_AT_100': 73.49231510592051, 'UCB1_EPS': 0.0017333457621759325, 'UCB1_DECAY_RATE_TMP': 0.0029397444043708573, 'TURNING_COST_AT_100': 1025.9081989604888, 'TURNING_COST_COEF_TMP': 0.010405825105016166}. Best is trial 153 with value: 486566906650.0.\u001b[0m\n"
     ]
    },
    {
     "name": "stdout",
     "output_type": "stream",
     "text": [
      "callback ok\n",
      "index_parallel=0\n",
      "mkdir: cannot create directory ‘0_out’: File exists\n",
      "mkdir: cannot create directory ‘0_score’: File exists\n",
      "rm: cannot remove '0_out/*': No such file or directory\n"
     ]
    },
    {
     "name": "stderr",
     "output_type": "stream",
     "text": [
      "\u001b[32m[I 2021-05-30 09:29:00,612]\u001b[0m Trial 189 finished with value: 486420517726.0 and parameters: {'UCB1_COEF_AT_100': 77.39117670649519, 'UCB1_EPS': 0.0017219973948338174, 'UCB1_DECAY_RATE_TMP': 0.003964848016379092, 'TURNING_COST_AT_100': 4294.153467800279, 'TURNING_COST_COEF_TMP': 0.01768764459558867}. Best is trial 153 with value: 486566906650.0.\u001b[0m\n"
     ]
    },
    {
     "name": "stdout",
     "output_type": "stream",
     "text": [
      "callback ok\n",
      "index_parallel=1\n",
      "mkdir: cannot create directory ‘1_out’: File exists\n",
      "mkdir: cannot create directory ‘1_score’: File exists\n",
      "rm: cannot remove '1_out/*': No such file or directory\n",
      "sed -i 0_main.cpp -e 's/^constexpr double UCB1_COEF_AT_100 = .*;   \\/\\/ OPTIMIZE \\[1e0, 1e4\\] LOG$/constexpr double UCB1_COEF_AT_100 = 86.21714547928663;   \\/\\/ OPTIMIZE [1e0, 1e4] LOG/' -e 's/^constexpr double UCB1_EPS = .*;          \\/\\/ OPTIMIZE \\[1e-3, 1e1\\] LOG$/constexpr double UCB1_EPS = 0.001352999676432504;          \\/\\/ OPTIMIZE [1e-3, 1e1] LOG/' -e 's/^constexpr double UCB1_DECAY_RATE_TMP = .*;           \\/\\/ OPTIMIZE \\[1e-5, 0\\.1\\] LOG$/constexpr double UCB1_DECAY_RATE_TMP = 0.003615306610459664;           \\/\\/ OPTIMIZE [1e-5, 0.1] LOG/' -e 's/^constexpr double TURNING_COST_AT_100 = .*;           \\/\\/ OPTIMIZE \\[1000\\.0, 1e5\\]$/constexpr double TURNING_COST_AT_100 = 4177.1962184054855;           \\/\\/ OPTIMIZE [1000.0, 1e5]/' -e 's/^constexpr double TURNING_COST_COEF_TMP = .*;           \\/\\/ OPTIMIZE \\[0\\.001, 0\\.1\\] LOG$/constexpr double TURNING_COST_COEF_TMP = 0.02010646659178467;           \\/\\/ OPTIMIZE [0.001, 0.1] LOG/'\n",
      "g++ 0_main.cpp -std=gnu++17 -O2 -DONLINE_JUDGE -o 0_main.cpp.out 2> /dev/null\n",
      "sed -i 1_main.cpp -e 's/^constexpr double UCB1_COEF_AT_100 = .*;   \\/\\/ OPTIMIZE \\[1e0, 1e4\\] LOG$/constexpr double UCB1_COEF_AT_100 = 95.86283641869171;   \\/\\/ OPTIMIZE [1e0, 1e4] LOG/' -e 's/^constexpr double UCB1_EPS = .*;          \\/\\/ OPTIMIZE \\[1e-3, 1e1\\] LOG$/constexpr double UCB1_EPS = 0.0011262704094359745;          \\/\\/ OPTIMIZE [1e-3, 1e1] LOG/' -e 's/^constexpr double UCB1_DECAY_RATE_TMP = .*;           \\/\\/ OPTIMIZE \\[1e-5, 0\\.1\\] LOG$/constexpr double UCB1_DECAY_RATE_TMP = 0.0030875435225416856;           \\/\\/ OPTIMIZE [1e-5, 0.1] LOG/' -e 's/^constexpr double TURNING_COST_AT_100 = .*;           \\/\\/ OPTIMIZE \\[1000\\.0, 1e5\\]$/constexpr double TURNING_COST_AT_100 = 4347.995542077967;           \\/\\/ OPTIMIZE [1000.0, 1e5]/' -e 's/^constexpr double TURNING_COST_COEF_TMP = .*;           \\/\\/ OPTIMIZE \\[0\\.001, 0\\.1\\] LOG$/constexpr double TURNING_COST_COEF_TMP = 0.018504576691518667;           \\/\\/ OPTIMIZE [0.001, 0.1] LOG/'\n",
      "g++ 1_main.cpp -std=gnu++17 -O2 -DONLINE_JUDGE -o 1_main.cpp.out 2> /dev/null\n"
     ]
    },
    {
     "name": "stderr",
     "output_type": "stream",
     "text": [
      "\u001b[32m[I 2021-05-30 09:29:02,782]\u001b[0m Trial 190 finished with value: 486520580617.0 and parameters: {'UCB1_COEF_AT_100': 75.65782048715558, 'UCB1_EPS': 0.0017353712131249724, 'UCB1_DECAY_RATE_TMP': 0.003051492271734246, 'TURNING_COST_AT_100': 1106.851579247522, 'TURNING_COST_COEF_TMP': 0.020108369496950072}. Best is trial 153 with value: 486566906650.0.\u001b[0m\n"
     ]
    },
    {
     "name": "stdout",
     "output_type": "stream",
     "text": [
      "callback ok\n",
      "index_parallel=2\n",
      "mkdir: cannot create directory ‘2_out’: File exists\n",
      "mkdir: cannot create directory ‘2_score’: File exists\n",
      "rm: cannot remove '2_out/*': No such file or directory\n",
      "sed -i 2_main.cpp -e 's/^constexpr double UCB1_COEF_AT_100 = .*;   \\/\\/ OPTIMIZE \\[1e0, 1e4\\] LOG$/constexpr double UCB1_COEF_AT_100 = 87.71550975048693;   \\/\\/ OPTIMIZE [1e0, 1e4] LOG/' -e 's/^constexpr double UCB1_EPS = .*;          \\/\\/ OPTIMIZE \\[1e-3, 1e1\\] LOG$/constexpr double UCB1_EPS = 0.00120080023749572;          \\/\\/ OPTIMIZE [1e-3, 1e1] LOG/' -e 's/^constexpr double UCB1_DECAY_RATE_TMP = .*;           \\/\\/ OPTIMIZE \\[1e-5, 0\\.1\\] LOG$/constexpr double UCB1_DECAY_RATE_TMP = 0.0036854461238959553;           \\/\\/ OPTIMIZE [1e-5, 0.1] LOG/' -e 's/^constexpr double TURNING_COST_AT_100 = .*;           \\/\\/ OPTIMIZE \\[1000\\.0, 1e5\\]$/constexpr double TURNING_COST_AT_100 = 4154.959362127947;           \\/\\/ OPTIMIZE [1000.0, 1e5]/' -e 's/^constexpr double TURNING_COST_COEF_TMP = .*;           \\/\\/ OPTIMIZE \\[0\\.001, 0\\.1\\] LOG$/constexpr double TURNING_COST_COEF_TMP = 0.018328510380734877;           \\/\\/ OPTIMIZE [0.001, 0.1] LOG/'\n",
      "g++ 2_main.cpp -std=gnu++17 -O2 -DONLINE_JUDGE -o 2_main.cpp.out 2> /dev/null\n"
     ]
    },
    {
     "name": "stderr",
     "output_type": "stream",
     "text": [
      "\u001b[32m[I 2021-05-30 09:29:04,215]\u001b[0m Trial 191 finished with value: 486396714375.0 and parameters: {'UCB1_COEF_AT_100': 84.57037663959699, 'UCB1_EPS': 0.001736375775005071, 'UCB1_DECAY_RATE_TMP': 0.0030822507107108005, 'TURNING_COST_AT_100': 4500.588153708531, 'TURNING_COST_COEF_TMP': 0.0193917277847999}. Best is trial 153 with value: 486566906650.0.\u001b[0m\n"
     ]
    },
    {
     "name": "stdout",
     "output_type": "stream",
     "text": [
      "callback ok\n",
      "index_parallel=3\n",
      "mkdir: cannot create directory ‘3_out’: File exists\n",
      "mkdir: cannot create directory ‘3_score’: File exists\n",
      "rm: cannot remove '3_out/*': No such file or directory\n",
      "sed -i 3_main.cpp -e 's/^constexpr double UCB1_COEF_AT_100 = .*;   \\/\\/ OPTIMIZE \\[1e0, 1e4\\] LOG$/constexpr double UCB1_COEF_AT_100 = 85.06052308723237;   \\/\\/ OPTIMIZE [1e0, 1e4] LOG/' -e 's/^constexpr double UCB1_EPS = .*;          \\/\\/ OPTIMIZE \\[1e-3, 1e1\\] LOG$/constexpr double UCB1_EPS = 0.0012195509344930188;          \\/\\/ OPTIMIZE [1e-3, 1e1] LOG/' -e 's/^constexpr double UCB1_DECAY_RATE_TMP = .*;           \\/\\/ OPTIMIZE \\[1e-5, 0\\.1\\] LOG$/constexpr double UCB1_DECAY_RATE_TMP = 0.003649187224316014;           \\/\\/ OPTIMIZE [1e-5, 0.1] LOG/' -e 's/^constexpr double TURNING_COST_AT_100 = .*;           \\/\\/ OPTIMIZE \\[1000\\.0, 1e5\\]$/constexpr double TURNING_COST_AT_100 = 4235.342126873874;           \\/\\/ OPTIMIZE [1000.0, 1e5]/' -e 's/^constexpr double TURNING_COST_COEF_TMP = .*;           \\/\\/ OPTIMIZE \\[0\\.001, 0\\.1\\] LOG$/constexpr double TURNING_COST_COEF_TMP = 0.019360533066235208;           \\/\\/ OPTIMIZE [0.001, 0.1] LOG/'\n",
      "g++ 3_main.cpp -std=gnu++17 -O2 -DONLINE_JUDGE -o 3_main.cpp.out 2> /dev/null\n"
     ]
    },
    {
     "name": "stderr",
     "output_type": "stream",
     "text": [
      "\u001b[32m[I 2021-05-30 09:33:08,660]\u001b[0m Trial 192 finished with value: 486360261095.0 and parameters: {'UCB1_COEF_AT_100': 86.21714547928663, 'UCB1_EPS': 0.001352999676432504, 'UCB1_DECAY_RATE_TMP': 0.003615306610459664, 'TURNING_COST_AT_100': 4177.1962184054855, 'TURNING_COST_COEF_TMP': 0.02010646659178467}. Best is trial 153 with value: 486566906650.0.\u001b[0m\n"
     ]
    },
    {
     "name": "stdout",
     "output_type": "stream",
     "text": [
      "callback ok\n",
      "index_parallel=4\n",
      "mkdir: cannot create directory ‘4_out’: File exists\n",
      "mkdir: cannot create directory ‘4_score’: File exists\n",
      "rm: cannot remove '4_out/*': No such file or directory\n"
     ]
    },
    {
     "name": "stderr",
     "output_type": "stream",
     "text": [
      "\u001b[32m[I 2021-05-30 09:33:09,692]\u001b[0m Trial 193 finished with value: 486122633037.0 and parameters: {'UCB1_COEF_AT_100': 95.86283641869171, 'UCB1_EPS': 0.0011262704094359745, 'UCB1_DECAY_RATE_TMP': 0.0030875435225416856, 'TURNING_COST_AT_100': 4347.995542077967, 'TURNING_COST_COEF_TMP': 0.018504576691518667}. Best is trial 153 with value: 486566906650.0.\u001b[0m\n"
     ]
    },
    {
     "name": "stdout",
     "output_type": "stream",
     "text": [
      "callback ok\n",
      "sed -i 4_main.cpp -e 's/^constexpr double UCB1_COEF_AT_100 = .*;   \\/\\/ OPTIMIZE \\[1e0, 1e4\\] LOG$/constexpr double UCB1_COEF_AT_100 = 85.29411591651294;   \\/\\/ OPTIMIZE [1e0, 1e4] LOG/' -e 's/^constexpr double UCB1_EPS = .*;          \\/\\/ OPTIMIZE \\[1e-3, 1e1\\] LOG$/constexpr double UCB1_EPS = 0.001237637211633349;          \\/\\/ OPTIMIZE [1e-3, 1e1] LOG/' -e 's/^constexpr double UCB1_DECAY_RATE_TMP = .*;           \\/\\/ OPTIMIZE \\[1e-5, 0\\.1\\] LOG$/constexpr double UCB1_DECAY_RATE_TMP = 0.003896024211612774;           \\/\\/ OPTIMIZE [1e-5, 0.1] LOG/' -e 's/^constexpr double TURNING_COST_AT_100 = .*;           \\/\\/ OPTIMIZE \\[1000\\.0, 1e5\\]$/constexpr double TURNING_COST_AT_100 = 4363.654485798851;           \\/\\/ OPTIMIZE [1000.0, 1e5]/' -e 's/^constexpr double TURNING_COST_COEF_TMP = .*;           \\/\\/ OPTIMIZE \\[0\\.001, 0\\.1\\] LOG$/constexpr double TURNING_COST_COEF_TMP = 0.017224076639039368;           \\/\\/ OPTIMIZE [0.001, 0.1] LOG/'\n",
      "index_parallel=5\n",
      "mkdir: cannot create directory ‘5_out’: File exists\n",
      "g++ 4_main.cpp -std=gnu++17 -O2 -DONLINE_JUDGE -o 4_main.cpp.out 2> /dev/null\n",
      "mkdir: cannot create directory ‘5_score’: File exists\n",
      "rm: cannot remove '5_out/*': No such file or directory\n",
      "sed -i 5_main.cpp -e 's/^constexpr double UCB1_COEF_AT_100 = .*;   \\/\\/ OPTIMIZE \\[1e0, 1e4\\] LOG$/constexpr double UCB1_COEF_AT_100 = 81.82520419862033;   \\/\\/ OPTIMIZE [1e0, 1e4] LOG/' -e 's/^constexpr double UCB1_EPS = .*;          \\/\\/ OPTIMIZE \\[1e-3, 1e1\\] LOG$/constexpr double UCB1_EPS = 0.0015074043085552965;          \\/\\/ OPTIMIZE [1e-3, 1e1] LOG/' -e 's/^constexpr double UCB1_DECAY_RATE_TMP = .*;           \\/\\/ OPTIMIZE \\[1e-5, 0\\.1\\] LOG$/constexpr double UCB1_DECAY_RATE_TMP = 0.0038921451361815197;           \\/\\/ OPTIMIZE [1e-5, 0.1] LOG/' -e 's/^constexpr double TURNING_COST_AT_100 = .*;           \\/\\/ OPTIMIZE \\[1000\\.0, 1e5\\]$/constexpr double TURNING_COST_AT_100 = 2654.208585868312;           \\/\\/ OPTIMIZE [1000.0, 1e5]/' -e 's/^constexpr double TURNING_COST_COEF_TMP = .*;           \\/\\/ OPTIMIZE \\[0\\.001, 0\\.1\\] LOG$/constexpr double TURNING_COST_COEF_TMP = 0.024726226360407492;           \\/\\/ OPTIMIZE [0.001, 0.1] LOG/'\n",
      "g++ 5_main.cpp -std=gnu++17 -O2 -DONLINE_JUDGE -o 5_main.cpp.out 2> /dev/null\n"
     ]
    },
    {
     "name": "stderr",
     "output_type": "stream",
     "text": [
      "\u001b[32m[I 2021-05-30 09:33:11,459]\u001b[0m Trial 195 finished with value: 486298035150.0 and parameters: {'UCB1_COEF_AT_100': 85.06052308723237, 'UCB1_EPS': 0.0012195509344930188, 'UCB1_DECAY_RATE_TMP': 0.003649187224316014, 'TURNING_COST_AT_100': 4235.342126873874, 'TURNING_COST_COEF_TMP': 0.019360533066235208}. Best is trial 153 with value: 486566906650.0.\u001b[0m\n"
     ]
    },
    {
     "name": "stdout",
     "output_type": "stream",
     "text": [
      "callback ok\n",
      "index_parallel=6\n",
      "mkdir: cannot create directory ‘6_out’: File exists\n",
      "mkdir: cannot create directory ‘6_score’: File exists\n"
     ]
    },
    {
     "name": "stderr",
     "output_type": "stream",
     "text": [
      "\u001b[32m[I 2021-05-30 09:33:11,688]\u001b[0m Trial 194 finished with value: 486341713981.0 and parameters: {'UCB1_COEF_AT_100': 87.71550975048693, 'UCB1_EPS': 0.00120080023749572, 'UCB1_DECAY_RATE_TMP': 0.0036854461238959553, 'TURNING_COST_AT_100': 4154.959362127947, 'TURNING_COST_COEF_TMP': 0.018328510380734877}. Best is trial 153 with value: 486566906650.0.\u001b[0m\n"
     ]
    },
    {
     "name": "stdout",
     "output_type": "stream",
     "text": [
      "callback ok\n",
      "index_parallel=7\n",
      "mkdir: cannot create directory ‘7_out’: File exists\n",
      "rm: cannot remove '6_out/*': No such file or directory\n",
      "mkdir: cannot create directory ‘7_score’: File exists\n",
      "rm: cannot remove '7_out/*': No such file or directory\n",
      "sed -i 6_main.cpp -e 's/^constexpr double UCB1_COEF_AT_100 = .*;   \\/\\/ OPTIMIZE \\[1e0, 1e4\\] LOG$/constexpr double UCB1_COEF_AT_100 = 80.78146273183599;   \\/\\/ OPTIMIZE [1e0, 1e4] LOG/' -e 's/^constexpr double UCB1_EPS = .*;          \\/\\/ OPTIMIZE \\[1e-3, 1e1\\] LOG$/constexpr double UCB1_EPS = 0.0014502076721776525;          \\/\\/ OPTIMIZE [1e-3, 1e1] LOG/' -e 's/^constexpr double UCB1_DECAY_RATE_TMP = .*;           \\/\\/ OPTIMIZE \\[1e-5, 0\\.1\\] LOG$/constexpr double UCB1_DECAY_RATE_TMP = 0.0027341319574612686;           \\/\\/ OPTIMIZE [1e-5, 0.1] LOG/' -e 's/^constexpr double TURNING_COST_AT_100 = .*;           \\/\\/ OPTIMIZE \\[1000\\.0, 1e5\\]$/constexpr double TURNING_COST_AT_100 = 2174.2917182339397;           \\/\\/ OPTIMIZE [1000.0, 1e5]/' -e 's/^constexpr double TURNING_COST_COEF_TMP = .*;           \\/\\/ OPTIMIZE \\[0\\.001, 0\\.1\\] LOG$/constexpr double TURNING_COST_COEF_TMP = 0.016779607121681358;           \\/\\/ OPTIMIZE [0.001, 0.1] LOG/'\n",
      "g++ 6_main.cpp -std=gnu++17 -O2 -DONLINE_JUDGE -o 6_main.cpp.out 2> /dev/null\n",
      "sed -i 7_main.cpp -e 's/^constexpr double UCB1_COEF_AT_100 = .*;   \\/\\/ OPTIMIZE \\[1e0, 1e4\\] LOG$/constexpr double UCB1_COEF_AT_100 = 78.2190791984873;   \\/\\/ OPTIMIZE [1e0, 1e4] LOG/' -e 's/^constexpr double UCB1_EPS = .*;          \\/\\/ OPTIMIZE \\[1e-3, 1e1\\] LOG$/constexpr double UCB1_EPS = 0.0018402160746795694;          \\/\\/ OPTIMIZE [1e-3, 1e1] LOG/' -e 's/^constexpr double UCB1_DECAY_RATE_TMP = .*;           \\/\\/ OPTIMIZE \\[1e-5, 0\\.1\\] LOG$/constexpr double UCB1_DECAY_RATE_TMP = 0.0023843337210094255;           \\/\\/ OPTIMIZE [1e-5, 0.1] LOG/' -e 's/^constexpr double TURNING_COST_AT_100 = .*;           \\/\\/ OPTIMIZE \\[1000\\.0, 1e5\\]$/constexpr double TURNING_COST_AT_100 = 1215.7807954519785;           \\/\\/ OPTIMIZE [1000.0, 1e5]/' -e 's/^constexpr double TURNING_COST_COEF_TMP = .*;           \\/\\/ OPTIMIZE \\[0\\.001, 0\\.1\\] LOG$/constexpr double TURNING_COST_COEF_TMP = 0.024023964278779043;           \\/\\/ OPTIMIZE [0.001, 0.1] LOG/'\n",
      "g++ 7_main.cpp -std=gnu++17 -O2 -DONLINE_JUDGE -o 7_main.cpp.out 2> /dev/null\n"
     ]
    },
    {
     "name": "stderr",
     "output_type": "stream",
     "text": [
      "\u001b[32m[I 2021-05-30 09:37:18,312]\u001b[0m Trial 196 finished with value: 486346666048.0 and parameters: {'UCB1_COEF_AT_100': 85.29411591651294, 'UCB1_EPS': 0.001237637211633349, 'UCB1_DECAY_RATE_TMP': 0.003896024211612774, 'TURNING_COST_AT_100': 4363.654485798851, 'TURNING_COST_COEF_TMP': 0.017224076639039368}. Best is trial 153 with value: 486566906650.0.\u001b[0m\n"
     ]
    },
    {
     "name": "stdout",
     "output_type": "stream",
     "text": [
      "callback ok\n",
      "index_parallel=8\n",
      "mkdir: cannot create directory ‘8_out’: File exists\n",
      "mkdir: cannot create directory ‘8_score’: File exists\n",
      "rm: cannot remove '8_out/*': No such file or directory\n",
      "sed -i 8_main.cpp -e 's/^constexpr double UCB1_COEF_AT_100 = .*;   \\/\\/ OPTIMIZE \\[1e0, 1e4\\] LOG$/constexpr double UCB1_COEF_AT_100 = 75.90777423726657;   \\/\\/ OPTIMIZE [1e0, 1e4] LOG/' -e 's/^constexpr double UCB1_EPS = .*;          \\/\\/ OPTIMIZE \\[1e-3, 1e1\\] LOG$/constexpr double UCB1_EPS = 0.0016287815143784415;          \\/\\/ OPTIMIZE [1e-3, 1e1] LOG/' -e 's/^constexpr double UCB1_DECAY_RATE_TMP = .*;           \\/\\/ OPTIMIZE \\[1e-5, 0\\.1\\] LOG$/constexpr double UCB1_DECAY_RATE_TMP = 0.0028451904862952402;           \\/\\/ OPTIMIZE [1e-5, 0.1] LOG/' -e 's/^constexpr double TURNING_COST_AT_100 = .*;           \\/\\/ OPTIMIZE \\[1000\\.0, 1e5\\]$/constexpr double TURNING_COST_AT_100 = 2560.766872497603;           \\/\\/ OPTIMIZE [1000.0, 1e5]/' -e 's/^constexpr double TURNING_COST_COEF_TMP = .*;           \\/\\/ OPTIMIZE \\[0\\.001, 0\\.1\\] LOG$/constexpr double TURNING_COST_COEF_TMP = 0.022276867083107377;           \\/\\/ OPTIMIZE [0.001, 0.1] LOG/'\n",
      "g++ 8_main.cpp -std=gnu++17 -O2 -DONLINE_JUDGE -o 8_main.cpp.out 2> /dev/null\n"
     ]
    },
    {
     "name": "stderr",
     "output_type": "stream",
     "text": [
      "\u001b[32m[I 2021-05-30 09:37:20,710]\u001b[0m Trial 197 finished with value: 486382149964.0 and parameters: {'UCB1_COEF_AT_100': 81.82520419862033, 'UCB1_EPS': 0.0015074043085552965, 'UCB1_DECAY_RATE_TMP': 0.0038921451361815197, 'TURNING_COST_AT_100': 2654.208585868312, 'TURNING_COST_COEF_TMP': 0.024726226360407492}. Best is trial 153 with value: 486566906650.0.\u001b[0m\n"
     ]
    },
    {
     "name": "stdout",
     "output_type": "stream",
     "text": [
      "callback ok\n",
      "index_parallel=9\n",
      "mkdir: cannot create directory ‘9_out’: File exists\n",
      "mkdir: cannot create directory ‘9_score’: File exists\n",
      "rm: cannot remove '9_out/*': No such file or directory\n",
      "sed -i 9_main.cpp -e 's/^constexpr double UCB1_COEF_AT_100 = .*;   \\/\\/ OPTIMIZE \\[1e0, 1e4\\] LOG$/constexpr double UCB1_COEF_AT_100 = 109.2881827190774;   \\/\\/ OPTIMIZE [1e0, 1e4] LOG/' -e 's/^constexpr double UCB1_EPS = .*;          \\/\\/ OPTIMIZE \\[1e-3, 1e1\\] LOG$/constexpr double UCB1_EPS = 0.0015528018138869374;          \\/\\/ OPTIMIZE [1e-3, 1e1] LOG/' -e 's/^constexpr double UCB1_DECAY_RATE_TMP = .*;           \\/\\/ OPTIMIZE \\[1e-5, 0\\.1\\] LOG$/constexpr double UCB1_DECAY_RATE_TMP = 0.002523233696507164;           \\/\\/ OPTIMIZE [1e-5, 0.1] LOG/' -e 's/^constexpr double TURNING_COST_AT_100 = .*;           \\/\\/ OPTIMIZE \\[1000\\.0, 1e5\\]$/constexpr double TURNING_COST_AT_100 = 1071.6522181251335;           \\/\\/ OPTIMIZE [1000.0, 1e5]/' -e 's/^constexpr double TURNING_COST_COEF_TMP = .*;           \\/\\/ OPTIMIZE \\[0\\.001, 0\\.1\\] LOG$/constexpr double TURNING_COST_COEF_TMP = 0.022489448716032097;           \\/\\/ OPTIMIZE [0.001, 0.1] LOG/'\n",
      "g++ 9_main.cpp -std=gnu++17 -O2 -DONLINE_JUDGE -o 9_main.cpp.out 2> /dev/null\n"
     ]
    },
    {
     "name": "stderr",
     "output_type": "stream",
     "text": [
      "\u001b[32m[I 2021-05-30 09:37:23,385]\u001b[0m Trial 198 finished with value: 486436941387.0 and parameters: {'UCB1_COEF_AT_100': 80.78146273183599, 'UCB1_EPS': 0.0014502076721776525, 'UCB1_DECAY_RATE_TMP': 0.0027341319574612686, 'TURNING_COST_AT_100': 2174.2917182339397, 'TURNING_COST_COEF_TMP': 0.016779607121681358}. Best is trial 153 with value: 486566906650.0.\u001b[0m\n"
     ]
    },
    {
     "name": "stdout",
     "output_type": "stream",
     "text": [
      "callback ok\n",
      "index_parallel=10\n",
      "mkdir: cannot create directory ‘10_out’: File exists\n",
      "mkdir: cannot create directory ‘10_score’: File exists\n",
      "rm: cannot remove '10_out/*': No such file or directory\n"
     ]
    },
    {
     "name": "stderr",
     "output_type": "stream",
     "text": [
      "\u001b[32m[I 2021-05-30 09:37:23,899]\u001b[0m Trial 199 finished with value: 486363380185.0 and parameters: {'UCB1_COEF_AT_100': 78.2190791984873, 'UCB1_EPS': 0.0018402160746795694, 'UCB1_DECAY_RATE_TMP': 0.0023843337210094255, 'TURNING_COST_AT_100': 1215.7807954519785, 'TURNING_COST_COEF_TMP': 0.024023964278779043}. Best is trial 153 with value: 486566906650.0.\u001b[0m\n"
     ]
    },
    {
     "name": "stdout",
     "output_type": "stream",
     "text": [
      "callback ok\n",
      "index_parallel=11\n",
      "mkdir: cannot create directory ‘11_out’: File exists\n",
      "mkdir: cannot create directory ‘11_score’: File exists\n",
      "rm: cannot remove '11_out/*': No such file or directory\n",
      "sed -i 10_main.cpp -e 's/^constexpr double UCB1_COEF_AT_100 = .*;   \\/\\/ OPTIMIZE \\[1e0, 1e4\\] LOG$/constexpr double UCB1_COEF_AT_100 = 106.62224692946103;   \\/\\/ OPTIMIZE [1e0, 1e4] LOG/' -e 's/^constexpr double UCB1_EPS = .*;          \\/\\/ OPTIMIZE \\[1e-3, 1e1\\] LOG$/constexpr double UCB1_EPS = 0.001509357679518175;          \\/\\/ OPTIMIZE [1e-3, 1e1] LOG/' -e 's/^constexpr double UCB1_DECAY_RATE_TMP = .*;           \\/\\/ OPTIMIZE \\[1e-5, 0\\.1\\] LOG$/constexpr double UCB1_DECAY_RATE_TMP = 0.006264050457587145;           \\/\\/ OPTIMIZE [1e-5, 0.1] LOG/' -e 's/^constexpr double TURNING_COST_AT_100 = .*;           \\/\\/ OPTIMIZE \\[1000\\.0, 1e5\\]$/constexpr double TURNING_COST_AT_100 = 2590.174838788588;           \\/\\/ OPTIMIZE [1000.0, 1e5]/' -e 's/^constexpr double TURNING_COST_COEF_TMP = .*;           \\/\\/ OPTIMIZE \\[0\\.001, 0\\.1\\] LOG$/constexpr double TURNING_COST_COEF_TMP = 0.021538529283441434;           \\/\\/ OPTIMIZE [0.001, 0.1] LOG/'\n",
      "g++ 10_main.cpp -std=gnu++17 -O2 -DONLINE_JUDGE -o 10_main.cpp.out 2> /dev/null\n",
      "sed -i 11_main.cpp -e 's/^constexpr double UCB1_COEF_AT_100 = .*;   \\/\\/ OPTIMIZE \\[1e0, 1e4\\] LOG$/constexpr double UCB1_COEF_AT_100 = 147.78634087952543;   \\/\\/ OPTIMIZE [1e0, 1e4] LOG/' -e 's/^constexpr double UCB1_EPS = .*;          \\/\\/ OPTIMIZE \\[1e-3, 1e1\\] LOG$/constexpr double UCB1_EPS = 0.0015878205127277446;          \\/\\/ OPTIMIZE [1e-3, 1e1] LOG/' -e 's/^constexpr double UCB1_DECAY_RATE_TMP = .*;           \\/\\/ OPTIMIZE \\[1e-5, 0\\.1\\] LOG$/constexpr double UCB1_DECAY_RATE_TMP = 0.007313673145920989;           \\/\\/ OPTIMIZE [1e-5, 0.1] LOG/' -e 's/^constexpr double TURNING_COST_AT_100 = .*;           \\/\\/ OPTIMIZE \\[1000\\.0, 1e5\\]$/constexpr double TURNING_COST_AT_100 = 2807.175265603267;           \\/\\/ OPTIMIZE [1000.0, 1e5]/' -e 's/^constexpr double TURNING_COST_COEF_TMP = .*;           \\/\\/ OPTIMIZE \\[0\\.001, 0\\.1\\] LOG$/constexpr double TURNING_COST_COEF_TMP = 0.02120759422541177;           \\/\\/ OPTIMIZE [0.001, 0.1] LOG/'\n",
      "g++ 11_main.cpp -std=gnu++17 -O2 -DONLINE_JUDGE -o 11_main.cpp.out 2> /dev/null\n"
     ]
    },
    {
     "name": "stderr",
     "output_type": "stream",
     "text": [
      "\u001b[32m[I 2021-05-30 09:41:36,624]\u001b[0m Trial 200 finished with value: 486464689312.0 and parameters: {'UCB1_COEF_AT_100': 75.90777423726657, 'UCB1_EPS': 0.0016287815143784415, 'UCB1_DECAY_RATE_TMP': 0.0028451904862952402, 'TURNING_COST_AT_100': 2560.766872497603, 'TURNING_COST_COEF_TMP': 0.022276867083107377}. Best is trial 153 with value: 486566906650.0.\u001b[0m\n"
     ]
    },
    {
     "name": "stdout",
     "output_type": "stream",
     "text": [
      "callback ok\n",
      "index_parallel=0\n",
      "mkdir: cannot create directory ‘0_out’: File exists\n",
      "mkdir: cannot create directory ‘0_score’: File exists\n",
      "rm: cannot remove '0_out/*': No such file or directory\n",
      "sed -i 0_main.cpp -e 's/^constexpr double UCB1_COEF_AT_100 = .*;   \\/\\/ OPTIMIZE \\[1e0, 1e4\\] LOG$/constexpr double UCB1_COEF_AT_100 = 113.30687033392347;   \\/\\/ OPTIMIZE [1e0, 1e4] LOG/' -e 's/^constexpr double UCB1_EPS = .*;          \\/\\/ OPTIMIZE \\[1e-3, 1e1\\] LOG$/constexpr double UCB1_EPS = 0.0014734378996302563;          \\/\\/ OPTIMIZE [1e-3, 1e1] LOG/' -e 's/^constexpr double UCB1_DECAY_RATE_TMP = .*;           \\/\\/ OPTIMIZE \\[1e-5, 0\\.1\\] LOG$/constexpr double UCB1_DECAY_RATE_TMP = 0.006860800832377036;           \\/\\/ OPTIMIZE [1e-5, 0.1] LOG/' -e 's/^constexpr double TURNING_COST_AT_100 = .*;           \\/\\/ OPTIMIZE \\[1000\\.0, 1e5\\]$/constexpr double TURNING_COST_AT_100 = 3239.2112387932457;           \\/\\/ OPTIMIZE [1000.0, 1e5]/' -e 's/^constexpr double TURNING_COST_COEF_TMP = .*;           \\/\\/ OPTIMIZE \\[0\\.001, 0\\.1\\] LOG$/constexpr double TURNING_COST_COEF_TMP = 0.02311882885211142;           \\/\\/ OPTIMIZE [0.001, 0.1] LOG/'\n",
      "g++ 0_main.cpp -std=gnu++17 -O2 -DONLINE_JUDGE -o 0_main.cpp.out 2> /dev/null\n"
     ]
    },
    {
     "name": "stderr",
     "output_type": "stream",
     "text": [
      "\u001b[32m[I 2021-05-30 09:41:43,112]\u001b[0m Trial 201 finished with value: 485993412599.0 and parameters: {'UCB1_COEF_AT_100': 109.2881827190774, 'UCB1_EPS': 0.0015528018138869374, 'UCB1_DECAY_RATE_TMP': 0.002523233696507164, 'TURNING_COST_AT_100': 1071.6522181251335, 'TURNING_COST_COEF_TMP': 0.022489448716032097}. Best is trial 153 with value: 486566906650.0.\u001b[0m\n"
     ]
    },
    {
     "name": "stdout",
     "output_type": "stream",
     "text": [
      "callback ok\n",
      "index_parallel=1\n",
      "mkdir: cannot create directory ‘1_out’: File exists\n",
      "mkdir: cannot create directory ‘1_score’: File exists\n",
      "rm: cannot remove '1_out/*': No such file or directory\n",
      "sed -i 1_main.cpp -e 's/^constexpr double UCB1_COEF_AT_100 = .*;   \\/\\/ OPTIMIZE \\[1e0, 1e4\\] LOG$/constexpr double UCB1_COEF_AT_100 = 149.27051614987482;   \\/\\/ OPTIMIZE [1e0, 1e4] LOG/' -e 's/^constexpr double UCB1_EPS = .*;          \\/\\/ OPTIMIZE \\[1e-3, 1e1\\] LOG$/constexpr double UCB1_EPS = 0.0015860554318273164;          \\/\\/ OPTIMIZE [1e-3, 1e1] LOG/' -e 's/^constexpr double UCB1_DECAY_RATE_TMP = .*;           \\/\\/ OPTIMIZE \\[1e-5, 0\\.1\\] LOG$/constexpr double UCB1_DECAY_RATE_TMP = 0.0028373296548767244;           \\/\\/ OPTIMIZE [1e-5, 0.1] LOG/' -e 's/^constexpr double TURNING_COST_AT_100 = .*;           \\/\\/ OPTIMIZE \\[1000\\.0, 1e5\\]$/constexpr double TURNING_COST_AT_100 = 2790.531503313454;           \\/\\/ OPTIMIZE [1000.0, 1e5]/' -e 's/^constexpr double TURNING_COST_COEF_TMP = .*;           \\/\\/ OPTIMIZE \\[0\\.001, 0\\.1\\] LOG$/constexpr double TURNING_COST_COEF_TMP = 0.02108964025843563;           \\/\\/ OPTIMIZE [0.001, 0.1] LOG/'\n",
      "g++ 1_main.cpp -std=gnu++17 -O2 -DONLINE_JUDGE -o 1_main.cpp.out 2> /dev/null\n"
     ]
    },
    {
     "name": "stderr",
     "output_type": "stream",
     "text": [
      "\u001b[32m[I 2021-05-30 09:41:44,376]\u001b[0m Trial 202 finished with value: 486172144138.0 and parameters: {'UCB1_COEF_AT_100': 106.62224692946103, 'UCB1_EPS': 0.001509357679518175, 'UCB1_DECAY_RATE_TMP': 0.006264050457587145, 'TURNING_COST_AT_100': 2590.174838788588, 'TURNING_COST_COEF_TMP': 0.021538529283441434}. Best is trial 153 with value: 486566906650.0.\u001b[0m\n"
     ]
    },
    {
     "name": "stdout",
     "output_type": "stream",
     "text": [
      "callback ok\n",
      "index_parallel=2\n",
      "mkdir: cannot create directory ‘2_out’: File exists\n",
      "mkdir: cannot create directory ‘2_score’: File exists\n",
      "rm: cannot remove '2_out/*': No such file or directory\n"
     ]
    },
    {
     "name": "stderr",
     "output_type": "stream",
     "text": [
      "\u001b[32m[I 2021-05-30 09:41:44,838]\u001b[0m Trial 203 finished with value: 485967528697.0 and parameters: {'UCB1_COEF_AT_100': 147.78634087952543, 'UCB1_EPS': 0.0015878205127277446, 'UCB1_DECAY_RATE_TMP': 0.007313673145920989, 'TURNING_COST_AT_100': 2807.175265603267, 'TURNING_COST_COEF_TMP': 0.02120759422541177}. Best is trial 153 with value: 486566906650.0.\u001b[0m\n"
     ]
    },
    {
     "name": "stdout",
     "output_type": "stream",
     "text": [
      "callback ok\n",
      "index_parallel=3\n",
      "mkdir: cannot create directory ‘3_out’: File exists\n",
      "mkdir: cannot create directory ‘3_score’: File exists\n",
      "rm: cannot remove '3_out/*': No such file or directory\n",
      "sed -i 2_main.cpp -e 's/^constexpr double UCB1_COEF_AT_100 = .*;   \\/\\/ OPTIMIZE \\[1e0, 1e4\\] LOG$/constexpr double UCB1_COEF_AT_100 = 131.78148837105593;   \\/\\/ OPTIMIZE [1e0, 1e4] LOG/' -e 's/^constexpr double UCB1_EPS = .*;          \\/\\/ OPTIMIZE \\[1e-3, 1e1\\] LOG$/constexpr double UCB1_EPS = 0.0021074328953705258;          \\/\\/ OPTIMIZE [1e-3, 1e1] LOG/' -e 's/^constexpr double UCB1_DECAY_RATE_TMP = .*;           \\/\\/ OPTIMIZE \\[1e-5, 0\\.1\\] LOG$/constexpr double UCB1_DECAY_RATE_TMP = 0.0019696178504065745;           \\/\\/ OPTIMIZE [1e-5, 0.1] LOG/' -e 's/^constexpr double TURNING_COST_AT_100 = .*;           \\/\\/ OPTIMIZE \\[1000\\.0, 1e5\\]$/constexpr double TURNING_COST_AT_100 = 8229.757088361745;           \\/\\/ OPTIMIZE [1000.0, 1e5]/' -e 's/^constexpr double TURNING_COST_COEF_TMP = .*;           \\/\\/ OPTIMIZE \\[0\\.001, 0\\.1\\] LOG$/constexpr double TURNING_COST_COEF_TMP = 0.023926893755798376;           \\/\\/ OPTIMIZE [0.001, 0.1] LOG/'\n",
      "g++ 2_main.cpp -std=gnu++17 -O2 -DONLINE_JUDGE -o 2_main.cpp.out 2> /dev/null\n",
      "sed -i 3_main.cpp -e 's/^constexpr double UCB1_COEF_AT_100 = .*;   \\/\\/ OPTIMIZE \\[1e0, 1e4\\] LOG$/constexpr double UCB1_COEF_AT_100 = 122.29735284357712;   \\/\\/ OPTIMIZE [1e0, 1e4] LOG/' -e 's/^constexpr double UCB1_EPS = .*;          \\/\\/ OPTIMIZE \\[1e-3, 1e1\\] LOG$/constexpr double UCB1_EPS = 0.0021204006801589055;          \\/\\/ OPTIMIZE [1e-3, 1e1] LOG/' -e 's/^constexpr double UCB1_DECAY_RATE_TMP = .*;           \\/\\/ OPTIMIZE \\[1e-5, 0\\.1\\] LOG$/constexpr double UCB1_DECAY_RATE_TMP = 0.0018669983395765799;           \\/\\/ OPTIMIZE [1e-5, 0.1] LOG/' -e 's/^constexpr double TURNING_COST_AT_100 = .*;           \\/\\/ OPTIMIZE \\[1000\\.0, 1e5\\]$/constexpr double TURNING_COST_AT_100 = 7951.9188755429695;           \\/\\/ OPTIMIZE [1000.0, 1e5]/' -e 's/^constexpr double TURNING_COST_COEF_TMP = .*;           \\/\\/ OPTIMIZE \\[0\\.001, 0\\.1\\] LOG$/constexpr double TURNING_COST_COEF_TMP = 0.017606386693938197;           \\/\\/ OPTIMIZE [0.001, 0.1] LOG/'\n",
      "g++ 3_main.cpp -std=gnu++17 -O2 -DONLINE_JUDGE -o 3_main.cpp.out 2> /dev/null\n"
     ]
    },
    {
     "name": "stderr",
     "output_type": "stream",
     "text": [
      "\u001b[32m[I 2021-05-30 09:46:01,112]\u001b[0m Trial 204 finished with value: 486051867028.0 and parameters: {'UCB1_COEF_AT_100': 113.30687033392347, 'UCB1_EPS': 0.0014734378996302563, 'UCB1_DECAY_RATE_TMP': 0.006860800832377036, 'TURNING_COST_AT_100': 3239.2112387932457, 'TURNING_COST_COEF_TMP': 0.02311882885211142}. Best is trial 153 with value: 486566906650.0.\u001b[0m\n"
     ]
    },
    {
     "name": "stdout",
     "output_type": "stream",
     "text": [
      "callback ok\n",
      "index_parallel=4\n",
      "mkdir: cannot create directory ‘4_out’: File exists\n",
      "mkdir: cannot create directory ‘4_score’: File exists\n",
      "rm: cannot remove '4_out/*': No such file or directory\n",
      "sed -i 4_main.cpp -e 's/^constexpr double UCB1_COEF_AT_100 = .*;   \\/\\/ OPTIMIZE \\[1e0, 1e4\\] LOG$/constexpr double UCB1_COEF_AT_100 = 76.29787473008214;   \\/\\/ OPTIMIZE [1e0, 1e4] LOG/' -e 's/^constexpr double UCB1_EPS = .*;          \\/\\/ OPTIMIZE \\[1e-3, 1e1\\] LOG$/constexpr double UCB1_EPS = 0.002185765682732359;          \\/\\/ OPTIMIZE [1e-3, 1e1] LOG/' -e 's/^constexpr double UCB1_DECAY_RATE_TMP = .*;           \\/\\/ OPTIMIZE \\[1e-5, 0\\.1\\] LOG$/constexpr double UCB1_DECAY_RATE_TMP = 0.002899106891649449;           \\/\\/ OPTIMIZE [1e-5, 0.1] LOG/' -e 's/^constexpr double TURNING_COST_AT_100 = .*;           \\/\\/ OPTIMIZE \\[1000\\.0, 1e5\\]$/constexpr double TURNING_COST_AT_100 = 2652.17493634352;           \\/\\/ OPTIMIZE [1000.0, 1e5]/' -e 's/^constexpr double TURNING_COST_COEF_TMP = .*;           \\/\\/ OPTIMIZE \\[0\\.001, 0\\.1\\] LOG$/constexpr double TURNING_COST_COEF_TMP = 0.025577179924867226;           \\/\\/ OPTIMIZE [0.001, 0.1] LOG/'\n",
      "g++ 4_main.cpp -std=gnu++17 -O2 -DONLINE_JUDGE -o 4_main.cpp.out 2> /dev/null\n"
     ]
    },
    {
     "name": "stderr",
     "output_type": "stream",
     "text": [
      "\u001b[32m[I 2021-05-30 09:46:07,765]\u001b[0m Trial 206 finished with value: 485870969074.0 and parameters: {'UCB1_COEF_AT_100': 131.78148837105593, 'UCB1_EPS': 0.0021074328953705258, 'UCB1_DECAY_RATE_TMP': 0.0019696178504065745, 'TURNING_COST_AT_100': 8229.757088361745, 'TURNING_COST_COEF_TMP': 0.023926893755798376}. Best is trial 153 with value: 486566906650.0.\u001b[0m\n"
     ]
    },
    {
     "name": "stdout",
     "output_type": "stream",
     "text": [
      "callback ok\n",
      "index_parallel=5\n",
      "mkdir: cannot create directory ‘5_out’: File exists\n",
      "mkdir: cannot create directory ‘5_score’: File exists\n",
      "rm: cannot remove '5_out/*': No such file or directory\n"
     ]
    },
    {
     "name": "stderr",
     "output_type": "stream",
     "text": [
      "\u001b[32m[I 2021-05-30 09:46:08,176]\u001b[0m Trial 207 finished with value: 485978710252.0 and parameters: {'UCB1_COEF_AT_100': 122.29735284357712, 'UCB1_EPS': 0.0021204006801589055, 'UCB1_DECAY_RATE_TMP': 0.0018669983395765799, 'TURNING_COST_AT_100': 7951.9188755429695, 'TURNING_COST_COEF_TMP': 0.017606386693938197}. Best is trial 153 with value: 486566906650.0.\u001b[0m\n"
     ]
    },
    {
     "name": "stdout",
     "output_type": "stream",
     "text": [
      "callback ok\n",
      "index_parallel=6\n",
      "mkdir: cannot create directory ‘6_out’: File exists\n",
      "mkdir: cannot create directory ‘6_score’: File exists\n",
      "rm: cannot remove '6_out/*': No such file or directory\n",
      "sed -i 5_main.cpp -e 's/^constexpr double UCB1_COEF_AT_100 = .*;   \\/\\/ OPTIMIZE \\[1e0, 1e4\\] LOG$/constexpr double UCB1_COEF_AT_100 = 73.73939725894816;   \\/\\/ OPTIMIZE [1e0, 1e4] LOG/' -e 's/^constexpr double UCB1_EPS = .*;          \\/\\/ OPTIMIZE \\[1e-3, 1e1\\] LOG$/constexpr double UCB1_EPS = 0.0017600819469895826;          \\/\\/ OPTIMIZE [1e-3, 1e1] LOG/' -e 's/^constexpr double UCB1_DECAY_RATE_TMP = .*;           \\/\\/ OPTIMIZE \\[1e-5, 0\\.1\\] LOG$/constexpr double UCB1_DECAY_RATE_TMP = 0.0028702177892640495;           \\/\\/ OPTIMIZE [1e-5, 0.1] LOG/' -e 's/^constexpr double TURNING_COST_AT_100 = .*;           \\/\\/ OPTIMIZE \\[1000\\.0, 1e5\\]$/constexpr double TURNING_COST_AT_100 = 2596.937838170701;           \\/\\/ OPTIMIZE [1000.0, 1e5]/' -e 's/^constexpr double TURNING_COST_COEF_TMP = .*;           \\/\\/ OPTIMIZE \\[0\\.001, 0\\.1\\] LOG$/constexpr double TURNING_COST_COEF_TMP = 0.016494103495537517;           \\/\\/ OPTIMIZE [0.001, 0.1] LOG/'\n",
      "g++ 5_main.cpp -std=gnu++17 -O2 -DONLINE_JUDGE -o 5_main.cpp.out 2> /dev/null\n",
      "sed -i 6_main.cpp -e 's/^constexpr double UCB1_COEF_AT_100 = .*;   \\/\\/ OPTIMIZE \\[1e0, 1e4\\] LOG$/constexpr double UCB1_COEF_AT_100 = 79.06388913187602;   \\/\\/ OPTIMIZE [1e0, 1e4] LOG/' -e 's/^constexpr double UCB1_EPS = .*;          \\/\\/ OPTIMIZE \\[1e-3, 1e1\\] LOG$/constexpr double UCB1_EPS = 0.0018236359782386588;          \\/\\/ OPTIMIZE [1e-3, 1e1] LOG/' -e 's/^constexpr double UCB1_DECAY_RATE_TMP = .*;           \\/\\/ OPTIMIZE \\[1e-5, 0\\.1\\] LOG$/constexpr double UCB1_DECAY_RATE_TMP = 0.00269061148440623;           \\/\\/ OPTIMIZE [1e-5, 0.1] LOG/' -e 's/^constexpr double TURNING_COST_AT_100 = .*;           \\/\\/ OPTIMIZE \\[1000\\.0, 1e5\\]$/constexpr double TURNING_COST_AT_100 = 1122.2157582053028;           \\/\\/ OPTIMIZE [1000.0, 1e5]/' -e 's/^constexpr double TURNING_COST_COEF_TMP = .*;           \\/\\/ OPTIMIZE \\[0\\.001, 0\\.1\\] LOG$/constexpr double TURNING_COST_COEF_TMP = 0.016345768098818134;           \\/\\/ OPTIMIZE [0.001, 0.1] LOG/'\n",
      "g++ 6_main.cpp -std=gnu++17 -O2 -DONLINE_JUDGE -o 6_main.cpp.out 2> /dev/null\n"
     ]
    },
    {
     "name": "stderr",
     "output_type": "stream",
     "text": [
      "\u001b[32m[I 2021-05-30 09:46:09,790]\u001b[0m Trial 205 finished with value: 485688031202.0 and parameters: {'UCB1_COEF_AT_100': 149.27051614987482, 'UCB1_EPS': 0.0015860554318273164, 'UCB1_DECAY_RATE_TMP': 0.0028373296548767244, 'TURNING_COST_AT_100': 2790.531503313454, 'TURNING_COST_COEF_TMP': 0.02108964025843563}. Best is trial 153 with value: 486566906650.0.\u001b[0m\n"
     ]
    },
    {
     "name": "stdout",
     "output_type": "stream",
     "text": [
      "callback ok\n",
      "index_parallel=7\n",
      "mkdir: cannot create directory ‘7_out’: File exists\n",
      "mkdir: cannot create directory ‘7_score’: File exists\n",
      "rm: cannot remove '7_out/*': No such file or directory\n",
      "sed -i 7_main.cpp -e 's/^constexpr double UCB1_COEF_AT_100 = .*;   \\/\\/ OPTIMIZE \\[1e0, 1e4\\] LOG$/constexpr double UCB1_COEF_AT_100 = 73.68945978095638;   \\/\\/ OPTIMIZE [1e0, 1e4] LOG/' -e 's/^constexpr double UCB1_EPS = .*;          \\/\\/ OPTIMIZE \\[1e-3, 1e1\\] LOG$/constexpr double UCB1_EPS = 0.0022143765560467725;          \\/\\/ OPTIMIZE [1e-3, 1e1] LOG/' -e 's/^constexpr double UCB1_DECAY_RATE_TMP = .*;           \\/\\/ OPTIMIZE \\[1e-5, 0\\.1\\] LOG$/constexpr double UCB1_DECAY_RATE_TMP = 0.0040434231581092436;           \\/\\/ OPTIMIZE [1e-5, 0.1] LOG/' -e 's/^constexpr double TURNING_COST_AT_100 = .*;           \\/\\/ OPTIMIZE \\[1000\\.0, 1e5\\]$/constexpr double TURNING_COST_AT_100 = 1002.8927732046832;           \\/\\/ OPTIMIZE [1000.0, 1e5]/' -e 's/^constexpr double TURNING_COST_COEF_TMP = .*;           \\/\\/ OPTIMIZE \\[0\\.001, 0\\.1\\] LOG$/constexpr double TURNING_COST_COEF_TMP = 0.015343312288505658;           \\/\\/ OPTIMIZE [0.001, 0.1] LOG/'\n",
      "g++ 7_main.cpp -std=gnu++17 -O2 -DONLINE_JUDGE -o 7_main.cpp.out 2> /dev/null\n"
     ]
    },
    {
     "name": "stderr",
     "output_type": "stream",
     "text": [
      "\u001b[32m[I 2021-05-30 09:50:31,248]\u001b[0m Trial 208 finished with value: 486476317809.0 and parameters: {'UCB1_COEF_AT_100': 76.29787473008214, 'UCB1_EPS': 0.002185765682732359, 'UCB1_DECAY_RATE_TMP': 0.002899106891649449, 'TURNING_COST_AT_100': 2652.17493634352, 'TURNING_COST_COEF_TMP': 0.025577179924867226}. Best is trial 153 with value: 486566906650.0.\u001b[0m\n"
     ]
    },
    {
     "name": "stdout",
     "output_type": "stream",
     "text": [
      "callback ok\n",
      "index_parallel=8\n",
      "mkdir: cannot create directory ‘8_out’: File exists\n",
      "mkdir: cannot create directory ‘8_score’: File exists\n",
      "rm: cannot remove '8_out/*': No such file or directory\n",
      "sed -i 8_main.cpp -e 's/^constexpr double UCB1_COEF_AT_100 = .*;   \\/\\/ OPTIMIZE \\[1e0, 1e4\\] LOG$/constexpr double UCB1_COEF_AT_100 = 68.5130407596603;   \\/\\/ OPTIMIZE [1e0, 1e4] LOG/' -e 's/^constexpr double UCB1_EPS = .*;          \\/\\/ OPTIMIZE \\[1e-3, 1e1\\] LOG$/constexpr double UCB1_EPS = 0.0024009002593485314;          \\/\\/ OPTIMIZE [1e-3, 1e1] LOG/' -e 's/^constexpr double UCB1_DECAY_RATE_TMP = .*;           \\/\\/ OPTIMIZE \\[1e-5, 0\\.1\\] LOG$/constexpr double UCB1_DECAY_RATE_TMP = 0.003071013058459564;           \\/\\/ OPTIMIZE [1e-5, 0.1] LOG/' -e 's/^constexpr double TURNING_COST_AT_100 = .*;           \\/\\/ OPTIMIZE \\[1000\\.0, 1e5\\]$/constexpr double TURNING_COST_AT_100 = 4666.8520250777165;           \\/\\/ OPTIMIZE [1000.0, 1e5]/' -e 's/^constexpr double TURNING_COST_COEF_TMP = .*;           \\/\\/ OPTIMIZE \\[0\\.001, 0\\.1\\] LOG$/constexpr double TURNING_COST_COEF_TMP = 0.028252282740553664;           \\/\\/ OPTIMIZE [0.001, 0.1] LOG/'\n",
      "g++ 8_main.cpp -std=gnu++17 -O2 -DONLINE_JUDGE -o 8_main.cpp.out 2> /dev/null\n"
     ]
    },
    {
     "name": "stderr",
     "output_type": "stream",
     "text": [
      "\u001b[32m[I 2021-05-30 09:50:39,017]\u001b[0m Trial 209 finished with value: 486471085381.0 and parameters: {'UCB1_COEF_AT_100': 73.73939725894816, 'UCB1_EPS': 0.0017600819469895826, 'UCB1_DECAY_RATE_TMP': 0.0028702177892640495, 'TURNING_COST_AT_100': 2596.937838170701, 'TURNING_COST_COEF_TMP': 0.016494103495537517}. Best is trial 153 with value: 486566906650.0.\u001b[0m\n"
     ]
    },
    {
     "name": "stdout",
     "output_type": "stream",
     "text": [
      "callback ok\n",
      "index_parallel=9\n",
      "mkdir: cannot create directory ‘9_out’: File exists\n",
      "mkdir: cannot create directory ‘9_score’: File exists\n",
      "rm: cannot remove '9_out/*': No such file or directory\n",
      "sed -i 9_main.cpp -e 's/^constexpr double UCB1_COEF_AT_100 = .*;   \\/\\/ OPTIMIZE \\[1e0, 1e4\\] LOG$/constexpr double UCB1_COEF_AT_100 = 71.38093420395676;   \\/\\/ OPTIMIZE [1e0, 1e4] LOG/' -e 's/^constexpr double UCB1_EPS = .*;          \\/\\/ OPTIMIZE \\[1e-3, 1e1\\] LOG$/constexpr double UCB1_EPS = 0.0010323879709988619;          \\/\\/ OPTIMIZE [1e-3, 1e1] LOG/' -e 's/^constexpr double UCB1_DECAY_RATE_TMP = .*;           \\/\\/ OPTIMIZE \\[1e-5, 0\\.1\\] LOG$/constexpr double UCB1_DECAY_RATE_TMP = 0.0024279056195396446;           \\/\\/ OPTIMIZE [1e-5, 0.1] LOG/' -e 's/^constexpr double TURNING_COST_AT_100 = .*;           \\/\\/ OPTIMIZE \\[1000\\.0, 1e5\\]$/constexpr double TURNING_COST_AT_100 = 4850.7198541457365;           \\/\\/ OPTIMIZE [1000.0, 1e5]/' -e 's/^constexpr double TURNING_COST_COEF_TMP = .*;           \\/\\/ OPTIMIZE \\[0\\.001, 0\\.1\\] LOG$/constexpr double TURNING_COST_COEF_TMP = 0.028157712478541104;           \\/\\/ OPTIMIZE [0.001, 0.1] LOG/'\n",
      "g++ 9_main.cpp -std=gnu++17 -O2 -DONLINE_JUDGE -o 9_main.cpp.out 2> /dev/null\n"
     ]
    },
    {
     "name": "stderr",
     "output_type": "stream",
     "text": [
      "\u001b[32m[I 2021-05-30 09:50:40,698]\u001b[0m Trial 210 finished with value: 486438494986.0 and parameters: {'UCB1_COEF_AT_100': 79.06388913187602, 'UCB1_EPS': 0.0018236359782386588, 'UCB1_DECAY_RATE_TMP': 0.00269061148440623, 'TURNING_COST_AT_100': 1122.2157582053028, 'TURNING_COST_COEF_TMP': 0.016345768098818134}. Best is trial 153 with value: 486566906650.0.\u001b[0m\n"
     ]
    },
    {
     "name": "stdout",
     "output_type": "stream",
     "text": [
      "callback ok\n",
      "index_parallel=10\n",
      "mkdir: cannot create directory ‘10_out’: File exists\n",
      "mkdir: cannot create directory ‘10_score’: File exists\n",
      "rm: cannot remove '10_out/*': No such file or directory\n",
      "sed -i 10_main.cpp -e 's/^constexpr double UCB1_COEF_AT_100 = .*;   \\/\\/ OPTIMIZE \\[1e0, 1e4\\] LOG$/constexpr double UCB1_COEF_AT_100 = 65.78042542644383;   \\/\\/ OPTIMIZE [1e0, 1e4] LOG/' -e 's/^constexpr double UCB1_EPS = .*;          \\/\\/ OPTIMIZE \\[1e-3, 1e1\\] LOG$/constexpr double UCB1_EPS = 0.0010176685927831552;          \\/\\/ OPTIMIZE [1e-3, 1e1] LOG/' -e 's/^constexpr double UCB1_DECAY_RATE_TMP = .*;           \\/\\/ OPTIMIZE \\[1e-5, 0\\.1\\] LOG$/constexpr double UCB1_DECAY_RATE_TMP = 0.002395059559801632;           \\/\\/ OPTIMIZE [1e-5, 0.1] LOG/' -e 's/^constexpr double TURNING_COST_AT_100 = .*;           \\/\\/ OPTIMIZE \\[1000\\.0, 1e5\\]$/constexpr double TURNING_COST_AT_100 = 5057.962149065337;           \\/\\/ OPTIMIZE [1000.0, 1e5]/' -e 's/^constexpr double TURNING_COST_COEF_TMP = .*;           \\/\\/ OPTIMIZE \\[0\\.001, 0\\.1\\] LOG$/constexpr double TURNING_COST_COEF_TMP = 0.01943551258154905;           \\/\\/ OPTIMIZE [0.001, 0.1] LOG/'\n",
      "g++ 10_main.cpp -std=gnu++17 -O2 -DONLINE_JUDGE -o 10_main.cpp.out 2> /dev/null\n"
     ]
    },
    {
     "name": "stderr",
     "output_type": "stream",
     "text": [
      "\u001b[32m[I 2021-05-30 09:50:42,638]\u001b[0m Trial 211 finished with value: 486279885835.0 and parameters: {'UCB1_COEF_AT_100': 73.68945978095638, 'UCB1_EPS': 0.0022143765560467725, 'UCB1_DECAY_RATE_TMP': 0.0040434231581092436, 'TURNING_COST_AT_100': 1002.8927732046832, 'TURNING_COST_COEF_TMP': 0.015343312288505658}. Best is trial 153 with value: 486566906650.0.\u001b[0m\n"
     ]
    },
    {
     "name": "stdout",
     "output_type": "stream",
     "text": [
      "callback ok\n",
      "index_parallel=11\n",
      "mkdir: cannot create directory ‘11_out’: File exists\n",
      "mkdir: cannot create directory ‘11_score’: File exists\n",
      "rm: cannot remove '11_out/*': No such file or directory\n",
      "sed -i 11_main.cpp -e 's/^constexpr double UCB1_COEF_AT_100 = .*;   \\/\\/ OPTIMIZE \\[1e0, 1e4\\] LOG$/constexpr double UCB1_COEF_AT_100 = 61.48054874876563;   \\/\\/ OPTIMIZE [1e0, 1e4] LOG/' -e 's/^constexpr double UCB1_EPS = .*;          \\/\\/ OPTIMIZE \\[1e-3, 1e1\\] LOG$/constexpr double UCB1_EPS = 0.001868204199879668;          \\/\\/ OPTIMIZE [1e-3, 1e1] LOG/' -e 's/^constexpr double UCB1_DECAY_RATE_TMP = .*;           \\/\\/ OPTIMIZE \\[1e-5, 0\\.1\\] LOG$/constexpr double UCB1_DECAY_RATE_TMP = 0.002476969653665602;           \\/\\/ OPTIMIZE [1e-5, 0.1] LOG/' -e 's/^constexpr double TURNING_COST_AT_100 = .*;           \\/\\/ OPTIMIZE \\[1000\\.0, 1e5\\]$/constexpr double TURNING_COST_AT_100 = 4988.8153588059995;           \\/\\/ OPTIMIZE [1000.0, 1e5]/' -e 's/^constexpr double TURNING_COST_COEF_TMP = .*;           \\/\\/ OPTIMIZE \\[0\\.001, 0\\.1\\] LOG$/constexpr double TURNING_COST_COEF_TMP = 0.01962309056445968;           \\/\\/ OPTIMIZE [0.001, 0.1] LOG/'\n",
      "g++ 11_main.cpp -std=gnu++17 -O2 -DONLINE_JUDGE -o 11_main.cpp.out 2> /dev/null\n"
     ]
    },
    {
     "name": "stderr",
     "output_type": "stream",
     "text": [
      "ERROR:root:Internal Python error in the inspect module.\n",
      "Below is the traceback from this internal error.\n",
      "\n",
      "\n",
      "KeyboardInterrupt\n",
      "\n"
     ]
    }
   ],
   "source": [
    "storage_path = f\"study.db\"\n",
    "storage = f\"sqlite:///{storage_path}\"\n",
    "study_name = \"study\"\n",
    "study = optuna.create_study(storage=storage, load_if_exists=True, study_name=study_name, direction=\"maximize\")\n",
    "\n",
    "def callback(study, trial):\n",
    "    try:\n",
    "        if study.best_value == trial.value:\n",
    "            print(f\"Updated! {study.best_value}\")\n",
    "            index_parallel = trial.number % 12\n",
    "            parameters_changed_filename = f\"{index_parallel}_{FILENAME}\"\n",
    "            !cp {parameters_changed_filename} 00000optimized.cpp\n",
    "        print(\"callback ok\")\n",
    "    except:\n",
    "        print(\":(\")\n",
    "\n",
    "objective = partial(objective_with_index, n_internal_parallel=8)\n",
    "study.optimize(objective, n_trials=3000, timeout=86400, n_jobs=4, callbacks=[callback])"
   ]
  },
  {
   "cell_type": "code",
   "execution_count": null,
   "metadata": {},
   "outputs": [],
   "source": []
  },
  {
   "cell_type": "code",
   "execution_count": null,
   "metadata": {},
   "outputs": [],
   "source": []
  },
  {
   "cell_type": "markdown",
   "metadata": {},
   "source": [
    "// explorer\n",
    "constexpr double UCB1_COEF_AT_100 = 62.158741286081394;   // OPTIMIZE [1e0, 1e4] LOG\n",
    "constexpr double UCB1_EPS = 0.001931379415905075;          // OPTIMIZE [1e-3, 1e1] LOG\n",
    "constexpr double UCB1_DECAY_RATE_TMP = 0.00032032758343325535;           // OPTIMIZE [1e-5, 0.1] LOG\n",
    "constexpr double UCB1_DECAY_RATE = 1.0 - UCB1_DECAY_RATE_TMP;\n",
    "//constexpr double TURNING_COST_AT_100 = 5000.0;           // \n",
    "//constexpr double TURNING_COST_COEF_TMP = 0.02;           // \n",
    "constexpr double TURNING_COST_AT_100 = 1092.112238126143;           // OPTIMIZE [1000.0, 1e5]\n",
    "constexpr double TURNING_COST_COEF_TMP = 0.008850336656978684;           // OPTIMIZE [0.001, 0.1] LOG\n",
    "constexpr double TURNING_COST_COEF = 1.0 - TURNING_COST_COEF_TMP;\n",
    "\n",
    "\n",
    "// explorer\n",
    "constexpr double UCB1_COEF_AT_100 = 77.81481506690139;   // OPTIMIZE [1e0, 1e4] LOG\n",
    "constexpr double UCB1_EPS = 0.005797183254131053;          // OPTIMIZE [1e-3, 1e1] LOG\n",
    "constexpr double UCB1_DECAY_RATE_TMP = 0.000853823972529897;           // OPTIMIZE [1e-5, 0.1] LOG\n",
    "constexpr double UCB1_DECAY_RATE = 1.0 - UCB1_DECAY_RATE_TMP;\n",
    "//constexpr double TURNING_COST_AT_100 = 5000.0;           // \n",
    "//constexpr double TURNING_COST_COEF_TMP = 0.02;           // \n",
    "constexpr double TURNING_COST_AT_100 = 1480.9791984528138;           // OPTIMIZE [1000.0, 1e5]\n",
    "constexpr double TURNING_COST_COEF_TMP = 0.002534721641233063;           // OPTIMIZE [0.001, 0.1] LOG\n",
    "constexpr double TURNING_COST_COEF = 1.0 - TURNING_COST_COEF_TMP;\n",
    "\n",
    "// explorer\n",
    "constexpr double UCB1_COEF_AT_100 = 69.98788376623389;   // OPTIMIZE [1e0, 1e4] LOG\n",
    "constexpr double UCB1_EPS = 0.004964815114872287;          // OPTIMIZE [1e-3, 1e1] LOG\n",
    "constexpr double UCB1_DECAY_RATE_TMP = 0.00046492766326718647;           // OPTIMIZE [1e-5, 0.1] LOG\n",
    "constexpr double UCB1_DECAY_RATE = 1.0 - UCB1_DECAY_RATE_TMP;\n",
    "//constexpr double TURNING_COST_AT_100 = 5000.0;           // \n",
    "//constexpr double TURNING_COST_COEF_TMP = 0.02;           // \n",
    "constexpr double TURNING_COST_AT_100 = 2501.1620544061807;           // OPTIMIZE [1000.0, 1e5]\n",
    "constexpr double TURNING_COST_COEF_TMP = 0.008613086388109764;           // OPTIMIZE [0.001, 0.1] LOG\n",
    "constexpr double TURNING_COST_COEF = 1.0 - TURNING_COST_COEF_TMP;\n",
    "\n",
    "// explorer\n",
    "constexpr double UCB1_COEF_AT_100 = 66.51455523531918;   // OPTIMIZE [1e0, 1e4] LOG\n",
    "constexpr double UCB1_EPS = 0.0035804025144061803;          // OPTIMIZE [1e-3, 1e1] LOG\n",
    "constexpr double UCB1_DECAY_RATE_TMP = 0.0008875413699842447;           // OPTIMIZE [1e-5, 0.1] LOG\n",
    "constexpr double UCB1_DECAY_RATE = 1.0 - UCB1_DECAY_RATE_TMP;\n",
    "//constexpr double TURNING_COST_AT_100 = 5000.0;           // \n",
    "//constexpr double TURNING_COST_COEF_TMP = 0.02;           // \n",
    "constexpr double TURNING_COST_AT_100 = 1070.810767660597;           // OPTIMIZE [1000.0, 1e5]\n",
    "constexpr double TURNING_COST_COEF_TMP = 0.016086297396357047;           // OPTIMIZE [0.001, 0.1] LOG\n",
    "constexpr double TURNING_COST_COEF = 1.0 - TURNING_COST_COEF_TMP;\n",
    "\n",
    "// explorer\n",
    "constexpr double UCB1_COEF_AT_100 = 80.12123441020519;   // OPTIMIZE [1e0, 1e4] LOG\n",
    "constexpr double UCB1_EPS = 0.002939902295844433;          // OPTIMIZE [1e-3, 1e1] LOG\n",
    "constexpr double UCB1_DECAY_RATE_TMP = 0.001339360135628766;           // OPTIMIZE [1e-5, 0.1] LOG\n",
    "constexpr double UCB1_DECAY_RATE = 1.0 - UCB1_DECAY_RATE_TMP;\n",
    "//constexpr double TURNING_COST_AT_100 = 5000.0;           // \n",
    "//constexpr double TURNING_COST_COEF_TMP = 0.02;           // \n",
    "constexpr double TURNING_COST_AT_100 = 1587.5270160882505;           // OPTIMIZE [1000.0, 1e5]\n",
    "constexpr double TURNING_COST_COEF_TMP = 0.009911719985799641;           // OPTIMIZE [0.001, 0.1] LOG\n",
    "constexpr double TURNING_COST_COEF = 1.0 - TURNING_COST_COEF_TMP;\n"
   ]
  }
 ],
 "metadata": {
  "kernelspec": {
   "display_name": "Python 3",
   "language": "python",
   "name": "python3"
  },
  "language_info": {
   "codemirror_mode": {
    "name": "ipython",
    "version": 3
   },
   "file_extension": ".py",
   "mimetype": "text/x-python",
   "name": "python",
   "nbconvert_exporter": "python",
   "pygments_lexer": "ipython3",
   "version": "3.8.5"
  }
 },
 "nbformat": 4,
 "nbformat_minor": 4
}
