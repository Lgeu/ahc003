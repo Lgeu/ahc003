{
 "cells": [
  {
   "cell_type": "code",
   "execution_count": 1,
   "metadata": {},
   "outputs": [],
   "source": [
    "import re\n",
    "import sys\n",
    "from time import sleep\n",
    "from pprint import pprint\n",
    "from functools import partial\n",
    "\n",
    "import numpy as np\n",
    "import optuna\n",
    "try:\n",
    "    import pandas as pd\n",
    "except:\n",
    "    pass\n",
    "\n",
    "\n",
    "FILENAME = \"iter3x.cpp\""
   ]
  },
  {
   "cell_type": "code",
   "execution_count": 2,
   "metadata": {
    "scrolled": true
   },
   "outputs": [
    {
     "name": "stdout",
     "output_type": "stream",
     "text": [
      "\u001b[01m\u001b[Kiter3x.cpp:451:\u001b[m\u001b[K \u001b[01;35m\u001b[Kwarning: \u001b[m\u001b[Kignoring #pragma warning  [\u001b[01;35m\u001b[K-Wunknown-pragmas\u001b[m\u001b[K]\n",
      "  451 | #pragma warning( disable : 4146 )\n",
      "      | \n",
      "\u001b[01m\u001b[Kiter3x.cpp:\u001b[m\u001b[K In member function ‘\u001b[01m\u001b[Kvoid UltimateEstimator::Step()\u001b[m\u001b[K’:\n",
      "\u001b[01m\u001b[Kiter3x.cpp:1068:39:\u001b[m\u001b[K \u001b[01;35m\u001b[Kwarning: \u001b[m\u001b[Kcomparison of integer expressions of different signedness: ‘\u001b[01m\u001b[Ksigned char\u001b[m\u001b[K’ and ‘\u001b[01m\u001b[Kstd::array<double, 60>::size_type\u001b[m\u001b[K’ {aka ‘\u001b[01m\u001b[Klong unsigned int\u001b[m\u001b[K’} [\u001b[01;35m\u001b[K-Wsign-compare\u001b[m\u001b[K]\n",
      " 1068 |   for (auto col = (signed char)0; \u001b[01;35m\u001b[Kcol < data_x.size()\u001b[m\u001b[K; col++) {\n",
      "      |                                   \u001b[01;35m\u001b[K~~~~^~~~~~~~~~~~~~~\u001b[m\u001b[K\n",
      "\u001b[01m\u001b[Kiter3x.cpp:1026:8:\u001b[m\u001b[K \u001b[01;35m\u001b[Kwarning: \u001b[m\u001b[Kunused variable ‘\u001b[01m\u001b[Kestimated_distance\u001b[m\u001b[K’ [\u001b[01;35m\u001b[K-Wunused-variable\u001b[m\u001b[K]\n",
      " 1026 |   auto \u001b[01;35m\u001b[Kestimated_distance\u001b[m\u001b[K = 0.0;\n",
      "      |        \u001b[01;35m\u001b[K^~~~~~~~~~~~~~~~~~\u001b[m\u001b[K\n",
      "\u001b[01m\u001b[Kiter3x.cpp:\u001b[m\u001b[K In member function ‘\u001b[01m\u001b[Kvoid Explorer::Step()\u001b[m\u001b[K’:\n",
      "\u001b[01m\u001b[Kiter3x.cpp:1236:30:\u001b[m\u001b[K \u001b[01;35m\u001b[Kwarning: \u001b[m\u001b[Knarrowing conversion of ‘\u001b[01m\u001b[K(((int)v.Explorer::Node::y) + 1)\u001b[m\u001b[K’ from ‘\u001b[01m\u001b[Kint\u001b[m\u001b[K’ to ‘\u001b[01m\u001b[Ksigned char\u001b[m\u001b[K’ [\u001b[01;35m\u001b[K-Wnarrowing\u001b[m\u001b[K]\n",
      " 1236 |     const auto u = Node{ \u001b[01;35m\u001b[Kv.y + (i8)1\u001b[m\u001b[K, v.x, false };\n",
      "      |                          \u001b[01;35m\u001b[K~~~~^~~~~~~\u001b[m\u001b[K\n",
      "\u001b[01m\u001b[Kiter3x.cpp:1249:35:\u001b[m\u001b[K \u001b[01;35m\u001b[Kwarning: \u001b[m\u001b[Knarrowing conversion of ‘\u001b[01m\u001b[K(((int)v.Explorer::Node::x) + 1)\u001b[m\u001b[K’ from ‘\u001b[01m\u001b[Kint\u001b[m\u001b[K’ to ‘\u001b[01m\u001b[Ksigned char\u001b[m\u001b[K’ [\u001b[01;35m\u001b[K-Wnarrowing\u001b[m\u001b[K]\n",
      " 1249 |     const auto u = Node{ v.y, \u001b[01;35m\u001b[Kv.x + (i8)1\u001b[m\u001b[K, true };\n",
      "      |                               \u001b[01;35m\u001b[K~~~~^~~~~~~\u001b[m\u001b[K\n",
      "\u001b[01m\u001b[Kiter3x.cpp:1262:30:\u001b[m\u001b[K \u001b[01;35m\u001b[Kwarning: \u001b[m\u001b[Knarrowing conversion of ‘\u001b[01m\u001b[K(((int)v.Explorer::Node::y) - 1)\u001b[m\u001b[K’ from ‘\u001b[01m\u001b[Kint\u001b[m\u001b[K’ to ‘\u001b[01m\u001b[Ksigned char\u001b[m\u001b[K’ [\u001b[01;35m\u001b[K-Wnarrowing\u001b[m\u001b[K]\n",
      " 1262 |     const auto u = Node{ \u001b[01;35m\u001b[Kv.y - (i8)1\u001b[m\u001b[K, v.x, false };\n",
      "      |                          \u001b[01;35m\u001b[K~~~~^~~~~~~\u001b[m\u001b[K\n",
      "\u001b[01m\u001b[Kiter3x.cpp:1275:35:\u001b[m\u001b[K \u001b[01;35m\u001b[Kwarning: \u001b[m\u001b[Knarrowing conversion of ‘\u001b[01m\u001b[K(((int)v.Explorer::Node::x) - 1)\u001b[m\u001b[K’ from ‘\u001b[01m\u001b[Kint\u001b[m\u001b[K’ to ‘\u001b[01m\u001b[Ksigned char\u001b[m\u001b[K’ [\u001b[01;35m\u001b[K-Wnarrowing\u001b[m\u001b[K]\n",
      " 1275 |     const auto u = Node{ v.y, \u001b[01;35m\u001b[Kv.x - (i8)1\u001b[m\u001b[K, true };\n",
      "      |                               \u001b[01;35m\u001b[K~~~~^~~~~~~\u001b[m\u001b[K\n",
      "\u001b[01m\u001b[Kiter3x.cpp:\u001b[m\u001b[K In function ‘\u001b[01m\u001b[Kvoid Experiment::PrintNewData()\u001b[m\u001b[K’:\n",
      "\u001b[01m\u001b[Kiter3x.cpp:63:25:\u001b[m\u001b[K \u001b[01;35m\u001b[Kwarning: \u001b[m\u001b[Kunnecessary parentheses in declaration of ‘\u001b[01m\u001b[Kq\u001b[m\u001b[K’ [\u001b[01;35m\u001b[K-Wparentheses\u001b[m\u001b[K]\n",
      "   63 | #define rep(i,n) for(ll \u001b[01;35m\u001b[K(\u001b[m\u001b[Ki)=0; (i)<(n); (i)++)\n",
      "      |                         \u001b[01;35m\u001b[K^\u001b[m\u001b[K\n",
      "\u001b[01m\u001b[Kiter3x.cpp:1627:3:\u001b[m\u001b[K \u001b[01;36m\u001b[Knote: \u001b[m\u001b[Kin expansion of macro ‘\u001b[01m\u001b[Krep\u001b[m\u001b[K’\n",
      " 1627 |   \u001b[01;36m\u001b[Krep\u001b[m\u001b[K(q, 1000) {\n",
      "      |   \u001b[01;36m\u001b[K^~~\u001b[m\u001b[K\n",
      "\u001b[01m\u001b[Kiter3x.cpp:\u001b[m\u001b[K In function ‘\u001b[01m\u001b[Kvoid Test::lasso_test()\u001b[m\u001b[K’:\n",
      "\u001b[01m\u001b[Kiter3x.cpp:1672:22:\u001b[m\u001b[K \u001b[01;35m\u001b[Kwarning: \u001b[m\u001b[Kcomparison of integer expressions of different signedness: ‘\u001b[01m\u001b[Kint\u001b[m\u001b[K’ and ‘\u001b[01m\u001b[Kstd::array<std::array<double, 5>, 6>::size_type\u001b[m\u001b[K’ {aka ‘\u001b[01m\u001b[Klong unsigned int\u001b[m\u001b[K’} [\u001b[01;35m\u001b[K-Wsign-compare\u001b[m\u001b[K]\n",
      " 1672 |   for (auto i = 0; \u001b[01;35m\u001b[Ki < X.size()\u001b[m\u001b[K; i++) {\n",
      "      |                    \u001b[01;35m\u001b[K~~^~~~~~~~~~\u001b[m\u001b[K\n",
      "\u001b[01m\u001b[Kiter3x.cpp:\u001b[m\u001b[K In function ‘\u001b[01m\u001b[Kint main(int, char**)\u001b[m\u001b[K’:\n",
      "\u001b[01m\u001b[Kiter3x.cpp:1683:14:\u001b[m\u001b[K \u001b[01;35m\u001b[Kwarning: \u001b[m\u001b[Kunused parameter ‘\u001b[01m\u001b[Kargc\u001b[m\u001b[K’ [\u001b[01;35m\u001b[K-Wunused-parameter\u001b[m\u001b[K]\n",
      " 1683 | int main(\u001b[01;35m\u001b[Kint argc\u001b[m\u001b[K, char* argv[]) {\n",
      "      |          \u001b[01;35m\u001b[K~~~~^~~~\u001b[m\u001b[K\n",
      "\u001b[01m\u001b[Kiter3x.cpp:1683:26:\u001b[m\u001b[K \u001b[01;35m\u001b[Kwarning: \u001b[m\u001b[Kunused parameter ‘\u001b[01m\u001b[Kargv\u001b[m\u001b[K’ [\u001b[01;35m\u001b[K-Wunused-parameter\u001b[m\u001b[K]\n",
      " 1683 | int main(int argc, \u001b[01;35m\u001b[Kchar* argv[]\u001b[m\u001b[K) {\n",
      "      |                    \u001b[01;35m\u001b[K~~~~~~^~~~~~\u001b[m\u001b[K\n"
     ]
    }
   ],
   "source": [
    "!g++ {FILENAME} -std=gnu++17 -Wall -Wextra -O2 -DONLINE_JUDGE -o {FILENAME}.out"
   ]
  },
  {
   "cell_type": "code",
   "execution_count": null,
   "metadata": {},
   "outputs": [],
   "source": [
    "%%time\n",
    "scores = []\n",
    "for i in range(200, 1000):\n",
    "    i = f\"{i:04d}\"\n",
    "    score = !cargo run --release --manifest-path ../tools/Cargo.toml --bin tester ../exp004_ultimate/in/{i}.txt $(pwd)/{FILENAME}.out 2>&1 | grep Score\n",
    "    print(i, *score)\n",
    "    score = int(score[0].split()[-1])\n",
    "    scores.append(score)\n",
    "np.mean(scores) / 1e6, np.std(scores) / 1e6"
   ]
  }
 ],
 "metadata": {
  "kernelspec": {
   "display_name": "Python 3",
   "language": "python",
   "name": "python3"
  },
  "language_info": {
   "codemirror_mode": {
    "name": "ipython",
    "version": 3
   },
   "file_extension": ".py",
   "mimetype": "text/x-python",
   "name": "python",
   "nbconvert_exporter": "python",
   "pygments_lexer": "ipython3",
   "version": "3.8.5"
  }
 },
 "nbformat": 4,
 "nbformat_minor": 4
}
