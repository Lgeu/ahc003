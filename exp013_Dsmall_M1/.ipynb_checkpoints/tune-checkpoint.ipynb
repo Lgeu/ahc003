{
 "cells": [
  {
   "cell_type": "code",
   "execution_count": 1,
   "metadata": {},
   "outputs": [],
   "source": [
    "import re\n",
    "import sys\n",
    "from time import sleep\n",
    "from pprint import pprint\n",
    "from functools import partial\n",
    "\n",
    "import numpy as np\n",
    "import optuna\n",
    "try:\n",
    "    import pandas as pd\n",
    "except:\n",
    "    pass\n",
    "\n",
    "\n",
    "FILENAME = \"main.cpp\""
   ]
  },
  {
   "cell_type": "code",
   "execution_count": 2,
   "metadata": {},
   "outputs": [],
   "source": [
    "#!cp ../exp012_Dlarge_M2/main.cpp ./"
   ]
  },
  {
   "cell_type": "code",
   "execution_count": 3,
   "metadata": {
    "scrolled": true
   },
   "outputs": [
    {
     "name": "stdout",
     "output_type": "stream",
     "text": [
      "\u001b[01m\u001b[Kmain.cpp:458:\u001b[m\u001b[K \u001b[01;35m\u001b[Kwarning: \u001b[m\u001b[Kignoring #pragma warning  [\u001b[01;35m\u001b[K-Wunknown-pragmas\u001b[m\u001b[K]\n",
      "  458 | #pragma warning( disable : 4146 )\n",
      "      | \n",
      "\u001b[01m\u001b[Kmain.cpp:\u001b[m\u001b[K In member function ‘\u001b[01m\u001b[Kvoid UltimateEstimator::Step()\u001b[m\u001b[K’:\n",
      "\u001b[01m\u001b[Kmain.cpp:1149:39:\u001b[m\u001b[K \u001b[01;35m\u001b[Kwarning: \u001b[m\u001b[Kcomparison of integer expressions of different signedness: ‘\u001b[01m\u001b[Ksigned char\u001b[m\u001b[K’ and ‘\u001b[01m\u001b[Kstd::array<double, 60>::size_type\u001b[m\u001b[K’ {aka ‘\u001b[01m\u001b[Klong unsigned int\u001b[m\u001b[K’} [\u001b[01;35m\u001b[K-Wsign-compare\u001b[m\u001b[K]\n",
      " 1149 |   for (auto col = (signed char)0; \u001b[01;35m\u001b[Kcol < data_x.size()\u001b[m\u001b[K; col++) {\n",
      "      |                                   \u001b[01;35m\u001b[K~~~~^~~~~~~~~~~~~~~\u001b[m\u001b[K\n",
      "\u001b[01m\u001b[Kmain.cpp:1107:8:\u001b[m\u001b[K \u001b[01;35m\u001b[Kwarning: \u001b[m\u001b[Kunused variable ‘\u001b[01m\u001b[Kestimated_distance\u001b[m\u001b[K’ [\u001b[01;35m\u001b[K-Wunused-variable\u001b[m\u001b[K]\n",
      " 1107 |   auto \u001b[01;35m\u001b[Kestimated_distance\u001b[m\u001b[K = 0.0;\n",
      "      |        \u001b[01;35m\u001b[K^~~~~~~~~~~~~~~~~~\u001b[m\u001b[K\n",
      "\u001b[01m\u001b[Kmain.cpp:\u001b[m\u001b[K In member function ‘\u001b[01m\u001b[Kvoid Explorer::Step()\u001b[m\u001b[K’:\n",
      "\u001b[01m\u001b[Kmain.cpp:1465:30:\u001b[m\u001b[K \u001b[01;35m\u001b[Kwarning: \u001b[m\u001b[Knarrowing conversion of ‘\u001b[01m\u001b[K(((int)v.Explorer::Node::y) + 1)\u001b[m\u001b[K’ from ‘\u001b[01m\u001b[Kint\u001b[m\u001b[K’ to ‘\u001b[01m\u001b[Ksigned char\u001b[m\u001b[K’ [\u001b[01;35m\u001b[K-Wnarrowing\u001b[m\u001b[K]\n",
      " 1465 |     const auto u = Node{ \u001b[01;35m\u001b[Kv.y + (i8)1\u001b[m\u001b[K, v.x, false };\n",
      "      |                          \u001b[01;35m\u001b[K~~~~^~~~~~~\u001b[m\u001b[K\n",
      "\u001b[01m\u001b[Kmain.cpp:1478:35:\u001b[m\u001b[K \u001b[01;35m\u001b[Kwarning: \u001b[m\u001b[Knarrowing conversion of ‘\u001b[01m\u001b[K(((int)v.Explorer::Node::x) + 1)\u001b[m\u001b[K’ from ‘\u001b[01m\u001b[Kint\u001b[m\u001b[K’ to ‘\u001b[01m\u001b[Ksigned char\u001b[m\u001b[K’ [\u001b[01;35m\u001b[K-Wnarrowing\u001b[m\u001b[K]\n",
      " 1478 |     const auto u = Node{ v.y, \u001b[01;35m\u001b[Kv.x + (i8)1\u001b[m\u001b[K, true };\n",
      "      |                               \u001b[01;35m\u001b[K~~~~^~~~~~~\u001b[m\u001b[K\n",
      "\u001b[01m\u001b[Kmain.cpp:1491:30:\u001b[m\u001b[K \u001b[01;35m\u001b[Kwarning: \u001b[m\u001b[Knarrowing conversion of ‘\u001b[01m\u001b[K(((int)v.Explorer::Node::y) - 1)\u001b[m\u001b[K’ from ‘\u001b[01m\u001b[Kint\u001b[m\u001b[K’ to ‘\u001b[01m\u001b[Ksigned char\u001b[m\u001b[K’ [\u001b[01;35m\u001b[K-Wnarrowing\u001b[m\u001b[K]\n",
      " 1491 |     const auto u = Node{ \u001b[01;35m\u001b[Kv.y - (i8)1\u001b[m\u001b[K, v.x, false };\n",
      "      |                          \u001b[01;35m\u001b[K~~~~^~~~~~~\u001b[m\u001b[K\n",
      "\u001b[01m\u001b[Kmain.cpp:1504:35:\u001b[m\u001b[K \u001b[01;35m\u001b[Kwarning: \u001b[m\u001b[Knarrowing conversion of ‘\u001b[01m\u001b[K(((int)v.Explorer::Node::x) - 1)\u001b[m\u001b[K’ from ‘\u001b[01m\u001b[Kint\u001b[m\u001b[K’ to ‘\u001b[01m\u001b[Ksigned char\u001b[m\u001b[K’ [\u001b[01;35m\u001b[K-Wnarrowing\u001b[m\u001b[K]\n",
      " 1504 |     const auto u = Node{ v.y, \u001b[01;35m\u001b[Kv.x - (i8)1\u001b[m\u001b[K, true };\n",
      "      |                               \u001b[01;35m\u001b[K~~~~^~~~~~~\u001b[m\u001b[K\n",
      "\u001b[01m\u001b[Kmain.cpp:\u001b[m\u001b[K In function ‘\u001b[01m\u001b[Kvoid Experiment::PrintNewData(int, int)\u001b[m\u001b[K’:\n",
      "\u001b[01m\u001b[Kmain.cpp:70:25:\u001b[m\u001b[K \u001b[01;35m\u001b[Kwarning: \u001b[m\u001b[Kunnecessary parentheses in declaration of ‘\u001b[01m\u001b[Kq\u001b[m\u001b[K’ [\u001b[01;35m\u001b[K-Wparentheses\u001b[m\u001b[K]\n",
      "   70 | #define rep(i,n) for(ll \u001b[01;35m\u001b[K(\u001b[m\u001b[Ki)=0; (i)<(n); (i)++)\n",
      "      |                         \u001b[01;35m\u001b[K^\u001b[m\u001b[K\n",
      "\u001b[01m\u001b[Kmain.cpp:1858:3:\u001b[m\u001b[K \u001b[01;36m\u001b[Knote: \u001b[m\u001b[Kin expansion of macro ‘\u001b[01m\u001b[Krep\u001b[m\u001b[K’\n",
      " 1858 |   \u001b[01;36m\u001b[Krep\u001b[m\u001b[K(q, 1000) {\n",
      "      |   \u001b[01;36m\u001b[K^~~\u001b[m\u001b[K\n",
      "\u001b[01m\u001b[Kmain.cpp:\u001b[m\u001b[K In function ‘\u001b[01m\u001b[Kvoid Test::lasso_test()\u001b[m\u001b[K’:\n",
      "\u001b[01m\u001b[Kmain.cpp:1903:22:\u001b[m\u001b[K \u001b[01;35m\u001b[Kwarning: \u001b[m\u001b[Kcomparison of integer expressions of different signedness: ‘\u001b[01m\u001b[Kint\u001b[m\u001b[K’ and ‘\u001b[01m\u001b[Kstd::array<std::array<double, 5>, 6>::size_type\u001b[m\u001b[K’ {aka ‘\u001b[01m\u001b[Klong unsigned int\u001b[m\u001b[K’} [\u001b[01;35m\u001b[K-Wsign-compare\u001b[m\u001b[K]\n",
      " 1903 |   for (auto i = 0; \u001b[01;35m\u001b[Ki < X.size()\u001b[m\u001b[K; i++) {\n",
      "      |                    \u001b[01;35m\u001b[K~~^~~~~~~~~~\u001b[m\u001b[K\n",
      "\u001b[01m\u001b[Kmain.cpp:\u001b[m\u001b[K In function ‘\u001b[01m\u001b[Kint main(int, char**)\u001b[m\u001b[K’:\n",
      "\u001b[01m\u001b[Kmain.cpp:1914:14:\u001b[m\u001b[K \u001b[01;35m\u001b[Kwarning: \u001b[m\u001b[Kunused parameter ‘\u001b[01m\u001b[Kargc\u001b[m\u001b[K’ [\u001b[01;35m\u001b[K-Wunused-parameter\u001b[m\u001b[K]\n",
      " 1914 | int main(\u001b[01;35m\u001b[Kint argc\u001b[m\u001b[K, char* argv[]) {\n",
      "      |          \u001b[01;35m\u001b[K~~~~^~~~\u001b[m\u001b[K\n",
      "\u001b[01m\u001b[Kmain.cpp:1914:26:\u001b[m\u001b[K \u001b[01;35m\u001b[Kwarning: \u001b[m\u001b[Kunused parameter ‘\u001b[01m\u001b[Kargv\u001b[m\u001b[K’ [\u001b[01;35m\u001b[K-Wunused-parameter\u001b[m\u001b[K]\n",
      " 1914 | int main(int argc, \u001b[01;35m\u001b[Kchar* argv[]\u001b[m\u001b[K) {\n",
      "      |                    \u001b[01;35m\u001b[K~~~~~~^~~~~~\u001b[m\u001b[K\n"
     ]
    }
   ],
   "source": [
    "!g++ {FILENAME} -std=gnu++17 -Wall -Wextra -O2 -DONLINE_JUDGE -o {FILENAME}.out"
   ]
  },
  {
   "cell_type": "code",
   "execution_count": 4,
   "metadata": {
    "scrolled": true
   },
   "outputs": [
    {
     "name": "stdout",
     "output_type": "stream",
     "text": [
      "000 Score = 982241200\n",
      "001 Score = 979815594\n",
      "002 Score = 972276792\n",
      "003 Score = 985830545\n",
      "004 Score = 982263046\n",
      "005 Score = 979761219\n",
      "006 Score = 981247034\n",
      "007 Score = 979892306\n",
      "008 Score = 984277601\n",
      "009 Score = 985835545\n",
      "010 Score = 983204361\n",
      "011 Score = 980572205\n",
      "012 Score = 983250094\n",
      "013 Score = 985113387\n",
      "014 Score = 971537788\n",
      "015 Score = 983989077\n",
      "016 Score = 980302679\n",
      "017 Score = 985006151\n",
      "018 Score = 980384316\n",
      "019 Score = 984070301\n",
      "020 Score = 981651398\n",
      "021 Score = 984532959\n",
      "022 Score = 984345023\n",
      "023 Score = 982367324\n",
      "024 Score = 972351045\n",
      "025 Score = 984318448\n",
      "026 Score = 983530669\n",
      "027 Score = 981539224\n",
      "028 Score = 981236650\n",
      "029 Score = 978789647\n",
      "030 Score = 983596513\n",
      "031 Score = 982064295\n",
      "032 Score = 983056495\n",
      "033 Score = 976397903\n",
      "034 Score = 982828522\n",
      "035 Score = 988157807\n",
      "036 Score = 984379869\n",
      "037 Score = 976924322\n",
      "038 Score = 983398253\n",
      "039 Score = 984068583\n",
      "040 Score = 982218397\n",
      "041 Score = 983892656\n",
      "042 Score = 979864313\n",
      "043 Score = 983827367\n",
      "044 Score = 981417977\n",
      "045 Score = 979990093\n",
      "046 Score = 978441862\n",
      "047 Score = 977657165\n",
      "048 Score = 975476346\n",
      "049 Score = 982525233\n",
      "050 Score = 982699945\n",
      "051 Score = 984165522\n",
      "052 Score = 982072239\n",
      "053 Score = 982291720\n",
      "054 Score = 972173820\n",
      "055 Score = 979747334\n",
      "056 Score = 971907669\n",
      "057 Score = 985205663\n",
      "058 Score = 983692576\n",
      "059 Score = 983985018\n",
      "060 Score = 986028862\n",
      "061 Score = 981689189\n",
      "062 Score = 978219995\n",
      "063 Score = 980425737\n",
      "064 Score = 979821836\n",
      "065 Score = 981005347\n",
      "066 Score = 983808982\n",
      "067 Score = 985615143\n",
      "068 Score = 980998573\n",
      "069 Score = 982725565\n",
      "070 Score = 983753406\n",
      "071 Score = 984441260\n",
      "072 Score = 985143071\n",
      "073 Score = 979052546\n",
      "074 Score = 982768219\n",
      "075 Score = 981242692\n",
      "076 Score = 981079621\n",
      "077 Score = 975274564\n",
      "078 Score = 981825233\n",
      "079 Score = 978278986\n",
      "080 Score = 982393635\n",
      "081 Score = 974897431\n",
      "082 Score = 981020570\n",
      "083 Score = 975095688\n",
      "084 Score = 983169595\n",
      "085 Score = 984156478\n",
      "086 Score = 984654394\n",
      "087 Score = 981825293\n",
      "088 Score = 977990448\n",
      "089 Score = 971344603\n",
      "090 Score = 979396082\n",
      "091 Score = 981080389\n",
      "092 Score = 981911138\n",
      "093 Score = 981136117\n",
      "094 Score = 983444287\n",
      "095 Score = 983428037\n",
      "096 Score = 981590922\n",
      "097 Score = 983609727\n",
      "098 Score = 979144427\n",
      "099 Score = 983984875\n",
      "100 Score = 980116431\n",
      "101 Score = 981686226\n",
      "102 Score = 982719196\n",
      "103 Score = 980911213\n",
      "104 Score = 984420607\n",
      "105 Score = 979727231\n",
      "106 Score = 978211751\n",
      "107 Score = 978510903\n",
      "108 Score = 980628327\n",
      "109 Score = 959657155\n",
      "110 Score = 984795994\n",
      "111 Score = 981633913\n",
      "112 Score = 985779255\n",
      "113 Score = 983132131\n",
      "114 Score = 983980174\n",
      "115 Score = 980788082\n",
      "116 Score = 981416895\n",
      "117 Score = 985053706\n",
      "118 Score = 982848094\n",
      "119 Score = 984248178\n",
      "120 Score = 980781698\n",
      "121 Score = 984744720\n",
      "122 Score = 980002138\n",
      "123 Score = 984664036\n",
      "124 Score = 983664093\n",
      "125 Score = 980885420\n",
      "126 Score = 979383341\n",
      "127 Score = 981095670\n",
      "128 Score = 983072296\n",
      "129 Score = 980244005\n",
      "130 Score = 982712675\n",
      "131 Score = 984988098\n",
      "132 Score = 983550061\n",
      "133 Score = 985928608\n",
      "134 Score = 974713139\n",
      "135 Score = 981019603\n",
      "136 Score = 980081220\n",
      "137 Score = 977980354\n",
      "138 Score = 985286398\n",
      "139 Score = 981504780\n",
      "140 Score = 982117316\n",
      "141 Score = 985175817\n",
      "142 Score = 976053126\n",
      "143 Score = 985438618\n",
      "144 Score = 983977878\n",
      "145 Score = 983044159\n",
      "146 Score = 979824925\n",
      "147 Score = 979028118\n",
      "148 Score = 983239922\n",
      "149 Score = 984051127\n",
      "150 Score = 984892363\n",
      "151 Score = 981374226\n",
      "152 Score = 983212481\n",
      "153 Score = 975985075\n",
      "154 Score = 981792222\n",
      "155 Score = 974888423\n",
      "156 Score = 983372423\n",
      "157 Score = 986611528\n",
      "158 Score = 980487579\n",
      "159 Score = 974791725\n",
      "160 Score = 984716605\n",
      "161 Score = 987055600\n",
      "162 Score = 981786847\n",
      "163 Score = 983988867\n",
      "164 Score = 980849989\n",
      "165 Score = 984780627\n",
      "166 Score = 948657442\n",
      "167 Score = 984722486\n",
      "168 Score = 976785604\n",
      "169 Score = 983308842\n",
      "170 Score = 983450643\n",
      "171 Score = 982452508\n",
      "172 Score = 982095937\n",
      "173 Score = 984743038\n",
      "174 Score = 979489239\n",
      "175 Score = 984803919\n",
      "176 Score = 971765868\n",
      "177 Score = 985437803\n",
      "178 Score = 981809982\n",
      "179 Score = 978001608\n",
      "180 Score = 986562743\n",
      "181 Score = 976437216\n",
      "182 Score = 967058631\n",
      "183 Score = 985539682\n",
      "184 Score = 977814751\n",
      "185 Score = 979925081\n",
      "186 Score = 976092213\n",
      "187 Score = 986122717\n",
      "188 Score = 977535026\n",
      "189 Score = 978875333\n",
      "190 Score = 980380088\n",
      "191 Score = 980255146\n",
      "192 Score = 984925212\n",
      "193 Score = 982598148\n",
      "194 Score = 973602797\n",
      "195 Score = 981131728\n",
      "196 Score = 978434999\n",
      "197 Score = 983166569\n",
      "198 Score = 982176882\n",
      "199 Score = 976479524\n",
      "CPU times: user 666 ms, sys: 1.41 s, total: 2.07 s\n",
      "Wall time: 5min 54s\n"
     ]
    },
    {
     "data": {
      "text/plain": [
       "(981.11938437, 4.453494955858767)"
      ]
     },
     "execution_count": 4,
     "metadata": {},
     "output_type": "execute_result"
    }
   ],
   "source": [
    "%%time\n",
    "# もとのスコアの確認\n",
    "scores = []\n",
    "for i in range(200):\n",
    "    i = f\"{i:03d}\"\n",
    "    score = !cargo run --release --manifest-path ../tools/Cargo.toml --bin tester in/{i}.txt $(pwd)/{FILENAME}.out 2>&1 | grep Score\n",
    "    print(i, *score)\n",
    "    score = int(score[0].split()[-1])\n",
    "    scores.append(score)\n",
    "np.mean(scores) / 1e6, np.std(scores) / 1e6"
   ]
  },
  {
   "cell_type": "code",
   "execution_count": 5,
   "metadata": {},
   "outputs": [
    {
     "data": {
      "image/png": "[encoded data removed]",
      "text/plain": [
       "<Figure size 432x288 with 1 Axes>"
      ]
     },
     "metadata": {
      "needs_background": "light"
     },
     "output_type": "display_data"
    }
   ],
   "source": [
    "import matplotlib.pyplot as plt\n",
    "plt.hist(scores, bins=50)\n",
    "plt.show()"
   ]
  },
  {
   "cell_type": "code",
   "execution_count": 2,
   "metadata": {},
   "outputs": [
    {
     "name": "stdout",
     "output_type": "stream",
     "text": [
      "3 variables were found.\n"
     ]
    },
    {
     "data": {
      "text/html": [
       "<div>\n",
       "<style scoped>\n",
       "    .dataframe tbody tr th:only-of-type {\n",
       "        vertical-align: middle;\n",
       "    }\n",
       "\n",
       "    .dataframe tbody tr th {\n",
       "        vertical-align: top;\n",
       "    }\n",
       "\n",
       "    .dataframe thead th {\n",
       "        text-align: right;\n",
       "    }\n",
       "</style>\n",
       "<table border=\"1\" class=\"dataframe\">\n",
       "  <thead>\n",
       "    <tr style=\"text-align: right;\">\n",
       "      <th></th>\n",
       "      <th>name</th>\n",
       "      <th>method</th>\n",
       "      <th>min</th>\n",
       "      <th>max</th>\n",
       "      <th>log</th>\n",
       "      <th>left</th>\n",
       "      <th>right</th>\n",
       "    </tr>\n",
       "  </thead>\n",
       "  <tbody>\n",
       "    <tr>\n",
       "      <th>0</th>\n",
       "      <td>LAMBDA</td>\n",
       "      <td>suggest_float</td>\n",
       "      <td>2.0</td>\n",
       "      <td>10000.0</td>\n",
       "      <td>True</td>\n",
       "      <td>constexpr double LAMBDA =</td>\n",
       "      <td>;           // OPTIMIZE [2.0, 1e4] LOG</td>\n",
       "    </tr>\n",
       "    <tr>\n",
       "      <th>1</th>\n",
       "      <td>LASSO_LAMBDA</td>\n",
       "      <td>suggest_float</td>\n",
       "      <td>1000.0</td>\n",
       "      <td>1000000.0</td>\n",
       "      <td>True</td>\n",
       "      <td>constexpr double LASSO_LAMBDA =</td>\n",
       "      <td>;      // OPTIMIZE [1e3, 1e6] LOG</td>\n",
       "    </tr>\n",
       "    <tr>\n",
       "      <th>2</th>\n",
       "      <td>RIDGE2_LAMBDA</td>\n",
       "      <td>suggest_float</td>\n",
       "      <td>1.0</td>\n",
       "      <td>10000000.0</td>\n",
       "      <td>True</td>\n",
       "      <td>constexpr double RIDGE2_LAMBDA =</td>\n",
       "      <td>;                // OPTIMIZE [1.0, 1e7] LOG</td>\n",
       "    </tr>\n",
       "  </tbody>\n",
       "</table>\n",
       "</div>"
      ],
      "text/plain": [
       "            name         method     min         max   log  \\\n",
       "0         LAMBDA  suggest_float     2.0     10000.0  True   \n",
       "1   LASSO_LAMBDA  suggest_float  1000.0   1000000.0  True   \n",
       "2  RIDGE2_LAMBDA  suggest_float     1.0  10000000.0  True   \n",
       "\n",
       "                                left  \\\n",
       "0         constexpr double LAMBDA =    \n",
       "1   constexpr double LASSO_LAMBDA =    \n",
       "2  constexpr double RIDGE2_LAMBDA =    \n",
       "\n",
       "                                         right  \n",
       "0       ;           // OPTIMIZE [2.0, 1e4] LOG  \n",
       "1            ;      // OPTIMIZE [1e3, 1e6] LOG  \n",
       "2  ;                // OPTIMIZE [1.0, 1e7] LOG  "
      ]
     },
     "metadata": {},
     "output_type": "display_data"
    }
   ],
   "source": [
    "# ここでエラー出力は何かおかしいかもしれない\n",
    "\n",
    "\n",
    "# パラメータ抽出\n",
    "with open(FILENAME) as f:\n",
    "    answer = f.read()\n",
    "\n",
    "\n",
    "variables_optimize = []\n",
    "\n",
    "for left, value, right, options in re.findall(r\"^([^/\\n]*=\\s*)(.+?)(\\s*;\\s*//(?:.*\\W)?OPTIMIZE(\\W.*))$\", answer, re.MULTILINE):\n",
    "    name = left.replace(\"=\", \"\").strip().split()[-1]\n",
    "    \n",
    "    searched = re.search(r\".*\\[(?P<min>.*),(?P<max>.*)\\].*\", options)\n",
    "    if searched:\n",
    "        min_value = max_value = None\n",
    "        try:\n",
    "            min_value = eval(searched.group(\"min\"))\n",
    "            max_value = eval(searched.group(\"max\"))\n",
    "            assert min_value <= max_value\n",
    "        except Exception as e:\n",
    "            print(f\"searched={searched}\", file=sys.stderr)\n",
    "            print(e, file=sys.stderr)\n",
    "            continue\n",
    "        log = \"LOG\" in options  # 雑、直したほうが良い\n",
    "        if type(min_value) != type(max_value):\n",
    "            print(f\"searched={searched}\", file=sys.stderr)\n",
    "            print(\"types not matched\", file=sys.stderr)\n",
    "            continue\n",
    "        if isinstance(min_value, int):\n",
    "            method = \"suggest_int\"\n",
    "        elif isinstance(min_value, float):\n",
    "            method = \"suggest_float\"\n",
    "        else:\n",
    "            print(f\"searched={searched}\", file=sys.stderr)\n",
    "            print(f\"unknown type ({type(min_value)})\", file=sys.stderr)\n",
    "            continue\n",
    "        variables_optimize.append({\n",
    "            \"name\": name,\n",
    "            \"method\": method,\n",
    "            \"min\": min_value,\n",
    "            \"max\": max_value,\n",
    "            \"log\": log,\n",
    "            \"left\": left,\n",
    "            \"right\": right,\n",
    "        })\n",
    "    elif searched := re.search(r\".*\\{(?P<choices>.*?)\\}.*\", options):\n",
    "        choices = list(map(lambda x: x.strip(), searched.group(\"choices\").split(\",\")))\n",
    "        variables_optimize.append({\n",
    "            \"name\": name,\n",
    "            \"method\": \"suggest_categorical\",\n",
    "            \"choices\": choices,\n",
    "            \"left\": left,\n",
    "            \"right\": right,\n",
    "        })\n",
    "    else:\n",
    "        print(f\"searched={searched}\", file=sys.stderr)\n",
    "        print(f\"pattern was matched but options are incorrect.\", file=sys.stderr)\n",
    "\n",
    "print(len(variables_optimize), \"variables were found.\")\n",
    "if globals().get(\"pd\"):\n",
    "    display(pd.DataFrame(variables_optimize))\n",
    "else:\n",
    "    pprint(variables_optimize)"
   ]
  },
  {
   "cell_type": "code",
   "execution_count": 3,
   "metadata": {},
   "outputs": [],
   "source": [
    "def escape(string):  # 正規表現の中でそのまま使いたい文字列をエスケープ\n",
    "    res = !echo '{string}' | sed -e 's/[]\\/$*.^[]/\\\\&/g'\n",
    "    return res[0]\n",
    "\n",
    "def escape_sed(string):  # sed の置換後の文字列用のエスケープ\n",
    "    res = !echo '{string}' | sed -e 's/[\\/&]/\\\\&/g'\n",
    "    return res[0]\n",
    "\n",
    "\n",
    "def objective_with_index(trial, n_internal_parallel):\n",
    "    index_parallel = trial.number % 10  # これ変数にする\n",
    "    print(f\"{index_parallel=}\")\n",
    "    \n",
    "    parameters_changed_filename = f\"{index_parallel}_{FILENAME}\"\n",
    "    directory_input = \"./in\"  # \"/\" をつけない  # 中のすべてのファイルに対して実行される\n",
    "    \n",
    "    !mkdir {index_parallel}_out\n",
    "    !mkdir {index_parallel}_score\n",
    "    !rm {index_parallel}_out/*\n",
    "    !rm {index_parallel}_score/*\n",
    "    \n",
    "    # ファイル作成\n",
    "    !cp {FILENAME} {parameters_changed_filename}\n",
    "    sed_options = [f\"-i {parameters_changed_filename}\"]\n",
    "    for variable in variables_optimize:\n",
    "        if variable[\"method\"] == \"suggest_categorical\":\n",
    "            val =  trial.suggest_categorical(variable[\"name\"], variable[\"choices\"])\n",
    "        else:\n",
    "            val = getattr(trial, variable[\"method\"])(variable[\"name\"], variable[\"min\"], variable[\"max\"], log=variable[\"log\"])\n",
    "        left = variable[\"left\"]\n",
    "        right = variable[\"right\"]\n",
    "        sed_options.append(f\"\"\"-e 's/^{escape(left)}.*{escape(right)}$/{escape_sed(left)}{val}{escape_sed(right)}/'\"\"\")\n",
    "    command_sed = f\"sed {' '.join(sed_options)}\"\n",
    "    print(command_sed)\n",
    "    !{command_sed}\n",
    "    \n",
    "    # コンパイル\n",
    "    command_compile = f\"g++ {parameters_changed_filename} -std=gnu++17 -O2 -DONLINE_JUDGE -o {parameters_changed_filename}.out 2> /dev/null\"\n",
    "    print(command_compile)\n",
    "    !{command_compile}\n",
    "    # 実行・採点コマンド (@ はファイル名)\n",
    "    command_exec = (\n",
    "        f\"cargo run --release --manifest-path ../tools/Cargo.toml --bin tester {directory_input}/@ $(pwd)/{parameters_changed_filename}.out 2>&1 | grep Score | sed -E s/[^0-9]+// > ./{index_parallel}_score/@;\"\n",
    "        #f\"./{parameters_changed_filename}.out < {directory_input}/@ > ./{index_parallel}_out/@;\"\n",
    "        #f\"cargo run --release --manifest-path ./tools/Cargo.toml --bin vis {directory_input}/@ ./{index_parallel}_out/@ 2> /dev/null > ./{index_parallel}_score/@;\"\n",
    "    )\n",
    "    # 並列実行 (sed はパスのディレクトリ部分を消してファイル名にしてる)\n",
    "    !find {directory_input}/* | sed 's!^.*/!!' | xargs -I@ -P {n_internal_parallel} sh -c '{command_exec}'\n",
    "    \n",
    "    # 集計\n",
    "    file_paths = !find ./{index_parallel}_score/*\n",
    "    sum_score = 0\n",
    "    for file_path in file_paths:  \n",
    "        with open(file_path) as f:\n",
    "            sum_score += int(f.read())\n",
    "    return sum_score"
   ]
  },
  {
   "cell_type": "code",
   "execution_count": null,
   "metadata": {
    "scrolled": true
   },
   "outputs": [
    {
     "name": "stderr",
     "output_type": "stream",
     "text": [
      "\u001b[32m[I 2021-05-29 19:58:01,445]\u001b[0m Using an existing study with name 'study' instead of creating a new one.\u001b[0m\n"
     ]
    },
    {
     "name": "stdout",
     "output_type": "stream",
     "text": [
      "index_parallel=2\n",
      "mkdir: cannot create directory ‘2_out’: File exists\n",
      "index_parallel=3\n",
      "mkdir: cannot create directory ‘3_out’: File exists\n",
      "mkdir: cannot create directory ‘2_score’: File exists\n"
     ]
    },
    {
     "name": "stderr",
     "output_type": "stream",
     "text": [
      "/home/nagis/anaconda3/lib/python3.8/site-packages/optuna/study.py:393: FutureWarning: `n_jobs` argument has been deprecated in v2.7.0. This feature will be removed in v4.0.0. See https://github.com/optuna/optuna/releases/tag/v2.7.0.\n",
      "  warnings.warn(\n"
     ]
    },
    {
     "name": "stdout",
     "output_type": "stream",
     "text": [
      "mkdir: cannot create directory ‘3_score’: File exists\n",
      "rm: cannot remove '2_out/*': No such file or directory\n",
      "rm: cannot remove '3_out/*': No such file or directory\n",
      "sed -i 3_main.cpp -e 's/^constexpr double LAMBDA = .*;           \\/\\/ OPTIMIZE \\[2\\.0, 1e4\\] LOG$/constexpr double LAMBDA = 9726.026888243858;           \\/\\/ OPTIMIZE [2.0, 1e4] LOG/' -e 's/^constexpr double LASSO_LAMBDA = .*;      \\/\\/ OPTIMIZE \\[1e3, 1e6\\] LOG$/constexpr double LASSO_LAMBDA = 28511.749405712813;      \\/\\/ OPTIMIZE [1e3, 1e6] LOG/' -e 's/^constexpr double RIDGE2_LAMBDA = .*;                \\/\\/ OPTIMIZE \\[1\\.0, 1e7\\] LOG$/constexpr double RIDGE2_LAMBDA = 5843959.549764126;                \\/\\/ OPTIMIZE [1.0, 1e7] LOG/'\n",
      "sed -i 2_main.cpp -e 's/^constexpr double LAMBDA = .*;           \\/\\/ OPTIMIZE \\[2\\.0, 1e4\\] LOG$/constexpr double LAMBDA = 9887.274579229656;           \\/\\/ OPTIMIZE [2.0, 1e4] LOG/' -e 's/^constexpr double LASSO_LAMBDA = .*;      \\/\\/ OPTIMIZE \\[1e3, 1e6\\] LOG$/constexpr double LASSO_LAMBDA = 125838.33419491074;      \\/\\/ OPTIMIZE [1e3, 1e6] LOG/' -e 's/^constexpr double RIDGE2_LAMBDA = .*;                \\/\\/ OPTIMIZE \\[1\\.0, 1e7\\] LOG$/constexpr double RIDGE2_LAMBDA = 6192374.070766922;                \\/\\/ OPTIMIZE [1.0, 1e7] LOG/'\n",
      "g++ 3_main.cpp -std=gnu++17 -O2 -DONLINE_JUDGE -o 3_main.cpp.out 2> /dev/null\n",
      "g++ 2_main.cpp -std=gnu++17 -O2 -DONLINE_JUDGE -o 2_main.cpp.out 2> /dev/null\n"
     ]
    },
    {
     "name": "stderr",
     "output_type": "stream",
     "text": [
      "\u001b[32m[I 2021-05-29 19:59:39,933]\u001b[0m Trial 12 finished with value: 193298049402.0 and parameters: {'LAMBDA': 9887.274579229656, 'LASSO_LAMBDA': 125838.33419491074, 'RIDGE2_LAMBDA': 6192374.070766922}. Best is trial 2 with value: 194354677931.0.\u001b[0m\n"
     ]
    },
    {
     "name": "stdout",
     "output_type": "stream",
     "text": [
      "callback ok\n",
      "index_parallel=4\n",
      "mkdir: cannot create directory ‘4_out’: File exists\n",
      "mkdir: cannot create directory ‘4_score’: File exists\n",
      "rm: cannot remove '4_out/*': No such file or directory\n",
      "sed -i 4_main.cpp -e 's/^constexpr double LAMBDA = .*;           \\/\\/ OPTIMIZE \\[2\\.0, 1e4\\] LOG$/constexpr double LAMBDA = 9986.969611825258;           \\/\\/ OPTIMIZE [2.0, 1e4] LOG/' -e 's/^constexpr double LASSO_LAMBDA = .*;      \\/\\/ OPTIMIZE \\[1e3, 1e6\\] LOG$/constexpr double LASSO_LAMBDA = 9799.594687403282;      \\/\\/ OPTIMIZE [1e3, 1e6] LOG/' -e 's/^constexpr double RIDGE2_LAMBDA = .*;                \\/\\/ OPTIMIZE \\[1\\.0, 1e7\\] LOG$/constexpr double RIDGE2_LAMBDA = 6469157.000432747;                \\/\\/ OPTIMIZE [1.0, 1e7] LOG/'\n",
      "g++ 4_main.cpp -std=gnu++17 -O2 -DONLINE_JUDGE -o 4_main.cpp.out 2> /dev/null\n"
     ]
    },
    {
     "name": "stderr",
     "output_type": "stream",
     "text": [
      "\u001b[32m[I 2021-05-29 19:59:41,402]\u001b[0m Trial 13 finished with value: 195541360183.0 and parameters: {'LAMBDA': 9726.026888243858, 'LASSO_LAMBDA': 28511.749405712813, 'RIDGE2_LAMBDA': 5843959.549764126}. Best is trial 13 with value: 195541360183.0.\u001b[0m\n"
     ]
    },
    {
     "name": "stdout",
     "output_type": "stream",
     "text": [
      "Updated! 195541360183.0\n",
      "callback ok\n",
      "index_parallel=5\n",
      "mkdir: cannot create directory ‘5_out’: File exists\n",
      "mkdir: cannot create directory ‘5_score’: File exists\n",
      "rm: cannot remove '5_out/*': No such file or directory\n",
      "sed -i 5_main.cpp -e 's/^constexpr double LAMBDA = .*;           \\/\\/ OPTIMIZE \\[2\\.0, 1e4\\] LOG$/constexpr double LAMBDA = 9542.618162867719;           \\/\\/ OPTIMIZE [2.0, 1e4] LOG/' -e 's/^constexpr double LASSO_LAMBDA = .*;      \\/\\/ OPTIMIZE \\[1e3, 1e6\\] LOG$/constexpr double LASSO_LAMBDA = 31116.17067814403;      \\/\\/ OPTIMIZE [1e3, 1e6] LOG/' -e 's/^constexpr double RIDGE2_LAMBDA = .*;                \\/\\/ OPTIMIZE \\[1\\.0, 1e7\\] LOG$/constexpr double RIDGE2_LAMBDA = 5601552.388177787;                \\/\\/ OPTIMIZE [1.0, 1e7] LOG/'\n",
      "g++ 5_main.cpp -std=gnu++17 -O2 -DONLINE_JUDGE -o 5_main.cpp.out 2> /dev/null\n"
     ]
    },
    {
     "name": "stderr",
     "output_type": "stream",
     "text": [
      "\u001b[32m[I 2021-05-29 20:01:22,551]\u001b[0m Trial 15 finished with value: 195496170065.0 and parameters: {'LAMBDA': 9542.618162867719, 'LASSO_LAMBDA': 31116.17067814403, 'RIDGE2_LAMBDA': 5601552.388177787}. Best is trial 13 with value: 195541360183.0.\u001b[0m\n"
     ]
    },
    {
     "name": "stdout",
     "output_type": "stream",
     "text": [
      "callback ok\n",
      "index_parallel=6\n",
      "mkdir: cannot create directory ‘6_out’: File exists\n",
      "mkdir: cannot create directory ‘6_score’: File exists\n",
      "rm: cannot remove '6_out/*': No such file or directory\n",
      "sed -i 6_main.cpp -e 's/^constexpr double LAMBDA = .*;           \\/\\/ OPTIMIZE \\[2\\.0, 1e4\\] LOG$/constexpr double LAMBDA = 88.33233561229463;           \\/\\/ OPTIMIZE [2.0, 1e4] LOG/' -e 's/^constexpr double LASSO_LAMBDA = .*;      \\/\\/ OPTIMIZE \\[1e3, 1e6\\] LOG$/constexpr double LASSO_LAMBDA = 15591.466553006961;      \\/\\/ OPTIMIZE [1e3, 1e6] LOG/' -e 's/^constexpr double RIDGE2_LAMBDA = .*;                \\/\\/ OPTIMIZE \\[1\\.0, 1e7\\] LOG$/constexpr double RIDGE2_LAMBDA = 5803736.910939298;                \\/\\/ OPTIMIZE [1.0, 1e7] LOG/'\n",
      "g++ 6_main.cpp -std=gnu++17 -O2 -DONLINE_JUDGE -o 6_main.cpp.out 2> /dev/null\n"
     ]
    },
    {
     "name": "stderr",
     "output_type": "stream",
     "text": [
      "\u001b[32m[I 2021-05-29 20:01:42,546]\u001b[0m Trial 14 finished with value: 173033307712.0 and parameters: {'LAMBDA': 9986.969611825258, 'LASSO_LAMBDA': 9799.594687403282, 'RIDGE2_LAMBDA': 6469157.000432747}. Best is trial 13 with value: 195541360183.0.\u001b[0m\n"
     ]
    },
    {
     "name": "stdout",
     "output_type": "stream",
     "text": [
      "callback ok\n",
      "index_parallel=7\n",
      "mkdir: cannot create directory ‘7_out’: File exists\n",
      "mkdir: cannot create directory ‘7_score’: File exists\n",
      "rm: cannot remove '7_out/*': No such file or directory\n",
      "sed -i 7_main.cpp -e 's/^constexpr double LAMBDA = .*;           \\/\\/ OPTIMIZE \\[2\\.0, 1e4\\] LOG$/constexpr double LAMBDA = 8703.621986603504;           \\/\\/ OPTIMIZE [2.0, 1e4] LOG/' -e 's/^constexpr double LASSO_LAMBDA = .*;      \\/\\/ OPTIMIZE \\[1e3, 1e6\\] LOG$/constexpr double LASSO_LAMBDA = 228941.48127283226;      \\/\\/ OPTIMIZE [1e3, 1e6] LOG/' -e 's/^constexpr double RIDGE2_LAMBDA = .*;                \\/\\/ OPTIMIZE \\[1\\.0, 1e7\\] LOG$/constexpr double RIDGE2_LAMBDA = 5749067.712794606;                \\/\\/ OPTIMIZE [1.0, 1e7] LOG/'\n",
      "g++ 7_main.cpp -std=gnu++17 -O2 -DONLINE_JUDGE -o 7_main.cpp.out 2> /dev/null\n"
     ]
    },
    {
     "name": "stderr",
     "output_type": "stream",
     "text": [
      "\u001b[32m[I 2021-05-29 20:03:00,008]\u001b[0m Trial 16 finished with value: 196299105628.0 and parameters: {'LAMBDA': 88.33233561229463, 'LASSO_LAMBDA': 15591.466553006961, 'RIDGE2_LAMBDA': 5803736.910939298}. Best is trial 16 with value: 196299105628.0.\u001b[0m\n"
     ]
    },
    {
     "name": "stdout",
     "output_type": "stream",
     "text": [
      "Updated! 196299105628.0\n",
      "callback ok\n",
      "index_parallel=8\n",
      "mkdir: cannot create directory ‘8_out’: File exists\n",
      "mkdir: cannot create directory ‘8_score’: File exists\n",
      "rm: cannot remove '8_out/*': No such file or directory\n",
      "sed -i 8_main.cpp -e 's/^constexpr double LAMBDA = .*;           \\/\\/ OPTIMIZE \\[2\\.0, 1e4\\] LOG$/constexpr double LAMBDA = 446.39417138902905;           \\/\\/ OPTIMIZE [2.0, 1e4] LOG/' -e 's/^constexpr double LASSO_LAMBDA = .*;      \\/\\/ OPTIMIZE \\[1e3, 1e6\\] LOG$/constexpr double LASSO_LAMBDA = 213937.74792775442;      \\/\\/ OPTIMIZE [1e3, 1e6] LOG/' -e 's/^constexpr double RIDGE2_LAMBDA = .*;                \\/\\/ OPTIMIZE \\[1\\.0, 1e7\\] LOG$/constexpr double RIDGE2_LAMBDA = 2692231.289796381;                \\/\\/ OPTIMIZE [1.0, 1e7] LOG/'\n",
      "g++ 8_main.cpp -std=gnu++17 -O2 -DONLINE_JUDGE -o 8_main.cpp.out 2> /dev/null\n"
     ]
    },
    {
     "name": "stderr",
     "output_type": "stream",
     "text": [
      "\u001b[32m[I 2021-05-29 20:03:17,861]\u001b[0m Trial 17 finished with value: 191200398800.0 and parameters: {'LAMBDA': 8703.621986603504, 'LASSO_LAMBDA': 228941.48127283226, 'RIDGE2_LAMBDA': 5749067.712794606}. Best is trial 16 with value: 196299105628.0.\u001b[0m\n"
     ]
    },
    {
     "name": "stdout",
     "output_type": "stream",
     "text": [
      "callback ok\n",
      "index_parallel=9\n",
      "mkdir: cannot create directory ‘9_out’: File exists\n",
      "mkdir: cannot create directory ‘9_score’: File exists\n",
      "rm: cannot remove '9_out/*': No such file or directory\n",
      "sed -i 9_main.cpp -e 's/^constexpr double LAMBDA = .*;           \\/\\/ OPTIMIZE \\[2\\.0, 1e4\\] LOG$/constexpr double LAMBDA = 445.50739383562706;           \\/\\/ OPTIMIZE [2.0, 1e4] LOG/' -e 's/^constexpr double LASSO_LAMBDA = .*;      \\/\\/ OPTIMIZE \\[1e3, 1e6\\] LOG$/constexpr double LASSO_LAMBDA = 170576.80436241132;      \\/\\/ OPTIMIZE [1e3, 1e6] LOG/' -e 's/^constexpr double RIDGE2_LAMBDA = .*;                \\/\\/ OPTIMIZE \\[1\\.0, 1e7\\] LOG$/constexpr double RIDGE2_LAMBDA = 9801616.334605053;                \\/\\/ OPTIMIZE [1.0, 1e7] LOG/'\n",
      "g++ 9_main.cpp -std=gnu++17 -O2 -DONLINE_JUDGE -o 9_main.cpp.out 2> /dev/null\n"
     ]
    },
    {
     "name": "stderr",
     "output_type": "stream",
     "text": [
      "\u001b[32m[I 2021-05-29 20:04:33,919]\u001b[0m Trial 18 finished with value: 192750714040.0 and parameters: {'LAMBDA': 446.39417138902905, 'LASSO_LAMBDA': 213937.74792775442, 'RIDGE2_LAMBDA': 2692231.289796381}. Best is trial 16 with value: 196299105628.0.\u001b[0m\n"
     ]
    },
    {
     "name": "stdout",
     "output_type": "stream",
     "text": [
      "callback ok\n",
      "index_parallel=0\n",
      "mkdir: cannot create directory ‘0_out’: File exists\n",
      "mkdir: cannot create directory ‘0_score’: File exists\n",
      "rm: cannot remove '0_out/*': No such file or directory\n",
      "sed -i 0_main.cpp -e 's/^constexpr double LAMBDA = .*;           \\/\\/ OPTIMIZE \\[2\\.0, 1e4\\] LOG$/constexpr double LAMBDA = 74.81883322551766;           \\/\\/ OPTIMIZE [2.0, 1e4] LOG/' -e 's/^constexpr double LASSO_LAMBDA = .*;      \\/\\/ OPTIMIZE \\[1e3, 1e6\\] LOG$/constexpr double LASSO_LAMBDA = 14567.57264172576;      \\/\\/ OPTIMIZE [1e3, 1e6] LOG/' -e 's/^constexpr double RIDGE2_LAMBDA = .*;                \\/\\/ OPTIMIZE \\[1\\.0, 1e7\\] LOG$/constexpr double RIDGE2_LAMBDA = 9923008.301282274;                \\/\\/ OPTIMIZE [1.0, 1e7] LOG/'\n",
      "g++ 0_main.cpp -std=gnu++17 -O2 -DONLINE_JUDGE -o 0_main.cpp.out 2> /dev/null\n"
     ]
    },
    {
     "name": "stderr",
     "output_type": "stream",
     "text": [
      "\u001b[32m[I 2021-05-29 20:04:50,528]\u001b[0m Trial 19 finished with value: 193069073440.0 and parameters: {'LAMBDA': 445.50739383562706, 'LASSO_LAMBDA': 170576.80436241132, 'RIDGE2_LAMBDA': 9801616.334605053}. Best is trial 16 with value: 196299105628.0.\u001b[0m\n"
     ]
    },
    {
     "name": "stdout",
     "output_type": "stream",
     "text": [
      "callback ok\n",
      "index_parallel=1\n",
      "mkdir: cannot create directory ‘1_out’: File exists\n",
      "mkdir: cannot create directory ‘1_score’: File exists\n",
      "rm: cannot remove '1_out/*': No such file or directory\n",
      "sed -i 1_main.cpp -e 's/^constexpr double LAMBDA = .*;           \\/\\/ OPTIMIZE \\[2\\.0, 1e4\\] LOG$/constexpr double LAMBDA = 1133.5428010180274;           \\/\\/ OPTIMIZE [2.0, 1e4] LOG/' -e 's/^constexpr double LASSO_LAMBDA = .*;      \\/\\/ OPTIMIZE \\[1e3, 1e6\\] LOG$/constexpr double LASSO_LAMBDA = 332588.0070595952;      \\/\\/ OPTIMIZE [1e3, 1e6] LOG/' -e 's/^constexpr double RIDGE2_LAMBDA = .*;                \\/\\/ OPTIMIZE \\[1\\.0, 1e7\\] LOG$/constexpr double RIDGE2_LAMBDA = 6978580.830723527;                \\/\\/ OPTIMIZE [1.0, 1e7] LOG/'\n",
      "g++ 1_main.cpp -std=gnu++17 -O2 -DONLINE_JUDGE -o 1_main.cpp.out 2> /dev/null\n"
     ]
    },
    {
     "name": "stderr",
     "output_type": "stream",
     "text": [
      "\u001b[32m[I 2021-05-29 20:06:25,935]\u001b[0m Trial 20 finished with value: 196345745184.0 and parameters: {'LAMBDA': 74.81883322551766, 'LASSO_LAMBDA': 14567.57264172576, 'RIDGE2_LAMBDA': 9923008.301282274}. Best is trial 20 with value: 196345745184.0.\u001b[0m\n"
     ]
    },
    {
     "name": "stdout",
     "output_type": "stream",
     "text": [
      "Updated! 196345745184.0\n",
      "callback ok\n",
      "index_parallel=2\n",
      "mkdir: cannot create directory ‘2_out’: File exists\n",
      "mkdir: cannot create directory ‘2_score’: File exists\n",
      "rm: cannot remove '2_out/*': No such file or directory\n",
      "sed -i 2_main.cpp -e 's/^constexpr double LAMBDA = .*;           \\/\\/ OPTIMIZE \\[2\\.0, 1e4\\] LOG$/constexpr double LAMBDA = 1617.4194197277966;           \\/\\/ OPTIMIZE [2.0, 1e4] LOG/' -e 's/^constexpr double LASSO_LAMBDA = .*;      \\/\\/ OPTIMIZE \\[1e3, 1e6\\] LOG$/constexpr double LASSO_LAMBDA = 353943.99533547286;      \\/\\/ OPTIMIZE [1e3, 1e6] LOG/' -e 's/^constexpr double RIDGE2_LAMBDA = .*;                \\/\\/ OPTIMIZE \\[1\\.0, 1e7\\] LOG$/constexpr double RIDGE2_LAMBDA = 9475766.432562396;                \\/\\/ OPTIMIZE [1.0, 1e7] LOG/'\n",
      "g++ 2_main.cpp -std=gnu++17 -O2 -DONLINE_JUDGE -o 2_main.cpp.out 2> /dev/null\n"
     ]
    },
    {
     "name": "stderr",
     "output_type": "stream",
     "text": [
      "\u001b[32m[I 2021-05-29 20:06:42,561]\u001b[0m Trial 21 finished with value: 190141559105.0 and parameters: {'LAMBDA': 1133.5428010180274, 'LASSO_LAMBDA': 332588.0070595952, 'RIDGE2_LAMBDA': 6978580.830723527}. Best is trial 20 with value: 196345745184.0.\u001b[0m\n"
     ]
    },
    {
     "name": "stdout",
     "output_type": "stream",
     "text": [
      "callback ok\n",
      "index_parallel=3\n",
      "mkdir: cannot create directory ‘3_out’: File exists\n",
      "mkdir: cannot create directory ‘3_score’: File exists\n",
      "rm: cannot remove '3_out/*': No such file or directory\n",
      "sed -i 3_main.cpp -e 's/^constexpr double LAMBDA = .*;           \\/\\/ OPTIMIZE \\[2\\.0, 1e4\\] LOG$/constexpr double LAMBDA = 1875.9441916211676;           \\/\\/ OPTIMIZE [2.0, 1e4] LOG/' -e 's/^constexpr double LASSO_LAMBDA = .*;      \\/\\/ OPTIMIZE \\[1e3, 1e6\\] LOG$/constexpr double LASSO_LAMBDA = 559391.5220454647;      \\/\\/ OPTIMIZE [1e3, 1e6] LOG/' -e 's/^constexpr double RIDGE2_LAMBDA = .*;                \\/\\/ OPTIMIZE \\[1\\.0, 1e7\\] LOG$/constexpr double RIDGE2_LAMBDA = 8202572.822725521;                \\/\\/ OPTIMIZE [1.0, 1e7] LOG/'\n",
      "g++ 3_main.cpp -std=gnu++17 -O2 -DONLINE_JUDGE -o 3_main.cpp.out 2> /dev/null\n"
     ]
    },
    {
     "name": "stderr",
     "output_type": "stream",
     "text": [
      "\u001b[32m[I 2021-05-29 20:08:13,800]\u001b[0m Trial 22 finished with value: 189817542512.0 and parameters: {'LAMBDA': 1617.4194197277966, 'LASSO_LAMBDA': 353943.99533547286, 'RIDGE2_LAMBDA': 9475766.432562396}. Best is trial 20 with value: 196345745184.0.\u001b[0m\n"
     ]
    },
    {
     "name": "stdout",
     "output_type": "stream",
     "text": [
      "callback ok\n",
      "index_parallel=4\n",
      "mkdir: cannot create directory ‘4_out’: File exists\n",
      "mkdir: cannot create directory ‘4_score’: File exists\n",
      "rm: cannot remove '4_out/*': No such file or directory\n",
      "sed -i 4_main.cpp -e 's/^constexpr double LAMBDA = .*;           \\/\\/ OPTIMIZE \\[2\\.0, 1e4\\] LOG$/constexpr double LAMBDA = 1987.7847932901004;           \\/\\/ OPTIMIZE [2.0, 1e4] LOG/' -e 's/^constexpr double LASSO_LAMBDA = .*;      \\/\\/ OPTIMIZE \\[1e3, 1e6\\] LOG$/constexpr double LASSO_LAMBDA = 4633.149392618558;      \\/\\/ OPTIMIZE [1e3, 1e6] LOG/' -e 's/^constexpr double RIDGE2_LAMBDA = .*;                \\/\\/ OPTIMIZE \\[1\\.0, 1e7\\] LOG$/constexpr double RIDGE2_LAMBDA = 7664130.955156664;                \\/\\/ OPTIMIZE [1.0, 1e7] LOG/'\n",
      "g++ 4_main.cpp -std=gnu++17 -O2 -DONLINE_JUDGE -o 4_main.cpp.out 2> /dev/null\n"
     ]
    },
    {
     "name": "stderr",
     "output_type": "stream",
     "text": [
      "\u001b[32m[I 2021-05-29 20:08:28,793]\u001b[0m Trial 23 finished with value: 187509529418.0 and parameters: {'LAMBDA': 1875.9441916211676, 'LASSO_LAMBDA': 559391.5220454647, 'RIDGE2_LAMBDA': 8202572.822725521}. Best is trial 20 with value: 196345745184.0.\u001b[0m\n"
     ]
    },
    {
     "name": "stdout",
     "output_type": "stream",
     "text": [
      "callback ok\n",
      "index_parallel=5\n",
      "mkdir: cannot create directory ‘5_out’: File exists\n",
      "mkdir: cannot create directory ‘5_score’: File exists\n",
      "rm: cannot remove '5_out/*': No such file or directory\n",
      "sed -i 5_main.cpp -e 's/^constexpr double LAMBDA = .*;           \\/\\/ OPTIMIZE \\[2\\.0, 1e4\\] LOG$/constexpr double LAMBDA = 8665.004787600135;           \\/\\/ OPTIMIZE [2.0, 1e4] LOG/' -e 's/^constexpr double LASSO_LAMBDA = .*;      \\/\\/ OPTIMIZE \\[1e3, 1e6\\] LOG$/constexpr double LASSO_LAMBDA = 16196.582983199545;      \\/\\/ OPTIMIZE [1e3, 1e6] LOG/' -e 's/^constexpr double RIDGE2_LAMBDA = .*;                \\/\\/ OPTIMIZE \\[1\\.0, 1e7\\] LOG$/constexpr double RIDGE2_LAMBDA = 4778338.82734077;                \\/\\/ OPTIMIZE [1.0, 1e7] LOG/'\n",
      "g++ 5_main.cpp -std=gnu++17 -O2 -DONLINE_JUDGE -o 5_main.cpp.out 2> /dev/null\n"
     ]
    },
    {
     "name": "stderr",
     "output_type": "stream",
     "text": [
      "\u001b[32m[I 2021-05-29 20:10:13,243]\u001b[0m Trial 25 finished with value: 192109369674.0 and parameters: {'LAMBDA': 8665.004787600135, 'LASSO_LAMBDA': 16196.582983199545, 'RIDGE2_LAMBDA': 4778338.82734077}. Best is trial 20 with value: 196345745184.0.\u001b[0m\n"
     ]
    },
    {
     "name": "stdout",
     "output_type": "stream",
     "text": [
      "callback ok\n",
      "index_parallel=6\n",
      "mkdir: cannot create directory ‘6_out’: File exists\n",
      "mkdir: cannot create directory ‘6_score’: File exists\n",
      "rm: cannot remove '6_out/*': No such file or directory\n",
      "sed -i 6_main.cpp -e 's/^constexpr double LAMBDA = .*;           \\/\\/ OPTIMIZE \\[2\\.0, 1e4\\] LOG$/constexpr double LAMBDA = 31.883174406291054;           \\/\\/ OPTIMIZE [2.0, 1e4] LOG/' -e 's/^constexpr double LASSO_LAMBDA = .*;      \\/\\/ OPTIMIZE \\[1e3, 1e6\\] LOG$/constexpr double LASSO_LAMBDA = 95205.47738063033;      \\/\\/ OPTIMIZE [1e3, 1e6] LOG/' -e 's/^constexpr double RIDGE2_LAMBDA = .*;                \\/\\/ OPTIMIZE \\[1\\.0, 1e7\\] LOG$/constexpr double RIDGE2_LAMBDA = 7323819.420147378;                \\/\\/ OPTIMIZE [1.0, 1e7] LOG/'\n",
      "g++ 6_main.cpp -std=gnu++17 -O2 -DONLINE_JUDGE -o 6_main.cpp.out 2> /dev/null\n"
     ]
    },
    {
     "name": "stderr",
     "output_type": "stream",
     "text": [
      "\u001b[32m[I 2021-05-29 20:11:01,952]\u001b[0m Trial 24 finished with value: 116869591305.0 and parameters: {'LAMBDA': 1987.7847932901004, 'LASSO_LAMBDA': 4633.149392618558, 'RIDGE2_LAMBDA': 7664130.955156664}. Best is trial 20 with value: 196345745184.0.\u001b[0m\n"
     ]
    },
    {
     "name": "stdout",
     "output_type": "stream",
     "text": [
      "callback ok\n",
      "index_parallel=7\n",
      "mkdir: cannot create directory ‘7_out’: File exists\n",
      "mkdir: cannot create directory ‘7_score’: File exists\n",
      "rm: cannot remove '7_out/*': No such file or directory\n",
      "sed -i 7_main.cpp -e 's/^constexpr double LAMBDA = .*;           \\/\\/ OPTIMIZE \\[2\\.0, 1e4\\] LOG$/constexpr double LAMBDA = 628.2267425814625;           \\/\\/ OPTIMIZE [2.0, 1e4] LOG/' -e 's/^constexpr double LASSO_LAMBDA = .*;      \\/\\/ OPTIMIZE \\[1e3, 1e6\\] LOG$/constexpr double LASSO_LAMBDA = 100093.74005596046;      \\/\\/ OPTIMIZE [1e3, 1e6] LOG/' -e 's/^constexpr double RIDGE2_LAMBDA = .*;                \\/\\/ OPTIMIZE \\[1\\.0, 1e7\\] LOG$/constexpr double RIDGE2_LAMBDA = 5235410.807764413;                \\/\\/ OPTIMIZE [1.0, 1e7] LOG/'\n",
      "g++ 7_main.cpp -std=gnu++17 -O2 -DONLINE_JUDGE -o 7_main.cpp.out 2> /dev/null\n"
     ]
    },
    {
     "name": "stderr",
     "output_type": "stream",
     "text": [
      "\u001b[32m[I 2021-05-29 20:11:54,521]\u001b[0m Trial 26 finished with value: 196406597639.0 and parameters: {'LAMBDA': 31.883174406291054, 'LASSO_LAMBDA': 95205.47738063033, 'RIDGE2_LAMBDA': 7323819.420147378}. Best is trial 26 with value: 196406597639.0.\u001b[0m\n"
     ]
    },
    {
     "name": "stdout",
     "output_type": "stream",
     "text": [
      "Updated! 196406597639.0\n",
      "callback ok\n",
      "index_parallel=8\n",
      "mkdir: cannot create directory ‘8_out’: File exists\n",
      "mkdir: cannot create directory ‘8_score’: File exists\n",
      "rm: cannot remove '8_out/*': No such file or directory\n",
      "sed -i 8_main.cpp -e 's/^constexpr double LAMBDA = .*;           \\/\\/ OPTIMIZE \\[2\\.0, 1e4\\] LOG$/constexpr double LAMBDA = 211.70558239965396;           \\/\\/ OPTIMIZE [2.0, 1e4] LOG/' -e 's/^constexpr double LASSO_LAMBDA = .*;      \\/\\/ OPTIMIZE \\[1e3, 1e6\\] LOG$/constexpr double LASSO_LAMBDA = 109928.92770453265;      \\/\\/ OPTIMIZE [1e3, 1e6] LOG/' -e 's/^constexpr double RIDGE2_LAMBDA = .*;                \\/\\/ OPTIMIZE \\[1\\.0, 1e7\\] LOG$/constexpr double RIDGE2_LAMBDA = 9259480.766103085;                \\/\\/ OPTIMIZE [1.0, 1e7] LOG/'\n",
      "g++ 8_main.cpp -std=gnu++17 -O2 -DONLINE_JUDGE -o 8_main.cpp.out 2> /dev/null\n"
     ]
    },
    {
     "name": "stderr",
     "output_type": "stream",
     "text": [
      "\u001b[32m[I 2021-05-29 20:12:42,173]\u001b[0m Trial 27 finished with value: 194390110897.0 and parameters: {'LAMBDA': 628.2267425814625, 'LASSO_LAMBDA': 100093.74005596046, 'RIDGE2_LAMBDA': 5235410.807764413}. Best is trial 26 with value: 196406597639.0.\u001b[0m\n"
     ]
    },
    {
     "name": "stdout",
     "output_type": "stream",
     "text": [
      "callback ok\n",
      "index_parallel=9\n",
      "mkdir: cannot create directory ‘9_out’: File exists\n",
      "mkdir: cannot create directory ‘9_score’: File exists\n",
      "rm: cannot remove '9_out/*': No such file or directory\n",
      "sed -i 9_main.cpp -e 's/^constexpr double LAMBDA = .*;           \\/\\/ OPTIMIZE \\[2\\.0, 1e4\\] LOG$/constexpr double LAMBDA = 74.24548387011146;           \\/\\/ OPTIMIZE [2.0, 1e4] LOG/' -e 's/^constexpr double LASSO_LAMBDA = .*;      \\/\\/ OPTIMIZE \\[1e3, 1e6\\] LOG$/constexpr double LASSO_LAMBDA = 134614.25052420894;      \\/\\/ OPTIMIZE [1e3, 1e6] LOG/' -e 's/^constexpr double RIDGE2_LAMBDA = .*;                \\/\\/ OPTIMIZE \\[1\\.0, 1e7\\] LOG$/constexpr double RIDGE2_LAMBDA = 7230540.890435004;                \\/\\/ OPTIMIZE [1.0, 1e7] LOG/'\n",
      "g++ 9_main.cpp -std=gnu++17 -O2 -DONLINE_JUDGE -o 9_main.cpp.out 2> /dev/null\n"
     ]
    },
    {
     "name": "stderr",
     "output_type": "stream",
     "text": [
      "\u001b[32m[I 2021-05-29 20:13:31,210]\u001b[0m Trial 28 finished with value: 194541533695.0 and parameters: {'LAMBDA': 211.70558239965396, 'LASSO_LAMBDA': 109928.92770453265, 'RIDGE2_LAMBDA': 9259480.766103085}. Best is trial 26 with value: 196406597639.0.\u001b[0m\n"
     ]
    },
    {
     "name": "stdout",
     "output_type": "stream",
     "text": [
      "callback ok\n",
      "index_parallel=0\n",
      "mkdir: cannot create directory ‘0_out’: File exists\n",
      "mkdir: cannot create directory ‘0_score’: File exists\n",
      "rm: cannot remove '0_out/*': No such file or directory\n",
      "sed -i 0_main.cpp -e 's/^constexpr double LAMBDA = .*;           \\/\\/ OPTIMIZE \\[2\\.0, 1e4\\] LOG$/constexpr double LAMBDA = 2535.4750671367683;           \\/\\/ OPTIMIZE [2.0, 1e4] LOG/' -e 's/^constexpr double LASSO_LAMBDA = .*;      \\/\\/ OPTIMIZE \\[1e3, 1e6\\] LOG$/constexpr double LASSO_LAMBDA = 196446.51832206332;      \\/\\/ OPTIMIZE [1e3, 1e6] LOG/' -e 's/^constexpr double RIDGE2_LAMBDA = .*;                \\/\\/ OPTIMIZE \\[1\\.0, 1e7\\] LOG$/constexpr double RIDGE2_LAMBDA = 7185100.056165686;                \\/\\/ OPTIMIZE [1.0, 1e7] LOG/'\n",
      "g++ 0_main.cpp -std=gnu++17 -O2 -DONLINE_JUDGE -o 0_main.cpp.out 2> /dev/null\n"
     ]
    },
    {
     "name": "stderr",
     "output_type": "stream",
     "text": [
      "\u001b[32m[I 2021-05-29 20:14:10,559]\u001b[0m Trial 29 finished with value: 195441729817.0 and parameters: {'LAMBDA': 74.24548387011146, 'LASSO_LAMBDA': 134614.25052420894, 'RIDGE2_LAMBDA': 7230540.890435004}. Best is trial 26 with value: 196406597639.0.\u001b[0m\n"
     ]
    },
    {
     "name": "stdout",
     "output_type": "stream",
     "text": [
      "callback ok\n",
      "index_parallel=1\n",
      "mkdir: cannot create directory ‘1_out’: File exists\n",
      "mkdir: cannot create directory ‘1_score’: File exists\n",
      "rm: cannot remove '1_out/*': No such file or directory\n",
      "sed -i 1_main.cpp -e 's/^constexpr double LAMBDA = .*;           \\/\\/ OPTIMIZE \\[2\\.0, 1e4\\] LOG$/constexpr double LAMBDA = 2334.5141020206474;           \\/\\/ OPTIMIZE [2.0, 1e4] LOG/' -e 's/^constexpr double LASSO_LAMBDA = .*;      \\/\\/ OPTIMIZE \\[1e3, 1e6\\] LOG$/constexpr double LASSO_LAMBDA = 215175.9291563782;      \\/\\/ OPTIMIZE [1e3, 1e6] LOG/' -e 's/^constexpr double RIDGE2_LAMBDA = .*;                \\/\\/ OPTIMIZE \\[1\\.0, 1e7\\] LOG$/constexpr double RIDGE2_LAMBDA = 6429545.376168014;                \\/\\/ OPTIMIZE [1.0, 1e7] LOG/'\n",
      "g++ 1_main.cpp -std=gnu++17 -O2 -DONLINE_JUDGE -o 1_main.cpp.out 2> /dev/null\n"
     ]
    },
    {
     "name": "stderr",
     "output_type": "stream",
     "text": [
      "\u001b[32m[I 2021-05-29 20:15:07,207]\u001b[0m Trial 30 finished with value: 191936542224.0 and parameters: {'LAMBDA': 2535.4750671367683, 'LASSO_LAMBDA': 196446.51832206332, 'RIDGE2_LAMBDA': 7185100.056165686}. Best is trial 26 with value: 196406597639.0.\u001b[0m\n"
     ]
    },
    {
     "name": "stdout",
     "output_type": "stream",
     "text": [
      "callback ok\n",
      "index_parallel=2\n",
      "mkdir: cannot create directory ‘2_out’: File exists\n",
      "mkdir: cannot create directory ‘2_score’: File exists\n",
      "rm: cannot remove '2_out/*': No such file or directory\n",
      "sed -i 2_main.cpp -e 's/^constexpr double LAMBDA = .*;           \\/\\/ OPTIMIZE \\[2\\.0, 1e4\\] LOG$/constexpr double LAMBDA = 1049.6663038040892;           \\/\\/ OPTIMIZE [2.0, 1e4] LOG/' -e 's/^constexpr double LASSO_LAMBDA = .*;      \\/\\/ OPTIMIZE \\[1e3, 1e6\\] LOG$/constexpr double LASSO_LAMBDA = 448510.0994887858;      \\/\\/ OPTIMIZE [1e3, 1e6] LOG/' -e 's/^constexpr double RIDGE2_LAMBDA = .*;                \\/\\/ OPTIMIZE \\[1\\.0, 1e7\\] LOG$/constexpr double RIDGE2_LAMBDA = 6631225.607022818;                \\/\\/ OPTIMIZE [1.0, 1e7] LOG/'\n",
      "g++ 2_main.cpp -std=gnu++17 -O2 -DONLINE_JUDGE -o 2_main.cpp.out 2> /dev/null\n"
     ]
    }
   ],
   "source": [
    "storage_path = f\"study.db\"\n",
    "storage = f\"sqlite:///{storage_path}\"\n",
    "study_name = \"study\"\n",
    "study = optuna.create_study(storage=storage, load_if_exists=True, study_name=study_name, direction=\"maximize\")\n",
    "\n",
    "def callback(study, trial):\n",
    "    try:\n",
    "        if study.best_value == trial.value:\n",
    "            print(f\"Updated! {study.best_value}\")\n",
    "            index_parallel = trial.number % 10\n",
    "            parameters_changed_filename = f\"{index_parallel}_{FILENAME}\"\n",
    "            !cp {parameters_changed_filename} 00000optimized.cpp\n",
    "        print(\"callback ok\")\n",
    "    except:\n",
    "        print(\":(\")\n",
    "\n",
    "objective = partial(objective_with_index, n_internal_parallel=4)\n",
    "study.optimize(objective, n_trials=3000, timeout=86400, n_jobs=2, callbacks=[callback])"
   ]
  },
  {
   "cell_type": "code",
   "execution_count": null,
   "metadata": {},
   "outputs": [],
   "source": []
  }
 ],
 "metadata": {
  "kernelspec": {
   "display_name": "Python 3",
   "language": "python",
   "name": "python3"
  },
  "language_info": {
   "codemirror_mode": {
    "name": "ipython",
    "version": 3
   },
   "file_extension": ".py",
   "mimetype": "text/x-python",
   "name": "python",
   "nbconvert_exporter": "python",
   "pygments_lexer": "ipython3",
   "version": "3.8.5"
  }
 },
 "nbformat": 4,
 "nbformat_minor": 4
}
